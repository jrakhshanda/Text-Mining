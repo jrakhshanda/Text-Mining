{
  "nbformat": 4,
  "nbformat_minor": 0,
  "metadata": {
    "kernelspec": {
      "display_name": "Python 3",
      "language": "python",
      "name": "python3"
    },
    "language_info": {
      "codemirror_mode": {
        "name": "ipython",
        "version": 3
      },
      "file_extension": ".py",
      "mimetype": "text/x-python",
      "name": "python",
      "nbconvert_exporter": "python",
      "pygments_lexer": "ipython3",
      "version": "3.7.6"
    },
    "colab": {
      "name": "TM_L5.ipynb",
      "provenance": [],
      "include_colab_link": true
    }
  },
  "cells": [
    {
      "cell_type": "markdown",
      "metadata": {
        "id": "view-in-github",
        "colab_type": "text"
      },
      "source": [
        "<a href=\"https://colab.research.google.com/github/jrakhshanda/Text-Mining/blob/main/TM_L5.ipynb\" target=\"_parent\"><img src=\"https://colab.research.google.com/assets/colab-badge.svg\" alt=\"Open In Colab\"/></a>"
      ]
    },
    {
      "cell_type": "markdown",
      "metadata": {
        "id": "ixpEomVV1rCB"
      },
      "source": [
        "# L5: Information extraction"
      ]
    },
    {
      "cell_type": "markdown",
      "metadata": {
        "id": "tuU9h7Lu1rCB"
      },
      "source": [
        "Information extraction (IE) is the task of identifying named entities and semantic relations between these entities in text data. In this lab we will focus on two sub-tasks in IE, **named entity recognition** (identifying mentions of entities) and **entity linking** (matching these mentions to entities in a knowledge base)."
      ]
    },
    {
      "cell_type": "markdown",
      "metadata": {
        "id": "xxiUUTsc1rCB"
      },
      "source": [
        "We start by loading spaCy:"
      ]
    },
    {
      "cell_type": "code",
      "metadata": {
        "id": "hwPdzmm11rCC"
      },
      "source": [
        "import spacy\n",
        "nlp = spacy.load('en_core_web_sm')"
      ],
      "execution_count": 1,
      "outputs": []
    },
    {
      "cell_type": "markdown",
      "metadata": {
        "id": "stF2g4-z1rCD"
      },
      "source": [
        "The data that we will be using has been tokenized following the conventions of the [Penn Treebank](ftp://ftp.cis.upenn.edu/pub/treebank/public_html/tokenization.html), and we need to prevent spaCy from using its own tokenizer on top of this. We therefore override spaCy&rsquo;s tokenizer with one that simply splits on space."
      ]
    },
    {
      "cell_type": "code",
      "metadata": {
        "id": "zCKMybwd1rCD"
      },
      "source": [
        "from spacy.tokens import Doc\n",
        "\n",
        "class WhitespaceTokenizer(object):\n",
        "    def __init__(self, vocab):\n",
        "        self.vocab = vocab\n",
        "\n",
        "    def __call__(self, text):\n",
        "        return Doc(self.vocab, words=text.split(' '))\n",
        "\n",
        "nlp.tokenizer = WhitespaceTokenizer(nlp.vocab)"
      ],
      "execution_count": 2,
      "outputs": []
    },
    {
      "cell_type": "markdown",
      "metadata": {
        "id": "RgCUS_zu1rCD"
      },
      "source": [
        "## Data set"
      ]
    },
    {
      "cell_type": "markdown",
      "metadata": {
        "id": "PYZJFlC31rCD"
      },
      "source": [
        "The main data set for this lab is a collection of news wire articles in which mentions of named entities have been annotated with page names from the [English Wikipedia](https://en.wikipedia.org/wiki/). The next code cell loads the training and the development parts of the data into Pandas data frames."
      ]
    },
    {
      "cell_type": "code",
      "metadata": {
        "id": "29GxRGrB1rCD"
      },
      "source": [
        "import bz2\n",
        "import csv\n",
        "import pandas as pd\n",
        "\n",
        "with bz2.open('ner-train.tsv.bz2', 'rt') as source:\n",
        "    df_train = pd.read_csv(source, sep='\\t', quoting=csv.QUOTE_NONE)\n",
        "\n",
        "with bz2.open('ner-dev.tsv.bz2', 'rt') as source:\n",
        "    df_dev = pd.read_csv(source, sep='\\t', quoting=csv.QUOTE_NONE)"
      ],
      "execution_count": 3,
      "outputs": []
    },
    {
      "cell_type": "markdown",
      "metadata": {
        "id": "zk5xD2ax1rCD"
      },
      "source": [
        "Each row in these two data frames corresponds to one mention of a named entity and has five columns:\n",
        "\n",
        "1. a unique identifier for the sentence containing the entity mention\n",
        "2. the pre-tokenized sentence, with tokens separated by spaces\n",
        "3. the start position of the token span containing the entity mention\n",
        "4. the end position of the token span (exclusive, as in Python list indexing)\n",
        "5. the entity label; either a Wikipedia page name or the generic label `--NME--`\n",
        "\n",
        "The following cell prints the first five samples from the training data:"
      ]
    },
    {
      "cell_type": "code",
      "metadata": {
        "id": "CdKNGHQM1rCD",
        "colab": {
          "base_uri": "https://localhost:8080/",
          "height": 200
        },
        "outputId": "47d2c461-4e09-4ab1-d748-404b024f65e3"
      },
      "source": [
        "df_train.head()"
      ],
      "execution_count": 4,
      "outputs": [
        {
          "output_type": "execute_result",
          "data": {
            "text/html": [
              "<div>\n",
              "<style scoped>\n",
              "    .dataframe tbody tr th:only-of-type {\n",
              "        vertical-align: middle;\n",
              "    }\n",
              "\n",
              "    .dataframe tbody tr th {\n",
              "        vertical-align: top;\n",
              "    }\n",
              "\n",
              "    .dataframe thead th {\n",
              "        text-align: right;\n",
              "    }\n",
              "</style>\n",
              "<table border=\"1\" class=\"dataframe\">\n",
              "  <thead>\n",
              "    <tr style=\"text-align: right;\">\n",
              "      <th></th>\n",
              "      <th>sentence_id</th>\n",
              "      <th>sentence</th>\n",
              "      <th>beg</th>\n",
              "      <th>end</th>\n",
              "      <th>label</th>\n",
              "    </tr>\n",
              "  </thead>\n",
              "  <tbody>\n",
              "    <tr>\n",
              "      <th>0</th>\n",
              "      <td>0000-000</td>\n",
              "      <td>EU rejects German call to boycott British lamb .</td>\n",
              "      <td>0</td>\n",
              "      <td>1</td>\n",
              "      <td>--NME--</td>\n",
              "    </tr>\n",
              "    <tr>\n",
              "      <th>1</th>\n",
              "      <td>0000-000</td>\n",
              "      <td>EU rejects German call to boycott British lamb .</td>\n",
              "      <td>2</td>\n",
              "      <td>3</td>\n",
              "      <td>Germany</td>\n",
              "    </tr>\n",
              "    <tr>\n",
              "      <th>2</th>\n",
              "      <td>0000-000</td>\n",
              "      <td>EU rejects German call to boycott British lamb .</td>\n",
              "      <td>6</td>\n",
              "      <td>7</td>\n",
              "      <td>United_Kingdom</td>\n",
              "    </tr>\n",
              "    <tr>\n",
              "      <th>3</th>\n",
              "      <td>0000-001</td>\n",
              "      <td>Peter Blackburn</td>\n",
              "      <td>0</td>\n",
              "      <td>2</td>\n",
              "      <td>--NME--</td>\n",
              "    </tr>\n",
              "    <tr>\n",
              "      <th>4</th>\n",
              "      <td>0000-002</td>\n",
              "      <td>BRUSSELS 1996-08-22</td>\n",
              "      <td>0</td>\n",
              "      <td>1</td>\n",
              "      <td>Brussels</td>\n",
              "    </tr>\n",
              "  </tbody>\n",
              "</table>\n",
              "</div>"
            ],
            "text/plain": [
              "  sentence_id  ...           label\n",
              "0    0000-000  ...         --NME--\n",
              "1    0000-000  ...         Germany\n",
              "2    0000-000  ...  United_Kingdom\n",
              "3    0000-001  ...         --NME--\n",
              "4    0000-002  ...        Brussels\n",
              "\n",
              "[5 rows x 5 columns]"
            ]
          },
          "metadata": {
            "tags": []
          },
          "execution_count": 4
        }
      ]
    },
    {
      "cell_type": "markdown",
      "metadata": {
        "id": "t-UjtU9X1rCD"
      },
      "source": [
        "In this sample, we see that the first sentence is annotated with three entity mentions:\n",
        "\n",
        "* the span 0–1 &lsquo;EU&rsquo; is annotated as a mention but only labelled with the generic `--NME--`\n",
        "* the span 2–3 &lsquo;German&rsquo; is annotated with the page [Germany](http://en.wikipedia.org/wiki/Germany)\n",
        "* the span 6–7 &lsquo;British&rsquo; is annotated with the page [United_Kingdom](http://en.wikipedia.org/wiki/United_Kingdom)"
      ]
    },
    {
      "cell_type": "code",
      "metadata": {
        "id": "1KM9ybh34Sfg"
      },
      "source": [
        "import pandas as pd"
      ],
      "execution_count": 5,
      "outputs": []
    },
    {
      "cell_type": "markdown",
      "metadata": {
        "id": "mMPtoQfD1rCD"
      },
      "source": [
        "## Problem 1: Evaluation measures"
      ]
    },
    {
      "cell_type": "markdown",
      "metadata": {
        "id": "h2dg-4Ap1rCE"
      },
      "source": [
        "To warm up, we ask you to write code to print the three measures that you will be using for evaluation:"
      ]
    },
    {
      "cell_type": "code",
      "metadata": {
        "id": "wvlIFhXC1rCE"
      },
      "source": [
        "def evaluation_report(gold, pred):\n",
        "    \"\"\"Print precision, recall, and F1 score.\n",
        "    \n",
        "    Args:\n",
        "        gold: The set with the gold-standard values.\n",
        "        pred: The set with the predicted values.\n",
        "    \n",
        "    Returns:\n",
        "        Nothing, but prints the precision, recall, and F1 values computed\n",
        "        based on the specified sets.\n",
        "    \"\"\"\n",
        "    # TODO: Replace the next line with your own code\n",
        "    precision = len(gold.intersection(pred))/len(pred)\n",
        "    recall = len(gold.intersection(pred))/len(gold)\n",
        "    F1_score = 2 * (precision*recall) / (precision + recall)\n",
        "    df = pd.DataFrame(data=[{'precision': precision, 'recall':recall, 'F1_score':F1_score}]) \n",
        "\n",
        "    return df"
      ],
      "execution_count": 6,
      "outputs": []
    },
    {
      "cell_type": "markdown",
      "metadata": {
        "id": "bEy6FlFY1rCE"
      },
      "source": [
        "To test your code, you can run the following cell:"
      ]
    },
    {
      "cell_type": "code",
      "metadata": {
        "id": "fNIkskj21rCE",
        "colab": {
          "base_uri": "https://localhost:8080/",
          "height": 78
        },
        "outputId": "79dcb111-6c23-439d-e72f-15511d9589b4"
      },
      "source": [
        "evaluation_report(set(range(3)), set(range(5)))"
      ],
      "execution_count": 7,
      "outputs": [
        {
          "output_type": "execute_result",
          "data": {
            "text/html": [
              "<div>\n",
              "<style scoped>\n",
              "    .dataframe tbody tr th:only-of-type {\n",
              "        vertical-align: middle;\n",
              "    }\n",
              "\n",
              "    .dataframe tbody tr th {\n",
              "        vertical-align: top;\n",
              "    }\n",
              "\n",
              "    .dataframe thead th {\n",
              "        text-align: right;\n",
              "    }\n",
              "</style>\n",
              "<table border=\"1\" class=\"dataframe\">\n",
              "  <thead>\n",
              "    <tr style=\"text-align: right;\">\n",
              "      <th></th>\n",
              "      <th>precision</th>\n",
              "      <th>recall</th>\n",
              "      <th>F1_score</th>\n",
              "    </tr>\n",
              "  </thead>\n",
              "  <tbody>\n",
              "    <tr>\n",
              "      <th>0</th>\n",
              "      <td>0.6</td>\n",
              "      <td>1.0</td>\n",
              "      <td>0.75</td>\n",
              "    </tr>\n",
              "  </tbody>\n",
              "</table>\n",
              "</div>"
            ],
            "text/plain": [
              "   precision  recall  F1_score\n",
              "0        0.6     1.0      0.75"
            ]
          },
          "metadata": {
            "tags": []
          },
          "execution_count": 7
        }
      ]
    },
    {
      "cell_type": "markdown",
      "metadata": {
        "id": "MDLafrYO1rCE"
      },
      "source": [
        "This should give you a precision of 60%, a recall of 100%, and an F1-value of 75%."
      ]
    },
    {
      "cell_type": "markdown",
      "metadata": {
        "id": "Pf8Osvac1rCE"
      },
      "source": [
        "## Problem 2: Span recognition"
      ]
    },
    {
      "cell_type": "markdown",
      "metadata": {
        "id": "HTytGNbm1rCE"
      },
      "source": [
        "One of the first tasks that an information extraction system has to solve is to locate and classify (mentions of) named entities, such as persons and organizations. Here we will tackle the simpler task of recognizing **spans** of tokens that contain an entity mention, without the actual entity label.\n",
        "\n",
        "The English language model in spaCy features a full-fledged [named entity recognizer](https://spacy.io/usage/linguistic-features#named-entities) that identifies a variety of entities, and can be updated with new entity types by the user. Your task in this problem is to evaluate the performance of this component when predicting entity spans in the development data.\n",
        "\n",
        "Start by implementing a generator function that yields the gold-standard spans in a given data frame.\n",
        "\n",
        "**Hint:** The Pandas method [`itertuples()`](https://pandas.pydata.org/pandas-docs/version/0.17.0/generated/pandas.DataFrame.itertuples.html) is useful when iterating over the rows in a DataFrame."
      ]
    },
    {
      "cell_type": "code",
      "metadata": {
        "id": "qt_kMxrz1rCE"
      },
      "source": [
        "def gold_spans(df):\n",
        "    \"\"\"Yield the gold-standard mention spans in a data frame.\n",
        "\n",
        "    Args:\n",
        "        df: A data frame.\n",
        "\n",
        "    Yields:\n",
        "        The gold-standard mention spans in the specified data frame as\n",
        "        triples consisting of the sentence id, start position, and end\n",
        "        position of each span.\n",
        "    \"\"\"\n",
        "    for row in df.itertuples():\n",
        "      yield (row.sentence_id,row.beg,row.end)"
      ],
      "execution_count": 8,
      "outputs": []
    },
    {
      "cell_type": "markdown",
      "metadata": {
        "id": "GfDD1FYq1rCE"
      },
      "source": [
        "To test your code, you can count the spans yielded by your function. When called on the development data, you should get a total of 5,917 unique triples. The first triple and the last triple should be\n",
        "\n",
        "    ('0946-000', 2, 3)\n",
        "    ('1161-010', 1, 3)  "
      ]
    },
    {
      "cell_type": "code",
      "metadata": {
        "id": "gltL_CbF1rCE",
        "colab": {
          "base_uri": "https://localhost:8080/"
        },
        "outputId": "8a86ef11-9d31-43d6-e999-230a228d1d43"
      },
      "source": [
        "spans_dev_gold = set(gold_spans(df_dev))\n",
        "print(len(spans_dev_gold))"
      ],
      "execution_count": 9,
      "outputs": [
        {
          "output_type": "stream",
          "text": [
            "5917\n"
          ],
          "name": "stdout"
        }
      ]
    },
    {
      "cell_type": "markdown",
      "metadata": {
        "id": "pSudCdhD1rCE"
      },
      "source": [
        "Your next task is to write code that calls spaCy to predict the named entities in the development data, and to evaluate the accuracy of these predictions in terms of precision, recall, and F1. Print these scores using the function that you wrote for Problem&nbsp;1."
      ]
    },
    {
      "cell_type": "code",
      "metadata": {
        "id": "znGTGoZq1rCE"
      },
      "source": [
        "def pred_spans(df):\n",
        "    \"\"\"Yield the predicted spans of Spacy spans in a data frame.\n",
        "\n",
        "    Args:\n",
        "        df: A data frame.\n",
        "\n",
        "    Yields:\n",
        "        The predicted spans by spacy in specified data frame as\n",
        "        triples consisting of the sentence id, start position, and end\n",
        "        position of each span.\n",
        "    \"\"\"\n",
        "    for row in df.drop_duplicates('sentence_id').itertuples():\n",
        "      doc = nlp(row.sentence) \n",
        "      for ent in doc.ents:\n",
        "        yield (row.sentence_id,ent.start,ent.end)"
      ],
      "execution_count": 10,
      "outputs": []
    },
    {
      "cell_type": "code",
      "metadata": {
        "id": "_Q5r-4cWemFL"
      },
      "source": [
        "spans_dev_pred = set(pred_spans(df_dev))"
      ],
      "execution_count": 11,
      "outputs": []
    },
    {
      "cell_type": "markdown",
      "metadata": {
        "id": "r_KfyLk-fQi9"
      },
      "source": [
        "**Evaluation Report**"
      ]
    },
    {
      "cell_type": "code",
      "metadata": {
        "colab": {
          "base_uri": "https://localhost:8080/",
          "height": 78
        },
        "id": "mAMpirdKfOjU",
        "outputId": "cb38939f-6c4e-4484-c7ee-ee67462e2e6b"
      },
      "source": [
        "evaluation_report(spans_dev_gold, spans_dev_pred)"
      ],
      "execution_count": 12,
      "outputs": [
        {
          "output_type": "execute_result",
          "data": {
            "text/html": [
              "<div>\n",
              "<style scoped>\n",
              "    .dataframe tbody tr th:only-of-type {\n",
              "        vertical-align: middle;\n",
              "    }\n",
              "\n",
              "    .dataframe tbody tr th {\n",
              "        vertical-align: top;\n",
              "    }\n",
              "\n",
              "    .dataframe thead th {\n",
              "        text-align: right;\n",
              "    }\n",
              "</style>\n",
              "<table border=\"1\" class=\"dataframe\">\n",
              "  <thead>\n",
              "    <tr style=\"text-align: right;\">\n",
              "      <th></th>\n",
              "      <th>precision</th>\n",
              "      <th>recall</th>\n",
              "      <th>F1_score</th>\n",
              "    </tr>\n",
              "  </thead>\n",
              "  <tbody>\n",
              "    <tr>\n",
              "      <th>0</th>\n",
              "      <td>0.52945</td>\n",
              "      <td>0.689708</td>\n",
              "      <td>0.599046</td>\n",
              "    </tr>\n",
              "  </tbody>\n",
              "</table>\n",
              "</div>"
            ],
            "text/plain": [
              "   precision    recall  F1_score\n",
              "0    0.52945  0.689708  0.599046"
            ]
          },
          "metadata": {
            "tags": []
          },
          "execution_count": 12
        }
      ]
    },
    {
      "cell_type": "markdown",
      "metadata": {
        "id": "rUboKAkx1rCE"
      },
      "source": [
        "## Problem 3: Error analysis"
      ]
    },
    {
      "cell_type": "markdown",
      "metadata": {
        "id": "pi5uRO8y1rCF"
      },
      "source": [
        "As you were able to see in Problem&nbsp;2, the span accuracy of the named entity recognizer is far from perfect. In particular, only slightly more than half of the predicted spans are correct according to the gold standard. Your next task is to analyse this result in more detail.\n",
        "\n",
        "Here is a function that prints the false positives as well as the false negatives spans for a data frame, given a reference set of gold-standard spans and a candidate set of predicted spans."
      ]
    },
    {
      "cell_type": "code",
      "metadata": {
        "id": "7FBVpqVZ1rCF"
      },
      "source": [
        "from collections import defaultdict\n",
        "\n",
        "def error_report(df, spans_gold, spans_pred):\n",
        "    false_pos = defaultdict(list)\n",
        "    for s, b, e in spans_pred - spans_gold:\n",
        "        false_pos[s].append((b, e))\n",
        "    false_neg = defaultdict(list)\n",
        "    for s, b, e in spans_gold - spans_pred:\n",
        "        false_neg[s].append((b, e))\n",
        "    for row in df.drop_duplicates('sentence_id').itertuples():\n",
        "        if row.sentence_id in false_pos or row.sentence_id in false_neg:\n",
        "            print('Sentence:', row.sentence)\n",
        "            for b, e in false_pos[row.sentence_id]:\n",
        "                print('  FP:', ' '.join(row.sentence.split()[b:e]))\n",
        "            for b, e in false_neg[row.sentence_id]:\n",
        "                print('  FN:', ' '.join(row.sentence.split()[b:e]))"
      ],
      "execution_count": 13,
      "outputs": []
    },
    {
      "cell_type": "markdown",
      "metadata": {
        "id": "wfZak0pp1rCF"
      },
      "source": [
        "Use this function to inspect and analyse the errors that the automated prediction makes. Can you see any patterns? Base your analysis on the first 500 rows of the training data. Summarize your observations in a short text."
      ]
    },
    {
      "cell_type": "code",
      "metadata": {
        "id": "SLF1TV_51rCF"
      },
      "source": [
        "# TODO: Write code here to do your analysis\n",
        "df = df_train[0:500]\n",
        "spans_gold = set(gold_spans(df))\n",
        "spans_pred = set(pred_spans(df))\n",
        "error_report(df=df,spans_gold=spans_gold,spans_pred=spans_pred)"
      ],
      "execution_count": null,
      "outputs": []
    },
    {
      "cell_type": "markdown",
      "metadata": {
        "id": "IFlqzqk_1rCF"
      },
      "source": [
        "We can observe in the eroor analysis that spacy span entity predictor is predicting every thing related to time like dates, year, month and day and numeric values as a named entity whilst in the gold labels these words are not predicted as named entities."
      ]
    },
    {
      "cell_type": "markdown",
      "metadata": {
        "id": "7OUkbfjt1rCF"
      },
      "source": [
        "Now, use the insights from your error analysis to improve the automated prediction that you implemented in Problem&nbsp;2. While the best way to do this would be to [update spaCy&rsquo;s NER model](https://spacy.io/usage/linguistic-features#updating) using domain-specific training data, for this lab it suffices to write code to post-process the output produced by spaCy. You should be able to improve the F1 score from Problem&nbsp;2 by at last 15 percentage points."
      ]
    },
    {
      "cell_type": "code",
      "metadata": {
        "id": "5Cfk6e2q1rCF"
      },
      "source": [
        "# TODO: Write code here to improve the span prediction from Problem 2\n",
        "def NER(df):\n",
        "    \"\"\"Yield the predicted spans of updated Spacy NER model spans in a data frame.\n",
        "\n",
        "    Args:\n",
        "        df: A data frame.\n",
        "\n",
        "    Yields:\n",
        "        The predicted spans by spacy NER model in specified data frame as\n",
        "        triples consisting of the sentence id, start position, and end\n",
        "        position of each span.\n",
        "    \"\"\"\n",
        "    for row in df.drop_duplicates('sentence_id').itertuples():\n",
        "      doc = nlp(row.sentence) \n",
        "      for ent in doc.ents:\n",
        "        if ent.label_ not in ['PERCENT', 'TIME', 'DATE','CARDINAL', 'ORDINAL', 'QUANTITY']:\n",
        "          yield (row.sentence_id,ent.start,ent.end)           "
      ],
      "execution_count": 15,
      "outputs": []
    },
    {
      "cell_type": "code",
      "metadata": {
        "id": "PuZmWlg_0a3I"
      },
      "source": [
        "spans_preds = set(NER(df_dev))"
      ],
      "execution_count": 16,
      "outputs": []
    },
    {
      "cell_type": "markdown",
      "metadata": {
        "id": "f1lp5Sxd1rCF"
      },
      "source": [
        "Show that you achieve the performance goal by reporting the evaluation measures that you implemented in Problem&nbsp;1."
      ]
    },
    {
      "cell_type": "markdown",
      "metadata": {
        "id": "ZVXz20U-1eEJ"
      },
      "source": [
        "**Evaluation of the Update spaCy’s NER Model**"
      ]
    },
    {
      "cell_type": "code",
      "metadata": {
        "colab": {
          "base_uri": "https://localhost:8080/",
          "height": 78
        },
        "id": "BNbtyAXk1uYG",
        "outputId": "5981bc5b-ae1f-4862-c001-c25a5ad46f24"
      },
      "source": [
        "evaluation_report(spans_dev_gold, spans_preds)"
      ],
      "execution_count": 18,
      "outputs": [
        {
          "output_type": "execute_result",
          "data": {
            "text/html": [
              "<div>\n",
              "<style scoped>\n",
              "    .dataframe tbody tr th:only-of-type {\n",
              "        vertical-align: middle;\n",
              "    }\n",
              "\n",
              "    .dataframe tbody tr th {\n",
              "        vertical-align: top;\n",
              "    }\n",
              "\n",
              "    .dataframe thead th {\n",
              "        text-align: right;\n",
              "    }\n",
              "</style>\n",
              "<table border=\"1\" class=\"dataframe\">\n",
              "  <thead>\n",
              "    <tr style=\"text-align: right;\">\n",
              "      <th></th>\n",
              "      <th>precision</th>\n",
              "      <th>recall</th>\n",
              "      <th>F1_score</th>\n",
              "    </tr>\n",
              "  </thead>\n",
              "  <tbody>\n",
              "    <tr>\n",
              "      <th>0</th>\n",
              "      <td>0.831328</td>\n",
              "      <td>0.688863</td>\n",
              "      <td>0.75342</td>\n",
              "    </tr>\n",
              "  </tbody>\n",
              "</table>\n",
              "</div>"
            ],
            "text/plain": [
              "   precision    recall  F1_score\n",
              "0   0.831328  0.688863   0.75342"
            ]
          },
          "metadata": {
            "tags": []
          },
          "execution_count": 18
        }
      ]
    },
    {
      "cell_type": "markdown",
      "metadata": {
        "id": "yfecUD-P1-k_"
      },
      "source": [
        "We can clearly see in the evaluation report that precision is improved by 31% and F1 score is improved by 15%."
      ]
    },
    {
      "cell_type": "markdown",
      "metadata": {
        "id": "2QR77gcQ1rCF"
      },
      "source": [
        "Before going on, we ask you to store the outputs of the improved named entity recognizer on the development data in a new data frame. This new frame should have the same layout as the original data frame for the development data that you loaded above, but should contain the *predicted* start and end positions for each token span, rather than the gold positions. As the `label` of each span, you can use the special value `--NME--`."
      ]
    },
    {
      "cell_type": "code",
      "metadata": {
        "id": "4XNpvvDG1rCF"
      },
      "source": [
        "# TODO: Write code here to store the predicted spans in a new data frame\n",
        "id = []\n",
        "sentence = []\n",
        "beg = []\n",
        "end = []\n",
        "label = []\n",
        "for row in df_dev.drop_duplicates('sentence_id').itertuples():\n",
        "  doc = nlp(row.sentence) \n",
        "  for ent in doc.ents:\n",
        "    if ent.label_ not in ['MONEY', 'PERCENT', 'TIME', 'DATE','CARDINAL', 'ORDINAL', 'QUANTITY']:\n",
        "      id.append(row.sentence_id)\n",
        "      sentence.append(row.sentence)\n",
        "      beg.append(ent.start)\n",
        "      end.append(ent.end)\n",
        "      label.append('--NME--')\n",
        "\n",
        "df_dev_new = pd.DataFrame()\n",
        "df_dev_new ['sentence_id'] = id\n",
        "df_dev_new ['sentence'] = sentence\n",
        "df_dev_new ['beg'] = beg\n",
        "df_dev_new ['end'] = end\n",
        "df_dev_new['label'] = label"
      ],
      "execution_count": 19,
      "outputs": []
    },
    {
      "cell_type": "code",
      "metadata": {
        "colab": {
          "base_uri": "https://localhost:8080/",
          "height": 200
        },
        "id": "ChXg9ojj5ufu",
        "outputId": "d7ed2c03-455c-4892-d98c-98416522cfba"
      },
      "source": [
        "df_dev_new.head()"
      ],
      "execution_count": null,
      "outputs": [
        {
          "output_type": "execute_result",
          "data": {
            "text/html": [
              "<div>\n",
              "<style scoped>\n",
              "    .dataframe tbody tr th:only-of-type {\n",
              "        vertical-align: middle;\n",
              "    }\n",
              "\n",
              "    .dataframe tbody tr th {\n",
              "        vertical-align: top;\n",
              "    }\n",
              "\n",
              "    .dataframe thead th {\n",
              "        text-align: right;\n",
              "    }\n",
              "</style>\n",
              "<table border=\"1\" class=\"dataframe\">\n",
              "  <thead>\n",
              "    <tr style=\"text-align: right;\">\n",
              "      <th></th>\n",
              "      <th>sentence_id</th>\n",
              "      <th>sentence</th>\n",
              "      <th>beg</th>\n",
              "      <th>end</th>\n",
              "      <th>label</th>\n",
              "    </tr>\n",
              "  </thead>\n",
              "  <tbody>\n",
              "    <tr>\n",
              "      <th>0</th>\n",
              "      <td>0946-001</td>\n",
              "      <td>LONDON 1996-08-30</td>\n",
              "      <td>0</td>\n",
              "      <td>1</td>\n",
              "      <td>--NME--</td>\n",
              "    </tr>\n",
              "    <tr>\n",
              "      <th>1</th>\n",
              "      <td>0946-002</td>\n",
              "      <td>West Indian all-rounder Phil Simmons took four...</td>\n",
              "      <td>0</td>\n",
              "      <td>2</td>\n",
              "      <td>--NME--</td>\n",
              "    </tr>\n",
              "    <tr>\n",
              "      <th>2</th>\n",
              "      <td>0946-002</td>\n",
              "      <td>West Indian all-rounder Phil Simmons took four...</td>\n",
              "      <td>3</td>\n",
              "      <td>5</td>\n",
              "      <td>--NME--</td>\n",
              "    </tr>\n",
              "    <tr>\n",
              "      <th>3</th>\n",
              "      <td>0946-002</td>\n",
              "      <td>West Indian all-rounder Phil Simmons took four...</td>\n",
              "      <td>14</td>\n",
              "      <td>15</td>\n",
              "      <td>--NME--</td>\n",
              "    </tr>\n",
              "    <tr>\n",
              "      <th>4</th>\n",
              "      <td>0946-003</td>\n",
              "      <td>Their stay on top , though , may be short-live...</td>\n",
              "      <td>13</td>\n",
              "      <td>14</td>\n",
              "      <td>--NME--</td>\n",
              "    </tr>\n",
              "  </tbody>\n",
              "</table>\n",
              "</div>"
            ],
            "text/plain": [
              "  sentence_id                                           sentence  ...  end    label\n",
              "0    0946-001                                  LONDON 1996-08-30  ...    1  --NME--\n",
              "1    0946-002  West Indian all-rounder Phil Simmons took four...  ...    2  --NME--\n",
              "2    0946-002  West Indian all-rounder Phil Simmons took four...  ...    5  --NME--\n",
              "3    0946-002  West Indian all-rounder Phil Simmons took four...  ...   15  --NME--\n",
              "4    0946-003  Their stay on top , though , may be short-live...  ...   14  --NME--\n",
              "\n",
              "[5 rows x 5 columns]"
            ]
          },
          "metadata": {
            "tags": []
          },
          "execution_count": 368
        }
      ]
    },
    {
      "cell_type": "markdown",
      "metadata": {
        "id": "JbQXt_Fb1rCF"
      },
      "source": [
        "## Problem 4: Entity linking"
      ]
    },
    {
      "cell_type": "markdown",
      "metadata": {
        "id": "ozebDjTD1rCF"
      },
      "source": [
        "Now that we have a method for predicting mention spans, we turn to the task of **entity linking**, which amounts to predicting the knowledge base entity that is referenced by a given mention. In our case, for each span we want to predict the Wikipedia page that this mention references.\n",
        "\n",
        "Start by extending the generator function that you implemented in Problem&nbsp;2 to labelled spans."
      ]
    },
    {
      "cell_type": "code",
      "metadata": {
        "id": "skS-vEpF1rCF"
      },
      "source": [
        "def gold_mentions(df):\n",
        "    \"\"\"Yield the gold-standard mentions in a data frame.\n",
        "\n",
        "    Args:\n",
        "        df: A data frame.\n",
        "\n",
        "    Yields:\n",
        "        The gold-standard mention spans in the specified data frame as\n",
        "        quadruples consisting of the sentence id, start position, end\n",
        "        position and entity label of each span.\n",
        "    \"\"\"\n",
        "    # TODO: Replace the next line with your own code\n",
        "    for row in df.itertuples():\n",
        "      yield (row.sentence_id, row.beg, row.end, row.label)"
      ],
      "execution_count": 20,
      "outputs": []
    },
    {
      "cell_type": "code",
      "metadata": {
        "id": "wUN1cnUoU_Gz"
      },
      "source": [
        "mentions_dev_gold = set(gold_mentions(df_dev))"
      ],
      "execution_count": 21,
      "outputs": []
    },
    {
      "cell_type": "markdown",
      "metadata": {
        "id": "hFDT7Kdb1rCF"
      },
      "source": [
        "A naive baseline for entity linking on our data set is to link each mention span to the Wikipedia page name that we get when we join the tokens in the span by underscores, as is standard in Wikipedia page names. Suppose, for example, that a span contains the two tokens\n",
        "\n",
        "    Jimi Hendrix\n",
        "\n",
        "The baseline Wikipedia page name for this span would be\n",
        "\n",
        "    Jimi_Hendrix\n",
        "\n",
        "Implement this naive baseline and evaluate its performance. Print the evaluation measures that you implemented in Problem&nbsp;1."
      ]
    },
    {
      "cell_type": "markdown",
      "metadata": {
        "id": "R2xrs81O1rCF"
      },
      "source": [
        "<div class=\"alert alert-warning\">\n",
        "    Here and in the remainder of this lab, you should base your entity predictions on the predicted spans that you computed in Problem&nbsp;3.\n",
        "</div>"
      ]
    },
    {
      "cell_type": "code",
      "metadata": {
        "id": "J-kyrtq3HGBc"
      },
      "source": [
        "for i, row in df_dev_new.iterrows():\n",
        "  sentence = df_dev_new.iloc[i,1].split()\n",
        "  beg = df_dev_new.iloc[i,2]\n",
        "  end = df_dev_new.iloc[i,3]\n",
        "  word = sentence[beg:end]\n",
        "  label = \"_\".join(word)\n",
        "  df_dev_new.loc[i,'label']  = label"
      ],
      "execution_count": 24,
      "outputs": []
    },
    {
      "cell_type": "code",
      "metadata": {
        "colab": {
          "base_uri": "https://localhost:8080/",
          "height": 200
        },
        "id": "oMjQP3sdVUuj",
        "outputId": "d06e9bc6-fd62-45a9-ae26-2083a25792e9"
      },
      "source": [
        "df_dev_new.head()"
      ],
      "execution_count": 25,
      "outputs": [
        {
          "output_type": "execute_result",
          "data": {
            "text/html": [
              "<div>\n",
              "<style scoped>\n",
              "    .dataframe tbody tr th:only-of-type {\n",
              "        vertical-align: middle;\n",
              "    }\n",
              "\n",
              "    .dataframe tbody tr th {\n",
              "        vertical-align: top;\n",
              "    }\n",
              "\n",
              "    .dataframe thead th {\n",
              "        text-align: right;\n",
              "    }\n",
              "</style>\n",
              "<table border=\"1\" class=\"dataframe\">\n",
              "  <thead>\n",
              "    <tr style=\"text-align: right;\">\n",
              "      <th></th>\n",
              "      <th>sentence_id</th>\n",
              "      <th>sentence</th>\n",
              "      <th>beg</th>\n",
              "      <th>end</th>\n",
              "      <th>label</th>\n",
              "    </tr>\n",
              "  </thead>\n",
              "  <tbody>\n",
              "    <tr>\n",
              "      <th>0</th>\n",
              "      <td>0946-001</td>\n",
              "      <td>LONDON 1996-08-30</td>\n",
              "      <td>0</td>\n",
              "      <td>1</td>\n",
              "      <td>LONDON</td>\n",
              "    </tr>\n",
              "    <tr>\n",
              "      <th>1</th>\n",
              "      <td>0946-002</td>\n",
              "      <td>West Indian all-rounder Phil Simmons took four...</td>\n",
              "      <td>0</td>\n",
              "      <td>2</td>\n",
              "      <td>West_Indian</td>\n",
              "    </tr>\n",
              "    <tr>\n",
              "      <th>2</th>\n",
              "      <td>0946-002</td>\n",
              "      <td>West Indian all-rounder Phil Simmons took four...</td>\n",
              "      <td>3</td>\n",
              "      <td>5</td>\n",
              "      <td>Phil_Simmons</td>\n",
              "    </tr>\n",
              "    <tr>\n",
              "      <th>3</th>\n",
              "      <td>0946-002</td>\n",
              "      <td>West Indian all-rounder Phil Simmons took four...</td>\n",
              "      <td>14</td>\n",
              "      <td>15</td>\n",
              "      <td>Somerset</td>\n",
              "    </tr>\n",
              "    <tr>\n",
              "      <th>4</th>\n",
              "      <td>0946-003</td>\n",
              "      <td>Their stay on top , though , may be short-live...</td>\n",
              "      <td>13</td>\n",
              "      <td>14</td>\n",
              "      <td>Essex</td>\n",
              "    </tr>\n",
              "  </tbody>\n",
              "</table>\n",
              "</div>"
            ],
            "text/plain": [
              "  sentence_id  ...         label\n",
              "0    0946-001  ...        LONDON\n",
              "1    0946-002  ...   West_Indian\n",
              "2    0946-002  ...  Phil_Simmons\n",
              "3    0946-002  ...      Somerset\n",
              "4    0946-003  ...         Essex\n",
              "\n",
              "[5 rows x 5 columns]"
            ]
          },
          "metadata": {
            "tags": []
          },
          "execution_count": 25
        }
      ]
    },
    {
      "cell_type": "code",
      "metadata": {
        "id": "YxcXcTvX_je5"
      },
      "source": [
        "mentions_dev_pred = set(gold_mentions(df_dev_new))"
      ],
      "execution_count": 26,
      "outputs": []
    },
    {
      "cell_type": "markdown",
      "metadata": {
        "id": "wnrOnKyC_gOS"
      },
      "source": [
        "**Evaluation Report**"
      ]
    },
    {
      "cell_type": "code",
      "metadata": {
        "colab": {
          "base_uri": "https://localhost:8080/",
          "height": 78
        },
        "id": "DpPcOzWy_Eyp",
        "outputId": "774db060-51a4-4f3b-a7d9-349f6a3ed5dd"
      },
      "source": [
        "evaluation_report(mentions_dev_gold, mentions_dev_pred)"
      ],
      "execution_count": 27,
      "outputs": [
        {
          "output_type": "execute_result",
          "data": {
            "text/html": [
              "<div>\n",
              "<style scoped>\n",
              "    .dataframe tbody tr th:only-of-type {\n",
              "        vertical-align: middle;\n",
              "    }\n",
              "\n",
              "    .dataframe tbody tr th {\n",
              "        vertical-align: top;\n",
              "    }\n",
              "\n",
              "    .dataframe thead th {\n",
              "        text-align: right;\n",
              "    }\n",
              "</style>\n",
              "<table border=\"1\" class=\"dataframe\">\n",
              "  <thead>\n",
              "    <tr style=\"text-align: right;\">\n",
              "      <th></th>\n",
              "      <th>precision</th>\n",
              "      <th>recall</th>\n",
              "      <th>F1_score</th>\n",
              "    </tr>\n",
              "  </thead>\n",
              "  <tbody>\n",
              "    <tr>\n",
              "      <th>0</th>\n",
              "      <td>0.318342</td>\n",
              "      <td>0.259591</td>\n",
              "      <td>0.28598</td>\n",
              "    </tr>\n",
              "  </tbody>\n",
              "</table>\n",
              "</div>"
            ],
            "text/plain": [
              "   precision    recall  F1_score\n",
              "0   0.318342  0.259591   0.28598"
            ]
          },
          "metadata": {
            "tags": []
          },
          "execution_count": 27
        }
      ]
    },
    {
      "cell_type": "markdown",
      "metadata": {
        "id": "CH9Sq0ga1rCF"
      },
      "source": [
        "## Problem 5: Extending the training data using the knowledge base"
      ]
    },
    {
      "cell_type": "markdown",
      "metadata": {
        "id": "JlZxeujP1rCF"
      },
      "source": [
        "State-of-the-art approaches to entity linking exploit information in knowledge bases. In our case, where Wikipedia is the knowledge base, one particularly useful type of information are links to other Wikipedia pages. In particular, we can interpret the anchor texts (the highlighted texts that you click on) as mentions of the entities (pages) that they link to. This allows us to harvest long lists of mention–entity pairings.\n",
        "\n",
        "The following cell loads a data frame summarizing anchor texts and page references harvested from the first paragraphs of the English Wikipedia. The data frame also contains all entity mentions in the training data (but not the development or the test data)."
      ]
    },
    {
      "cell_type": "code",
      "metadata": {
        "id": "PqoMnhm81rCG"
      },
      "source": [
        "with bz2.open('kb.tsv.bz2', 'rt') as source:\n",
        "    df_kb = pd.read_csv(source, sep='\\t', quoting=csv.QUOTE_NONE)"
      ],
      "execution_count": 28,
      "outputs": []
    },
    {
      "cell_type": "markdown",
      "metadata": {
        "id": "8v47z5h51rCG"
      },
      "source": [
        "To understand what information is available in this data, the following cell shows the entry for the anchor text `Sweden`."
      ]
    },
    {
      "cell_type": "code",
      "metadata": {
        "id": "ze4OJEG71rCG",
        "colab": {
          "base_uri": "https://localhost:8080/",
          "height": 139
        },
        "outputId": "cc2ccbb1-c77e-4847-c2c8-4b86ea5abeb5"
      },
      "source": [
        "df_kb.loc[df_kb.mention == 'Sweden']"
      ],
      "execution_count": 29,
      "outputs": [
        {
          "output_type": "execute_result",
          "data": {
            "text/html": [
              "<div>\n",
              "<style scoped>\n",
              "    .dataframe tbody tr th:only-of-type {\n",
              "        vertical-align: middle;\n",
              "    }\n",
              "\n",
              "    .dataframe tbody tr th {\n",
              "        vertical-align: top;\n",
              "    }\n",
              "\n",
              "    .dataframe thead th {\n",
              "        text-align: right;\n",
              "    }\n",
              "</style>\n",
              "<table border=\"1\" class=\"dataframe\">\n",
              "  <thead>\n",
              "    <tr style=\"text-align: right;\">\n",
              "      <th></th>\n",
              "      <th>mention</th>\n",
              "      <th>entity</th>\n",
              "      <th>prob</th>\n",
              "    </tr>\n",
              "  </thead>\n",
              "  <tbody>\n",
              "    <tr>\n",
              "      <th>17436</th>\n",
              "      <td>Sweden</td>\n",
              "      <td>Sweden</td>\n",
              "      <td>0.985768</td>\n",
              "    </tr>\n",
              "    <tr>\n",
              "      <th>17437</th>\n",
              "      <td>Sweden</td>\n",
              "      <td>Sweden_national_football_team</td>\n",
              "      <td>0.014173</td>\n",
              "    </tr>\n",
              "    <tr>\n",
              "      <th>17438</th>\n",
              "      <td>Sweden</td>\n",
              "      <td>Sweden_men's_national_ice_hockey_team</td>\n",
              "      <td>0.000059</td>\n",
              "    </tr>\n",
              "  </tbody>\n",
              "</table>\n",
              "</div>"
            ],
            "text/plain": [
              "      mention                                 entity      prob\n",
              "17436  Sweden                                 Sweden  0.985768\n",
              "17437  Sweden          Sweden_national_football_team  0.014173\n",
              "17438  Sweden  Sweden_men's_national_ice_hockey_team  0.000059"
            ]
          },
          "metadata": {
            "tags": []
          },
          "execution_count": 29
        }
      ]
    },
    {
      "cell_type": "code",
      "metadata": {
        "colab": {
          "base_uri": "https://localhost:8080/",
          "height": 200
        },
        "id": "twDcgo-kDnOi",
        "outputId": "7de4cdbf-6ef1-403c-b6c5-d13b93869988"
      },
      "source": [
        "df_kb.head()"
      ],
      "execution_count": 30,
      "outputs": [
        {
          "output_type": "execute_result",
          "data": {
            "text/html": [
              "<div>\n",
              "<style scoped>\n",
              "    .dataframe tbody tr th:only-of-type {\n",
              "        vertical-align: middle;\n",
              "    }\n",
              "\n",
              "    .dataframe tbody tr th {\n",
              "        vertical-align: top;\n",
              "    }\n",
              "\n",
              "    .dataframe thead th {\n",
              "        text-align: right;\n",
              "    }\n",
              "</style>\n",
              "<table border=\"1\" class=\"dataframe\">\n",
              "  <thead>\n",
              "    <tr style=\"text-align: right;\">\n",
              "      <th></th>\n",
              "      <th>mention</th>\n",
              "      <th>entity</th>\n",
              "      <th>prob</th>\n",
              "    </tr>\n",
              "  </thead>\n",
              "  <tbody>\n",
              "    <tr>\n",
              "      <th>0</th>\n",
              "      <td>000 Guineas</td>\n",
              "      <td>2000_Guineas_Stakes</td>\n",
              "      <td>1.0</td>\n",
              "    </tr>\n",
              "    <tr>\n",
              "      <th>1</th>\n",
              "      <td>10 00</td>\n",
              "      <td>United_States_dollar</td>\n",
              "      <td>1.0</td>\n",
              "    </tr>\n",
              "    <tr>\n",
              "      <th>2</th>\n",
              "      <td>126 million</td>\n",
              "      <td>United_States_dollar</td>\n",
              "      <td>1.0</td>\n",
              "    </tr>\n",
              "    <tr>\n",
              "      <th>3</th>\n",
              "      <td>13th dynasty</td>\n",
              "      <td>Middle_Kingdom_of_Egypt</td>\n",
              "      <td>1.0</td>\n",
              "    </tr>\n",
              "    <tr>\n",
              "      <th>4</th>\n",
              "      <td>14th Dalai Lama</td>\n",
              "      <td>14th_Dalai_Lama</td>\n",
              "      <td>1.0</td>\n",
              "    </tr>\n",
              "  </tbody>\n",
              "</table>\n",
              "</div>"
            ],
            "text/plain": [
              "           mention                   entity  prob\n",
              "0      000 Guineas      2000_Guineas_Stakes   1.0\n",
              "1            10 00     United_States_dollar   1.0\n",
              "2      126 million     United_States_dollar   1.0\n",
              "3     13th dynasty  Middle_Kingdom_of_Egypt   1.0\n",
              "4  14th Dalai Lama          14th_Dalai_Lama   1.0"
            ]
          },
          "metadata": {
            "tags": []
          },
          "execution_count": 30
        }
      ]
    },
    {
      "cell_type": "markdown",
      "metadata": {
        "id": "PW4V8zLj1rCG"
      },
      "source": [
        "As you can see, each row of the data frame contains a pair $(m, e)$ of a mention $m$ and an entity $e$, as well as the conditional probability $P(e|m)$ for mention $m$ referring to entity $e$. These probabilities were estimated based on the frequencies of mention–entity pairs in the knowledge base. The example shows that the anchor text &lsquo;Sweden&rsquo; is most often used to refer to the entity [Sweden](http://en.wikipedia.org/wiki/Sweden), but in a few cases also to refer to Sweden&rsquo;s national football and ice hockey teams. Note that references are sorted in decreasing order of probability, so that the most probable pairing come first.\n",
        "\n",
        "Implement an entity linking method that resolves each mention to the most probable entity in the data frame. If the mention is not included in the data frame, you can predict the generic label `--NME--`. Print the precision, recall, and F1 of your method using the function that you implemented for Problem&nbsp;1."
      ]
    },
    {
      "cell_type": "code",
      "metadata": {
        "id": "gGlo2x5J1rCG"
      },
      "source": [
        "# TODO: Write code here to implement the \"most probable entity\" method.\n",
        "def most_prob_entity(df):  \n",
        "  for i in range(df.shape[0]):\n",
        "    label = df.iloc[i,4]\n",
        "    e_m = df_kb.loc[df_kb[\"mention\"] == label]\n",
        "    if e_m.shape[0] != 0:\n",
        "      yield (df.iloc[i,0], df.iloc[i,2], df.iloc[i,3], e_m.iloc[0,1]) \n",
        "    else:\n",
        "      yield (df.iloc[i,0], df.iloc[i,2], df.iloc[i,3], \"--NME--\")\n",
        "most_prob_mention = set(most_prob_entity(df_dev_new))"
      ],
      "execution_count": 34,
      "outputs": []
    },
    {
      "cell_type": "markdown",
      "metadata": {
        "id": "kMViZwL6OFKT"
      },
      "source": [
        "**Evaluation**"
      ]
    },
    {
      "cell_type": "code",
      "metadata": {
        "colab": {
          "base_uri": "https://localhost:8080/",
          "height": 78
        },
        "id": "vZSuW9CaOHQb",
        "outputId": "f84927cf-91f4-4e01-d44a-297da5762252"
      },
      "source": [
        "evaluation_report(mentions_dev_gold, most_prob_mention)"
      ],
      "execution_count": 36,
      "outputs": [
        {
          "output_type": "execute_result",
          "data": {
            "text/html": [
              "<div>\n",
              "<style scoped>\n",
              "    .dataframe tbody tr th:only-of-type {\n",
              "        vertical-align: middle;\n",
              "    }\n",
              "\n",
              "    .dataframe tbody tr th {\n",
              "        vertical-align: top;\n",
              "    }\n",
              "\n",
              "    .dataframe thead th {\n",
              "        text-align: right;\n",
              "    }\n",
              "</style>\n",
              "<table border=\"1\" class=\"dataframe\">\n",
              "  <thead>\n",
              "    <tr style=\"text-align: right;\">\n",
              "      <th></th>\n",
              "      <th>precision</th>\n",
              "      <th>recall</th>\n",
              "      <th>F1_score</th>\n",
              "    </tr>\n",
              "  </thead>\n",
              "  <tbody>\n",
              "    <tr>\n",
              "      <th>0</th>\n",
              "      <td>0.484145</td>\n",
              "      <td>0.394795</td>\n",
              "      <td>0.434928</td>\n",
              "    </tr>\n",
              "  </tbody>\n",
              "</table>\n",
              "</div>"
            ],
            "text/plain": [
              "   precision    recall  F1_score\n",
              "0   0.484145  0.394795  0.434928"
            ]
          },
          "metadata": {
            "tags": []
          },
          "execution_count": 36
        }
      ]
    },
    {
      "cell_type": "markdown",
      "metadata": {
        "id": "OyqK0tLL1rCG"
      },
      "source": [
        "## Problem 6: Context-sensitive disambiguation"
      ]
    },
    {
      "cell_type": "markdown",
      "metadata": {
        "id": "FCd3vQ3j1rCG"
      },
      "source": [
        "Consider the entity mention &lsquo;Lincoln&rsquo;. The most probable entity for this mention turns out to be [Lincoln, Nebraska](http://en.wikipedia.org/Lincoln,_Nebraska); but in pages about American history, we would be better off to predict [Abraham Lincoln](http://en.wikipedia.org/Abraham_Lincoln). This suggests that we should try to disambiguate between different entity references based on the textual context on the page from which the mention was taken. Your task in this last problem is to implement this idea.\n",
        "\n",
        "Set up a dictionary that contains, for each mention $m$ that can refer to more than one entity $e$, a separate Naive Bayes classifier that is trained to predict the correct entity $e$, given the textual context of the mention. As the prior probabilities of the classifier, choose the probabilities $P(e|m)$ that you used in Problem&nbsp;5. To let you estimate the context-specific probabilities, we have compiled a data set with mention contexts:"
      ]
    },
    {
      "cell_type": "code",
      "metadata": {
        "id": "W3gj9I1d1rCG"
      },
      "source": [
        "with bz2.open('contexts.tsv.bz2') as source:\n",
        "    df_contexts = pd.read_csv(source, sep='\\t', quoting=csv.QUOTE_NONE)"
      ],
      "execution_count": null,
      "outputs": []
    },
    {
      "cell_type": "markdown",
      "metadata": {
        "id": "shZf3vbV1rCG"
      },
      "source": [
        "This data frame contains, for each ambiguous mention $m$ and each knowledge base entity $e$ to which this mention can refer, up to 100 randomly selected contexts in which $m$ is used to refer to $e$. For this data, a **context** is defined as the 5 tokens to the left and the 5 tokens to the right of the mention. Here are a few examples:"
      ]
    },
    {
      "cell_type": "code",
      "metadata": {
        "id": "MHzB4Bqs1rCG"
      },
      "source": [
        "df_contexts.head()"
      ],
      "execution_count": null,
      "outputs": []
    },
    {
      "cell_type": "markdown",
      "metadata": {
        "id": "sNYar7P11rCG"
      },
      "source": [
        "Note that, in each context, the position of the mention is indicated by the `@` symbol.\n",
        "\n",
        "From this data frame, it is easy to select the data that you need to train the classifiers – the contexts and corresponding entities for all mentions. To illustrate this, the following cell shows how to select all contexts that belong to the mention &lsquo;Lincoln&rsquo;:"
      ]
    },
    {
      "cell_type": "code",
      "metadata": {
        "id": "S4ZDlaXV1rCG"
      },
      "source": [
        "df_contexts.context[df_contexts.mention == 'Lincoln']"
      ],
      "execution_count": null,
      "outputs": []
    },
    {
      "cell_type": "markdown",
      "metadata": {
        "id": "sHKtbNgX1rCG"
      },
      "source": [
        "Implement the context-sensitive disambiguation method and evaluate its performance. Here are some more hints that may help you along the way:\n",
        "\n",
        "**Hint 1:** The prior probabilities for a Naive Bayes classifier can be specified using the `class_prior` option. You will have to provide the probabilities in the same order as the alphabetically sorted class (entity) names.\n",
        "\n",
        "**Hint 2:** Not all mentions in the knowledge base are ambiguous, and therefore not all mentions have context data. If a mention has only one possible entity, pick that one. If a mention has no entity at all, predict the `--NME--` label."
      ]
    },
    {
      "cell_type": "code",
      "metadata": {
        "id": "0zngb9f31rCG"
      },
      "source": [
        "# TODO: Write code here to implement the context-sensitive disambiguation method"
      ],
      "execution_count": null,
      "outputs": []
    },
    {
      "cell_type": "markdown",
      "metadata": {
        "id": "eM9VSz6M1rCG"
      },
      "source": [
        "You should expect to see a small (around 1&nbsp;unit) increase in both precision, recall, and F1."
      ]
    },
    {
      "cell_type": "markdown",
      "metadata": {
        "id": "2gY56-dk1rCG"
      },
      "source": [
        "**This was the last lab in the Text Mining course. Congratulations!**"
      ]
    },
    {
      "cell_type": "markdown",
      "metadata": {
        "id": "rENakAck1rCG"
      },
      "source": [
        "<div class=\"alert alert-info\">\n",
        "    Please read the section ‘General information’ on the ‘Labs’ page of the course website before submitting this notebook!\n",
        "</div>"
      ]
    }
  ]
}