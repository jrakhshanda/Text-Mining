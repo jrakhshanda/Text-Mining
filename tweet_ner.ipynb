{
  "nbformat": 4,
  "nbformat_minor": 0,
  "metadata": {
    "kernelspec": {
      "language": "python",
      "display_name": "Python 3",
      "name": "python3"
    },
    "language_info": {
      "pygments_lexer": "ipython3",
      "nbconvert_exporter": "python",
      "version": "3.6.4",
      "file_extension": ".py",
      "codemirror_mode": {
        "name": "ipython",
        "version": 3
      },
      "name": "python",
      "mimetype": "text/x-python"
    },
    "colab": {
      "name": "tweet-sent-ext-ner.ipynb",
      "provenance": [],
      "include_colab_link": true
    }
  },
  "cells": [
    {
      "cell_type": "markdown",
      "metadata": {
        "id": "view-in-github",
        "colab_type": "text"
      },
      "source": [
        "<a href=\"https://colab.research.google.com/github/jrakhshanda/Text-Mining/blob/main/tweet_ner.ipynb\" target=\"_parent\"><img src=\"https://colab.research.google.com/assets/colab-badge.svg\" alt=\"Open In Colab\"/></a>"
      ]
    },
    {
      "cell_type": "markdown",
      "metadata": {
        "id": "A8f7YvzuneCM"
      },
      "source": [
        "# Tweet sentiment extraction - SpaCy\n",
        "2020-10-24"
      ]
    },
    {
      "cell_type": "markdown",
      "metadata": {
        "id": "xNYQ3sNBneCV"
      },
      "source": [
        "# Prep"
      ]
    },
    {
      "cell_type": "code",
      "metadata": {
        "_uuid": "8f2839f25d086af736a60e9eeb907d3b93b6e0e5",
        "_cell_guid": "b1076dfc-b9ad-4769-8c92-a6c4dae69d19",
        "trusted": true,
        "id": "BscH8zmKneCV"
      },
      "source": [
        "import os\n",
        "\n",
        "import numpy as np\n",
        "import pandas as pd\n",
        "from sklearn import model_selection"
      ],
      "execution_count": 4,
      "outputs": []
    },
    {
      "cell_type": "code",
      "metadata": {
        "colab": {
          "base_uri": "https://localhost:8080/"
        },
        "id": "hOtmxo7dnu5l",
        "outputId": "5c09a95b-ee14-493d-bda1-37ae7bb33810"
      },
      "source": [
        "from google.colab import drive\n",
        "drive.mount('/content/drive')"
      ],
      "execution_count": 2,
      "outputs": [
        {
          "output_type": "stream",
          "text": [
            "Mounted at /content/drive\n"
          ],
          "name": "stdout"
        }
      ]
    },
    {
      "cell_type": "code",
      "metadata": {
        "_uuid": "d629ff2d2480ee46fbb7e2d37f6b5fab8052498a",
        "_cell_guid": "79c7e3d0-c299-4dcb-8224-4455121ee9b0",
        "trusted": true,
        "id": "LxTCLl9IneCW"
      },
      "source": [
        "df_train = pd.read_csv('/content/drive/MyDrive/train.csv')\n",
        "# drop na\n",
        "df_train.dropna(axis = 0, how ='any',inplace=True)\n",
        "train1, test = model_selection.train_test_split(train,test_size=0.2)\n",
        "train, valid = model_selection.train_test_split(train1,test_size=0.2)"
      ],
      "execution_count": 9,
      "outputs": []
    },
    {
      "cell_type": "markdown",
      "metadata": {
        "id": "Xbq5_ujVneCX"
      },
      "source": [
        "# Prep train set"
      ]
    },
    {
      "cell_type": "code",
      "metadata": {
        "trusted": true,
        "colab": {
          "base_uri": "https://localhost:8080/",
          "height": 734
        },
        "id": "4CEeZI70neCX",
        "outputId": "0c490bc2-a3c1-4e96-e651-e768a2c9d137"
      },
      "source": [
        "# Add tokes and counts.\n",
        "train['text_tokes']   = train.text.str.split()\n",
        "train['select_tokes'] = train.selected_text.str.split()\n",
        "train['text_tokes_cnt'] = train.text_tokes.str.len()\n",
        "train['select_tokes_cnt'] = train.select_tokes.str.len()\n",
        "train.head(5)"
      ],
      "execution_count": 10,
      "outputs": [
        {
          "output_type": "stream",
          "text": [
            "/usr/local/lib/python3.6/dist-packages/ipykernel_launcher.py:2: SettingWithCopyWarning: \n",
            "A value is trying to be set on a copy of a slice from a DataFrame.\n",
            "Try using .loc[row_indexer,col_indexer] = value instead\n",
            "\n",
            "See the caveats in the documentation: https://pandas.pydata.org/pandas-docs/stable/user_guide/indexing.html#returning-a-view-versus-a-copy\n",
            "  \n",
            "/usr/local/lib/python3.6/dist-packages/ipykernel_launcher.py:3: SettingWithCopyWarning: \n",
            "A value is trying to be set on a copy of a slice from a DataFrame.\n",
            "Try using .loc[row_indexer,col_indexer] = value instead\n",
            "\n",
            "See the caveats in the documentation: https://pandas.pydata.org/pandas-docs/stable/user_guide/indexing.html#returning-a-view-versus-a-copy\n",
            "  This is separate from the ipykernel package so we can avoid doing imports until\n",
            "/usr/local/lib/python3.6/dist-packages/ipykernel_launcher.py:4: SettingWithCopyWarning: \n",
            "A value is trying to be set on a copy of a slice from a DataFrame.\n",
            "Try using .loc[row_indexer,col_indexer] = value instead\n",
            "\n",
            "See the caveats in the documentation: https://pandas.pydata.org/pandas-docs/stable/user_guide/indexing.html#returning-a-view-versus-a-copy\n",
            "  after removing the cwd from sys.path.\n",
            "/usr/local/lib/python3.6/dist-packages/ipykernel_launcher.py:5: SettingWithCopyWarning: \n",
            "A value is trying to be set on a copy of a slice from a DataFrame.\n",
            "Try using .loc[row_indexer,col_indexer] = value instead\n",
            "\n",
            "See the caveats in the documentation: https://pandas.pydata.org/pandas-docs/stable/user_guide/indexing.html#returning-a-view-versus-a-copy\n",
            "  \"\"\"\n"
          ],
          "name": "stderr"
        },
        {
          "output_type": "execute_result",
          "data": {
            "text/html": [
              "<div>\n",
              "<style scoped>\n",
              "    .dataframe tbody tr th:only-of-type {\n",
              "        vertical-align: middle;\n",
              "    }\n",
              "\n",
              "    .dataframe tbody tr th {\n",
              "        vertical-align: top;\n",
              "    }\n",
              "\n",
              "    .dataframe thead th {\n",
              "        text-align: right;\n",
              "    }\n",
              "</style>\n",
              "<table border=\"1\" class=\"dataframe\">\n",
              "  <thead>\n",
              "    <tr style=\"text-align: right;\">\n",
              "      <th></th>\n",
              "      <th>textID</th>\n",
              "      <th>text</th>\n",
              "      <th>selected_text</th>\n",
              "      <th>sentiment</th>\n",
              "      <th>text_tokes</th>\n",
              "      <th>select_tokes</th>\n",
              "      <th>text_tokes_cnt</th>\n",
              "      <th>select_tokes_cnt</th>\n",
              "    </tr>\n",
              "  </thead>\n",
              "  <tbody>\n",
              "    <tr>\n",
              "      <th>10687</th>\n",
              "      <td>5d94fa6526</td>\n",
              "      <td>I love my Boogah! Can anyone contain Lebron Ja...</td>\n",
              "      <td>I love my Boogah! Can anyone contain Lebron Ja...</td>\n",
              "      <td>neutral</td>\n",
              "      <td>[I, love, my, Boogah!, Can, anyone, contain, L...</td>\n",
              "      <td>[I, love, my, Boogah!, Can, anyone, contain, L...</td>\n",
              "      <td>13</td>\n",
              "      <td>13</td>\n",
              "    </tr>\n",
              "    <tr>\n",
              "      <th>11261</th>\n",
              "      <td>7dec86f00e</td>\n",
              "      <td>lolzz @ public script, wait  - n- watch</td>\n",
              "      <td>lolzz @ public script, wait  - n- watch</td>\n",
              "      <td>neutral</td>\n",
              "      <td>[lolzz, @, public, script,, wait, -, n-, watch]</td>\n",
              "      <td>[lolzz, @, public, script,, wait, -, n-, watch]</td>\n",
              "      <td>8</td>\n",
              "      <td>8</td>\n",
              "    </tr>\n",
              "    <tr>\n",
              "      <th>2776</th>\n",
              "      <td>1ba776466c</td>\n",
              "      <td>how long did it take you to learn the song</td>\n",
              "      <td>how long did it take you to learn the song</td>\n",
              "      <td>neutral</td>\n",
              "      <td>[how, long, did, it, take, you, to, learn, the...</td>\n",
              "      <td>[how, long, did, it, take, you, to, learn, the...</td>\n",
              "      <td>10</td>\n",
              "      <td>10</td>\n",
              "    </tr>\n",
              "    <tr>\n",
              "      <th>21457</th>\n",
              "      <td>369ac3522c</td>\n",
              "      <td>_archie Haha it`s ok. Glad everything`s good. ...</td>\n",
              "      <td>Glad everything`s good.</td>\n",
              "      <td>positive</td>\n",
              "      <td>[_archie, Haha, it`s, ok., Glad, everything`s,...</td>\n",
              "      <td>[Glad, everything`s, good.]</td>\n",
              "      <td>10</td>\n",
              "      <td>3</td>\n",
              "    </tr>\n",
              "    <tr>\n",
              "      <th>7457</th>\n",
              "      <td>6b4b918764</td>\n",
              "      <td>to my pretty lady  HAPPY MOTHER`S DAY!!! She`s...</td>\n",
              "      <td>HAPPY</td>\n",
              "      <td>positive</td>\n",
              "      <td>[to, my, pretty, lady, HAPPY, MOTHER`S, DAY!!!...</td>\n",
              "      <td>[HAPPY]</td>\n",
              "      <td>14</td>\n",
              "      <td>1</td>\n",
              "    </tr>\n",
              "  </tbody>\n",
              "</table>\n",
              "</div>"
            ],
            "text/plain": [
              "           textID  ... select_tokes_cnt\n",
              "10687  5d94fa6526  ...               13\n",
              "11261  7dec86f00e  ...                8\n",
              "2776   1ba776466c  ...               10\n",
              "21457  369ac3522c  ...                3\n",
              "7457   6b4b918764  ...                1\n",
              "\n",
              "[5 rows x 8 columns]"
            ]
          },
          "metadata": {
            "tags": []
          },
          "execution_count": 10
        }
      ]
    },
    {
      "cell_type": "code",
      "metadata": {
        "trusted": true,
        "colab": {
          "base_uri": "https://localhost:8080/",
          "height": 384
        },
        "id": "zLYTl0AyneCY",
        "outputId": "819aef49-48fb-46b3-f578-20a4f8519f13"
      },
      "source": [
        "# remove text=2 and neutrals as = self.\n",
        "train = train[~(train.text_tokes_cnt<=2)]\n",
        "train = train[(train.sentiment!='neutral')]\n",
        "display(len(train))\n",
        "display(train.sentiment.value_counts())\n",
        "train.sample(5)"
      ],
      "execution_count": 11,
      "outputs": [
        {
          "output_type": "display_data",
          "data": {
            "text/plain": [
              "4270"
            ]
          },
          "metadata": {
            "tags": []
          }
        },
        {
          "output_type": "display_data",
          "data": {
            "text/plain": [
              "positive    2259\n",
              "negative    2011\n",
              "Name: sentiment, dtype: int64"
            ]
          },
          "metadata": {
            "tags": []
          }
        },
        {
          "output_type": "execute_result",
          "data": {
            "text/html": [
              "<div>\n",
              "<style scoped>\n",
              "    .dataframe tbody tr th:only-of-type {\n",
              "        vertical-align: middle;\n",
              "    }\n",
              "\n",
              "    .dataframe tbody tr th {\n",
              "        vertical-align: top;\n",
              "    }\n",
              "\n",
              "    .dataframe thead th {\n",
              "        text-align: right;\n",
              "    }\n",
              "</style>\n",
              "<table border=\"1\" class=\"dataframe\">\n",
              "  <thead>\n",
              "    <tr style=\"text-align: right;\">\n",
              "      <th></th>\n",
              "      <th>textID</th>\n",
              "      <th>text</th>\n",
              "      <th>selected_text</th>\n",
              "      <th>sentiment</th>\n",
              "      <th>text_tokes</th>\n",
              "      <th>select_tokes</th>\n",
              "      <th>text_tokes_cnt</th>\n",
              "      <th>select_tokes_cnt</th>\n",
              "    </tr>\n",
              "  </thead>\n",
              "  <tbody>\n",
              "    <tr>\n",
              "      <th>3720</th>\n",
              "      <td>4034294a60</td>\n",
              "      <td>#followfriday     follow these ppl ... they ar...</td>\n",
              "      <td>l ... they are interesting ..  doesnt tweet mu...</td>\n",
              "      <td>positive</td>\n",
              "      <td>[#followfriday, follow, these, ppl, ..., they,...</td>\n",
              "      <td>[l, ..., they, are, interesting, .., doesnt, t...</td>\n",
              "      <td>13</td>\n",
              "      <td>10</td>\n",
              "    </tr>\n",
              "    <tr>\n",
              "      <th>24945</th>\n",
              "      <td>74dfd381f2</td>\n",
              "      <td>Getting a cleaning on tues then getting a toot...</td>\n",
              "      <td>ugh.</td>\n",
              "      <td>negative</td>\n",
              "      <td>[Getting, a, cleaning, on, tues, then, getting...</td>\n",
              "      <td>[ugh.]</td>\n",
              "      <td>23</td>\n",
              "      <td>1</td>\n",
              "    </tr>\n",
              "    <tr>\n",
              "      <th>7846</th>\n",
              "      <td>9c3beb8b96</td>\n",
              "      <td>Thank you! I hope you have a great rest of yo...</td>\n",
              "      <td>Thank</td>\n",
              "      <td>positive</td>\n",
              "      <td>[Thank, you!, I, hope, you, have, a, great, re...</td>\n",
              "      <td>[Thank]</td>\n",
              "      <td>19</td>\n",
              "      <td>1</td>\n",
              "    </tr>\n",
              "    <tr>\n",
              "      <th>19396</th>\n",
              "      <td>d8cfcd20a1</td>\n",
              "      <td>I dont think my twitpic is working</td>\n",
              "      <td>I dont think my twitpic is working</td>\n",
              "      <td>negative</td>\n",
              "      <td>[I, dont, think, my, twitpic, is, working]</td>\n",
              "      <td>[I, dont, think, my, twitpic, is, working]</td>\n",
              "      <td>7</td>\n",
              "      <td>7</td>\n",
              "    </tr>\n",
              "    <tr>\n",
              "      <th>5581</th>\n",
              "      <td>31155fb47b</td>\n",
              "      <td>_Songs I know  Especially since the summer is ...</td>\n",
              "      <td>such a boring TV</td>\n",
              "      <td>negative</td>\n",
              "      <td>[_Songs, I, know, Especially, since, the, summ...</td>\n",
              "      <td>[such, a, boring, TV]</td>\n",
              "      <td>16</td>\n",
              "      <td>4</td>\n",
              "    </tr>\n",
              "  </tbody>\n",
              "</table>\n",
              "</div>"
            ],
            "text/plain": [
              "           textID  ... select_tokes_cnt\n",
              "3720   4034294a60  ...               10\n",
              "24945  74dfd381f2  ...                1\n",
              "7846   9c3beb8b96  ...                1\n",
              "19396  d8cfcd20a1  ...                7\n",
              "5581   31155fb47b  ...                4\n",
              "\n",
              "[5 rows x 8 columns]"
            ]
          },
          "metadata": {
            "tags": []
          },
          "execution_count": 11
        }
      ]
    },
    {
      "cell_type": "markdown",
      "metadata": {
        "id": "vhFXHPOgneCY"
      },
      "source": [
        "# Prep validation set - DON'T DO THIS\n",
        "* DON'T DO THIS - Just rely on model trianing metric.\n",
        "* Extract 10% of pos and neg into df_valid and remove these from train.\n",
        "* \"A validation dataset is a sample of data held back from training your model that is used to give an estimate of model skill while tuning model’s hyperparameters.\" - https://machinelearningmastery.com/difference-test-validation-datasets/"
      ]
    },
    {
      "cell_type": "code",
      "metadata": {
        "trusted": true,
        "id": "OO9bfABTneCY"
      },
      "source": [
        "# Hold out set. Ten percent of total train split evenly between sentiment.\n",
        "# num_rows_to_use = int((len(train) * .10)/2) \n",
        "# df_valid_pos = train[train.sentiment=='positive'].sample(num_rows_to_use)\n",
        "# df_valid_neg = train[train.sentiment=='negative'].sample(num_rows_to_use)\n",
        "# df_valid = pd.concat([df_valid_pos, df_valid_neg])\n",
        "# display(len(df_valid))\n",
        "# display(df_valid.sentiment.value_counts())\n",
        "# df_valid.sample(5)"
      ],
      "execution_count": null,
      "outputs": []
    },
    {
      "cell_type": "code",
      "metadata": {
        "trusted": true,
        "id": "crkKb317neCZ"
      },
      "source": [
        "# Drop validation set from training set.\n",
        "# display(f\"Train before={len(train)}\")\n",
        "# train.drop(df_valid.index, inplace=True, axis=0)\n",
        "# display(f\"Train after={len(train)}\") "
      ],
      "execution_count": null,
      "outputs": []
    },
    {
      "cell_type": "markdown",
      "metadata": {
        "id": "hyZqAONeneCZ"
      },
      "source": [
        "# New EDA\n",
        "* Non-neutral sent where input and output are same lengths\n",
        "* Seem problematic.\n",
        "* Follow up on later"
      ]
    },
    {
      "cell_type": "code",
      "metadata": {
        "trusted": true,
        "colab": {
          "base_uri": "https://localhost:8080/",
          "height": 384
        },
        "id": "rXMnC6QEneCZ",
        "outputId": "73d6bca5-ca59-4f39-8fe2-af760b07e380"
      },
      "source": [
        "# Input & output the same.\n",
        "# Seem problematic to me.\n",
        "df_sames = train[train.text_tokes_cnt==train.select_tokes_cnt]\n",
        "display(len(df_sames))\n",
        "display(df_sames.sentiment.value_counts())\n",
        "pd.options.display.max_colwidth = 1000\n",
        "df_sames.sample(5)"
      ],
      "execution_count": 12,
      "outputs": [
        {
          "output_type": "display_data",
          "data": {
            "text/plain": [
              "602"
            ]
          },
          "metadata": {
            "tags": []
          }
        },
        {
          "output_type": "display_data",
          "data": {
            "text/plain": [
              "negative    316\n",
              "positive    286\n",
              "Name: sentiment, dtype: int64"
            ]
          },
          "metadata": {
            "tags": []
          }
        },
        {
          "output_type": "execute_result",
          "data": {
            "text/html": [
              "<div>\n",
              "<style scoped>\n",
              "    .dataframe tbody tr th:only-of-type {\n",
              "        vertical-align: middle;\n",
              "    }\n",
              "\n",
              "    .dataframe tbody tr th {\n",
              "        vertical-align: top;\n",
              "    }\n",
              "\n",
              "    .dataframe thead th {\n",
              "        text-align: right;\n",
              "    }\n",
              "</style>\n",
              "<table border=\"1\" class=\"dataframe\">\n",
              "  <thead>\n",
              "    <tr style=\"text-align: right;\">\n",
              "      <th></th>\n",
              "      <th>textID</th>\n",
              "      <th>text</th>\n",
              "      <th>selected_text</th>\n",
              "      <th>sentiment</th>\n",
              "      <th>text_tokes</th>\n",
              "      <th>select_tokes</th>\n",
              "      <th>text_tokes_cnt</th>\n",
              "      <th>select_tokes_cnt</th>\n",
              "    </tr>\n",
              "  </thead>\n",
              "  <tbody>\n",
              "    <tr>\n",
              "      <th>26915</th>\n",
              "      <td>983dab0b00</td>\n",
              "      <td>it`s my fave!</td>\n",
              "      <td>it`s my fave!</td>\n",
              "      <td>positive</td>\n",
              "      <td>[it`s, my, fave!]</td>\n",
              "      <td>[it`s, my, fave!]</td>\n",
              "      <td>3</td>\n",
              "      <td>3</td>\n",
              "    </tr>\n",
              "    <tr>\n",
              "      <th>24665</th>\n",
              "      <td>2ddebbe71b</td>\n",
              "      <td>ate ****, I refuse to bless her cuz she already clingy</td>\n",
              "      <td>ate ****, I refuse to bless her cuz she already clingy</td>\n",
              "      <td>negative</td>\n",
              "      <td>[ate, ****,, I, refuse, to, bless, her, cuz, she, already, clingy]</td>\n",
              "      <td>[ate, ****,, I, refuse, to, bless, her, cuz, she, already, clingy]</td>\n",
              "      <td>11</td>\n",
              "      <td>11</td>\n",
              "    </tr>\n",
              "    <tr>\n",
              "      <th>8779</th>\n",
              "      <td>9bcd32d254</td>\n",
              "      <td>It`s depressing I`m stuck inside all day</td>\n",
              "      <td>It`s depressing I`m stuck inside all day</td>\n",
              "      <td>negative</td>\n",
              "      <td>[It`s, depressing, I`m, stuck, inside, all, day]</td>\n",
              "      <td>[It`s, depressing, I`m, stuck, inside, all, day]</td>\n",
              "      <td>7</td>\n",
              "      <td>7</td>\n",
              "    </tr>\n",
              "    <tr>\n",
              "      <th>12400</th>\n",
              "      <td>daa69a6eb3</td>\n",
              "      <td>Norwood house party haaaaaa... Yaaaaaaay (smiles)</td>\n",
              "      <td>Norwood house party haaaaaa... Yaaaaaaay (smiles)</td>\n",
              "      <td>positive</td>\n",
              "      <td>[Norwood, house, party, haaaaaa..., Yaaaaaaay, (smiles)]</td>\n",
              "      <td>[Norwood, house, party, haaaaaa..., Yaaaaaaay, (smiles)]</td>\n",
              "      <td>6</td>\n",
              "      <td>6</td>\n",
              "    </tr>\n",
              "    <tr>\n",
              "      <th>7866</th>\n",
              "      <td>029cb0254a</td>\n",
              "      <td>Have fun! Wish your mums a happy mother`s day for us!</td>\n",
              "      <td>Have fun! Wish your mums a happy mother`s day for us!</td>\n",
              "      <td>positive</td>\n",
              "      <td>[Have, fun!, Wish, your, mums, a, happy, mother`s, day, for, us!]</td>\n",
              "      <td>[Have, fun!, Wish, your, mums, a, happy, mother`s, day, for, us!]</td>\n",
              "      <td>11</td>\n",
              "      <td>11</td>\n",
              "    </tr>\n",
              "  </tbody>\n",
              "</table>\n",
              "</div>"
            ],
            "text/plain": [
              "           textID  ... select_tokes_cnt\n",
              "26915  983dab0b00  ...                3\n",
              "24665  2ddebbe71b  ...               11\n",
              "8779   9bcd32d254  ...                7\n",
              "12400  daa69a6eb3  ...                6\n",
              "7866   029cb0254a  ...               11\n",
              "\n",
              "[5 rows x 8 columns]"
            ]
          },
          "metadata": {
            "tags": []
          },
          "execution_count": 12
        }
      ]
    },
    {
      "cell_type": "markdown",
      "metadata": {
        "id": "UYWNfiJ8neCZ"
      },
      "source": [
        "# Start on the task"
      ]
    },
    {
      "cell_type": "markdown",
      "metadata": {
        "id": "eNKHEf-EneCa"
      },
      "source": [
        "## Imports"
      ]
    },
    {
      "cell_type": "code",
      "metadata": {
        "trusted": true,
        "id": "SONosylHneCa"
      },
      "source": [
        "# Spacy model building related.\n",
        "import spacy\n",
        "from tqdm import tqdm\n",
        "import random\n",
        "from spacy.util import minibatch, compounding\n",
        "\n",
        "import warnings\n",
        "warnings.filterwarnings(\"ignore\")"
      ],
      "execution_count": 13,
      "outputs": []
    },
    {
      "cell_type": "markdown",
      "metadata": {
        "id": "qRm4AUCKneCa"
      },
      "source": [
        "## model train - helpers"
      ]
    },
    {
      "cell_type": "code",
      "metadata": {
        "trusted": true,
        "id": "mLPJVlq5neCb"
      },
      "source": [
        "def save_model(output_dir, nlp, new_model_name):\n",
        "    ''' This Function Saves model to \n",
        "    given output directory'''\n",
        "    \n",
        "    output_dir = f'../working/{output_dir}'\n",
        "    if output_dir is not None:        \n",
        "        if not os.path.exists(output_dir):\n",
        "            os.makedirs(output_dir)\n",
        "        nlp.meta[\"name\"] = new_model_name\n",
        "        nlp.to_disk(output_dir)\n",
        "        print(\"Saved model to\", output_dir)"
      ],
      "execution_count": 14,
      "outputs": []
    },
    {
      "cell_type": "code",
      "metadata": {
        "trusted": true,
        "id": "fX_pkcHeneCb"
      },
      "source": [
        "def get_model_out_path(sentiment):\n",
        "    '''\n",
        "    Returns Model output path\n",
        "    '''\n",
        "    model_out_path = None\n",
        "    if sentiment == 'positive':\n",
        "        model_out_path = 'models/model_pos'\n",
        "    elif sentiment == 'negative':\n",
        "        model_out_path = 'models/model_neg'\n",
        "    return model_out_path"
      ],
      "execution_count": 15,
      "outputs": []
    },
    {
      "cell_type": "code",
      "metadata": {
        "trusted": true,
        "id": "WZVAC78vneCc"
      },
      "source": [
        "def get_training_data(sentiment, df_input):\n",
        "    '''\n",
        "    Returns Training data in the format needed to train spacy NER\n",
        "    ID start and end point of the 'selected' text in the text \n",
        "    and used as your string entity info for spacy.\n",
        "    '''\n",
        "    SENTIMENT = ['negative', 'positive']\n",
        "    if sentiment not in SENTIMENT:\n",
        "        raise ValueError(f\"{sentiment} not in {SENTIMENT})\")\n",
        "    train_data = []\n",
        "    for index, row in df_input.iterrows():\n",
        "        if row.sentiment == sentiment:\n",
        "            selected_text = row.selected_text\n",
        "            text = row.text\n",
        "            start = text.find(selected_text)\n",
        "            end = start + len(selected_text)\n",
        "            train_data.append((text, {\"entities\": [[start, end, 'selected_text']]}))\n",
        "    return train_data"
      ],
      "execution_count": 16,
      "outputs": []
    },
    {
      "cell_type": "code",
      "metadata": {
        "trusted": true,
        "id": "So62R_U7neCd"
      },
      "source": [
        "# pass model = nlp if you want to train on top of existing model \n",
        "\n",
        "def train(train_data, output_dir, n_iter=20, model=None):\n",
        "    \"\"\"Load the model, set up the pipeline and train the entity recognizer.\"\"\"\n",
        "    \"\"\n",
        "    # Uses given model or instantiates a blank model.\n",
        "    if model is not None:\n",
        "        nlp = spacy.load(output_dir)  # load existing spaCy model\n",
        "        print(\"Loaded model '%s'\" % model)\n",
        "    else:\n",
        "        nlp = spacy.blank(\"en\")  # create blank Language class\n",
        "        print(\"Created blank 'en' model\")\n",
        "    \n",
        "    # create the built-in pipeline components and add them to the pipeline\n",
        "    # nlp.create_pipe works for built-ins that are registered with spaCy\n",
        "    if \"ner\" not in nlp.pipe_names:\n",
        "        ner = nlp.create_pipe(\"ner\")\n",
        "        nlp.add_pipe(ner, last=True)\n",
        "    # otherwise, get it so we can add labels\n",
        "    else:\n",
        "        ner = nlp.get_pipe(\"ner\")\n",
        "    \n",
        "    # add labels\n",
        "    for _, annotations in train_data:\n",
        "        for ent in annotations.get(\"entities\"):\n",
        "            ner.add_label(ent[2])\n",
        "\n",
        "    # get names of other pipes to disable them during training\n",
        "    other_pipes = [pipe for pipe in nlp.pipe_names if pipe != \"ner\"]\n",
        "    with nlp.disable_pipes(*other_pipes):  # only train NER\n",
        "        # sizes = compounding(1.0, 4.0, 1.001)\n",
        "        # batch up the examples using spaCy's minibatch\n",
        "        if model is None:\n",
        "            nlp.begin_training()\n",
        "        else:\n",
        "            nlp.resume_training()\n",
        "\n",
        "        for itn in tqdm(range(n_iter)):\n",
        "            random.shuffle(train_data)\n",
        "            batches = minibatch(train_data, size=compounding(4.0, 500.0, 1.001))    \n",
        "            losses = {}\n",
        "            for batch in batches:\n",
        "                texts, annotations = zip(*batch)\n",
        "                nlp.update(texts,  # batch of texts\n",
        "                            annotations,  # batch of annotations\n",
        "                            drop=0.5,   # dropout - make it harder to memorise data\n",
        "                            losses=losses, \n",
        "                            )\n",
        "            print(\"Losses\", losses)\n",
        "    save_model(output_dir, nlp, 'st_ner')"
      ],
      "execution_count": 17,
      "outputs": []
    },
    {
      "cell_type": "code",
      "metadata": {
        "trusted": true,
        "id": "gwwdl-__neCf"
      },
      "source": [
        "def train(train_data, output_dir, n_iter=20, model=None):\n",
        "    \"\"\"Load the model, set up the pipeline and train the entity recognizer.\"\"\"\n",
        "    \"\"\n",
        "    if model is not None:\n",
        "        nlp = spacy.load(output_dir)  # load existing spaCy model\n",
        "        print(\"Loaded model '%s'\" % model)\n",
        "    else:\n",
        "        nlp = spacy.blank(\"en\")  # create blank Language class\n",
        "        print(\"Created blank 'en' model\")\n",
        "    \n",
        "    # create the built-in pipeline components and add them to the pipeline\n",
        "    # nlp.create_pipe works for built-ins that are registered with spaCy\n",
        "    if \"ner\" not in nlp.pipe_names:\n",
        "        ner = nlp.create_pipe(\"ner\")\n",
        "        nlp.add_pipe(ner, last=True)\n",
        "    # otherwise, get it so we can add labels\n",
        "    else:\n",
        "        ner = nlp.get_pipe(\"ner\")\n",
        "    \n",
        "    # add labels\n",
        "    for _, annotations in train_data:\n",
        "        for ent in annotations.get(\"entities\"):\n",
        "            ner.add_label(ent[2])\n",
        "\n",
        "    # get names of other pipes to disable them during training\n",
        "    other_pipes = [pipe for pipe in nlp.pipe_names if pipe != \"ner\"]\n",
        "    with nlp.disable_pipes(*other_pipes):  # only train NER\n",
        "        # sizes = compounding(1.0, 4.0, 1.001)\n",
        "        # batch up the examples using spaCy's minibatch\n",
        "        if model is None:\n",
        "            nlp.begin_training()\n",
        "        else:\n",
        "            nlp.resume_training()\n",
        "\n",
        "\n",
        "        for itn in tqdm(range(n_iter)):\n",
        "            random.shuffle(train_data)\n",
        "            batches = minibatch(train_data, size=compounding(4.0, 500.0, 1.001))    \n",
        "            losses = {}\n",
        "            for batch in batches:\n",
        "                texts, annotations = zip(*batch)\n",
        "                nlp.update(texts,  # batch of texts\n",
        "                            annotations,  # batch of annotations\n",
        "                            drop=0.5,   # dropout - make it harder to memorise data\n",
        "                            losses=losses, \n",
        "                            )\n",
        "            print(\"Losses\", losses)\n",
        "    save_model(output_dir, nlp, 'st_ner')"
      ],
      "execution_count": 18,
      "outputs": []
    },
    {
      "cell_type": "code",
      "metadata": {
        "trusted": true,
        "id": "jSr8sLbvneCg"
      },
      "source": [
        "def run_train(n_iter=20):\n",
        "    \"\"\" Convenience so can comment out if not don't need to regenerat models. \"\"\"\n",
        "    for sentiment in ['positive', 'negative']:\n",
        "        model_path = get_model_out_path(sentiment)\n",
        "        train_data = get_training_data(sentiment, train)\n",
        "        train(train_data, model_path, n_iter=n_iter)"
      ],
      "execution_count": 19,
      "outputs": []
    },
    {
      "cell_type": "markdown",
      "metadata": {
        "id": "_u95_WBwneCg"
      },
      "source": [
        "## Build NER models"
      ]
    },
    {
      "cell_type": "code",
      "metadata": {
        "trusted": true,
        "colab": {
          "base_uri": "https://localhost:8080/",
          "height": 857
        },
        "id": "z_zODfG1neCh",
        "outputId": "ef1feaea-7629-40db-cb33-ceac19428781"
      },
      "source": [
        "%%time\n",
        "run_train(n_iter=5)"
      ],
      "execution_count": 20,
      "outputs": [
        {
          "output_type": "error",
          "ename": "AttributeError",
          "evalue": "ignored",
          "traceback": [
            "\u001b[0;31m---------------------------------------------------------------------------\u001b[0m",
            "\u001b[0;31mAttributeError\u001b[0m                            Traceback (most recent call last)",
            "\u001b[0;32m<ipython-input-20-7b4eec950a6e>\u001b[0m in \u001b[0;36m<module>\u001b[0;34m()\u001b[0m\n\u001b[0;32m----> 1\u001b[0;31m \u001b[0mget_ipython\u001b[0m\u001b[0;34m(\u001b[0m\u001b[0;34m)\u001b[0m\u001b[0;34m.\u001b[0m\u001b[0mrun_cell_magic\u001b[0m\u001b[0;34m(\u001b[0m\u001b[0;34m'time'\u001b[0m\u001b[0;34m,\u001b[0m \u001b[0;34m''\u001b[0m\u001b[0;34m,\u001b[0m \u001b[0;34m'run_train(n_iter=5)'\u001b[0m\u001b[0;34m)\u001b[0m\u001b[0;34m\u001b[0m\u001b[0;34m\u001b[0m\u001b[0m\n\u001b[0m",
            "\u001b[0;32m/usr/local/lib/python3.6/dist-packages/IPython/core/interactiveshell.py\u001b[0m in \u001b[0;36mrun_cell_magic\u001b[0;34m(self, magic_name, line, cell)\u001b[0m\n\u001b[1;32m   2115\u001b[0m             \u001b[0mmagic_arg_s\u001b[0m \u001b[0;34m=\u001b[0m \u001b[0mself\u001b[0m\u001b[0;34m.\u001b[0m\u001b[0mvar_expand\u001b[0m\u001b[0;34m(\u001b[0m\u001b[0mline\u001b[0m\u001b[0;34m,\u001b[0m \u001b[0mstack_depth\u001b[0m\u001b[0;34m)\u001b[0m\u001b[0;34m\u001b[0m\u001b[0;34m\u001b[0m\u001b[0m\n\u001b[1;32m   2116\u001b[0m             \u001b[0;32mwith\u001b[0m \u001b[0mself\u001b[0m\u001b[0;34m.\u001b[0m\u001b[0mbuiltin_trap\u001b[0m\u001b[0;34m:\u001b[0m\u001b[0;34m\u001b[0m\u001b[0;34m\u001b[0m\u001b[0m\n\u001b[0;32m-> 2117\u001b[0;31m                 \u001b[0mresult\u001b[0m \u001b[0;34m=\u001b[0m \u001b[0mfn\u001b[0m\u001b[0;34m(\u001b[0m\u001b[0mmagic_arg_s\u001b[0m\u001b[0;34m,\u001b[0m \u001b[0mcell\u001b[0m\u001b[0;34m)\u001b[0m\u001b[0;34m\u001b[0m\u001b[0;34m\u001b[0m\u001b[0m\n\u001b[0m\u001b[1;32m   2118\u001b[0m             \u001b[0;32mreturn\u001b[0m \u001b[0mresult\u001b[0m\u001b[0;34m\u001b[0m\u001b[0;34m\u001b[0m\u001b[0m\n\u001b[1;32m   2119\u001b[0m \u001b[0;34m\u001b[0m\u001b[0m\n",
            "\u001b[0;32m<decorator-gen-60>\u001b[0m in \u001b[0;36mtime\u001b[0;34m(self, line, cell, local_ns)\u001b[0m\n",
            "\u001b[0;32m/usr/local/lib/python3.6/dist-packages/IPython/core/magic.py\u001b[0m in \u001b[0;36m<lambda>\u001b[0;34m(f, *a, **k)\u001b[0m\n\u001b[1;32m    186\u001b[0m     \u001b[0;31m# but it's overkill for just that one bit of state.\u001b[0m\u001b[0;34m\u001b[0m\u001b[0;34m\u001b[0m\u001b[0;34m\u001b[0m\u001b[0m\n\u001b[1;32m    187\u001b[0m     \u001b[0;32mdef\u001b[0m \u001b[0mmagic_deco\u001b[0m\u001b[0;34m(\u001b[0m\u001b[0marg\u001b[0m\u001b[0;34m)\u001b[0m\u001b[0;34m:\u001b[0m\u001b[0;34m\u001b[0m\u001b[0;34m\u001b[0m\u001b[0m\n\u001b[0;32m--> 188\u001b[0;31m         \u001b[0mcall\u001b[0m \u001b[0;34m=\u001b[0m \u001b[0;32mlambda\u001b[0m \u001b[0mf\u001b[0m\u001b[0;34m,\u001b[0m \u001b[0;34m*\u001b[0m\u001b[0ma\u001b[0m\u001b[0;34m,\u001b[0m \u001b[0;34m**\u001b[0m\u001b[0mk\u001b[0m\u001b[0;34m:\u001b[0m \u001b[0mf\u001b[0m\u001b[0;34m(\u001b[0m\u001b[0;34m*\u001b[0m\u001b[0ma\u001b[0m\u001b[0;34m,\u001b[0m \u001b[0;34m**\u001b[0m\u001b[0mk\u001b[0m\u001b[0;34m)\u001b[0m\u001b[0;34m\u001b[0m\u001b[0;34m\u001b[0m\u001b[0m\n\u001b[0m\u001b[1;32m    189\u001b[0m \u001b[0;34m\u001b[0m\u001b[0m\n\u001b[1;32m    190\u001b[0m         \u001b[0;32mif\u001b[0m \u001b[0mcallable\u001b[0m\u001b[0;34m(\u001b[0m\u001b[0marg\u001b[0m\u001b[0;34m)\u001b[0m\u001b[0;34m:\u001b[0m\u001b[0;34m\u001b[0m\u001b[0;34m\u001b[0m\u001b[0m\n",
            "\u001b[0;32m/usr/local/lib/python3.6/dist-packages/IPython/core/magics/execution.py\u001b[0m in \u001b[0;36mtime\u001b[0;34m(self, line, cell, local_ns)\u001b[0m\n\u001b[1;32m   1187\u001b[0m         \u001b[0;32mif\u001b[0m \u001b[0mmode\u001b[0m\u001b[0;34m==\u001b[0m\u001b[0;34m'eval'\u001b[0m\u001b[0;34m:\u001b[0m\u001b[0;34m\u001b[0m\u001b[0;34m\u001b[0m\u001b[0m\n\u001b[1;32m   1188\u001b[0m             \u001b[0mst\u001b[0m \u001b[0;34m=\u001b[0m \u001b[0mclock2\u001b[0m\u001b[0;34m(\u001b[0m\u001b[0;34m)\u001b[0m\u001b[0;34m\u001b[0m\u001b[0;34m\u001b[0m\u001b[0m\n\u001b[0;32m-> 1189\u001b[0;31m             \u001b[0mout\u001b[0m \u001b[0;34m=\u001b[0m \u001b[0meval\u001b[0m\u001b[0;34m(\u001b[0m\u001b[0mcode\u001b[0m\u001b[0;34m,\u001b[0m \u001b[0mglob\u001b[0m\u001b[0;34m,\u001b[0m \u001b[0mlocal_ns\u001b[0m\u001b[0;34m)\u001b[0m\u001b[0;34m\u001b[0m\u001b[0;34m\u001b[0m\u001b[0m\n\u001b[0m\u001b[1;32m   1190\u001b[0m             \u001b[0mend\u001b[0m \u001b[0;34m=\u001b[0m \u001b[0mclock2\u001b[0m\u001b[0;34m(\u001b[0m\u001b[0;34m)\u001b[0m\u001b[0;34m\u001b[0m\u001b[0;34m\u001b[0m\u001b[0m\n\u001b[1;32m   1191\u001b[0m         \u001b[0;32melse\u001b[0m\u001b[0;34m:\u001b[0m\u001b[0;34m\u001b[0m\u001b[0;34m\u001b[0m\u001b[0m\n",
            "\u001b[0;32m<timed eval>\u001b[0m in \u001b[0;36m<module>\u001b[0;34m()\u001b[0m\n",
            "\u001b[0;32m<ipython-input-19-54eb70aa5dd5>\u001b[0m in \u001b[0;36mrun_train\u001b[0;34m(n_iter)\u001b[0m\n\u001b[1;32m      3\u001b[0m     \u001b[0;32mfor\u001b[0m \u001b[0msentiment\u001b[0m \u001b[0;32min\u001b[0m \u001b[0;34m[\u001b[0m\u001b[0;34m'positive'\u001b[0m\u001b[0;34m,\u001b[0m \u001b[0;34m'negative'\u001b[0m\u001b[0;34m]\u001b[0m\u001b[0;34m:\u001b[0m\u001b[0;34m\u001b[0m\u001b[0;34m\u001b[0m\u001b[0m\n\u001b[1;32m      4\u001b[0m         \u001b[0mmodel_path\u001b[0m \u001b[0;34m=\u001b[0m \u001b[0mget_model_out_path\u001b[0m\u001b[0;34m(\u001b[0m\u001b[0msentiment\u001b[0m\u001b[0;34m)\u001b[0m\u001b[0;34m\u001b[0m\u001b[0;34m\u001b[0m\u001b[0m\n\u001b[0;32m----> 5\u001b[0;31m         \u001b[0mtrain_data\u001b[0m \u001b[0;34m=\u001b[0m \u001b[0mget_training_data\u001b[0m\u001b[0;34m(\u001b[0m\u001b[0msentiment\u001b[0m\u001b[0;34m,\u001b[0m \u001b[0mtrain\u001b[0m\u001b[0;34m)\u001b[0m\u001b[0;34m\u001b[0m\u001b[0;34m\u001b[0m\u001b[0m\n\u001b[0m\u001b[1;32m      6\u001b[0m         \u001b[0mtrain\u001b[0m\u001b[0;34m(\u001b[0m\u001b[0mtrain_data\u001b[0m\u001b[0;34m,\u001b[0m \u001b[0mmodel_path\u001b[0m\u001b[0;34m,\u001b[0m \u001b[0mn_iter\u001b[0m\u001b[0;34m=\u001b[0m\u001b[0mn_iter\u001b[0m\u001b[0;34m)\u001b[0m\u001b[0;34m\u001b[0m\u001b[0;34m\u001b[0m\u001b[0m\n",
            "\u001b[0;32m<ipython-input-16-0f3b3c1d83e9>\u001b[0m in \u001b[0;36mget_training_data\u001b[0;34m(sentiment, df_input)\u001b[0m\n\u001b[1;32m      9\u001b[0m         \u001b[0;32mraise\u001b[0m \u001b[0mValueError\u001b[0m\u001b[0;34m(\u001b[0m\u001b[0;34mf\"{sentiment} not in {SENTIMENT})\"\u001b[0m\u001b[0;34m)\u001b[0m\u001b[0;34m\u001b[0m\u001b[0;34m\u001b[0m\u001b[0m\n\u001b[1;32m     10\u001b[0m     \u001b[0mtrain_data\u001b[0m \u001b[0;34m=\u001b[0m \u001b[0;34m[\u001b[0m\u001b[0;34m]\u001b[0m\u001b[0;34m\u001b[0m\u001b[0;34m\u001b[0m\u001b[0m\n\u001b[0;32m---> 11\u001b[0;31m     \u001b[0;32mfor\u001b[0m \u001b[0mindex\u001b[0m\u001b[0;34m,\u001b[0m \u001b[0mrow\u001b[0m \u001b[0;32min\u001b[0m \u001b[0mdf_input\u001b[0m\u001b[0;34m.\u001b[0m\u001b[0miterrows\u001b[0m\u001b[0;34m(\u001b[0m\u001b[0;34m)\u001b[0m\u001b[0;34m:\u001b[0m\u001b[0;34m\u001b[0m\u001b[0;34m\u001b[0m\u001b[0m\n\u001b[0m\u001b[1;32m     12\u001b[0m         \u001b[0;32mif\u001b[0m \u001b[0mrow\u001b[0m\u001b[0;34m.\u001b[0m\u001b[0msentiment\u001b[0m \u001b[0;34m==\u001b[0m \u001b[0msentiment\u001b[0m\u001b[0;34m:\u001b[0m\u001b[0;34m\u001b[0m\u001b[0;34m\u001b[0m\u001b[0m\n\u001b[1;32m     13\u001b[0m             \u001b[0mselected_text\u001b[0m \u001b[0;34m=\u001b[0m \u001b[0mrow\u001b[0m\u001b[0;34m.\u001b[0m\u001b[0mselected_text\u001b[0m\u001b[0;34m\u001b[0m\u001b[0;34m\u001b[0m\u001b[0m\n",
            "\u001b[0;31mAttributeError\u001b[0m: 'function' object has no attribute 'iterrows'"
          ]
        }
      ]
    },
    {
      "cell_type": "markdown",
      "metadata": {
        "id": "yUUh9OuTneCh"
      },
      "source": [
        "## Testing"
      ]
    },
    {
      "cell_type": "code",
      "metadata": {
        "trusted": true,
        "id": "-Yr-tcBineCh"
      },
      "source": [
        "MODELS_BASE_PATH = 'models/'\n",
        "def predict_entities(text, model):\n",
        "    doc = model(text)\n",
        "    ent_array = []\n",
        "    for ent in doc.ents:\n",
        "        start = text.find(ent.text)\n",
        "        end = start + len(ent.text)\n",
        "        new_int = [start, end, ent.label_]\n",
        "        if new_int not in ent_array:\n",
        "            ent_array.append([start, end, ent.label_])\n",
        "    selected_text = text[ent_array[0][0]: ent_array[0][1]] if len(ent_array) > 0 else text\n",
        "    return selected_text\n",
        "\n",
        "def pred_set(df_set):\n",
        "    \"\"\" Run NER models on data. \"\"\"\n",
        "    df_pred = df_set.copy()\n",
        "    \n",
        "    selected_texts = []\n",
        "\n",
        "    print(\"Loading Models  from \", MODELS_BASE_PATH)\n",
        "    model_pos = spacy.load(MODELS_BASE_PATH + 'model_pos')\n",
        "    model_neg = spacy.load(MODELS_BASE_PATH + 'model_neg')\n",
        "\n",
        "    for index, row in df_pred.iterrows():\n",
        "        text = row.text\n",
        "        output_str = \"\"\n",
        "        if row.sentiment == 'neutral' or len(text.split()) <= 2:\n",
        "            selected_texts.append(text)\n",
        "        elif row.sentiment == 'positive':\n",
        "            selected_texts.append(predict_entities(text, model_pos))\n",
        "        else:\n",
        "            selected_texts.append(predict_entities(text, model_neg))\n",
        "\n",
        "    df_pred['predicted_text'] = selected_texts\n",
        "\n",
        "    return df_pred"
      ],
      "execution_count": null,
      "outputs": []
    },
    {
      "cell_type": "markdown",
      "metadata": {
        "id": "71wtNNPsneCi"
      },
      "source": [
        "# One-off testing"
      ]
    },
    {
      "cell_type": "code",
      "metadata": {
        "trusted": true,
        "id": "ByrRWnzPneCj"
      },
      "source": [
        "model_pos = spacy.load(MODELS_BASE_PATH + 'model_pos')"
      ],
      "execution_count": null,
      "outputs": []
    },
    {
      "cell_type": "code",
      "metadata": {
        "trusted": true,
        "id": "-x0UrCK3neCj"
      },
      "source": [
        "predict_entities(\"I love this model, it's great. I can't wait to lean more about training spacy models\", model_pos)"
      ],
      "execution_count": null,
      "outputs": []
    },
    {
      "cell_type": "markdown",
      "metadata": {
        "id": "UuPP8t61neCj"
      },
      "source": [
        "## Traning set testing.\n",
        "* need to use jackard as custom metric during trianing so can skip this"
      ]
    },
    {
      "cell_type": "code",
      "metadata": {
        "trusted": true,
        "id": "kBR553uHneCk"
      },
      "source": [
        "# Metric.\n",
        "def jaccard(compare_strings): \n",
        "    str1, str2 = compare_strings\n",
        "    a = set(str1.lower().split()) \n",
        "    b = set(str2.lower().split())\n",
        "    c = a.intersection(b)\n",
        "    return float(len(c)) / (len(a) + len(b) - len(c))"
      ],
      "execution_count": null,
      "outputs": []
    },
    {
      "cell_type": "code",
      "metadata": {
        "trusted": true,
        "id": "pvtvse4IneCk"
      },
      "source": [
        "# Predict on validation set - add to df.\n",
        "df_pred = pred_set(train)"
      ],
      "execution_count": null,
      "outputs": []
    },
    {
      "cell_type": "code",
      "metadata": {
        "trusted": true,
        "id": "Zx-QJsK8neCk"
      },
      "source": [
        "# Reminder that neutral are missing from this.\n",
        "df_pred.sentiment.value_counts()"
      ],
      "execution_count": null,
      "outputs": []
    },
    {
      "cell_type": "code",
      "metadata": {
        "trusted": true,
        "id": "tRVC4D5kneCk"
      },
      "source": [
        "# Calculate jaccard.\n",
        "# Do it here then move to above func - probably.\n",
        "df_pred['jaccard'] = df_pred[['selected_text','predicted_text']].values.tolist()\n",
        "df_pred['jaccard'] = df_pred.jaccard.apply(jaccard)"
      ],
      "execution_count": null,
      "outputs": []
    },
    {
      "cell_type": "code",
      "metadata": {
        "trusted": true,
        "id": "MjHLthHEneCk"
      },
      "source": [
        "# Not much difference in accuracy per sentiment type\n",
        "print(df_pred.jaccard.mean())\n",
        "print(df_pred[df_pred.sentiment=='positive'].jaccard.mean())\n",
        "print(df_pred[df_pred.sentiment=='negative'].jaccard.mean())"
      ],
      "execution_count": null,
      "outputs": []
    },
    {
      "cell_type": "code",
      "metadata": {
        "trusted": true,
        "id": "7UR2Dr8ZneCl"
      },
      "source": [
        "display(df_pred[['text','selected_text', 'sentiment', 'predicted_text', 'jaccard']].sample(20))"
      ],
      "execution_count": null,
      "outputs": []
    },
    {
      "cell_type": "markdown",
      "metadata": {
        "id": "_x-zyadjneCl"
      },
      "source": [
        "# Leftovers - Ignore this bit"
      ]
    },
    {
      "cell_type": "code",
      "metadata": {
        "trusted": true,
        "id": "ayc31w4TneCl"
      },
      "source": [
        "# Run NER on full test set.\n",
        "selected_texts = []\n",
        "MODELS_BASE_PATH = 'models/'\n",
        "\n",
        "if MODELS_BASE_PATH is not None:\n",
        "    print(\"Loading Models  from \", MODELS_BASE_PATH)\n",
        "    model_pos = spacy.load(MODELS_BASE_PATH + 'model_pos')\n",
        "    model_neg = spacy.load(MODELS_BASE_PATH + 'model_neg')\n",
        "        \n",
        "    for index, row in df_test.iterrows():\n",
        "        text = row.text\n",
        "        output_str = \"\"\n",
        "        if row.sentiment == 'neutral' or len(text.split()) <= 2:\n",
        "            selected_texts.append(text)\n",
        "        elif row.sentiment == 'positive':\n",
        "            selected_texts.append(predict_entities(text, model_pos))\n",
        "        else:\n",
        "            selected_texts.append(predict_entities(text, model_neg))\n",
        "        \n",
        "df_test['selected_text'] = selected_texts"
      ],
      "execution_count": null,
      "outputs": []
    },
    {
      "cell_type": "markdown",
      "metadata": {
        "id": "BrJYiFCmneCl"
      },
      "source": [
        "# Submission prep\n",
        "* You must have exact same number of rows as sample submission\n",
        "* Internet must be turned off.\n",
        "* After saving and running you will need to go to the output notebook and tell it which file to submit."
      ]
    },
    {
      "cell_type": "code",
      "metadata": {
        "trusted": true,
        "id": "ZfWvmNs3neCl"
      },
      "source": [
        "print(len(df_test))\n",
        "print(df_submission.describe())"
      ],
      "execution_count": null,
      "outputs": []
    },
    {
      "cell_type": "code",
      "metadata": {
        "trusted": true,
        "id": "SvlAvqa7neCm"
      },
      "source": [
        "df_submission.info()"
      ],
      "execution_count": null,
      "outputs": []
    },
    {
      "cell_type": "code",
      "metadata": {
        "trusted": true,
        "id": "mkOCkh12neCm"
      },
      "source": [
        "df_submission = pd.read_csv('/kaggle/input/tweet-sentiment-extraction/sample_submission.csv')\n",
        "\n",
        "df_submission = df_test[['textID', 'selected_text']]\n",
        "print(len(df_submission))\n",
        "display(df_submission.head(10))"
      ],
      "execution_count": null,
      "outputs": []
    },
    {
      "cell_type": "code",
      "metadata": {
        "trusted": true,
        "id": "SLCCOCOjneCm"
      },
      "source": [
        "os.chdir(\"/kaggle/working/\")"
      ],
      "execution_count": null,
      "outputs": []
    },
    {
      "cell_type": "code",
      "metadata": {
        "trusted": true,
        "id": "dx1JVOUBneCm"
      },
      "source": [
        "df_submission.to_csv(\"submission.csv\", index=False)"
      ],
      "execution_count": null,
      "outputs": []
    },
    {
      "cell_type": "code",
      "metadata": {
        "trusted": true,
        "id": "sMiN6tdrneCm"
      },
      "source": [
        "print(len(df_submission))\n",
        "print(df_submission.describe())\n",
        "print(df_submission.info())\n",
        "df_submission.head(10)"
      ],
      "execution_count": null,
      "outputs": []
    },
    {
      "cell_type": "code",
      "metadata": {
        "trusted": true,
        "id": "P6GBaAv7neCm"
      },
      "source": [
        "df_submission"
      ],
      "execution_count": null,
      "outputs": []
    },
    {
      "cell_type": "code",
      "metadata": {
        "trusted": true,
        "id": "13-TYDukneCn"
      },
      "source": [
        ""
      ],
      "execution_count": null,
      "outputs": []
    },
    {
      "cell_type": "markdown",
      "metadata": {
        "id": "VgvPsTjunog5"
      },
      "source": [
        "[Refrence code](https://www.kaggle.com/dplutcho/tweet-sent-ext-ner)"
      ]
    },
    {
      "cell_type": "code",
      "metadata": {
        "id": "Xaxe0a6inrdQ"
      },
      "source": [
        ""
      ],
      "execution_count": null,
      "outputs": []
    }
  ]
}