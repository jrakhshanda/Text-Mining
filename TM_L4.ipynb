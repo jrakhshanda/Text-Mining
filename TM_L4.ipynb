{
  "nbformat": 4,
  "nbformat_minor": 0,
  "metadata": {
    "kernelspec": {
      "display_name": "Python 3",
      "language": "python",
      "name": "python3"
    },
    "language_info": {
      "codemirror_mode": {
        "name": "ipython",
        "version": 3
      },
      "file_extension": ".py",
      "mimetype": "text/x-python",
      "name": "python",
      "nbconvert_exporter": "python",
      "pygments_lexer": "ipython3",
      "version": "3.7.6"
    },
    "colab": {
      "name": "Copy of TM_L4.ipynb",
      "provenance": [],
      "collapsed_sections": [],
      "machine_shape": "hm"
    }
  },
  "cells": [
    {
      "cell_type": "markdown",
      "metadata": {
        "id": "OKs6loUkKX4c"
      },
      "source": [
        "# L4: Word embeddings"
      ]
    },
    {
      "cell_type": "markdown",
      "metadata": {
        "id": "trLV4RP-KX4c"
      },
      "source": [
        "In this lab you will explore word embeddings. A **word embedding** is a mapping of words to points in a vector space such that nearby words (points) are similar in terms of their distributional properties. You will use word embedding to find similar words, and evaluate their usefulness in an inference task.\n",
        "\n",
        "You will use the word vectors that come with [spaCy](http://spacy.io). Note that you will need the &lsquo;large&rsquo; English language model; the &lsquo;small&rsquo; model that you used in previous labs does not include proper word vectors."
      ]
    },
    {
      "cell_type": "code",
      "metadata": {
        "colab": {
          "base_uri": "https://localhost:8080/"
        },
        "id": "LiVQG82vo8j6",
        "outputId": "16069ddc-478a-4ad9-d5f6-9bd6c14afd6c"
      },
      "source": [
        "!npx degit https://github.com/Noufal21/text-mining -f"
      ],
      "execution_count": 4,
      "outputs": [
        {
          "output_type": "stream",
          "text": [
            "\u001b[K\u001b[?25hnpx: installed 1 in 2.342s\n",
            "\u001b[36m> destination directory is not empty. Using --force, continuing\u001b[39m\n",
            "\u001b[36m> cloned \u001b[1mNoufal21/text-mining\u001b[22m#\u001b[1mmaster\u001b[22m\u001b[39m\n"
          ],
          "name": "stdout"
        }
      ]
    },
    {
      "cell_type": "code",
      "metadata": {
        "id": "AT1ljVB2MvkX",
        "colab": {
          "base_uri": "https://localhost:8080/"
        },
        "outputId": "f47a95ee-d028-43a8-fe1b-e8231072babb"
      },
      "source": [
        "import spacy.cli\n",
        "spacy.cli.download(\"en_core_web_lg\")"
      ],
      "execution_count": 5,
      "outputs": [
        {
          "output_type": "stream",
          "text": [
            "\u001b[38;5;2m✔ Download and installation successful\u001b[0m\n",
            "You can now load the model via spacy.load('en_core_web_lg')\n"
          ],
          "name": "stdout"
        }
      ]
    },
    {
      "cell_type": "code",
      "metadata": {
        "id": "ZjV_cPJakAhj"
      },
      "source": [
        "import spacy\n",
        "import numpy as np\n",
        "import en_core_web_lg\n",
        "nlp = en_core_web_lg.load()"
      ],
      "execution_count": 9,
      "outputs": []
    },
    {
      "cell_type": "markdown",
      "metadata": {
        "id": "W0GmJbuIKX4d"
      },
      "source": [
        "Every word in the model&rsquo;s vocabulary comes with a 300-dimensional vector, represented as a NumPy array. The following code cell shows how to access the vector for the word *cheese*:"
      ]
    },
    {
      "cell_type": "code",
      "metadata": {
        "id": "-rFvhXAXKX4d",
        "colab": {
          "base_uri": "https://localhost:8080/"
        },
        "outputId": "1318a4f4-caf3-48d8-afed-a536fc801340"
      },
      "source": [
        "nlp.vocab['cheese'].vector.shape"
      ],
      "execution_count": null,
      "outputs": [
        {
          "output_type": "execute_result",
          "data": {
            "text/plain": [
              "(300,)"
            ]
          },
          "metadata": {
            "tags": []
          },
          "execution_count": 5
        }
      ]
    },
    {
      "cell_type": "markdown",
      "metadata": {
        "id": "oKsjwumQKX4d"
      },
      "source": [
        "## Problem 1: Finding similar words"
      ]
    },
    {
      "cell_type": "markdown",
      "metadata": {
        "id": "1i0opJViKX4d"
      },
      "source": [
        "Your first task is to use the word embeddings to find similar words. More specifically, we ask you to write a function `most_similar` that takes a vector $x$ and returns a list with the 10 most similar entries in spaCy&rsquo;s vocabulary, with similarity being defined by cosine.\n",
        "\n",
        "**Tip:** spaCy already has a [`most_similar`](https://spacy.io/api/vectors#most_similar) method that you can wrap."
      ]
    },
    {
      "cell_type": "code",
      "metadata": {
        "id": "767PoJ71KX4d"
      },
      "source": [
        "# TODO: Enter your implementation of `most_similar` here\n",
        "#t = nlp.vocab.vectors.most_similar(x.reshape(1,300), n=10)\n",
        "#import numpy as np\n",
        "#from sklearn.metrics.pairwise import cosine_similarity\n",
        "#def most_similar(x,n):\n",
        "#  x = np.array(nlp.vocab[x].vector.reshape(1,300))\n",
        "  # Format the vocabulary for use in the distance function\n",
        "#  ids = [x for x in nlp.vocab.vectors.keys()]\n",
        "#  vectors = np.array([nlp.vocab.vectors[x] for x in ids])\n",
        "\n",
        "  # *** Find the closest word below ***\n",
        "#  sim = cosine_similarity(x, vectors)\n",
        "#  index = np.argpartition(a=sim,axis=1,kth=684830-(n+1))[0][-(n+1):]\n",
        "#  index = index[sim.ravel()[index].argsort()][::-1] # sorting the indices of most closest vector\n",
        "\n",
        "#  output_word = []\n",
        "#  for i in range(n):\n",
        "#    word_id = ids[index[i+1]]\n",
        "#    output_word.append(nlp.vocab[word_id].text)\n",
        "#  return output_word\n",
        "\n",
        "def most_similar(query, n):\n",
        "  query = np.array([query])\n",
        "  most_similar_keys = nlp.vocab.vectors.most_similar(query, n=n)[0].flatten()\n",
        "  most_similar_words = []\n",
        "  for key in most_similar_keys:\n",
        "      most_similar_words.append(nlp.vocab[key])\n",
        "  return most_similar_words"
      ],
      "execution_count": 51,
      "outputs": []
    },
    {
      "cell_type": "markdown",
      "metadata": {
        "id": "OMNTYjj-KX4d"
      },
      "source": [
        "Test your implementation by running the following code cell, which will print the 10 most similar words for the word *cheese*:"
      ]
    },
    {
      "cell_type": "code",
      "metadata": {
        "id": "MztojWiAKX4d",
        "colab": {
          "base_uri": "https://localhost:8080/"
        },
        "outputId": "f8fa4b92-1f3d-4e9c-f7bb-e1b66387c380"
      },
      "source": [
        "print(' '.join(w.text for w in most_similar(nlp.vocab['cheese'].vector,n=10)))\n"
      ],
      "execution_count": 23,
      "outputs": [
        {
          "output_type": "stream",
          "text": [
            "Cheese CHEESE cheese Cheddar cheddar CHEDDAR BACON Bacon bacon cheeses\n"
          ],
          "name": "stdout"
        }
      ]
    },
    {
      "cell_type": "markdown",
      "metadata": {
        "id": "wol4wbLrKX4d"
      },
      "source": [
        "You should get the following output:"
      ]
    },
    {
      "cell_type": "markdown",
      "metadata": {
        "id": "HBsvdyP7KX4d"
      },
      "source": [
        "CHEESE cheese Cheese Cheddar cheddar CHEDDAR BACON Bacon bacon cheeses"
      ]
    },
    {
      "cell_type": "markdown",
      "metadata": {
        "id": "FI9aEPoTKX4d"
      },
      "source": [
        "Once you have a working implementation of `most_similar`, use it to think about in what sense the returned words really are &lsquo;similar&rsquo; to the cue word. Try to find examples where the cue word and at least one of the words returned by `most_similar` are in the following semantic relations:\n",
        "\n",
        "1. synonymy (exchangeable meanings)\n",
        "2. antonymy (opposite meanings)\n",
        "3. hyperonymy/hyponymy (more specific/less specific meanings)\n",
        "\n",
        "Document your examples in the code cell below."
      ]
    },
    {
      "cell_type": "code",
      "metadata": {
        "id": "glHZ7La8KX4d",
        "colab": {
          "base_uri": "https://localhost:8080/"
        },
        "outputId": "cb4271c1-a2a8-4361-c1cb-a3d288108c04"
      },
      "source": [
        "# TODO: Insert code here to generate your examples\n",
        "print(\" \".join(item.text for item in most_similar(nlp.vocab['good'].vector,n=10)))\n",
        "print(\" \".join(item.text for item in most_similar(nlp.vocab['similar'].vector,n=10)))\n",
        "print(\" \".join(item.text for item in most_similar(nlp.vocab['gold'].vector,n=10)))\n",
        "print(\" \".join(item.text for item in most_similar(nlp.vocab['mining'].vector,n=10)))"
      ],
      "execution_count": 24,
      "outputs": [
        {
          "output_type": "stream",
          "text": [
            "gOOD GOOD GOod good Good Great GReat GREAT great greAt\n",
            "SIMILAR similar Similar different DIFFERENT Different same SAme Same SAME\n",
            "GOLD gold Gold GOld SILVER Silver SIlver silver PLATINUM Platinum\n",
            "Mining MINING mining mines Mines MINES coal COAL Coal miners\n"
          ],
          "name": "stdout"
        }
      ]
    },
    {
      "cell_type": "markdown",
      "metadata": {
        "id": "-Vw0m0JtKX4d"
      },
      "source": [
        "## Problem 2: Plotting similar words"
      ]
    },
    {
      "cell_type": "markdown",
      "metadata": {
        "id": "6BdC3TiRKX4d"
      },
      "source": [
        "Your next task is to visualize the word embedding space by a plot. To do so, you will have to reduce the dimensionality of the space from 300 to 2&nbsp;dimensions. One suitable algorithm for this is [T-distributed Stochastic Neighbor Embedding](https://en.wikipedia.org/wiki/T-distributed_stochastic_neighbor_embedding) (TSNE), which is implemented in scikit-learn&rsquo;s [TSNE](https://scikit-learn.org/stable/modules/generated/sklearn.manifold.TSNE.html) class.\n",
        "\n",
        "Write a function `plot_most_similar` that takes a list of words (lexemes) and does the following:\n",
        "\n",
        "1. For each word in the list, find the most similar words (lexemes) in the spaCy vocabulary.\n",
        "2. Compute the TSNE transformation of the corresponding vectors to 2&nbsp;dimensions.\n",
        "3. Produce a scatter plot of the transformed vectors, with the vectors as points and the corresponding word forms as labels."
      ]
    },
    {
      "cell_type": "code",
      "metadata": {
        "id": "yb8sFt15KR_X"
      },
      "source": [
        "import matplotlib.pyplot as plt\n",
        "%matplotlib inline\n",
        "from sklearn.manifold import TSNE\n",
        "plt.rcParams[\"figure.figsize\"] = (12,8) \n",
        "plt.rcParams.update({'font.size': 16})"
      ],
      "execution_count": 25,
      "outputs": []
    },
    {
      "cell_type": "code",
      "metadata": {
        "id": "MMqTe4qGKX4d"
      },
      "source": [
        "# TODO: Write code here to plot the most similar words\n",
        "def plot_most_similar(lst,n):\n",
        "  sim_words = np.array([most_similar(nlp.vocab[w].vector,n=n) for w in lst])\n",
        "  # find tsne coords for 2 dimensions\n",
        "  vectors = np.array([item.vector for item in sim_words.flatten()])\n",
        "  tsne = TSNE(n_components=2, random_state=0)\n",
        "  np.set_printoptions(suppress=True)\n",
        "  Y = tsne.fit_transform(vectors)\n",
        "  labels = np.array([item.text for item in sim_words.flatten()])\n",
        "  x_coords = Y[:, 0]\n",
        "  y_coords = Y[:, 1]\n",
        "  # display scatter plot\n",
        "  plt.scatter(x_coords, y_coords)\n",
        "  for label, x, y in zip(labels, x_coords, y_coords):\n",
        "    plt.annotate(label, xy=(x, y), xytext=(0, 0), textcoords='offset points')\n",
        "  return plt.show()"
      ],
      "execution_count": 50,
      "outputs": []
    },
    {
      "cell_type": "markdown",
      "metadata": {
        "id": "5JybtJHTKX4d"
      },
      "source": [
        "Test your code by running the following cell:"
      ]
    },
    {
      "cell_type": "code",
      "metadata": {
        "id": "M6ONPEynKX4d",
        "colab": {
          "base_uri": "https://localhost:8080/",
          "height": 487
        },
        "outputId": "28536ab0-f875-41ed-813d-faecab1d37bb"
      },
      "source": [
        "#plot_most_similar(nlp.vocab[w] for w in ['cheese', 'goat', 'sweden', 'university', 'computer'])\n",
        "plt.rcParams[\"figure.figsize\"] = (12,8) \n",
        "plt.rcParams.update({'font.size': 14})\n",
        "plot_most_similar(lst = ['cheese', 'goat', 'sweden', 'university', 'computer'], n=10)"
      ],
      "execution_count": 27,
      "outputs": [
        {
          "output_type": "display_data",
          "data": {
            "image/png": "[encoded data removed]",
            "text/plain": [
              "<Figure size 864x576 with 1 Axes>"
            ]
          },
          "metadata": {
            "tags": [],
            "needs_background": "light"
          }
        }
      ]
    },
    {
      "cell_type": "markdown",
      "metadata": {
        "id": "7dRSZYcxKX4d"
      },
      "source": [
        "Take a few minutes to look at your plot. What does it tell you? What does it *not* tell you?"
      ]
    },
    {
      "cell_type": "markdown",
      "metadata": {
        "id": "nKGjoIDtKX4d"
      },
      "source": [
        "## Problem 3: Analogies"
      ]
    },
    {
      "cell_type": "markdown",
      "metadata": {
        "id": "jZWMDjVsKX4d"
      },
      "source": [
        "In a **word analogy task** you are given three words $x$, $y$, $z$ and have to predict a word $w$ that has the same semantic relation to $z$ as $y$ has to $x$. One example is *man*, *woman*, *brother*, the expected answer being *sister* (the semantic relation is *male*/*female*).\n",
        "\n",
        "[Mikolov et al. (2013)](http://www.aclweb.org/anthology/N13-1090) have shown that some types of word analogy tasks can be solved by adding and substracting word vectors in a word embedding: the vector for *sister* is the closest vector (in terms of cosine distance) to the vector *brother* $-$ *man* $+$ *woman*. Your next task is to write a function `fourth` that takes in three words (say *brother*, *man*, *woman*) and predicts the word that completes the analogy (in this case, *sister*)."
      ]
    },
    {
      "cell_type": "code",
      "metadata": {
        "id": "RJTdr-hvKX4e"
      },
      "source": [
        "# TODO: Enter code here to solve the analogy problem\n",
        "from sklearn.metrics.pairwise import cosine_similarity\n",
        "def fourth(a,b,c):\n",
        "  d = np.array((nlp.vocab[a].vector - nlp.vocab[b].vector)+ nlp.vocab[c].vector)\n",
        "  ids = [x for x in nlp.vocab.vectors.keys()]\n",
        "  vectors = np.array([nlp.vocab.vectors[x] for x in ids])\n",
        "  # *** Find the word with greatest cosine similarity ***\n",
        "  cos_sim = cosine_similarity(d.reshape(1,300), vectors)\n",
        "  index = cos_sim.argmax()\n",
        "  word_id = ids[index]\n",
        "  output_word = (nlp.vocab[word_id].text)\n",
        "  return output_word\n"
      ],
      "execution_count": 29,
      "outputs": []
    },
    {
      "cell_type": "markdown",
      "metadata": {
        "id": "u29MEiUYKX4e"
      },
      "source": [
        "Test your code by running the following code. You should get *sister*."
      ]
    },
    {
      "cell_type": "code",
      "metadata": {
        "id": "wfIRXB5XKX4e",
        "colab": {
          "base_uri": "https://localhost:8080/"
        },
        "outputId": "46a50a0c-97dc-4a2f-c5c0-86f25cfe0808"
      },
      "source": [
        "#fourth(nlp.vocab['brother'], nlp.vocab['man'], nlp.vocab['woman']).text\n",
        "print(fourth('brother', 'man','woman'))\n",
        "print(fourth('Swedish', 'Sweden','France'))\n",
        "print(fourth('better','good','bad'))\n",
        "print(fourth('walked','walk','take'))\n",
        "print(fourth('bigger','big','small'))"
      ],
      "execution_count": 30,
      "outputs": [
        {
          "output_type": "stream",
          "text": [
            "sister\n",
            "french\n",
            "worse\n",
            "TOOK\n",
            "Smaller\n"
          ],
          "name": "stdout"
        }
      ]
    },
    {
      "cell_type": "markdown",
      "metadata": {
        "id": "cmI0V6nTKX4e"
      },
      "source": [
        "You should also be able to get the following:\n",
        "\n",
        "* *Stockholm* $-$ *Sweden* $+$ *Germany* $=$ *Berlin*\n",
        "* *Swedish* $-$ *Sweden* $+$ *France* $=$ *French*\n",
        "* *better* $-$ *good* $+$ *bad* $=$ *worse*\n",
        "* *walked* $-$ *walk* $+$ *take* $=$ *took*\n",
        "\n",
        "Experiment with other examples to see whether you get the expected output. Provide three examples of analogies for which the model produces the &lsquo;correct&rsquo; answer, and three examples on which the model &lsquo;failed&rsquo;. Based on your theoretical understanding of word embeddings, do you have a hypothesis as to why the model succeeds/fails in completing the analogy? Discuss this question in a short text."
      ]
    },
    {
      "cell_type": "code",
      "metadata": {
        "colab": {
          "base_uri": "https://localhost:8080/"
        },
        "id": "wO_uFcQ8rax4",
        "outputId": "77b5a5e6-c8a1-4597-8fbc-aff5ece664b3"
      },
      "source": [
        "print(fourth('Islamabad','Pakistan','Sweden'))\n",
        "print(fourth('Urdu','Pakistan','Sweden'))"
      ],
      "execution_count": 67,
      "outputs": [
        {
          "output_type": "stream",
          "text": [
            "Stockholm\n",
            "Swedish\n"
          ],
          "name": "stdout"
        }
      ]
    },
    {
      "cell_type": "code",
      "metadata": {
        "colab": {
          "base_uri": "https://localhost:8080/"
        },
        "id": "ywbjJqpErpkE",
        "outputId": "1089aff1-41eb-41a9-92d4-71032ccd5381"
      },
      "source": [
        "print(fourth('king','man','woman'))\n",
        "print(fourth('Einstein','Scientist','Picasso'))\n",
        "print(fourth('cloud','cloudy','sun'))"
      ],
      "execution_count": 62,
      "outputs": [
        {
          "output_type": "stream",
          "text": [
            "King\n",
            "picasso\n",
            "CLOUD\n"
          ],
          "name": "stdout"
        }
      ]
    },
    {
      "cell_type": "markdown",
      "metadata": {
        "id": "ejrAfo9tKX4e"
      },
      "source": [
        "As we can see in the above generated examples that our employed function to get analogy of words is always not working."
      ]
    },
    {
      "cell_type": "markdown",
      "metadata": {
        "id": "rUcLf36QKX4e"
      },
      "source": [
        "## Natural language inference dataset"
      ]
    },
    {
      "cell_type": "markdown",
      "metadata": {
        "id": "dR9o1798KX4e"
      },
      "source": [
        "In the second part of this lab, you will be evaluating the usefulness of word embeddings in the context of a natural language inference task. The data for this part is the [SNLI corpus](https://nlp.stanford.edu/projects/snli/), a collection of 570k human-written English image caption pairs manually labeled with the labels *Entailment*, *Contradiction*, and *Neutral*. Consider the following sentence pair as an example:\n",
        "\n",
        "* Sentence 1: A soccer game with multiple males playing.\n",
        "* Sentence 2: Some men are playing a sport.\n",
        "\n",
        "This pair is labeled with *Entailment*, because sentence&nbsp;2 is logically entailed (implied) by sentence&nbsp;1 – if sentence&nbsp;1 is true, then sentence&nbsp;2 is true, too. The following sentence pair, on the other hand, is labeled with *Contradiction*, because both sentences cannot be true at the same time.\n",
        "\n",
        "* Sentence 1: A black race car starts up in front of a crowd of people.\n",
        "* Sentence 2: A man is driving down a lonely road.\n",
        "\n",
        "For detailed information about the corpus, refer to [Bowman et al. (2015)](https://www.aclweb.org/anthology/D15-1075/). For this lab, we load the training portion and the development portion of the dataset.\n",
        "\n",
        "**Note:** Because the SNLI corpus is rather big, we initially only load a small portion (25,000 samples) of the training data. Once you have working code for Problems&nbsp;4–6, you should set the flag `final` to `True` and re-run all cells with the full dataset."
      ]
    },
    {
      "cell_type": "code",
      "metadata": {
        "id": "gP-HQGRrKX4e",
        "colab": {
          "base_uri": "https://localhost:8080/"
        },
        "outputId": "5937bc7f-5ae2-4223-99aa-3e963009cb4a"
      },
      "source": [
        "import bz2\n",
        "import pandas as pd\n",
        "\n",
        "final_evaluation = True    # TODO: Set to True for the final evaluation!\n",
        "\n",
        "with bz2.open('/content/l4/train.jsonl.bz2', 'rt') as source:\n",
        "    if final_evaluation:\n",
        "        df_train = pd.read_json(source, lines=True)\n",
        "    else:\n",
        "        df_train = pd.read_json(source, lines=True, nrows=25000)\n",
        "    print('Number of sentence pairs in the training data:', len(df_train))\n",
        "\n",
        "with bz2.open('/content/l4/dev.jsonl.bz2', 'rt') as source:\n",
        "    df_dev = pd.read_json(source, lines=True)\n",
        "    print('Number of sentence pairs in the development data:', len(df_dev))"
      ],
      "execution_count": 10,
      "outputs": [
        {
          "output_type": "stream",
          "text": [
            "Number of sentence pairs in the training data: 549367\n",
            "Number of sentence pairs in the development data: 9842\n"
          ],
          "name": "stdout"
        }
      ]
    },
    {
      "cell_type": "markdown",
      "metadata": {
        "id": "8oW1JXF-KX4e"
      },
      "source": [
        "When you inspect the data frames, you will see that we have preprocessed the sentences and separated tokens by spaces. In the columns `tagged1` and `tagged2`, we have added the part-of-speech tags for every token (as predicted by spaCy), also separated by spaces."
      ]
    },
    {
      "cell_type": "code",
      "metadata": {
        "id": "8jfhj3wwKX4e",
        "colab": {
          "base_uri": "https://localhost:8080/",
          "height": 251
        },
        "outputId": "cfb17532-1ab5-458b-c909-e374294b50ac"
      },
      "source": [
        "df_train.head()"
      ],
      "execution_count": 9,
      "outputs": [
        {
          "output_type": "execute_result",
          "data": {
            "text/html": [
              "<div>\n",
              "<style scoped>\n",
              "    .dataframe tbody tr th:only-of-type {\n",
              "        vertical-align: middle;\n",
              "    }\n",
              "\n",
              "    .dataframe tbody tr th {\n",
              "        vertical-align: top;\n",
              "    }\n",
              "\n",
              "    .dataframe thead th {\n",
              "        text-align: right;\n",
              "    }\n",
              "</style>\n",
              "<table border=\"1\" class=\"dataframe\">\n",
              "  <thead>\n",
              "    <tr style=\"text-align: right;\">\n",
              "      <th></th>\n",
              "      <th>gold_label</th>\n",
              "      <th>sentence1</th>\n",
              "      <th>tags1</th>\n",
              "      <th>sentence2</th>\n",
              "      <th>tags2</th>\n",
              "    </tr>\n",
              "  </thead>\n",
              "  <tbody>\n",
              "    <tr>\n",
              "      <th>0</th>\n",
              "      <td>neutral</td>\n",
              "      <td>A person on a horse jumps over a broken down a...</td>\n",
              "      <td>DET NOUN ADP DET NOUN VERB ADP DET ADJ ADP NOU...</td>\n",
              "      <td>A person is training his horse for a competiti...</td>\n",
              "      <td>DET NOUN AUX VERB PRON NOUN ADP DET NOUN PUNCT</td>\n",
              "    </tr>\n",
              "    <tr>\n",
              "      <th>1</th>\n",
              "      <td>contradiction</td>\n",
              "      <td>A person on a horse jumps over a broken down a...</td>\n",
              "      <td>DET NOUN ADP DET NOUN VERB ADP DET ADJ ADP NOU...</td>\n",
              "      <td>A person is at a diner , ordering an omelette .</td>\n",
              "      <td>DET NOUN AUX ADP DET NOUN PUNCT VERB DET NOUN ...</td>\n",
              "    </tr>\n",
              "    <tr>\n",
              "      <th>2</th>\n",
              "      <td>entailment</td>\n",
              "      <td>A person on a horse jumps over a broken down a...</td>\n",
              "      <td>DET NOUN ADP DET NOUN VERB ADP DET ADJ ADP NOU...</td>\n",
              "      <td>A person is outdoors , on a horse .</td>\n",
              "      <td>DET NOUN AUX ADV PUNCT ADP DET NOUN PUNCT</td>\n",
              "    </tr>\n",
              "    <tr>\n",
              "      <th>3</th>\n",
              "      <td>neutral</td>\n",
              "      <td>Children smiling and waving at camera</td>\n",
              "      <td>NOUN VERB CCONJ VERB ADP NOUN</td>\n",
              "      <td>They are smiling at their parents</td>\n",
              "      <td>PRON AUX VERB ADP PRON NOUN</td>\n",
              "    </tr>\n",
              "    <tr>\n",
              "      <th>4</th>\n",
              "      <td>entailment</td>\n",
              "      <td>Children smiling and waving at camera</td>\n",
              "      <td>NOUN VERB CCONJ VERB ADP NOUN</td>\n",
              "      <td>There are children present</td>\n",
              "      <td>PRON AUX NOUN ADJ</td>\n",
              "    </tr>\n",
              "  </tbody>\n",
              "</table>\n",
              "</div>"
            ],
            "text/plain": [
              "      gold_label  ...                                              tags2\n",
              "0        neutral  ...     DET NOUN AUX VERB PRON NOUN ADP DET NOUN PUNCT\n",
              "1  contradiction  ...  DET NOUN AUX ADP DET NOUN PUNCT VERB DET NOUN ...\n",
              "2     entailment  ...          DET NOUN AUX ADV PUNCT ADP DET NOUN PUNCT\n",
              "3        neutral  ...                        PRON AUX VERB ADP PRON NOUN\n",
              "4     entailment  ...                                  PRON AUX NOUN ADJ\n",
              "\n",
              "[5 rows x 5 columns]"
            ]
          },
          "metadata": {
            "tags": []
          },
          "execution_count": 9
        }
      ]
    },
    {
      "cell_type": "markdown",
      "metadata": {
        "id": "ydnH1bjVKX4e"
      },
      "source": [
        "## Problem 4: Two simple baselines"
      ]
    },
    {
      "cell_type": "markdown",
      "metadata": {
        "id": "PDC9JE_DKX4e"
      },
      "source": [
        "Your first task is to establish two simple baselines for the natural language inference task."
      ]
    },
    {
      "cell_type": "markdown",
      "metadata": {
        "id": "L4SZi8xnKX4e"
      },
      "source": [
        "### Random baseline\n",
        "\n",
        "Implement the standard random baseline that generates prediction by sampling from the empirical distribution of the classes in the training data. Write code to evaluate the performance of this classifier on the development data."
      ]
    },
    {
      "cell_type": "code",
      "metadata": {
        "id": "bI--3CRYhjzu"
      },
      "source": [
        "from sklearn.metrics import confusion_matrix, classification_report,accuracy_score\n",
        "from sklearn.linear_model import LogisticRegression\n",
        "from sklearn.feature_extraction.text import CountVectorizer, TfidfVectorizer\n",
        "from sklearn.pipeline import Pipeline\n",
        "from sklearn.dummy import DummyClassifier\n",
        "import warnings\n",
        "warnings.filterwarnings(\"ignore\")"
      ],
      "execution_count": 14,
      "outputs": []
    },
    {
      "cell_type": "code",
      "metadata": {
        "id": "xxjBUSviKX4e",
        "colab": {
          "base_uri": "https://localhost:8080/"
        },
        "outputId": "c969a741-03dd-4580-91c4-7fdb6c7f0a11"
      },
      "source": [
        "# TODO: Enter code here to implement the random baseline. Print the classification report.\n",
        "base_model = Pipeline([('vectorizer', TfidfVectorizer()), ('dummy',DummyClassifier(strategy=\"uniform\"))])\n",
        "model1 = base_model.fit(df_train['sentence1'], df_train['gold_label'])\n",
        "dummy_pred1 = model1.predict(df_dev['sentence1'])\n",
        "print(classification_report(df_dev['gold_label'],dummy_pred1))"
      ],
      "execution_count": 79,
      "outputs": [
        {
          "output_type": "stream",
          "text": [
            "               precision    recall  f1-score   support\n",
            "\n",
            "contradiction       0.34      0.34      0.34      3278\n",
            "   entailment       0.33      0.33      0.33      3329\n",
            "      neutral       0.34      0.34      0.34      3235\n",
            "\n",
            "     accuracy                           0.34      9842\n",
            "    macro avg       0.34      0.34      0.34      9842\n",
            " weighted avg       0.34      0.34      0.34      9842\n",
            "\n"
          ],
          "name": "stdout"
        }
      ]
    },
    {
      "cell_type": "code",
      "metadata": {
        "colab": {
          "base_uri": "https://localhost:8080/"
        },
        "id": "6ysjFtwJEzfi",
        "outputId": "32fe0d66-c8cf-4c12-d0f9-23febdaf7259"
      },
      "source": [
        "model2 = base_model.fit(df_train['sentence2'], df_train['gold_label'])\n",
        "dummy_pred2 = model2.predict(df_dev['sentence2'])\n",
        "print(classification_report(df_dev['gold_label'],dummy_pred2))"
      ],
      "execution_count": 12,
      "outputs": [
        {
          "output_type": "stream",
          "text": [
            "               precision    recall  f1-score   support\n",
            "\n",
            "contradiction       0.33      0.33      0.33      3278\n",
            "   entailment       0.34      0.32      0.33      3329\n",
            "      neutral       0.35      0.37      0.36      3235\n",
            "\n",
            "     accuracy                           0.34      9842\n",
            "    macro avg       0.34      0.34      0.34      9842\n",
            " weighted avg       0.34      0.34      0.34      9842\n",
            "\n"
          ],
          "name": "stdout"
        }
      ]
    },
    {
      "cell_type": "markdown",
      "metadata": {
        "id": "nNiygI_gKX4e"
      },
      "source": [
        "### One-sided baseline\n",
        "\n",
        "A second obvious baseline for the inference task is to predict the class label of a sentence pair based on the text of only one of the two sentences, just as in a standard document classification task. Put together a simple [CountVectorizer](https://scikit-learn.org/stable/modules/generated/sklearn.feature_extraction.text.CountVectorizer.html) + [LogisticRegression](https://scikit-learn.org/stable/modules/generated/sklearn.linear_model.LogisticRegression.html) pipeline that implements this idea, train it, and evaluate it on the development data. Is it better to base predictions on sentence&nbsp;1 or sentence&nbsp;2? Why should one sentence be more useful than the other?"
      ]
    },
    {
      "cell_type": "code",
      "metadata": {
        "id": "Vgu0mlIkKX4e"
      },
      "source": [
        "# TODO: Enter code here to implement the one-sentence baselines. Print the classification reports.\n",
        "lr_model = Pipeline(steps=[('vectorizer', CountVectorizer()), ('lr', LogisticRegression())])\n",
        "model1 = lr_model.fit(df_train['sentence1'], df_train['gold_label'])\n",
        "model2 = lr_model.fit(df_train['sentence2'], df_train['gold_label'])"
      ],
      "execution_count": 13,
      "outputs": []
    },
    {
      "cell_type": "code",
      "metadata": {
        "colab": {
          "base_uri": "https://localhost:8080/"
        },
        "id": "5gTvayi2tFur",
        "outputId": "26bd0c0a-3fb8-49f2-af1f-37729910dce5"
      },
      "source": [
        "print(\"Accuracy on training data:\",model1.score(df_train['sentence1'],df_train['gold_label']))\n",
        "print(\"Accuracy on development data:\",model1.score(df_dev['sentence1'],df_dev['gold_label']))\n",
        "pred1 = model1.predict(df_dev['sentence1'])\n",
        "print(classification_report(df_dev['gold_label'],pred1))"
      ],
      "execution_count": 14,
      "outputs": [
        {
          "output_type": "stream",
          "text": [
            "Accuracy on training data: 0.33384\n",
            "Accuracy on development data: 0.3281853281853282\n",
            "               precision    recall  f1-score   support\n",
            "\n",
            "contradiction       0.34      0.33      0.33      3278\n",
            "   entailment       0.33      0.33      0.33      3329\n",
            "      neutral       0.32      0.32      0.32      3235\n",
            "\n",
            "     accuracy                           0.33      9842\n",
            "    macro avg       0.33      0.33      0.33      9842\n",
            " weighted avg       0.33      0.33      0.33      9842\n",
            "\n"
          ],
          "name": "stdout"
        }
      ]
    },
    {
      "cell_type": "code",
      "metadata": {
        "colab": {
          "base_uri": "https://localhost:8080/"
        },
        "id": "KsAd4B7qte5_",
        "outputId": "852eba7f-17d5-4074-9865-f3085d06d99d"
      },
      "source": [
        "print(\"Accuracy on training data:\",model2.score(df_train['sentence2'],df_train['gold_label']))\n",
        "print(\"Accuracy on development data:\",model2.score(df_dev['sentence2'],df_dev['gold_label']))\n",
        "pred2 = model2.predict(df_dev['sentence2'])\n",
        "print(classification_report(df_dev['gold_label'],pred2))"
      ],
      "execution_count": 15,
      "outputs": [
        {
          "output_type": "stream",
          "text": [
            "Accuracy on training data: 0.72628\n",
            "Accuracy on development data: 0.6015037593984962\n",
            "               precision    recall  f1-score   support\n",
            "\n",
            "contradiction       0.60      0.60      0.60      3278\n",
            "   entailment       0.59      0.64      0.62      3329\n",
            "      neutral       0.62      0.56      0.59      3235\n",
            "\n",
            "     accuracy                           0.60      9842\n",
            "    macro avg       0.60      0.60      0.60      9842\n",
            " weighted avg       0.60      0.60      0.60      9842\n",
            "\n"
          ],
          "name": "stdout"
        }
      ]
    },
    {
      "cell_type": "markdown",
      "metadata": {
        "id": "tTXL7uGeKX4e"
      },
      "source": [
        "We can clearly see that sentence2 column of data is predicting the gold class with much higher accuracy as compare to column sentence1 data. This is may be because sentences written in sentence2 column are written in a more general way to understand the gold class label of the data. "
      ]
    },
    {
      "cell_type": "markdown",
      "metadata": {
        "id": "8sFci34sKX4e"
      },
      "source": [
        "## Problem 5: A classifier based on manually engineered features"
      ]
    },
    {
      "cell_type": "markdown",
      "metadata": {
        "id": "iqOzENYqKX4e"
      },
      "source": [
        "[Bowman et al., 2015](https://www.aclweb.org/anthology/D15-1075/) evaluate a classifier that uses (among others) **cross-unigram features**. This term is used to refer to pairs of unigrams $(w_1, w_2)$ such that $w_1$ occurs in sentence&nbsp;1, $w_2$ occurs in sentence&nbsp;2, and both have been assigned the same part-of-speech tag.\n",
        "\n",
        "Your next task is to implement the cross-unigram classifier. To this end, the next cell contains skeleton code for a transformer that you can use as the first component in a classification pipeline. This transformer converts each row of the SNLI data frame into a space-separated string consisting of\n",
        "\n",
        "* the standard unigrams (of sentence&nbsp;1 or sentence&nbsp;2 – choose whichever performed better in Problem&nbsp;4)\n",
        "* the cross-unigrams, as described above.\n",
        "\n",
        "The space-separated string forms a new &lsquo;document&rsquo; that can be passed to a vectorizer in exactly the same way as a standard sentence in Problem&nbsp;4."
      ]
    },
    {
      "cell_type": "code",
      "metadata": {
        "id": "5P1utKmtKX4e"
      },
      "source": [
        "from sklearn.base import BaseEstimator, TransformerMixin\n",
        "\n",
        "class CrossUnigramsTransformer(BaseEstimator, TransformerMixin):\n",
        "    def __init__(self):\n",
        "        pass\n",
        "\n",
        "    def fit(self, X, y=None):\n",
        "        return self\n",
        "\n",
        "    # Transform a single row of the dataframe.\n",
        "    def _transform(self, row):\n",
        "        # TODO: Replace the following line with your own code\n",
        "        Index, sentence1, tag1, sentence2, tag2 = row\n",
        "        s1_array = sentence1.split()\n",
        "        s2_array = sentence2.split()\n",
        "        t1_array = tag1.split()\n",
        "        t2_array = tag2.split()\n",
        "        crossGram = \"\"\n",
        "        for s1,s2,t1,t2 in zip(s1_array, s2_array, t1_array, t2_array):\n",
        "          if t1 == t2:\n",
        "            crossGram = crossGram + s1 + \" \" + s2\n",
        "        return sentence2 + \" \" + crossGram\n",
        "\n",
        "    def transform(self, X):\n",
        "        return [self._transform(row) for row in X.itertuples()]"
      ],
      "execution_count": 11,
      "outputs": []
    },
    {
      "cell_type": "markdown",
      "metadata": {
        "id": "9pEafLGgKX4e"
      },
      "source": [
        "Once you have an implementation of the transformer, extend the pipeline that you built for Problem&nbsp;4, train it, and evaluate it on the development data."
      ]
    },
    {
      "cell_type": "code",
      "metadata": {
        "id": "mic0DrQGKX4e",
        "colab": {
          "base_uri": "https://localhost:8080/"
        },
        "outputId": "3fc4c229-4ff1-43af-f4bc-13de3a83461b"
      },
      "source": [
        "# TODO: Enter code here to implement the cross-unigrams classifier. Print the classification report.\n",
        "traindata = df_train.drop(['gold_label'],axis=1)\n",
        "dev_data = df_dev.drop(['gold_label'],axis=1)\n",
        "\n",
        "cu_pipeline = Pipeline(steps=[('transf', CrossUnigramsTransformer()),('vectorizer', CountVectorizer()), ('lr', LogisticRegression())])\n",
        "cu_model = cu_pipeline.fit(traindata, df_train['gold_label'])\n",
        "print(\"Accuracy on training data:\",cu_model.score(traindata,df_train['gold_label']))\n",
        "print(\"Accuracy on development data:\",cu_model.score(dev_data,df_dev['gold_label']))\n",
        "pred5_1 = cu_model.predict(dev_data)\n",
        "print(classification_report(df_dev['gold_label'],pred5_1))"
      ],
      "execution_count": 17,
      "outputs": [
        {
          "output_type": "stream",
          "text": [
            "Accuracy on training data: 0.80384\n",
            "Accuracy on development data: 0.5863645600487706\n",
            "               precision    recall  f1-score   support\n",
            "\n",
            "contradiction       0.59      0.57      0.58      3278\n",
            "   entailment       0.58      0.62      0.60      3329\n",
            "      neutral       0.59      0.56      0.58      3235\n",
            "\n",
            "     accuracy                           0.59      9842\n",
            "    macro avg       0.59      0.59      0.59      9842\n",
            " weighted avg       0.59      0.59      0.59      9842\n",
            "\n"
          ],
          "name": "stdout"
        }
      ]
    },
    {
      "cell_type": "markdown",
      "metadata": {
        "id": "E-WZdV9kKX4e"
      },
      "source": [
        "## Problem 6: A classifier based on word embeddings"
      ]
    },
    {
      "cell_type": "markdown",
      "metadata": {
        "id": "3t_2VWzRKX4e"
      },
      "source": [
        "Your last task in this lab is to build a classifier for the natural language inference task that uses word embeddings. More specifically, we ask you to implement a vectorizer that represents each sentence as the sum of its word vectors – a representation known as the **continuous bag-of-words**. Thus, given that spaCy&rsquo;s word vectors have 300 dimensions, each sentence will be transformed into a 300-dimensional vector. To represent a sentence pair, the vectorizer should concatenate the vectors for the individual sentences; this yields a 600-dimensional vector. This vector can then be passed to a classifier.\n",
        "\n",
        "The next code cell contains skeleton code for the vectorizer. You will have to implement two methods: one that maps a single sentence to a vector (of length 300), and one that maps a sentence pair to a vector (of length 600)."
      ]
    },
    {
      "cell_type": "code",
      "metadata": {
        "id": "YFwRhiYKKX4e"
      },
      "source": [
        "import numpy as np\n",
        "\n",
        "from sklearn.base import BaseEstimator, TransformerMixin\n",
        "\n",
        "class PairedSentenceVectorizer(BaseEstimator, TransformerMixin):\n",
        "    def __init__(self):\n",
        "        pass\n",
        "\n",
        "    def fit(self, X, y=None):\n",
        "        return self\n",
        "\n",
        "    # Vectorize a single sentence.\n",
        "    def _transform1(self, sentence):\n",
        "        # TODO: Replace the following line with your own code\n",
        "        token = nlp(sentence)\n",
        "        sum_vectors = np.zeros((300,))\n",
        "        for word in token:\n",
        "          if word.has_vector:\n",
        "            sum_vectors = sum_vectors + word.vector\n",
        "        #sum_vectors = np.sum([word.vector for word in token if word.has_vector],axis=1)\n",
        "        return sum_vectors\n",
        "\n",
        "    # Vectorize a single row of the dataframe.\n",
        "    def _transform2(self, row):\n",
        "        # TODO: Replace the following line with your own code\n",
        "        index, sentence1, sentence2 = row\n",
        "        return np.concatenate((self._transform1(sentence1),self._transform1(sentence2)),axis=0)\n",
        "\n",
        "    def transform(self, X):\n",
        "        return np.concatenate(\n",
        "            [self._transform2(row).reshape(1, -1) for row in X.itertuples()]\n",
        "        )"
      ],
      "execution_count": 12,
      "outputs": []
    },
    {
      "cell_type": "markdown",
      "metadata": {
        "id": "OOyQZ2lzKX4e"
      },
      "source": [
        "Once you have a working implementation, build a pipeline consisting of the new vectorizer and a [multi-layer perceptron classifier](https://scikit-learn.org/stable/modules/generated/sklearn.neural_network.MLPClassifier.html). This more powerful (compared to logistic regression) classifier is called for here because we do not specify features by hand (as we did in Problem&nbsp;5), but want to let the model learn a good representation of the data by itself. Use 3&nbsp;hidden layers, each with size 300. It suffices to train the classifier for 8&nbsp;iterations (epochs)."
      ]
    },
    {
      "cell_type": "code",
      "metadata": {
        "id": "5ojxRxnxKX4e",
        "colab": {
          "base_uri": "https://localhost:8080/"
        },
        "outputId": "9afd0758-6011-40f1-fa27-8835014e7092"
      },
      "source": [
        "# TODO: Enter code here to implement the word embeddings classifier. Print the classification report.\n",
        "from sklearn.neural_network import MLPClassifier\n",
        "train_sentence , dev_sentence = df_train[['sentence1','sentence2']] , df_dev[['sentence1','sentence2']]\n",
        "\n",
        "cu_pipeline = Pipeline(steps=[('vectorizer', PairedSentenceVectorizer()),\n",
        "                              ('clf',  MLPClassifier(hidden_layer_sizes=(300,300,300), max_iter=8,verbose = True))])\n",
        "cu_model = cu_pipeline.fit(train_sentence, df_train['gold_label'])\n",
        "print(\"Accuracy on training data:\",cu_model.score(train_sentence,df_train['gold_label']))\n",
        "print(\"Accuracy on development data:\",cu_model.score(dev_sentence,df_dev['gold_label']))\n",
        "pred6_1 = cu_model.predict(dev_sentence)\n",
        "print(classification_report(df_dev['gold_label'],pred6_1))"
      ],
      "execution_count": 68,
      "outputs": [
        {
          "output_type": "stream",
          "text": [
            "Iteration 1, loss = 1.09282923\n",
            "Iteration 2, loss = 0.93521697\n",
            "Iteration 3, loss = 0.88013046\n",
            "Iteration 4, loss = 0.82789561\n",
            "Iteration 5, loss = 0.78100929\n",
            "Iteration 6, loss = 0.74400682\n",
            "Iteration 7, loss = 0.70871033\n",
            "Iteration 8, loss = 0.65442180\n",
            "Accuracy on training data: 0.75212\n",
            "Accuracy on development data: 0.6431619589514327\n",
            "               precision    recall  f1-score   support\n",
            "\n",
            "contradiction       0.68      0.57      0.62      3278\n",
            "   entailment       0.61      0.78      0.69      3329\n",
            "      neutral       0.65      0.57      0.61      3235\n",
            "\n",
            "     accuracy                           0.64      9842\n",
            "    macro avg       0.65      0.64      0.64      9842\n",
            " weighted avg       0.65      0.64      0.64      9842\n",
            "\n"
          ],
          "name": "stdout"
        }
      ]
    },
    {
      "cell_type": "markdown",
      "metadata": {
        "id": "NEL4ZvopKX4e"
      },
      "source": [
        "## Problem 7: Final evaluation"
      ]
    },
    {
      "cell_type": "markdown",
      "metadata": {
        "id": "6b4ybyOBKX4e"
      },
      "source": [
        "Once you have working code for all problems, re-run Problems&nbsp;4–6 with the full training data. This will take quite a while (expect approximately 1&;nbsp;hour on Colab). **Make sure to not overwrite your previous results.** What are your results on the full data? How do they differ from the results that you obtained for the smaller training data? How do you interpret this? Summarize your findings in a short text."
      ]
    },
    {
      "cell_type": "markdown",
      "metadata": {
        "id": "-l8-kv_CnNDl"
      },
      "source": [
        "**Random Baseline Predictions**"
      ]
    },
    {
      "cell_type": "code",
      "metadata": {
        "id": "tmHxuvBXKX4e",
        "colab": {
          "base_uri": "https://localhost:8080/"
        },
        "outputId": "efdb6a46-7a04-41ef-a093-ff6c65604338"
      },
      "source": [
        "# TODO: Enter code here to implement the random baseline. Print the classification report.\n",
        "base_model = Pipeline([('vectorizer', TfidfVectorizer()), ('dummy',DummyClassifier(strategy=\"uniform\"))])\n",
        "model1 = base_model.fit(df_train['sentence1'], df_train['gold_label'])\n",
        "dummy_pred1 = model1.predict(df_dev['sentence1'])\n",
        "model2 = base_model.fit(df_train['sentence2'], df_train['gold_label'])\n",
        "dummy_pred2 = model2.predict(df_dev['sentence2'])\n",
        "\n",
        "print(classification_report(df_dev['gold_label'],dummy_pred1))\n",
        "print(classification_report(df_dev['gold_label'],dummy_pred2))"
      ],
      "execution_count": 81,
      "outputs": [
        {
          "output_type": "stream",
          "text": [
            "               precision    recall  f1-score   support\n",
            "\n",
            "contradiction       0.33      0.33      0.33      3278\n",
            "   entailment       0.34      0.33      0.34      3329\n",
            "      neutral       0.33      0.34      0.33      3235\n",
            "\n",
            "     accuracy                           0.33      9842\n",
            "    macro avg       0.33      0.33      0.33      9842\n",
            " weighted avg       0.33      0.33      0.33      9842\n",
            "\n",
            "               precision    recall  f1-score   support\n",
            "\n",
            "contradiction       0.33      0.34      0.34      3278\n",
            "   entailment       0.34      0.32      0.33      3329\n",
            "      neutral       0.33      0.33      0.33      3235\n",
            "\n",
            "     accuracy                           0.33      9842\n",
            "    macro avg       0.33      0.33      0.33      9842\n",
            " weighted avg       0.33      0.33      0.33      9842\n",
            "\n"
          ],
          "name": "stdout"
        }
      ]
    },
    {
      "cell_type": "markdown",
      "metadata": {
        "id": "9evPtH06nVkd"
      },
      "source": [
        "**One Sided Baseline Predictions**"
      ]
    },
    {
      "cell_type": "code",
      "metadata": {
        "colab": {
          "base_uri": "https://localhost:8080/"
        },
        "id": "wPJywXpznh_u",
        "outputId": "00f287b0-fd83-482c-eb4b-9c566987f9eb"
      },
      "source": [
        "model1 = lr_model.fit(df_train['sentence1'], df_train['gold_label'])\n",
        "model2 = lr_model.fit(df_train['sentence2'], df_train['gold_label'])\n",
        "print(\"Accuracy of sentence1 data on development data:\",model1.score(df_dev['sentence1'],df_dev['gold_label']))\n",
        "pred1 = model1.predict(df_dev['sentence1'])\n",
        "print(\"Accuracy of sentence2 data on development data:\",model2.score(df_dev['sentence2'],df_dev['gold_label']))\n",
        "pred2 = model2.predict(df_dev['sentence2'])\n",
        "print(classification_report(df_dev['gold_label'],pred1))\n",
        "print(classification_report(df_dev['gold_label'],pred2))"
      ],
      "execution_count": 82,
      "outputs": [
        {
          "output_type": "stream",
          "text": [
            "Accuracy of sentence1 data on development data: 0.3309286730339362\n",
            "Accuracy of sentence2 data on development data: 0.6427555374923796\n",
            "               precision    recall  f1-score   support\n",
            "\n",
            "contradiction       0.34      0.28      0.31      3278\n",
            "   entailment       0.33      0.39      0.36      3329\n",
            "      neutral       0.32      0.32      0.32      3235\n",
            "\n",
            "     accuracy                           0.33      9842\n",
            "    macro avg       0.33      0.33      0.33      9842\n",
            " weighted avg       0.33      0.33      0.33      9842\n",
            "\n",
            "               precision    recall  f1-score   support\n",
            "\n",
            "contradiction       0.64      0.63      0.64      3278\n",
            "   entailment       0.63      0.70      0.66      3329\n",
            "      neutral       0.66      0.60      0.63      3235\n",
            "\n",
            "     accuracy                           0.64      9842\n",
            "    macro avg       0.64      0.64      0.64      9842\n",
            " weighted avg       0.64      0.64      0.64      9842\n",
            "\n"
          ],
          "name": "stdout"
        }
      ]
    },
    {
      "cell_type": "markdown",
      "metadata": {
        "id": "KXNkISQwn5PV"
      },
      "source": [
        "**Classification Based on Manually Engineered Features**"
      ]
    },
    {
      "cell_type": "code",
      "metadata": {
        "colab": {
          "base_uri": "https://localhost:8080/"
        },
        "id": "tr2Os1hCpntS",
        "outputId": "cb837e1d-77ed-4a2b-8c2f-0685c1f955e1"
      },
      "source": [
        "traindata = df_train.drop(['gold_label'],axis=1)\n",
        "dev_data = df_dev.drop(['gold_label'],axis=1)\n",
        "\n",
        "cu_pipeline = Pipeline(steps=[('transf', CrossUnigramsTransformer()),('vectorizer', CountVectorizer()), ('lr', LogisticRegression())])\n",
        "cu_model = cu_pipeline.fit(traindata, df_train['gold_label'])\n",
        "print(\"Accuracy on training data:\",cu_model.score(traindata,df_train['gold_label']))\n",
        "print(\"Accuracy on development data:\",cu_model.score(dev_data,df_dev['gold_label']))\n",
        "pred5_1 = cu_model.predict(dev_data)\n",
        "print(classification_report(df_dev['gold_label'],pred5_1))"
      ],
      "execution_count": 83,
      "outputs": [
        {
          "output_type": "stream",
          "text": [
            "Accuracy on training data: 0.6509564644399828\n",
            "Accuracy on development data: 0.6399105872790083\n",
            "               precision    recall  f1-score   support\n",
            "\n",
            "contradiction       0.64      0.62      0.63      3278\n",
            "   entailment       0.63      0.70      0.66      3329\n",
            "      neutral       0.65      0.60      0.63      3235\n",
            "\n",
            "     accuracy                           0.64      9842\n",
            "    macro avg       0.64      0.64      0.64      9842\n",
            " weighted avg       0.64      0.64      0.64      9842\n",
            "\n"
          ],
          "name": "stdout"
        }
      ]
    },
    {
      "cell_type": "markdown",
      "metadata": {
        "id": "Y_VxHKzbprra"
      },
      "source": [
        "**Classification Based on Word Embeddings**\n"
      ]
    },
    {
      "cell_type": "code",
      "metadata": {
        "id": "mC_vOsKLpr20"
      },
      "source": [
        "from sklearn.neural_network import MLPClassifier\n",
        "train_sentence , dev_sentence = df_train[['sentence1','sentence2']] , df_dev[['sentence1','sentence2']]\n",
        "cu_pipeline = Pipeline(steps=[('vectorizer', PairedSentenceVectorizer()),\n",
        "                              ('clf',  MLPClassifier(hidden_layer_sizes=(300,300,300), max_iter=8,verbose = True))])\n",
        "cu_model = cu_pipeline.fit(train_sentence, df_train['gold_label'])\n",
        "print(\"Accuracy on training data:\",cu_model.score(train_sentence,df_train['gold_label']))\n",
        "print(\"Accuracy on development data:\",cu_model.score(dev_sentence,df_dev['gold_label']))\n",
        "pred6_1 = cu_model.predict(dev_sentence)\n",
        "print(classification_report(df_dev['gold_label'],pred6_1))"
      ],
      "execution_count": null,
      "outputs": []
    },
    {
      "cell_type": "markdown",
      "metadata": {
        "id": "khRqpZg4KX4e"
      },
      "source": [
        "We can see that Random  baselines are working a slightly better to classify data when given more data. Whilst classification based on manually engineered features has comparatively smaller accuracy on validation data. \\newline\n",
        "Classification based on word embeddings is computationally very heavy and takes a lot of time to train the model for classification whilst is not performing exceptionall good on data."
      ]
    },
    {
      "cell_type": "markdown",
      "metadata": {
        "id": "uzxxRkZKKX4e"
      },
      "source": [
        "<div class=\"alert alert-info\">\n",
        "    Please read the section ‘General information’ on the ‘Labs’ page of the course website before submitting this notebook!\n",
        "</div>"
      ]
    }
  ]
}