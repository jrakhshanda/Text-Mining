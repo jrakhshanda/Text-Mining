{
  "nbformat": 4,
  "nbformat_minor": 0,
  "metadata": {
    "colab": {
      "name": "pre-processing.ipynb",
      "provenance": [],
      "collapsed_sections": [],
      "mount_file_id": "1Q6Wa16x3t29yJcTqT9sjD965RZjqUG_6",
      "authorship_tag": "ABX9TyMCxysB3oNrkf561GA4uDlo",
      "include_colab_link": true
    },
    "kernelspec": {
      "name": "python3",
      "display_name": "Python 3"
    },
    "accelerator": "GPU"
  },
  "cells": [
    {
      "cell_type": "markdown",
      "metadata": {
        "id": "view-in-github",
        "colab_type": "text"
      },
      "source": [
        "<a href=\"https://colab.research.google.com/github/jrakhshanda/Text-Mining/blob/main/pre_processing.ipynb\" target=\"_parent\"><img src=\"https://colab.research.google.com/assets/colab-badge.svg\" alt=\"Open In Colab\"/></a>"
      ]
    },
    {
      "cell_type": "code",
      "metadata": {
        "id": "746tSyYDjS3F"
      },
      "source": [
        "!pip install biopython\r\n",
        "!pip install  gatenlp\r\n",
        "!pip install scispacy \r\n",
        "!pip install swifter"
      ],
      "execution_count": null,
      "outputs": []
    },
    {
      "cell_type": "code",
      "metadata": {
        "id": "0NDnX95zjSQw"
      },
      "source": [
        "#!python -m spacy download en_core_web_sm\r\n",
        "!pip install https://s3-us-west-2.amazonaws.com/ai2-s2-scispacy/releases/v0.2.4/en_core_sci_lg-0.2.4.tar.gz\r\n",
        "!pip install https://s3-us-west-2.amazonaws.com/ai2-s2-scispacy/releases/v0.2.4/en_ner_bionlp13cg_md-0.2.4.tar.gz"
      ],
      "execution_count": null,
      "outputs": []
    },
    {
      "cell_type": "code",
      "metadata": {
        "colab": {
          "base_uri": "https://localhost:8080/"
        },
        "id": "83zTuII36Yux",
        "outputId": "cdfe8f18-e171-4595-9692-dc2d1d9c61b4"
      },
      "source": [
        "print(scispacy.__version__)"
      ],
      "execution_count": 5,
      "outputs": [
        {
          "output_type": "stream",
          "text": [
            "0.3.0\n"
          ],
          "name": "stdout"
        }
      ]
    },
    {
      "cell_type": "code",
      "metadata": {
        "id": "147fP0FGl44r"
      },
      "source": [
        "import spacy\r\n",
        "import scispacy\r\n",
        "import swifter\r\n",
        "import pandas as pd\r\n",
        "from spacy import displacy\r\n",
        "\r\n",
        "\r\n",
        "import en_core_sci_lg\r\n",
        "import en_ner_bionlp13cg_md\r\n",
        "\r\n",
        "from scispacy.abbreviation import AbbreviationDetector\r\n",
        "from scispacy.linking import EntityLinker\r\n",
        "from collections import OrderedDict,Counter\r\n",
        "\r\n",
        "from pprint import pprint\r\n",
        "from tqdm import tqdm\r\n",
        "tqdm.pandas()\r\n",
        "\r\n",
        "from IPython.display import clear_output\r\n",
        "clear_output() #for clarity"
      ],
      "execution_count": 28,
      "outputs": []
    },
    {
      "cell_type": "code",
      "metadata": {
        "id": "UpoHfhoTjaYr"
      },
      "source": [
        "#general importation\r\n",
        "import numpy as np\r\n",
        "import pandas as pd\r\n",
        "pd.options.mode.chained_assignment = None  # default='warn'\r\n",
        "\r\n",
        "import time\r\n",
        "import random\r\n",
        "import matplotlib.pyplot as plt\r\n",
        "%matplotlib inline\r\n",
        "\r\n",
        "#Natural Language processing\r\n",
        "import regex as re\r\n",
        "import nltk\r\n",
        "from nltk.stem.porter import PorterStemmer \r\n",
        "from nltk.corpus import stopwords\r\n",
        "from nltk.tokenize import word_tokenize, sent_tokenize\r\n",
        "nltk.download('stopwords')\r\n",
        "nltk.download('punkt')\r\n",
        "nltk.download('averaged_perceptron_tagger')\r\n",
        "from sklearn.feature_extraction.text import CountVectorizer\r\n",
        "from sklearn import linear_model, svm\r\n",
        "from sklearn.pipeline import Pipeline\r\n",
        "from sklearn.metrics import f1_score, accuracy_score, recall_score\r\n",
        "\r\n",
        "import gatenlp\r\n",
        "\r\n",
        "import gensim\r\n",
        "from gensim.models.word2vec import Word2Vec\r\n",
        "\r\n",
        "from google.colab import files\r\n",
        "\r\n",
        "from IPython.display import clear_output\r\n",
        "clear_output() #for clarity\r\n",
        "\r\n",
        "import warnings\r\n",
        "warnings.filterwarnings(\"ignore\")"
      ],
      "execution_count": 25,
      "outputs": []
    },
    {
      "cell_type": "code",
      "metadata": {
        "id": "V1iqcGxSjcwh"
      },
      "source": [
        "df = pd.read_csv('/content/drive/MyDrive/data/corona_virus.csv')\r\n",
        "data = []\r\n",
        "for i in range(0,df.shape[0]):\r\n",
        "  data.append(df['Title'][i] +'. '+ df['Abstract'][i])"
      ],
      "execution_count": 8,
      "outputs": []
    },
    {
      "cell_type": "code",
      "metadata": {
        "colab": {
          "base_uri": "https://localhost:8080/",
          "height": 197
        },
        "id": "PBkcVmhkjqjL",
        "outputId": "e11bcc92-168c-4068-871f-e0aa856aeb40"
      },
      "source": [
        "df.head()"
      ],
      "execution_count": 9,
      "outputs": [
        {
          "output_type": "execute_result",
          "data": {
            "text/html": [
              "<div>\n",
              "<style scoped>\n",
              "    .dataframe tbody tr th:only-of-type {\n",
              "        vertical-align: middle;\n",
              "    }\n",
              "\n",
              "    .dataframe tbody tr th {\n",
              "        vertical-align: top;\n",
              "    }\n",
              "\n",
              "    .dataframe thead th {\n",
              "        text-align: right;\n",
              "    }\n",
              "</style>\n",
              "<table border=\"1\" class=\"dataframe\">\n",
              "  <thead>\n",
              "    <tr style=\"text-align: right;\">\n",
              "      <th></th>\n",
              "      <th>Unnamed: 0</th>\n",
              "      <th>PMID</th>\n",
              "      <th>Title</th>\n",
              "      <th>Authors</th>\n",
              "      <th>Abstract</th>\n",
              "    </tr>\n",
              "  </thead>\n",
              "  <tbody>\n",
              "    <tr>\n",
              "      <th>0</th>\n",
              "      <td>0</td>\n",
              "      <td>32275259</td>\n",
              "      <td>SARS-CoV-2, SARS-CoV, and MERS-COV: A comparat...</td>\n",
              "      <td>Rabaan AA, Al-Ahmed SH, Haque S, Sah R, Tiwari...</td>\n",
              "      <td>The recent outbreak of SARS-CoV-2 that started...</td>\n",
              "    </tr>\n",
              "    <tr>\n",
              "      <th>1</th>\n",
              "      <td>1</td>\n",
              "      <td>19198616</td>\n",
              "      <td>The spike protein of SARS-CoV--a target for va...</td>\n",
              "      <td>Du L, He Y, Zhou Y, Liu S, Zheng BJ, Jiang S.</td>\n",
              "      <td>Severe acute respiratory syndrome (SARS) is a ...</td>\n",
              "    </tr>\n",
              "    <tr>\n",
              "      <th>2</th>\n",
              "      <td>2</td>\n",
              "      <td>32347053</td>\n",
              "      <td>[Diagnosis, treatment, control and prevention ...</td>\n",
              "      <td>Ye ZW, Jin DY.</td>\n",
              "      <td>The ongoing outbreak of the coronavirus diseas...</td>\n",
              "    </tr>\n",
              "    <tr>\n",
              "      <th>3</th>\n",
              "      <td>3</td>\n",
              "      <td>32333222</td>\n",
              "      <td>The genetic sequence, origin, and diagnosis of...</td>\n",
              "      <td>Wang H, Li X, Li T, Zhang S, Wang L, Wu X, Liu J.</td>\n",
              "      <td>Coronavirus disease 2019 (COVID-19), caused by...</td>\n",
              "    </tr>\n",
              "    <tr>\n",
              "      <th>4</th>\n",
              "      <td>4</td>\n",
              "      <td>32302058</td>\n",
              "      <td>Laboratory testing of SARS-CoV, MERS-CoV, and ...</td>\n",
              "      <td>Yan Y, Chang L, Wang L.</td>\n",
              "      <td>Emerging and reemerging infectious diseases ar...</td>\n",
              "    </tr>\n",
              "  </tbody>\n",
              "</table>\n",
              "</div>"
            ],
            "text/plain": [
              "   Unnamed: 0  ...                                           Abstract\n",
              "0           0  ...  The recent outbreak of SARS-CoV-2 that started...\n",
              "1           1  ...  Severe acute respiratory syndrome (SARS) is a ...\n",
              "2           2  ...  The ongoing outbreak of the coronavirus diseas...\n",
              "3           3  ...  Coronavirus disease 2019 (COVID-19), caused by...\n",
              "4           4  ...  Emerging and reemerging infectious diseases ar...\n",
              "\n",
              "[5 rows x 5 columns]"
            ]
          },
          "metadata": {
            "tags": []
          },
          "execution_count": 9
        }
      ]
    },
    {
      "cell_type": "markdown",
      "metadata": {
        "id": "2HyX8y2kmTec"
      },
      "source": [
        "## Pre-Processing"
      ]
    },
    {
      "cell_type": "markdown",
      "metadata": {
        "id": "WvZlxWuB7HTV"
      },
      "source": [
        "### Stop Words Removal using apacy and scispacy"
      ]
    },
    {
      "cell_type": "code",
      "metadata": {
        "id": "k00E-d9ojsh8"
      },
      "source": [
        "def preprocess(text):\r\n",
        "\r\n",
        "  text = remove_stopwords(text) \r\n",
        "  text = stem_text(text)\r\n",
        "  text = strip_multiple_whitespaces(text)\r\n",
        "  text =  strip_punctuation(text)\r\n",
        "  tokens = tokenize(text)\r\n",
        "  return(list(tokens))"
      ],
      "execution_count": 10,
      "outputs": []
    },
    {
      "cell_type": "code",
      "metadata": {
        "id": "N1sPzmWS7qKW"
      },
      "source": [
        "text = df['Abstract'][1]"
      ],
      "execution_count": 11,
      "outputs": []
    },
    {
      "cell_type": "code",
      "metadata": {
        "id": "VGGoFPNsCiYu"
      },
      "source": [
        "nlp = spacy.load(\"en_core_web_sm\",disable=[\"tagger\", \"parser\",\"ner\"])\r\n",
        "def preprocess(text):\r\n",
        "  \"\"\"\r\n",
        "  This Function will take one input argument text.\r\n",
        "  spllit the sentences in text.\r\n",
        "  remove stop words\r\n",
        "  remove punctuations\r\n",
        "  \"\"\"\r\n",
        "  stop_words = set(stopwords.words('english'))\r\n",
        "  stemmer = PorterStemmer()\r\n",
        "  #text = sent_tokenize(text)\r\n",
        "\r\n",
        "  text = re.sub(r\"\\p{P}\", lambda m: \"-\" if m.group(0) == \"-\" else \"\", text) # removing punctuations\r\n",
        "  tokens = word_tokenize(text) # tokenize\r\n",
        "  \r\n",
        "  #stems =[stemmer.stem(word) for word in tokens] #lemmatization\r\n",
        "  \r\n",
        "  filtered_text = []\r\n",
        "  for w in tokens: \r\n",
        "    if w not in stop_words: \r\n",
        "      filtered_text.append(w) \r\n",
        "\r\n",
        "  return(filtered_text)"
      ],
      "execution_count": 15,
      "outputs": []
    },
    {
      "cell_type": "code",
      "metadata": {
        "colab": {
          "base_uri": "https://localhost:8080/"
        },
        "id": "hx2wVK3EINpY",
        "outputId": "5c5bccdd-23fa-4f0c-99f0-20c6790764af"
      },
      "source": [
        "preprocess(data[1])"
      ],
      "execution_count": 18,
      "outputs": [
        {
          "output_type": "execute_result",
          "data": {
            "text/plain": [
              "['The',\n",
              " 'spike',\n",
              " 'protein',\n",
              " 'SARS-CoV',\n",
              " '--',\n",
              " 'target',\n",
              " 'vaccine',\n",
              " 'therapeutic',\n",
              " 'development',\n",
              " 'Severe',\n",
              " 'acute',\n",
              " 'respiratory',\n",
              " 'syndrome',\n",
              " 'SARS',\n",
              " 'newly',\n",
              " 'emerging',\n",
              " 'infectious',\n",
              " 'disease',\n",
              " 'caused',\n",
              " 'novel',\n",
              " 'coronavirus',\n",
              " 'SARS-coronavirus',\n",
              " 'SARS-CoV',\n",
              " 'The',\n",
              " 'SARS-CoV',\n",
              " 'spike',\n",
              " 'S',\n",
              " 'protein',\n",
              " 'composed',\n",
              " 'two',\n",
              " 'subunits',\n",
              " 'S1',\n",
              " 'subunit',\n",
              " 'contains',\n",
              " 'receptor-binding',\n",
              " 'domain',\n",
              " 'engages',\n",
              " 'host',\n",
              " 'cell',\n",
              " 'receptor',\n",
              " 'angiotensin-converting',\n",
              " 'enzyme',\n",
              " '2',\n",
              " 'S2',\n",
              " 'subunit',\n",
              " 'mediates',\n",
              " 'fusion',\n",
              " 'viral',\n",
              " 'host',\n",
              " 'cell',\n",
              " 'membranes',\n",
              " 'The',\n",
              " 'S',\n",
              " 'protein',\n",
              " 'plays',\n",
              " 'key',\n",
              " 'parts',\n",
              " 'induction',\n",
              " 'neutralizing-antibody',\n",
              " 'T-cell',\n",
              " 'responses',\n",
              " 'well',\n",
              " 'protective',\n",
              " 'immunity',\n",
              " 'infection',\n",
              " 'SARS-CoV',\n",
              " 'In',\n",
              " 'Review',\n",
              " 'highlight',\n",
              " 'recent',\n",
              " 'advances',\n",
              " 'development',\n",
              " 'vaccines',\n",
              " 'therapeutics',\n",
              " 'based',\n",
              " 'S',\n",
              " 'protein']"
            ]
          },
          "metadata": {
            "tags": []
          },
          "execution_count": 18
        }
      ]
    },
    {
      "cell_type": "markdown",
      "metadata": {
        "id": "Jf34FG4syBKx"
      },
      "source": [
        "## Entities Extraction and Linking Using scispacy"
      ]
    },
    {
      "cell_type": "code",
      "metadata": {
        "id": "eMkC3cf64Mwq"
      },
      "source": [
        "nlp = en_core_sci_lg.load()\r\n",
        "ner_model = en_ner_bionlp13cg_md"
      ],
      "execution_count": 38,
      "outputs": []
    },
    {
      "cell_type": "code",
      "metadata": {
        "id": "H1Y0hIuT3Kmh"
      },
      "source": [
        "doc = nlp(text)"
      ],
      "execution_count": 35,
      "outputs": []
    },
    {
      "cell_type": "code",
      "metadata": {
        "id": "w212oxui3JnX"
      },
      "source": [
        "def display_entities(model,document):\r\n",
        "    \"\"\" A function that returns a tuple of displacy image of named or unnamed word entities and\r\n",
        "        a set of unique entities recognized based on scispacy model in use\r\n",
        "        Args: \r\n",
        "            model: A pretrained model from spaCy or ScispaCy\r\n",
        "            document: text data to be analysed\"\"\"\r\n",
        "    nlp = model.load()\r\n",
        "    doc = nlp(document)\r\n",
        "    displacy_image = displacy.render(doc, jupyter=True,style='ent')\r\n",
        "    entity_and_label = set([(X.text, X.label_) for X in doc.ents])\r\n",
        "    return  displacy_image, entity_and_label"
      ],
      "execution_count": 39,
      "outputs": []
    },
    {
      "cell_type": "code",
      "metadata": {
        "colab": {
          "base_uri": "https://localhost:8080/",
          "height": 597
        },
        "id": "JT0SOofE6Xyc",
        "outputId": "745c0e2c-3328-4c29-d7b5-94bd9ffdcbc4"
      },
      "source": [
        "entities = display_entities(ner_model,data[5])"
      ],
      "execution_count": 40,
      "outputs": [
        {
          "output_type": "display_data",
          "data": {
            "text/html": [
              "<span class=\"tex2jax_ignore\"><div class=\"entities\" style=\"line-height: 2.5; direction: ltr\">Properties of \n",
              "<mark class=\"entity\" style=\"background: #ddd; padding: 0.45em 0.6em; margin: 0 0.25em; line-height: 1; border-radius: 0.35em;\">\n",
              "    Coronavirus\n",
              "    <span style=\"font-size: 0.8em; font-weight: bold; line-height: 1; border-radius: 0.35em; text-transform: uppercase; vertical-align: middle; margin-left: 0.5rem\">ORGANISM</span>\n",
              "</mark>\n",
              " and \n",
              "<mark class=\"entity\" style=\"background: #ddd; padding: 0.45em 0.6em; margin: 0 0.25em; line-height: 1; border-radius: 0.35em;\">\n",
              "    SARS-CoV-2\n",
              "    <span style=\"font-size: 0.8em; font-weight: bold; line-height: 1; border-radius: 0.35em; text-transform: uppercase; vertical-align: middle; margin-left: 0.5rem\">ORGANISM_SUBSTANCE</span>\n",
              "</mark>\n",
              ". were identified beginning with the discovery of \n",
              "<mark class=\"entity\" style=\"background: #ddd; padding: 0.45em 0.6em; margin: 0 0.25em; line-height: 1; border-radius: 0.35em;\">\n",
              "    SARS-CoV\n",
              "    <span style=\"font-size: 0.8em; font-weight: bold; line-height: 1; border-radius: 0.35em; text-transform: uppercase; vertical-align: middle; margin-left: 0.5rem\">ORGANISM</span>\n",
              "</mark>\n",
              " in 2002. With the recent detection of \n",
              "<mark class=\"entity\" style=\"background: #ddd; padding: 0.45em 0.6em; margin: 0 0.25em; line-height: 1; border-radius: 0.35em;\">\n",
              "    SARS-CoV-2\n",
              "    <span style=\"font-size: 0.8em; font-weight: bold; line-height: 1; border-radius: 0.35em; text-transform: uppercase; vertical-align: middle; margin-left: 0.5rem\">ORGANISM</span>\n",
              "</mark>\n",
              ", there are now seven \n",
              "<mark class=\"entity\" style=\"background: #ddd; padding: 0.45em 0.6em; margin: 0 0.25em; line-height: 1; border-radius: 0.35em;\">\n",
              "    human coronaviruses\n",
              "    <span style=\"font-size: 0.8em; font-weight: bold; line-height: 1; border-radius: 0.35em; text-transform: uppercase; vertical-align: middle; margin-left: 0.5rem\">ORGANISM</span>\n",
              "</mark>\n",
              ". Those that cause mild diseases are the 229E, \n",
              "<mark class=\"entity\" style=\"background: #ddd; padding: 0.45em 0.6em; margin: 0 0.25em; line-height: 1; border-radius: 0.35em;\">\n",
              "    OC43\n",
              "    <span style=\"font-size: 0.8em; font-weight: bold; line-height: 1; border-radius: 0.35em; text-transform: uppercase; vertical-align: middle; margin-left: 0.5rem\">ORGANISM</span>\n",
              "</mark>\n",
              ", \n",
              "<mark class=\"entity\" style=\"background: #ddd; padding: 0.45em 0.6em; margin: 0 0.25em; line-height: 1; border-radius: 0.35em;\">\n",
              "    NL63\n",
              "    <span style=\"font-size: 0.8em; font-weight: bold; line-height: 1; border-radius: 0.35em; text-transform: uppercase; vertical-align: middle; margin-left: 0.5rem\">ORGANISM</span>\n",
              "</mark>\n",
              " and \n",
              "<mark class=\"entity\" style=\"background: #ddd; padding: 0.45em 0.6em; margin: 0 0.25em; line-height: 1; border-radius: 0.35em;\">\n",
              "    HKU1\n",
              "    <span style=\"font-size: 0.8em; font-weight: bold; line-height: 1; border-radius: 0.35em; text-transform: uppercase; vertical-align: middle; margin-left: 0.5rem\">ORGANISM</span>\n",
              "</mark>\n",
              ", and the pathogenic species are \n",
              "<mark class=\"entity\" style=\"background: #ddd; padding: 0.45em 0.6em; margin: 0 0.25em; line-height: 1; border-radius: 0.35em;\">\n",
              "    SARS-CoV\n",
              "    <span style=\"font-size: 0.8em; font-weight: bold; line-height: 1; border-radius: 0.35em; text-transform: uppercase; vertical-align: middle; margin-left: 0.5rem\">ORGANISM</span>\n",
              "</mark>\n",
              ", \n",
              "<mark class=\"entity\" style=\"background: #ddd; padding: 0.45em 0.6em; margin: 0 0.25em; line-height: 1; border-radius: 0.35em;\">\n",
              "    MERS-CoV\n",
              "    <span style=\"font-size: 0.8em; font-weight: bold; line-height: 1; border-radius: 0.35em; text-transform: uppercase; vertical-align: middle; margin-left: 0.5rem\">ORGANISM</span>\n",
              "</mark>\n",
              " and \n",
              "<mark class=\"entity\" style=\"background: #ddd; padding: 0.45em 0.6em; margin: 0 0.25em; line-height: 1; border-radius: 0.35em;\">\n",
              "    SARS-CoV-2 Coronaviruses\n",
              "    <span style=\"font-size: 0.8em; font-weight: bold; line-height: 1; border-radius: 0.35em; text-transform: uppercase; vertical-align: middle; margin-left: 0.5rem\">ORGANISM</span>\n",
              "</mark>\n",
              " (order Nidovirales, family Coronaviridae, and subfamily Orthocoronavirinae) are spherical (125nm diameter), and enveloped with club-shaped spikes on the \n",
              "<mark class=\"entity\" style=\"background: #ddd; padding: 0.45em 0.6em; margin: 0 0.25em; line-height: 1; border-radius: 0.35em;\">\n",
              "    surface\n",
              "    <span style=\"font-size: 0.8em; font-weight: bold; line-height: 1; border-radius: 0.35em; text-transform: uppercase; vertical-align: middle; margin-left: 0.5rem\">CELLULAR_COMPONENT</span>\n",
              "</mark>\n",
              " giving the appearance of a solar corona. Within the helically symmetrical \n",
              "<mark class=\"entity\" style=\"background: #ddd; padding: 0.45em 0.6em; margin: 0 0.25em; line-height: 1; border-radius: 0.35em;\">\n",
              "    nucleocapsid\n",
              "    <span style=\"font-size: 0.8em; font-weight: bold; line-height: 1; border-radius: 0.35em; text-transform: uppercase; vertical-align: middle; margin-left: 0.5rem\">GENE_OR_GENE_PRODUCT</span>\n",
              "</mark>\n",
              " is the large positive sense, single stranded RNA. Of the four \n",
              "<mark class=\"entity\" style=\"background: #ddd; padding: 0.45em 0.6em; margin: 0 0.25em; line-height: 1; border-radius: 0.35em;\">\n",
              "    coronavirus\n",
              "    <span style=\"font-size: 0.8em; font-weight: bold; line-height: 1; border-radius: 0.35em; text-transform: uppercase; vertical-align: middle; margin-left: 0.5rem\">ORGANISM</span>\n",
              "</mark>\n",
              " genera (\n",
              "<mark class=\"entity\" style=\"background: #ddd; padding: 0.45em 0.6em; margin: 0 0.25em; line-height: 1; border-radius: 0.35em;\">\n",
              "    alpha,beta\n",
              "    <span style=\"font-size: 0.8em; font-weight: bold; line-height: 1; border-radius: 0.35em; text-transform: uppercase; vertical-align: middle; margin-left: 0.5rem\">GENE_OR_GENE_PRODUCT</span>\n",
              "</mark>\n",
              ",\n",
              "<mark class=\"entity\" style=\"background: #ddd; padding: 0.45em 0.6em; margin: 0 0.25em; line-height: 1; border-radius: 0.35em;\">\n",
              "    gamma,delta\n",
              "    <span style=\"font-size: 0.8em; font-weight: bold; line-height: 1; border-radius: 0.35em; text-transform: uppercase; vertical-align: middle; margin-left: 0.5rem\">GENE_OR_GENE_PRODUCT</span>\n",
              "</mark>\n",
              "), \n",
              "<mark class=\"entity\" style=\"background: #ddd; padding: 0.45em 0.6em; margin: 0 0.25em; line-height: 1; border-radius: 0.35em;\">\n",
              "    human coronaviruses\n",
              "    <span style=\"font-size: 0.8em; font-weight: bold; line-height: 1; border-radius: 0.35em; text-transform: uppercase; vertical-align: middle; margin-left: 0.5rem\">ORGANISM</span>\n",
              "</mark>\n",
              " (\n",
              "<mark class=\"entity\" style=\"background: #ddd; padding: 0.45em 0.6em; margin: 0 0.25em; line-height: 1; border-radius: 0.35em;\">\n",
              "    HCoVs\n",
              "    <span style=\"font-size: 0.8em; font-weight: bold; line-height: 1; border-radius: 0.35em; text-transform: uppercase; vertical-align: middle; margin-left: 0.5rem\">ORGANISM</span>\n",
              "</mark>\n",
              ") are classified under alpha-CoV (\n",
              "<mark class=\"entity\" style=\"background: #ddd; padding: 0.45em 0.6em; margin: 0 0.25em; line-height: 1; border-radius: 0.35em;\">\n",
              "    HCoV-229E\n",
              "    <span style=\"font-size: 0.8em; font-weight: bold; line-height: 1; border-radius: 0.35em; text-transform: uppercase; vertical-align: middle; margin-left: 0.5rem\">ORGANISM</span>\n",
              "</mark>\n",
              " and \n",
              "<mark class=\"entity\" style=\"background: #ddd; padding: 0.45em 0.6em; margin: 0 0.25em; line-height: 1; border-radius: 0.35em;\">\n",
              "    NL63\n",
              "    <span style=\"font-size: 0.8em; font-weight: bold; line-height: 1; border-radius: 0.35em; text-transform: uppercase; vertical-align: middle; margin-left: 0.5rem\">ORGANISM</span>\n",
              "</mark>\n",
              ") and \n",
              "<mark class=\"entity\" style=\"background: #ddd; padding: 0.45em 0.6em; margin: 0 0.25em; line-height: 1; border-radius: 0.35em;\">\n",
              "    beta-CoV\n",
              "    <span style=\"font-size: 0.8em; font-weight: bold; line-height: 1; border-radius: 0.35em; text-transform: uppercase; vertical-align: middle; margin-left: 0.5rem\">SIMPLE_CHEMICAL</span>\n",
              "</mark>\n",
              " (MERS-CoV, \n",
              "<mark class=\"entity\" style=\"background: #ddd; padding: 0.45em 0.6em; margin: 0 0.25em; line-height: 1; border-radius: 0.35em;\">\n",
              "    SARS-CoV\n",
              "    <span style=\"font-size: 0.8em; font-weight: bold; line-height: 1; border-radius: 0.35em; text-transform: uppercase; vertical-align: middle; margin-left: 0.5rem\">ORGANISM</span>\n",
              "</mark>\n",
              ", HCoVOC43 and \n",
              "<mark class=\"entity\" style=\"background: #ddd; padding: 0.45em 0.6em; margin: 0 0.25em; line-height: 1; border-radius: 0.35em;\">\n",
              "    HCoV-HKU1\n",
              "    <span style=\"font-size: 0.8em; font-weight: bold; line-height: 1; border-radius: 0.35em; text-transform: uppercase; vertical-align: middle; margin-left: 0.5rem\">ORGANISM</span>\n",
              "</mark>\n",
              "). \n",
              "<mark class=\"entity\" style=\"background: #ddd; padding: 0.45em 0.6em; margin: 0 0.25em; line-height: 1; border-radius: 0.35em;\">\n",
              "    SARS-CoV-2\n",
              "    <span style=\"font-size: 0.8em; font-weight: bold; line-height: 1; border-radius: 0.35em; text-transform: uppercase; vertical-align: middle; margin-left: 0.5rem\">ORGANISM</span>\n",
              "</mark>\n",
              " is a \n",
              "<mark class=\"entity\" style=\"background: #ddd; padding: 0.45em 0.6em; margin: 0 0.25em; line-height: 1; border-radius: 0.35em;\">\n",
              "    beta-CoV\n",
              "    <span style=\"font-size: 0.8em; font-weight: bold; line-height: 1; border-radius: 0.35em; text-transform: uppercase; vertical-align: middle; margin-left: 0.5rem\">ORGANISM_SUBSTANCE</span>\n",
              "</mark>\n",
              " and shows fairly close relatedness with two \n",
              "<mark class=\"entity\" style=\"background: #ddd; padding: 0.45em 0.6em; margin: 0 0.25em; line-height: 1; border-radius: 0.35em;\">\n",
              "    bat-derived CoV-like coronaviruses\n",
              "    <span style=\"font-size: 0.8em; font-weight: bold; line-height: 1; border-radius: 0.35em; text-transform: uppercase; vertical-align: middle; margin-left: 0.5rem\">GENE_OR_GENE_PRODUCT</span>\n",
              "</mark>\n",
              ", bat-SL-CoVZC45 and \n",
              "<mark class=\"entity\" style=\"background: #ddd; padding: 0.45em 0.6em; margin: 0 0.25em; line-height: 1; border-radius: 0.35em;\">\n",
              "    bat-SL-CoVZXC21\n",
              "    <span style=\"font-size: 0.8em; font-weight: bold; line-height: 1; border-radius: 0.35em; text-transform: uppercase; vertical-align: middle; margin-left: 0.5rem\">ORGANISM_SUBSTANCE</span>\n",
              "</mark>\n",
              ". Even so, its genome is similar to that of the typical CoVs. \n",
              "<mark class=\"entity\" style=\"background: #ddd; padding: 0.45em 0.6em; margin: 0 0.25em; line-height: 1; border-radius: 0.35em;\">\n",
              "    SARS-CoV\n",
              "    <span style=\"font-size: 0.8em; font-weight: bold; line-height: 1; border-radius: 0.35em; text-transform: uppercase; vertical-align: middle; margin-left: 0.5rem\">ORGANISM</span>\n",
              "</mark>\n",
              " and MERS-CoV originated in \n",
              "<mark class=\"entity\" style=\"background: #ddd; padding: 0.45em 0.6em; margin: 0 0.25em; line-height: 1; border-radius: 0.35em;\">\n",
              "    bats\n",
              "    <span style=\"font-size: 0.8em; font-weight: bold; line-height: 1; border-radius: 0.35em; text-transform: uppercase; vertical-align: middle; margin-left: 0.5rem\">ORGANISM_SUBSTANCE</span>\n",
              "</mark>\n",
              ", and it appears to be so for \n",
              "<mark class=\"entity\" style=\"background: #ddd; padding: 0.45em 0.6em; margin: 0 0.25em; line-height: 1; border-radius: 0.35em;\">\n",
              "    SARS-CoV-2\n",
              "    <span style=\"font-size: 0.8em; font-weight: bold; line-height: 1; border-radius: 0.35em; text-transform: uppercase; vertical-align: middle; margin-left: 0.5rem\">ORGANISM</span>\n",
              "</mark>\n",
              " as well. The possibility of an intermediate host facilitating the emergence of the virus in \n",
              "<mark class=\"entity\" style=\"background: #ddd; padding: 0.45em 0.6em; margin: 0 0.25em; line-height: 1; border-radius: 0.35em;\">\n",
              "    humans\n",
              "    <span style=\"font-size: 0.8em; font-weight: bold; line-height: 1; border-radius: 0.35em; text-transform: uppercase; vertical-align: middle; margin-left: 0.5rem\">ORGANISM</span>\n",
              "</mark>\n",
              " has already been shown with \n",
              "<mark class=\"entity\" style=\"background: #ddd; padding: 0.45em 0.6em; margin: 0 0.25em; line-height: 1; border-radius: 0.35em;\">\n",
              "    civet cats\n",
              "    <span style=\"font-size: 0.8em; font-weight: bold; line-height: 1; border-radius: 0.35em; text-transform: uppercase; vertical-align: middle; margin-left: 0.5rem\">ORGANISM</span>\n",
              "</mark>\n",
              " acting as intermediate hosts for SARS-CoVs, and dromedary \n",
              "<mark class=\"entity\" style=\"background: #ddd; padding: 0.45em 0.6em; margin: 0 0.25em; line-height: 1; border-radius: 0.35em;\">\n",
              "    camels\n",
              "    <span style=\"font-size: 0.8em; font-weight: bold; line-height: 1; border-radius: 0.35em; text-transform: uppercase; vertical-align: middle; margin-left: 0.5rem\">ORGANISM</span>\n",
              "</mark>\n",
              " for \n",
              "<mark class=\"entity\" style=\"background: #ddd; padding: 0.45em 0.6em; margin: 0 0.25em; line-height: 1; border-radius: 0.35em;\">\n",
              "    MERS-CoV. Human-to-human\n",
              "    <span style=\"font-size: 0.8em; font-weight: bold; line-height: 1; border-radius: 0.35em; text-transform: uppercase; vertical-align: middle; margin-left: 0.5rem\">ORGANISM</span>\n",
              "</mark>\n",
              " transmission is primarily achieved through close contact of respiratory droplets, direct contact with the infected individuals, or by contact with contaminated objects and surfaces. The coronaviral genome contains four major structural proteins: the spike (S), \n",
              "<mark class=\"entity\" style=\"background: #ddd; padding: 0.45em 0.6em; margin: 0 0.25em; line-height: 1; border-radius: 0.35em;\">\n",
              "    membrane\n",
              "    <span style=\"font-size: 0.8em; font-weight: bold; line-height: 1; border-radius: 0.35em; text-transform: uppercase; vertical-align: middle; margin-left: 0.5rem\">CELLULAR_COMPONENT</span>\n",
              "</mark>\n",
              " (M), envelope (E) and the nucleocapsid (N) protein, all of which are encoded within the 3' end of the genome. The S protein mediates attachment of the virus to the \n",
              "<mark class=\"entity\" style=\"background: #ddd; padding: 0.45em 0.6em; margin: 0 0.25em; line-height: 1; border-radius: 0.35em;\">\n",
              "    host cell surface receptors\n",
              "    <span style=\"font-size: 0.8em; font-weight: bold; line-height: 1; border-radius: 0.35em; text-transform: uppercase; vertical-align: middle; margin-left: 0.5rem\">CELL</span>\n",
              "</mark>\n",
              " resulting in fusion and subsequent viral entry. The M protein is the most abundant protein and defines the shape of the viral envelope. The E protein is the smallest of the major structural proteins and participates in viral assembly and budding. The N protein is the only one that binds to the RNA genome and is also involved in viral assembly and budding. Replication of \n",
              "<mark class=\"entity\" style=\"background: #ddd; padding: 0.45em 0.6em; margin: 0 0.25em; line-height: 1; border-radius: 0.35em;\">\n",
              "    coronaviruses\n",
              "    <span style=\"font-size: 0.8em; font-weight: bold; line-height: 1; border-radius: 0.35em; text-transform: uppercase; vertical-align: middle; margin-left: 0.5rem\">ORGANISM</span>\n",
              "</mark>\n",
              " begin with attachment and entry. Attachment of the virus to the \n",
              "<mark class=\"entity\" style=\"background: #ddd; padding: 0.45em 0.6em; margin: 0 0.25em; line-height: 1; border-radius: 0.35em;\">\n",
              "    host cell\n",
              "    <span style=\"font-size: 0.8em; font-weight: bold; line-height: 1; border-radius: 0.35em; text-transform: uppercase; vertical-align: middle; margin-left: 0.5rem\">CELL</span>\n",
              "</mark>\n",
              " is initiated by interactions between the S protein and its specific receptor. Following receptor binding, the virus enters \n",
              "<mark class=\"entity\" style=\"background: #ddd; padding: 0.45em 0.6em; margin: 0 0.25em; line-height: 1; border-radius: 0.35em;\">\n",
              "    host cell cytosol\n",
              "    <span style=\"font-size: 0.8em; font-weight: bold; line-height: 1; border-radius: 0.35em; text-transform: uppercase; vertical-align: middle; margin-left: 0.5rem\">CELL</span>\n",
              "</mark>\n",
              " via cleavage of S protein by a protease enzyme, followed by fusion of the viral and \n",
              "<mark class=\"entity\" style=\"background: #ddd; padding: 0.45em 0.6em; margin: 0 0.25em; line-height: 1; border-radius: 0.35em;\">\n",
              "    cellular membranes\n",
              "    <span style=\"font-size: 0.8em; font-weight: bold; line-height: 1; border-radius: 0.35em; text-transform: uppercase; vertical-align: middle; margin-left: 0.5rem\">CELLULAR_COMPONENT</span>\n",
              "</mark>\n",
              ". The next step is the translation of the \n",
              "<mark class=\"entity\" style=\"background: #ddd; padding: 0.45em 0.6em; margin: 0 0.25em; line-height: 1; border-radius: 0.35em;\">\n",
              "    replicase\n",
              "    <span style=\"font-size: 0.8em; font-weight: bold; line-height: 1; border-radius: 0.35em; text-transform: uppercase; vertical-align: middle; margin-left: 0.5rem\">GENE_OR_GENE_PRODUCT</span>\n",
              "</mark>\n",
              " gene from the virion genomic RNA and then translation and assembly of the viral replicase complexes. Following replication and subgenomic RNA synthesis, encapsidation occurs resulting in the formation of the mature virus. Following assembly, virions are transported to the \n",
              "<mark class=\"entity\" style=\"background: #ddd; padding: 0.45em 0.6em; margin: 0 0.25em; line-height: 1; border-radius: 0.35em;\">\n",
              "    cell surface\n",
              "    <span style=\"font-size: 0.8em; font-weight: bold; line-height: 1; border-radius: 0.35em; text-transform: uppercase; vertical-align: middle; margin-left: 0.5rem\">CELLULAR_COMPONENT</span>\n",
              "</mark>\n",
              " in \n",
              "<mark class=\"entity\" style=\"background: #ddd; padding: 0.45em 0.6em; margin: 0 0.25em; line-height: 1; border-radius: 0.35em;\">\n",
              "    vesicles\n",
              "    <span style=\"font-size: 0.8em; font-weight: bold; line-height: 1; border-radius: 0.35em; text-transform: uppercase; vertical-align: middle; margin-left: 0.5rem\">CELLULAR_COMPONENT</span>\n",
              "</mark>\n",
              " and released by exocytosis.</div></span>"
            ],
            "text/plain": [
              "<IPython.core.display.HTML object>"
            ]
          },
          "metadata": {
            "tags": []
          }
        }
      ]
    },
    {
      "cell_type": "code",
      "metadata": {
        "id": "qtX2qkZS8Tih"
      },
      "source": [
        ""
      ],
      "execution_count": null,
      "outputs": []
    }
  ]
}