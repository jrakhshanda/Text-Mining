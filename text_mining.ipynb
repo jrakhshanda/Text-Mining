{
  "nbformat": 4,
  "nbformat_minor": 0,
  "metadata": {
    "colab": {
      "name": "text_mining.ipynb",
      "provenance": [],
      "collapsed_sections": [],
      "include_colab_link": true
    },
    "kernelspec": {
      "name": "python3",
      "display_name": "Python 3"
    },
    "accelerator": "GPU"
  },
  "cells": [
    {
      "cell_type": "markdown",
      "metadata": {
        "id": "view-in-github",
        "colab_type": "text"
      },
      "source": [
        "<a href=\"https://colab.research.google.com/github/jrakhshanda/Text-Mining/blob/main/text_mining.ipynb\" target=\"_parent\"><img src=\"https://colab.research.google.com/assets/colab-badge.svg\" alt=\"Open In Colab\"/></a>"
      ]
    },
    {
      "cell_type": "markdown",
      "metadata": {
        "id": "8G8c0ZhxWijM"
      },
      "source": [
        "# Tweet Sentiment Extraction"
      ]
    },
    {
      "cell_type": "code",
      "metadata": {
        "id": "lNFpGG_zDWtn"
      },
      "source": [
        "!pip install tokenizers\r\n",
        "!pip install transformers\r\n",
        "!pip install wordsegment\r\n",
        "#!pip install setuptools_rust\r\n",
        "#!curl https://raw.githubusercontent.com/pytorch/xla/master/contrib/scripts/env-setup.py -o pytorch-xla-env-setup.py\r\n",
        "#!python pytorch-xla-env-setup.py --version nightly --apt-packages libomp5 libopenblas-dev"
      ],
      "execution_count": null,
      "outputs": []
    },
    {
      "cell_type": "code",
      "metadata": {
        "id": "bQOakbOlBpI4"
      },
      "source": [
        "import pandas as pd\r\n",
        "import numpy as np\r\n",
        "import string\r\n",
        "import matplotlib.pyplot as plt\r\n",
        "#import pytorch_utils\r\n",
        "\r\n",
        "from sklearn import model_selection, metrics\r\n",
        "import re\r\n",
        "import os\r\n",
        "\r\n",
        "import torch\r\n",
        "import torch.nn as nn\r\n",
        "import torch.nn.functional as F\r\n",
        "from torch.utils.data import DataLoader, dataset, RandomSampler, SequentialSampler\r\n",
        "\r\n",
        "from transformers import *\r\n",
        "import tokenizers\r\n",
        "from tokenizers import BertWordPieceTokenizer, ByteLevelBPETokenizer\r\n",
        "\r\n",
        "import warnings\r\n",
        "warnings.filterwarnings(\"ignore\")\r\n"
      ],
      "execution_count": 2,
      "outputs": []
    },
    {
      "cell_type": "code",
      "metadata": {
        "id": "TbvzKR65OeSG",
        "colab": {
          "base_uri": "https://localhost:8080/"
        },
        "outputId": "a47f2754-b1eb-4bb0-f0ce-168d77dc4634"
      },
      "source": [
        "from google.colab import drive\r\n",
        "drive.mount('/content/drive/')"
      ],
      "execution_count": 3,
      "outputs": [
        {
          "output_type": "stream",
          "text": [
            "Mounted at /content/drive/\n"
          ],
          "name": "stdout"
        }
      ]
    },
    {
      "cell_type": "code",
      "metadata": {
        "id": "s5KiLjP2zm8Q"
      },
      "source": [
        "df_train = pd.read_csv('train.csv',keep_default_na=False).reset_index(drop=True)\r\n",
        "#df_test = pd.read_csv('/content/drive/MyDrive/test.csv',keep_default_na=False).reset_index(drop=True)\r\n"
      ],
      "execution_count": null,
      "outputs": []
    },
    {
      "cell_type": "code",
      "metadata": {
        "colab": {
          "base_uri": "https://localhost:8080/"
        },
        "id": "_4RI5gDXSL9A",
        "outputId": "b3babc4d-56c9-4564-f136-0c092cc16143"
      },
      "source": [
        "max_len =  [len(i) for i in df_train.text]\r\n",
        "np.max(max_len)"
      ],
      "execution_count": null,
      "outputs": [
        {
          "output_type": "execute_result",
          "data": {
            "text/plain": [
              "141"
            ]
          },
          "metadata": {
            "tags": []
          },
          "execution_count": 81
        }
      ]
    },
    {
      "cell_type": "markdown",
      "metadata": {
        "id": "Ph_v-D01uQmF"
      },
      "source": [
        "## Creating fold of data\r\n",
        "ectracting out 10% data for testing and then creating 5 folds of data to train our model using cross validation. we will use one fold for validation and train model using other folds. "
      ]
    },
    {
      "cell_type": "code",
      "metadata": {
        "id": "mZkPA3x_RjXN"
      },
      "source": [
        "#df, test = model_selection.train_test_split(df_train,test_size=0.2)\r\n",
        "#test.to_csv('/content/drive/MyDrive/BERT_files/test_fold.csv')\r\n",
        "\r\n",
        "#df[\"kfold\"] = -1\r\n",
        "#df = df.sample(frac=1).reset_index(drop=True)\r\n",
        "\r\n",
        "#kf = model_selection.StratifiedKFold(n_splits=5)\r\n",
        "\r\n",
        "#for fold, (trn_, val_) in enumerate(kf.split(X=df, y=df.sentiment.values)):\r\n",
        "#    print(len(trn_), len(val_))\r\n",
        "#    df.loc[val_, 'kfold'] = fold\r\n",
        "\r\n",
        "#df.to_csv(\"/content/drive/MyDrive/BERT_files/train_folds.csv\", index=False)\r\n",
        "#test.to_csv(\"/content/drive/MyDrive/BERT_files/test_fold.csv\", index=False)"
      ],
      "execution_count": null,
      "outputs": []
    },
    {
      "cell_type": "code",
      "metadata": {
        "colab": {
          "base_uri": "https://localhost:8080/"
        },
        "id": "y9H-0MBr5Yx4",
        "outputId": "42422697-889a-4a36-9283-1feb0619daa0"
      },
      "source": [
        "test.shape"
      ],
      "execution_count": null,
      "outputs": [
        {
          "output_type": "execute_result",
          "data": {
            "text/plain": [
              "(5497, 4)"
            ]
          },
          "metadata": {
            "tags": []
          },
          "execution_count": 159
        }
      ]
    },
    {
      "cell_type": "code",
      "metadata": {
        "colab": {
          "base_uri": "https://localhost:8080/",
          "height": 218
        },
        "id": "5HjTQ0uDCC8o",
        "outputId": "6f8a3d22-02ad-4fcc-e3da-7b70d78d607a"
      },
      "source": [
        "print(df_train.shape)\r\n",
        "df_test.sample(5)"
      ],
      "execution_count": null,
      "outputs": [
        {
          "output_type": "stream",
          "text": [
            "(27481, 4)\n"
          ],
          "name": "stdout"
        },
        {
          "output_type": "execute_result",
          "data": {
            "text/html": [
              "<div>\n",
              "<style scoped>\n",
              "    .dataframe tbody tr th:only-of-type {\n",
              "        vertical-align: middle;\n",
              "    }\n",
              "\n",
              "    .dataframe tbody tr th {\n",
              "        vertical-align: top;\n",
              "    }\n",
              "\n",
              "    .dataframe thead th {\n",
              "        text-align: right;\n",
              "    }\n",
              "</style>\n",
              "<table border=\"1\" class=\"dataframe\">\n",
              "  <thead>\n",
              "    <tr style=\"text-align: right;\">\n",
              "      <th></th>\n",
              "      <th>textID</th>\n",
              "      <th>text</th>\n",
              "      <th>sentiment</th>\n",
              "    </tr>\n",
              "  </thead>\n",
              "  <tbody>\n",
              "    <tr>\n",
              "      <th>766</th>\n",
              "      <td>038c049e2a</td>\n",
              "      <td>what`s wrong?</td>\n",
              "      <td>neutral</td>\n",
              "    </tr>\n",
              "    <tr>\n",
              "      <th>2802</th>\n",
              "      <td>b9285b80a9</td>\n",
              "      <td>Not well again   it`s definitely not hayfever</td>\n",
              "      <td>negative</td>\n",
              "    </tr>\n",
              "    <tr>\n",
              "      <th>2907</th>\n",
              "      <td>692cd6a34b</td>\n",
              "      <td>NKU - I can get that app after all!</td>\n",
              "      <td>neutral</td>\n",
              "    </tr>\n",
              "    <tr>\n",
              "      <th>2052</th>\n",
              "      <td>6c82821920</td>\n",
              "      <td>when i go to the ticketmaster site it says 'n...</td>\n",
              "      <td>neutral</td>\n",
              "    </tr>\n",
              "    <tr>\n",
              "      <th>771</th>\n",
              "      <td>4987bf323b</td>\n",
              "      <td>im trying to fix it.. it doesnt do it  and it...</td>\n",
              "      <td>positive</td>\n",
              "    </tr>\n",
              "  </tbody>\n",
              "</table>\n",
              "</div>"
            ],
            "text/plain": [
              "          textID                                               text sentiment\n",
              "766   038c049e2a                                      what`s wrong?   neutral\n",
              "2802  b9285b80a9      Not well again   it`s definitely not hayfever  negative\n",
              "2907  692cd6a34b                NKU - I can get that app after all!   neutral\n",
              "2052  6c82821920   when i go to the ticketmaster site it says 'n...   neutral\n",
              "771   4987bf323b   im trying to fix it.. it doesnt do it  and it...  positive"
            ]
          },
          "metadata": {
            "tags": []
          },
          "execution_count": 124
        }
      ]
    },
    {
      "cell_type": "code",
      "metadata": {
        "id": "VUE7-MSZM3D3",
        "colab": {
          "base_uri": "https://localhost:8080/",
          "height": 469
        },
        "outputId": "cf4f0166-095d-4e3b-9b81-38e08f47f90f"
      },
      "source": [
        "plt.rcParams.update({'font.size': 15})\r\n",
        "plt.figure(figsize=(16,6))\r\n",
        "plt.subplot(1, 2, 1)\r\n",
        "df_train[\"sentiment\"].value_counts().plot(kind='bar',color = ['#ff9999','#99ff99','#ffcc99'])\r\n",
        "plt.xlabel(\"Sentiment\")\r\n",
        "plt.ylabel(\"Count\")\r\n",
        "plt.title('Training Data')\r\n",
        "\r\n",
        "lst1 = [df_train.sentiment[df_train.sentiment == 'neutral'].count(),\r\n",
        "        df_train.sentiment[df_train.sentiment == 'positive'].count(),\r\n",
        "        df_train.sentiment[df_train.sentiment == 'negative'].count()]\r\n",
        "        \r\n",
        "plt.subplot(1, 2, 2)\r\n",
        "plt.pie(lst1, labels=[\"Neutral\", \"positive\", \"Negative\"], startangle=90, autopct='%.2f%%',colors=['#ff9999','#99ff99','#ffcc99'])\r\n",
        "plt.title('Sentiments Distribution on Train Data')\r\n",
        "plt.show()"
      ],
      "execution_count": null,
      "outputs": [
        {
          "output_type": "display_data",
          "data": {
            "image/png": "[encoded data removed]",
            "text/plain": [
              "<Figure size 1152x432 with 2 Axes>"
            ]
          },
          "metadata": {
            "tags": [],
            "needs_background": "light"
          }
        }
      ]
    },
    {
      "cell_type": "code",
      "metadata": {
        "id": "rPSvB7FUxWk7",
        "colab": {
          "base_uri": "https://localhost:8080/",
          "height": 248
        },
        "outputId": "4b3e6542-926d-401f-8b77-288b7560273d"
      },
      "source": [
        "print(df_test.shape)\r\n",
        "df_test.sample(6)"
      ],
      "execution_count": null,
      "outputs": [
        {
          "output_type": "stream",
          "text": [
            "(3534, 3)\n"
          ],
          "name": "stdout"
        },
        {
          "output_type": "execute_result",
          "data": {
            "text/html": [
              "<div>\n",
              "<style scoped>\n",
              "    .dataframe tbody tr th:only-of-type {\n",
              "        vertical-align: middle;\n",
              "    }\n",
              "\n",
              "    .dataframe tbody tr th {\n",
              "        vertical-align: top;\n",
              "    }\n",
              "\n",
              "    .dataframe thead th {\n",
              "        text-align: right;\n",
              "    }\n",
              "</style>\n",
              "<table border=\"1\" class=\"dataframe\">\n",
              "  <thead>\n",
              "    <tr style=\"text-align: right;\">\n",
              "      <th></th>\n",
              "      <th>textID</th>\n",
              "      <th>text</th>\n",
              "      <th>sentiment</th>\n",
              "    </tr>\n",
              "  </thead>\n",
              "  <tbody>\n",
              "    <tr>\n",
              "      <th>689</th>\n",
              "      <td>1620bd719e</td>\n",
              "      <td>All done. No more internship.</td>\n",
              "      <td>neutral</td>\n",
              "    </tr>\n",
              "    <tr>\n",
              "      <th>2890</th>\n",
              "      <td>089f2af7b9</td>\n",
              "      <td>i wish i could go to meet in the middle tomorrow.</td>\n",
              "      <td>positive</td>\n",
              "    </tr>\n",
              "    <tr>\n",
              "      <th>2102</th>\n",
              "      <td>4fb0995de8</td>\n",
              "      <td>Hows that possible? No rain forecast for Pinkp...</td>\n",
              "      <td>neutral</td>\n",
              "    </tr>\n",
              "    <tr>\n",
              "      <th>2129</th>\n",
              "      <td>d24c474353</td>\n",
              "      <td>I know it`s against the law... I am a rebel i...</td>\n",
              "      <td>positive</td>\n",
              "    </tr>\n",
              "    <tr>\n",
              "      <th>672</th>\n",
              "      <td>10f2498c35</td>\n",
              "      <td>I want Crimson Gem Saga.  I will just go play ...</td>\n",
              "      <td>neutral</td>\n",
              "    </tr>\n",
              "    <tr>\n",
              "      <th>156</th>\n",
              "      <td>14760477ad</td>\n",
              "      <td>is pretty dang tired. but chambers class is fo...</td>\n",
              "      <td>negative</td>\n",
              "    </tr>\n",
              "  </tbody>\n",
              "</table>\n",
              "</div>"
            ],
            "text/plain": [
              "          textID                                               text sentiment\n",
              "689   1620bd719e                      All done. No more internship.   neutral\n",
              "2890  089f2af7b9  i wish i could go to meet in the middle tomorrow.  positive\n",
              "2102  4fb0995de8  Hows that possible? No rain forecast for Pinkp...   neutral\n",
              "2129  d24c474353   I know it`s against the law... I am a rebel i...  positive\n",
              "672   10f2498c35  I want Crimson Gem Saga.  I will just go play ...   neutral\n",
              "156   14760477ad  is pretty dang tired. but chambers class is fo...  negative"
            ]
          },
          "metadata": {
            "tags": []
          },
          "execution_count": 126
        }
      ]
    },
    {
      "cell_type": "code",
      "metadata": {
        "colab": {
          "base_uri": "https://localhost:8080/",
          "height": 469
        },
        "id": "hGOrQnQrt9dL",
        "outputId": "4400de77-53fb-4e34-c20b-88488b039d2d"
      },
      "source": [
        "plt.rcParams.update({'font.size': 15})\r\n",
        "plt.figure(figsize=(16,6))\r\n",
        "plt.subplot(1, 2, 1)\r\n",
        "df_test[\"sentiment\"].value_counts().plot(kind='bar',color = ['#ff9999','#99ff99','#ffcc99'])\r\n",
        "plt.xlabel(\"Sentiment\")\r\n",
        "plt.ylabel(\"Count\")\r\n",
        "plt.title('Test Data')\r\n",
        "\r\n",
        "lst1 = [df_test.sentiment[df_test.sentiment == 'neutral'].count(),\r\n",
        "        df_test.sentiment[df_test.sentiment == 'positive'].count(),\r\n",
        "        df_test.sentiment[df_test.sentiment == 'negative'].count()]\r\n",
        "plt.subplot(1, 2, 2)\r\n",
        "plt.pie(lst1, labels=[\"Neutral\", \"positive\", \"Negative\"], startangle=90, autopct='%.2f%%',colors=['#ff9999','#99ff99','#ffcc99'])\r\n",
        "plt.title('Sentiments Distribution on Test Data')\r\n",
        "plt.show()"
      ],
      "execution_count": null,
      "outputs": [
        {
          "output_type": "display_data",
          "data": {
            "image/png": "[encoded data removed]",
            "text/plain": [
              "<Figure size 1152x432 with 2 Axes>"
            ]
          },
          "metadata": {
            "tags": [],
            "needs_background": "light"
          }
        }
      ]
    },
    {
      "cell_type": "markdown",
      "metadata": {
        "id": "dDMduQaAWauh"
      },
      "source": [
        "## Cleaning of the Data"
      ]
    },
    {
      "cell_type": "code",
      "metadata": {
        "id": "7X53uEyvPNAU"
      },
      "source": [
        "# removig punctuation\r\n",
        "def clean_data(text):\r\n",
        "\r\n",
        "  # removing punctuation\r\n",
        "  text  = \" \".join([char for char in text if char not in string.punctuation]).strip()\r\n",
        "  # removing digits\r\n",
        "  text = re.sub('[0-9]+', '', text)\r\n",
        "  # removing URL \r\n",
        "  text = re.sub(r'http\\S+', '', text) \r\n",
        "  \r\n",
        "  return text\r\n"
      ],
      "execution_count": null,
      "outputs": []
    },
    {
      "cell_type": "code",
      "metadata": {
        "id": "4YzHmNe99iNl"
      },
      "source": [
        "df_train['text'] = df_train['text'].apply(lambda x: clean_data(x))\r\n",
        "df_train['selected_text'] = df_train['selected_text'].apply(lambda x: clean_data(x))\r\n",
        "df_test[''] = df_test['text'].apply(lambda x: clean_data(x))"
      ],
      "execution_count": null,
      "outputs": []
    },
    {
      "cell_type": "markdown",
      "metadata": {
        "id": "cwIjtMYw_ze2"
      },
      "source": [
        "## Configuration\r\n",
        "[BERT code](https://www.kaggle.com/abhishek/text-extraction-using-bert-w-sentiment-inference)\r\n",
        "\r\n",
        "For configuration, we will use the transformer library that hosts relevant information concerning the model we will be using, such as the number of layers, batch size, number of epochs, and the number of attention heads."
      ]
    },
    {
      "cell_type": "code",
      "metadata": {
        "id": "zYxd63azb4C5"
      },
      "source": [
        "class config:\r\n",
        "    TRAIN_BATCH_SIZE = 32\r\n",
        "    VALID_BATCH_SIZE = 16\r\n",
        "    EPOCHS = 3\r\n",
        "    TRAINING_FILE = pd.read_csv('/content/drive/MyDrive/RoBERTa_files/train_folds.csv',keep_default_na=False)\r\n",
        "    TEST_FILE = pd.read_csv('/content/drive/MyDrive/RoBERTa_files/test.csv',keep_default_na=False)\r\n",
        "    MAX_LEN = 141\r\n",
        "    slow_tokenizer = BertTokenizer.from_pretrained(\"bert-base-uncased\")\r\n",
        "    save_path = \"bert_base_uncased/\"\r\n",
        "    if not os.path.exists(save_path):\r\n",
        "      os.makedirs(save_path)\r\n",
        "    slow_tokenizer.save_pretrained(save_path)\r\n",
        "\r\n",
        "  # Load the fast tokenizer from saved file\r\n",
        "    tokenizer = BertWordPieceTokenizer(\"bert_base_uncased/vocab.txt\", lowercase=True)"
      ],
      "execution_count": 78,
      "outputs": []
    },
    {
      "cell_type": "markdown",
      "metadata": {
        "id": "pAUHF62fTm3U"
      },
      "source": [
        "## Model Implementation"
      ]
    },
    {
      "cell_type": "code",
      "metadata": {
        "id": "cHIU2LqsTlak"
      },
      "source": [
        "class BERTBaseUncased(nn.Module):\r\n",
        "    def __init__(self,conf):\r\n",
        "        super(BERTBaseUncased, self).__init__()\r\n",
        "        self.bert = BertModel.from_pretrained('bert-base-uncased',config=conf)\r\n",
        "        self.l0 = nn.Linear(768 * 2, 2)\r\n",
        "        self.drop_out = nn.Dropout(0.1)\r\n",
        "        torch.nn.init.normal_(self.l0.weight, std=0.15)\r\n",
        "\r\n",
        "    def forward(self, ids, attention_mask, token_type_ids):\r\n",
        "        # not using sentiment at all\r\n",
        "        _, _, output = self.bert(ids,\r\n",
        "                                 attention_mask = attention_mask,\r\n",
        "                                 token_type_ids=token_type_ids).to_tuple()\r\n",
        "        \r\n",
        "        output = torch.cat((output[-1], output[-2]), dim=-1)       \r\n",
        "        output = self.drop_out(output)\r\n",
        "\r\n",
        "        # (batch_size, num_tokens, 768)\r\n",
        "        logits = self.l0(output[:,:,:])\r\n",
        "        \r\n",
        "        # (batch_size, num_tokens, 2)\r\n",
        "        # (batch_size, num_tokens, 1), (batch_size, num_tokens, 1)\r\n",
        "        start_logits, end_logits = logits.split(1, dim=-1)\r\n",
        "\r\n",
        "        start_logits, end_logits = start_logits.squeeze(-1),  end_logits.squeeze(-1)\r\n",
        "        # (batch_size, num_tokens), (batch_size, num_tokens)\r\n",
        "\r\n",
        "        return start_logits, end_logits"
      ],
      "execution_count": 7,
      "outputs": []
    },
    {
      "cell_type": "code",
      "metadata": {
        "id": "nMSpLdu-UbIY",
        "colab": {
          "base_uri": "https://localhost:8080/"
        },
        "outputId": "8395c656-9b6a-49c3-f4a8-601a90b4c9ef"
      },
      "source": [
        "# If there's a GPU available...\r\n",
        "if torch.cuda.is_available():    \r\n",
        "    # Tell PyTorch to use the GPU.    \r\n",
        "    device = torch.device(\"cuda\")\r\n",
        "    print('There are %d GPU(s) available.' % torch.cuda.device_count())\r\n",
        "    print('We will use the GPU:', torch.cuda.get_device_name(0))\r\n",
        "# If not...\r\n",
        "else:\r\n",
        "    print('No GPU available, using the CPU instead.')\r\n",
        "    device = torch.device(\"cpu\")"
      ],
      "execution_count": 8,
      "outputs": [
        {
          "output_type": "stream",
          "text": [
            "There are 1 GPU(s) available.\n",
            "We will use the GPU: Tesla V100-SXM2-16GB\n"
          ],
          "name": "stdout"
        }
      ]
    },
    {
      "cell_type": "markdown",
      "metadata": {
        "id": "796zgg-0C_ZN"
      },
      "source": [
        "##Tokenization\r\n",
        "\r\n",
        "We are constructing a RoBERTa tokenizer, derived from the GPT-2 tokenizer, using byte-level Byte-Pair-Encoding.\r\n",
        "\r\n",
        "[refrence](https://huggingface.co/transformers/model_doc/roberta.html#)\r\n",
        "\r\n",
        "[source](https://huggingface.co/transformers/_modules/transformers/models/roberta/tokenization_roberta.html#RobertaTokenizer)\r\n",
        "\r\n",
        "[Working with Hugging Face Transformers](https://towardsdatascience.com/working-with-hugging-face-transformers-and-tf-2-0-89bf35e3555a)\r\n",
        "\r\n",
        "Any transformer model generally needs three input:\r\n",
        "\r\n",
        "*  input ids: word id associated with their vocabulary.\r\n",
        "\r\n",
        "*  attention mask: Which id must be paid attention to; 1=pay attention. In simple terms, it tells the model which are original words and which are padded words or special tokens.\r\n",
        "\r\n",
        "*  token type id: It's associated with model consuming multiply sentence like Question-Answer model. It tells model about the sequence of the sentences.\r\n",
        "\r\n"
      ]
    },
    {
      "cell_type": "code",
      "metadata": {
        "id": "yny86VpKOaRq"
      },
      "source": [
        "def process_data(text, selected_text, sentiment, tokenizer=config.tokenizer, max_len = config.MAX_LEN):\r\n",
        "  text = ' '.join(str(text).lower().split())\r\n",
        "  selected_text = ' '.join(str(selected_text).lower().split())\r\n",
        "\r\n",
        "  len_st = len(selected_text)\r\n",
        "  idx0 = None\r\n",
        "  idx1 = None\r\n",
        "  for ind in (i for i, e in enumerate(text) if e == selected_text[0]):\r\n",
        "    if text[ind: ind+len_st] == selected_text:\r\n",
        "      idx0 = ind\r\n",
        "      idx1 = ind + len_st - 1\r\n",
        "      break\r\n",
        "\r\n",
        "  char_targets = [0] * len(text)\r\n",
        "  if idx0 != None and idx1 != None:\r\n",
        "    for ct in range(idx0, idx1 + 1):\r\n",
        "      char_targets[ct] = 1\r\n",
        "  else:\r\n",
        "    char_targets = [1] * len(text)\r\n",
        "    \r\n",
        "  tok_text = tokenizer.encode(text)\r\n",
        "  input_ids_orig = tok_text.ids[1:-1]\r\n",
        "  offsets = tok_text.offsets[1:-1]\r\n",
        "    \r\n",
        "  target_idx = []\r\n",
        "  for j, (offset1, offset2) in enumerate(offsets):\r\n",
        "    if sum(char_targets[offset1: offset2]) > 0:\r\n",
        "      target_idx.append(j)\r\n",
        "    \r\n",
        "  targets_start = target_idx[0]\r\n",
        "  targets_end = target_idx[-1]\r\n",
        "    \r\n",
        "  input_ids = [101] + input_ids_orig + [102]\r\n",
        "  attention_mask = [0] + [1] * len(input_ids_orig) + [0]\r\n",
        "  token_type_ids = [0] + [0] * (len(input_ids_orig)) + [0]\r\n",
        "\r\n",
        "  offsets = [(0, 0)]  + offsets + [(0, 0)]\r\n",
        "  targets_start += 1\r\n",
        "  targets_end += 1\r\n",
        "\r\n",
        "  padding_length = max_len - len(input_ids)\r\n",
        "  if padding_length > 0:\r\n",
        "      input_ids = input_ids + ([0] * padding_length)\r\n",
        "      attention_mask = attention_mask + ([0] * padding_length)\r\n",
        "      token_type_ids = token_type_ids + ([0] * padding_length)\r\n",
        "      offsets = offsets + ([(0, 0)] * padding_length)\r\n",
        "    \r\n",
        "  return {'ids': torch.tensor(input_ids,dtype=torch.long),\r\n",
        "          'attention_mask': torch.tensor(attention_mask,dtype=torch.long),\r\n",
        "          'token_type_ids': torch.tensor(token_type_ids,dtype=torch.long),\r\n",
        "          'offsets':  torch.tensor(offsets,dtype=torch.long),\r\n",
        "          'targets_start': torch.tensor(targets_start,dtype=torch.long),\r\n",
        "          'targets_end': torch.tensor(targets_end,dtype=torch.long),\r\n",
        "          'text': text,\r\n",
        "          'selected_text': selected_text,\r\n",
        "          'sentiment': sentiment\r\n",
        "    }"
      ],
      "execution_count": 27,
      "outputs": []
    },
    {
      "cell_type": "code",
      "metadata": {
        "id": "mRwwSXrzOYew"
      },
      "source": [
        "class TextDataset:\r\n",
        "    def __init__(self,text,selected_text,sentiment):\r\n",
        "        self.text = text \r\n",
        "        self.selected_text = selected_text\r\n",
        "        self.sentiment = sentiment\r\n",
        "        self.tokenizer = config.tokenizer\r\n",
        "        self.max_len = config.MAX_LEN\r\n",
        "\r\n",
        "    def __len__(self):  # this method allows the len() call to work on the class objects\r\n",
        "        return len(self.text)\r\n",
        "\r\n",
        "    def __getitem__(self,item): # class allows its instances to use the [] (indexer) operator\r\n",
        "      \r\n",
        "        data = process_data(text = self.text[item],\r\n",
        "                            selected_text = self.selected_text[item],\r\n",
        "                            sentiment = self.sentiment[item],\r\n",
        "                            tokenizer = self.tokenizer,\r\n",
        "                            max_len = self.max_len)\r\n",
        "     \r\n",
        "        return data"
      ],
      "execution_count": 28,
      "outputs": []
    },
    {
      "cell_type": "code",
      "metadata": {
        "colab": {
          "base_uri": "https://localhost:8080/"
        },
        "id": "cIgjhRCd2X0H",
        "outputId": "ed03c4ff-e16d-44bf-f726-4fcfe4f43cb0"
      },
      "source": [
        "#if __name__== \"__main__\":\r\n",
        "df = config.TRAINING_FILE\r\n",
        "dset = TextDataset(text = df.text.values,\r\n",
        "                    selected_text =df.selected_text.values,\r\n",
        "                   sentiment = df.sentiment)\r\n",
        "dset[1000]"
      ],
      "execution_count": 29,
      "outputs": [
        {
          "output_type": "execute_result",
          "data": {
            "text/plain": [
              "{'attention_mask': tensor([0, 1, 1, 1, 1, 1, 1, 1, 1, 1, 1, 1, 1, 1, 1, 1, 1, 1, 1, 1, 1, 1, 1, 1,\n",
              "         1, 1, 1, 1, 1, 1, 1, 1, 1, 1, 1, 0, 0, 0, 0, 0, 0, 0, 0, 0, 0, 0, 0, 0,\n",
              "         0, 0, 0, 0, 0, 0, 0, 0, 0, 0, 0, 0, 0, 0, 0, 0, 0, 0, 0, 0, 0, 0, 0, 0,\n",
              "         0, 0, 0, 0, 0, 0, 0, 0, 0, 0, 0, 0, 0, 0, 0, 0, 0, 0, 0, 0, 0, 0, 0, 0,\n",
              "         0, 0, 0, 0, 0, 0, 0, 0, 0, 0, 0, 0, 0, 0, 0, 0, 0, 0, 0, 0, 0, 0, 0, 0,\n",
              "         0, 0, 0, 0, 0, 0, 0, 0, 0, 0, 0, 0, 0, 0, 0, 0, 0, 0, 0, 0, 0]),\n",
              " 'ids': tensor([  101,  1045,  4299,  2016,  2354,  2054,  2016,  8509,  2033,  2083,\n",
              "          1012,  1012,  2016, 10312,  2026,  2540,  1010,  2196,  2435,  2009,\n",
              "          2067,  1012,  1012,  1998,  5681,  2016,  7777,  2000,  2022,  2066,\n",
              "          2298,  2054,  1045,  2031,   999,   102,     0,     0,     0,     0,\n",
              "             0,     0,     0,     0,     0,     0,     0,     0,     0,     0,\n",
              "             0,     0,     0,     0,     0,     0,     0,     0,     0,     0,\n",
              "             0,     0,     0,     0,     0,     0,     0,     0,     0,     0,\n",
              "             0,     0,     0,     0,     0,     0,     0,     0,     0,     0,\n",
              "             0,     0,     0,     0,     0,     0,     0,     0,     0,     0,\n",
              "             0,     0,     0,     0,     0,     0,     0,     0,     0,     0,\n",
              "             0,     0,     0,     0,     0,     0,     0,     0,     0,     0,\n",
              "             0,     0,     0,     0,     0,     0,     0,     0,     0,     0,\n",
              "             0,     0,     0,     0,     0,     0,     0,     0,     0,     0,\n",
              "             0,     0,     0,     0,     0,     0,     0,     0,     0,     0,\n",
              "             0]),\n",
              " 'offsets': tensor([[  0,   0],\n",
              "         [  0,   1],\n",
              "         [  2,   6],\n",
              "         [  7,  10],\n",
              "         [ 11,  15],\n",
              "         [ 16,  20],\n",
              "         [ 21,  24],\n",
              "         [ 25,  29],\n",
              "         [ 30,  32],\n",
              "         [ 33,  40],\n",
              "         [ 40,  41],\n",
              "         [ 41,  42],\n",
              "         [ 42,  45],\n",
              "         [ 46,  51],\n",
              "         [ 52,  54],\n",
              "         [ 55,  60],\n",
              "         [ 60,  61],\n",
              "         [ 62,  67],\n",
              "         [ 68,  72],\n",
              "         [ 73,  75],\n",
              "         [ 76,  80],\n",
              "         [ 80,  81],\n",
              "         [ 81,  82],\n",
              "         [ 82,  85],\n",
              "         [ 86,  98],\n",
              "         [ 99, 102],\n",
              "         [103, 108],\n",
              "         [109, 111],\n",
              "         [112, 114],\n",
              "         [115, 119],\n",
              "         [120, 124],\n",
              "         [125, 129],\n",
              "         [130, 131],\n",
              "         [132, 136],\n",
              "         [136, 137],\n",
              "         [  0,   0],\n",
              "         [  0,   0],\n",
              "         [  0,   0],\n",
              "         [  0,   0],\n",
              "         [  0,   0],\n",
              "         [  0,   0],\n",
              "         [  0,   0],\n",
              "         [  0,   0],\n",
              "         [  0,   0],\n",
              "         [  0,   0],\n",
              "         [  0,   0],\n",
              "         [  0,   0],\n",
              "         [  0,   0],\n",
              "         [  0,   0],\n",
              "         [  0,   0],\n",
              "         [  0,   0],\n",
              "         [  0,   0],\n",
              "         [  0,   0],\n",
              "         [  0,   0],\n",
              "         [  0,   0],\n",
              "         [  0,   0],\n",
              "         [  0,   0],\n",
              "         [  0,   0],\n",
              "         [  0,   0],\n",
              "         [  0,   0],\n",
              "         [  0,   0],\n",
              "         [  0,   0],\n",
              "         [  0,   0],\n",
              "         [  0,   0],\n",
              "         [  0,   0],\n",
              "         [  0,   0],\n",
              "         [  0,   0],\n",
              "         [  0,   0],\n",
              "         [  0,   0],\n",
              "         [  0,   0],\n",
              "         [  0,   0],\n",
              "         [  0,   0],\n",
              "         [  0,   0],\n",
              "         [  0,   0],\n",
              "         [  0,   0],\n",
              "         [  0,   0],\n",
              "         [  0,   0],\n",
              "         [  0,   0],\n",
              "         [  0,   0],\n",
              "         [  0,   0],\n",
              "         [  0,   0],\n",
              "         [  0,   0],\n",
              "         [  0,   0],\n",
              "         [  0,   0],\n",
              "         [  0,   0],\n",
              "         [  0,   0],\n",
              "         [  0,   0],\n",
              "         [  0,   0],\n",
              "         [  0,   0],\n",
              "         [  0,   0],\n",
              "         [  0,   0],\n",
              "         [  0,   0],\n",
              "         [  0,   0],\n",
              "         [  0,   0],\n",
              "         [  0,   0],\n",
              "         [  0,   0],\n",
              "         [  0,   0],\n",
              "         [  0,   0],\n",
              "         [  0,   0],\n",
              "         [  0,   0],\n",
              "         [  0,   0],\n",
              "         [  0,   0],\n",
              "         [  0,   0],\n",
              "         [  0,   0],\n",
              "         [  0,   0],\n",
              "         [  0,   0],\n",
              "         [  0,   0],\n",
              "         [  0,   0],\n",
              "         [  0,   0],\n",
              "         [  0,   0],\n",
              "         [  0,   0],\n",
              "         [  0,   0],\n",
              "         [  0,   0],\n",
              "         [  0,   0],\n",
              "         [  0,   0],\n",
              "         [  0,   0],\n",
              "         [  0,   0],\n",
              "         [  0,   0],\n",
              "         [  0,   0],\n",
              "         [  0,   0],\n",
              "         [  0,   0],\n",
              "         [  0,   0],\n",
              "         [  0,   0],\n",
              "         [  0,   0],\n",
              "         [  0,   0],\n",
              "         [  0,   0],\n",
              "         [  0,   0],\n",
              "         [  0,   0],\n",
              "         [  0,   0],\n",
              "         [  0,   0],\n",
              "         [  0,   0],\n",
              "         [  0,   0],\n",
              "         [  0,   0],\n",
              "         [  0,   0],\n",
              "         [  0,   0],\n",
              "         [  0,   0],\n",
              "         [  0,   0],\n",
              "         [  0,   0],\n",
              "         [  0,   0],\n",
              "         [  0,   0],\n",
              "         [  0,   0]]),\n",
              " 'selected_text': 'i wish she knew what she puts me through..she stole my heart, never gave it back..and occasionally she likes to be like look what i have!',\n",
              " 'sentiment': 'positive',\n",
              " 'targets_end': tensor(34),\n",
              " 'targets_start': tensor(1),\n",
              " 'text': 'i wish she knew what she puts me through..she stole my heart, never gave it back..and occasionally she likes to be like look what i have!',\n",
              " 'token_type_ids': tensor([0, 0, 0, 0, 0, 0, 0, 0, 0, 0, 0, 0, 0, 0, 0, 0, 0, 0, 0, 0, 0, 0, 0, 0,\n",
              "         0, 0, 0, 0, 0, 0, 0, 0, 0, 0, 0, 0, 0, 0, 0, 0, 0, 0, 0, 0, 0, 0, 0, 0,\n",
              "         0, 0, 0, 0, 0, 0, 0, 0, 0, 0, 0, 0, 0, 0, 0, 0, 0, 0, 0, 0, 0, 0, 0, 0,\n",
              "         0, 0, 0, 0, 0, 0, 0, 0, 0, 0, 0, 0, 0, 0, 0, 0, 0, 0, 0, 0, 0, 0, 0, 0,\n",
              "         0, 0, 0, 0, 0, 0, 0, 0, 0, 0, 0, 0, 0, 0, 0, 0, 0, 0, 0, 0, 0, 0, 0, 0,\n",
              "         0, 0, 0, 0, 0, 0, 0, 0, 0, 0, 0, 0, 0, 0, 0, 0, 0, 0, 0, 0, 0])}"
            ]
          },
          "metadata": {
            "tags": []
          },
          "execution_count": 29
        }
      ]
    },
    {
      "cell_type": "markdown",
      "metadata": {
        "id": "iIPITLTeLEXq"
      },
      "source": [
        "## Optimizer & Learning Rate Scheduler\r\n",
        "[BERT fine tuning](https://medium.com/@aniruddha.choudhury94/part-2-bert-fine-tuning-tutorial-with-pytorch-for-text-classification-on-the-corpus-of-linguistic-18057ce330e1)"
      ]
    },
    {
      "cell_type": "code",
      "metadata": {
        "id": "wVpLueFJYSj-"
      },
      "source": [
        "def my_collator(batch):\r\n",
        "  assert all('ids' in x for x in batch)\r\n",
        "  assert all('attention_mask' in x for x in batch)\r\n",
        "  assert all('token_type_ids' in x for x in batch)\r\n",
        "  assert all('targets_start' in x for x in batch)\r\n",
        "  assert all('targets_end' in x for x in batch)\r\n",
        "  assert all('offsets' in x for x in batch)\r\n",
        "  assert all('text' in x for x in batch)\r\n",
        "  assert all('selected_text' in x for x in batch)\r\n",
        "  assert all('sentiment' in x for x in batch)\r\n",
        "\r\n",
        "  return {'ids': [x['ids'] for x in batch],\r\n",
        "          'attention_mask': [x['attention_mask'] for x in batch],\r\n",
        "          'token_type_ids': [x['token_type_ids'] for x in batch],\r\n",
        "          'targets_start': [x['targets_start'] for x in batch],\r\n",
        "          'targets_end': [x['targets_end'] for x in batch],\r\n",
        "          'offsets': [x['offsets'] for x in batch],\r\n",
        "          'text': [x['text'] for x in batch],\r\n",
        "          'selected_text': [x['selected_text'] for x in batch],\r\n",
        "          'sentiment': [x['sentiment'] for x in batch]}"
      ],
      "execution_count": 12,
      "outputs": []
    },
    {
      "cell_type": "markdown",
      "metadata": {
        "id": "kvxgcbdBtdU3"
      },
      "source": [
        "### Names and Dimensions of the Weights\r\n",
        "\r\n",
        "In the below cell, I’ve printed out the names and dimensions of the weights for:\r\n",
        "\r\n",
        "*  The embedding layer.\r\n",
        "*  The first of the twelve transformers.\r\n",
        "*  The output layer."
      ]
    },
    {
      "cell_type": "code",
      "metadata": {
        "id": "96bOGrWRtmJY",
        "colab": {
          "base_uri": "https://localhost:8080/"
        },
        "outputId": "ab26d87f-221d-49eb-d5c9-d5468af3053f"
      },
      "source": [
        "# Get all of the model's parameters as a list of tuples.\r\n",
        "params = list(model.named_parameters())\r\n",
        "\r\n",
        "print('The BERT model has {:} different named parameters.\\n'.format(len(params)))\r\n",
        "\r\n",
        "print('==== Embedding Layer ====\\n')\r\n",
        "\r\n",
        "for p in params[0:5]:\r\n",
        "    print(\"{:<55} {:>12}\".format(p[0], str(tuple(p[1].size()))))\r\n",
        "\r\n",
        "print('\\n==== First Transformer ====\\n')\r\n",
        "\r\n",
        "for p in params[5:21]:\r\n",
        "    print(\"{:<55} {:>12}\".format(p[0], str(tuple(p[1].size()))))\r\n",
        "\r\n",
        "print('\\n==== Output Layer ====\\n')\r\n",
        "\r\n",
        "for p in params[-4:]:\r\n",
        "    print(\"{:<55} {:>12}\".format(p[0], str(tuple(p[1].size()))))"
      ],
      "execution_count": null,
      "outputs": [
        {
          "output_type": "stream",
          "text": [
            "The BERT model has 201 different named parameters.\n",
            "\n",
            "==== Embedding Layer ====\n",
            "\n",
            "module.bert.embeddings.word_embeddings.weight           (30522, 768)\n",
            "module.bert.embeddings.position_embeddings.weight         (512, 768)\n",
            "module.bert.embeddings.token_type_embeddings.weight         (2, 768)\n",
            "module.bert.embeddings.LayerNorm.weight                       (768,)\n",
            "module.bert.embeddings.LayerNorm.bias                         (768,)\n",
            "\n",
            "==== First Transformer ====\n",
            "\n",
            "module.bert.encoder.layer.0.attention.self.query.weight   (768, 768)\n",
            "module.bert.encoder.layer.0.attention.self.query.bias         (768,)\n",
            "module.bert.encoder.layer.0.attention.self.key.weight     (768, 768)\n",
            "module.bert.encoder.layer.0.attention.self.key.bias           (768,)\n",
            "module.bert.encoder.layer.0.attention.self.value.weight   (768, 768)\n",
            "module.bert.encoder.layer.0.attention.self.value.bias         (768,)\n",
            "module.bert.encoder.layer.0.attention.output.dense.weight   (768, 768)\n",
            "module.bert.encoder.layer.0.attention.output.dense.bias       (768,)\n",
            "module.bert.encoder.layer.0.attention.output.LayerNorm.weight       (768,)\n",
            "module.bert.encoder.layer.0.attention.output.LayerNorm.bias       (768,)\n",
            "module.bert.encoder.layer.0.intermediate.dense.weight    (3072, 768)\n",
            "module.bert.encoder.layer.0.intermediate.dense.bias          (3072,)\n",
            "module.bert.encoder.layer.0.output.dense.weight          (768, 3072)\n",
            "module.bert.encoder.layer.0.output.dense.bias                 (768,)\n",
            "module.bert.encoder.layer.0.output.LayerNorm.weight           (768,)\n",
            "module.bert.encoder.layer.0.output.LayerNorm.bias             (768,)\n",
            "\n",
            "==== Output Layer ====\n",
            "\n",
            "module.bert.pooler.dense.weight                           (768, 768)\n",
            "module.bert.pooler.dense.bias                                 (768,)\n",
            "module.l0.weight                                           (2, 1536)\n",
            "module.l0.bias                                                  (2,)\n"
          ],
          "name": "stdout"
        }
      ]
    },
    {
      "cell_type": "markdown",
      "metadata": {
        "id": "Fhc7zZCaMMoG"
      },
      "source": [
        "# LOSS function for model training"
      ]
    },
    {
      "cell_type": "code",
      "metadata": {
        "id": "w2AaHATQyRsQ"
      },
      "source": [
        "def loss_fn(output_start, output_end, targets_start, targets_end,device):\r\n",
        "  loss = nn.CrossEntropyLoss().to(device)\r\n",
        "  l1 =loss(output_start,targets_start)\r\n",
        "  l2 = loss(output_end,targets_end)\r\n",
        "  return l1 + l2"
      ],
      "execution_count": 13,
      "outputs": []
    },
    {
      "cell_type": "markdown",
      "metadata": {
        "id": "yG_hfpHEZTjH"
      },
      "source": [
        "## Training of the Model\r\n"
      ]
    },
    {
      "cell_type": "code",
      "metadata": {
        "id": "mwoOa-e0v6JR"
      },
      "source": [
        "# jaccard function as mentioned in evaluation section of the contest\r\n",
        "def jaccard_metric(text,\r\n",
        "                   selected_text,\r\n",
        "                   sentiment,\r\n",
        "                   offsets,\r\n",
        "                   start_idx,\r\n",
        "                   end_idx): \r\n",
        "  \r\n",
        "  if end_idx < start_idx:\r\n",
        "    end_idx = start_idx\r\n",
        "    \r\n",
        "  pred  = \"\"\r\n",
        "  for idx in range(start_idx, end_idx + 1):\r\n",
        "    pred += text[offsets[idx][0]: offsets[idx][1]]\r\n",
        "    if (idx+1) < len(offsets) and offsets[idx][1] < offsets[idx+1][0]:\r\n",
        "      pred += \" \"\r\n",
        "\r\n",
        "  if len(text.split()) < 2 or sentiment == 'neutral':\r\n",
        "    pred = text\r\n",
        "    \r\n",
        "  a = set(selected_text.lower().split()) \r\n",
        "  b = set(pred.lower().split())\r\n",
        "  c = a.intersection(b)\r\n",
        "  jacc = float(len(c)) / (len(a) + len(b) - len(c))\r\n",
        "  return jacc, pred"
      ],
      "execution_count": 15,
      "outputs": []
    },
    {
      "cell_type": "code",
      "metadata": {
        "id": "uRRokn2HyXKB"
      },
      "source": [
        "def train_fn(data_loader, model, optimizer, device, scheduler=None):     \r\n",
        "  model.train()\r\n",
        "  train_loss = []\r\n",
        "  for bi, batch in enumerate(data_loader):    \r\n",
        "    ids = batch['ids'].to(device, dtype=torch.long)\r\n",
        "    token_type_ids = batch['token_type_ids'].to(device, dtype=torch.long)\r\n",
        "    attention_mask = batch['attention_mask'].to(device, dtype=torch.long)\r\n",
        "    targets_start = batch['targets_start'].to(device, dtype=torch.long)\r\n",
        "    targets_end = batch['targets_end'].to(device, dtype=torch.long)\r\n",
        "    \r\n",
        "      \r\n",
        "    model.zero_grad()\r\n",
        "      \r\n",
        "    output_start,output_end = model(ids,\r\n",
        "                     attention_mask = attention_mask,\r\n",
        "                     token_type_ids = token_type_ids) \r\n",
        "      \r\n",
        "    # calculating loss\r\n",
        "    loss = loss_fn(output_start, output_end, targets_start, targets_end, device)\r\n",
        "\r\n",
        "    # Accumulate the training loss over all of the batches so that we can calculate the average loss at the end.\r\n",
        "    train_loss.append(loss.item())\r\n",
        "\r\n",
        "    # Perform a backward pass to calculate the gradients.\r\n",
        "    loss.backward()\r\n",
        "    # modified based on their gradients, the learning rate, etc.\r\n",
        "    optimizer.step()\r\n",
        "    # Update the learning rate.\r\n",
        "    scheduler.step()\r\n",
        "  \r\n",
        "  avg_train_loss = np.mean(train_loss)\r\n",
        "  \r\n",
        "  print(\"\")\r\n",
        "  print(\"  Average training loss: {0:.2f}\".format(avg_train_loss))\r\n",
        "  print(\"  Training epcoh took: {:}\".format(format_time(time.time() - t0)))\r\n",
        "  \r\n",
        "  return  avg_train_loss"
      ],
      "execution_count": 16,
      "outputs": []
    },
    {
      "cell_type": "markdown",
      "metadata": {
        "id": "fIIuy-4rTWlL"
      },
      "source": [
        "## Evaluation Function"
      ]
    },
    {
      "cell_type": "markdown",
      "metadata": {
        "id": "XhazO3v4v2f3"
      },
      "source": [
        "### Jaccard Metric"
      ]
    },
    {
      "cell_type": "code",
      "metadata": {
        "id": "mPIhk753TWAM"
      },
      "source": [
        "def evaluate_fn(data_loader,model, device):  \r\n",
        "  predicted_text = []\r\n",
        "  model.eval()\r\n",
        "  with torch.no_grad():\r\n",
        "    for bi, batch in enumerate(data_loader):\r\n",
        "      ids = batch[\"ids\"].to(device, dtype=torch.long)\r\n",
        "      token_type_ids = batch['token_type_ids'].to(device, dtype=torch.long)\r\n",
        "      attention_mask = batch['attention_mask'].to(device, dtype=torch.long)\r\n",
        "      targets_start = batch['targets_start'].to(device, dtype=torch.long)\r\n",
        "      targets_end = batch['targets_end'].to(device, dtype=torch.long)\r\n",
        "      offsets = batch['offsets'].cpu().numpy()\r\n",
        "      text = batch['text']\r\n",
        "      selected_text = batch['selected_text']\r\n",
        "      sentiment = batch['sentiment']\r\n",
        "\r\n",
        "      output_start, output_end = model(ids,\r\n",
        "                                       attention_mask=attention_mask,\r\n",
        "                                       token_type_ids=token_type_ids)\r\n",
        "      \r\n",
        "\r\n",
        "      output_start = torch.softmax(output_start, dim=1).cpu().detach().numpy()\r\n",
        "      output_end = torch.softmax(output_end, dim=1).cpu().detach().numpy()\r\n",
        "\r\n",
        "      jaccard = []\r\n",
        "\r\n",
        "      for px, tweet in enumerate(text):\r\n",
        "\r\n",
        "        jacc, pred = jaccard_metric(tweet,\r\n",
        "                                    selected_text[px],\r\n",
        "                                    sentiment = sentiment[px],\r\n",
        "                                    offsets = offsets[px,:],\r\n",
        "                                    start_idx = np.argmax(output_start[px,]),\r\n",
        "                                    end_idx = np.argmax(output_end[px,]))\r\n",
        "\r\n",
        "        predicted_text.append(pred)  \r\n",
        "        jaccard.append(jacc)\r\n",
        "\r\n",
        "  print(\"  Average jaccard similarity on validation data: {0:.2f}\".format(np.mean(jaccard)))\r\n",
        "  print(\"  validation took: {:}\".format(format_time(time.time() - t0)))\r\n",
        "\r\n",
        "  return np.mean(jaccard), predicted_text"
      ],
      "execution_count": 17,
      "outputs": []
    },
    {
      "cell_type": "markdown",
      "metadata": {
        "id": "uF_8MfCGORVV"
      },
      "source": [
        "[code refrence](https://medium.com/@aniruddha.choudhury94/part-2-bert-fine-tuning-tutorial-with-pytorch-for-text-classification-on-the-corpus-of-linguistic-18057ce330e1)"
      ]
    },
    {
      "cell_type": "code",
      "metadata": {
        "id": "P55ml2w3YRis"
      },
      "source": [
        "import time\r\n",
        "import datetime\r\n",
        "def format_time(elapsed):\r\n",
        "    '''\r\n",
        "    Takes a time in seconds and returns a string hh:mm:ss\r\n",
        "    '''\r\n",
        "    # Round to the nearest second.\r\n",
        "    elapsed_rounded = int(round((elapsed)))\r\n",
        "    \r\n",
        "    # Format as hh:mm:ss\r\n",
        "    return str(datetime.timedelta(seconds=elapsed_rounded))\r\n",
        "t0 = time.time()"
      ],
      "execution_count": 18,
      "outputs": []
    },
    {
      "cell_type": "code",
      "metadata": {
        "id": "QKh3z8TwCG7G"
      },
      "source": [
        "def run(fold):\r\n",
        "  df = config.TRAINING_FILE #.sample(700)\r\n",
        "  df = df.reset_index(drop=True)\r\n",
        "  train =  df[df.kfold != fold].reset_index(drop=True)\r\n",
        "  valid = df[df.kfold == fold].reset_index(drop=True)\r\n",
        "  \r\n",
        "  train_dataset = TextDataset(text = train.text.values,\r\n",
        "                              selected_text = train.selected_text.values,\r\n",
        "                              sentiment = train.sentiment.values)\r\n",
        "\r\n",
        "  train_dataloader = DataLoader(train_dataset,\r\n",
        "                              batch_size = config.TRAIN_BATCH_SIZE,\r\n",
        "                              shuffle = False,\r\n",
        "                              num_workers=4)\r\n",
        "\r\n",
        "  valid_dataset = TextDataset(text = valid.text.values,\r\n",
        "                              selected_text = valid.selected_text.values,\r\n",
        "                              sentiment = valid.sentiment.values)\r\n",
        "\r\n",
        "  valid_dataloader = DataLoader(valid_dataset,\r\n",
        "                                batch_size = config.VALID_BATCH_SIZE,\r\n",
        "                                shuffle = False,\r\n",
        "                                num_workers=1)\r\n",
        "\r\n",
        "  conf = BertConfig.from_pretrained('bert-base-uncased')\r\n",
        "  conf.output_hidden_states = True\r\n",
        "  model = BERTBaseUncased(conf)\r\n",
        "  model.to(device)\r\n",
        "  model = nn.DataParallel(model)\r\n",
        "\r\n",
        "  param_optimizer = list(model.named_parameters())\r\n",
        "  no_decay = [\"bias\", \"LayerNorm.bias\", \"LayerNorm.weight\"]\r\n",
        "  optimizer_parameters = [{\"params\": [p for n, p in param_optimizer if not any(nd in n for nd in no_decay)],\"weight_decay\": 0.001},\r\n",
        "                          {\"params\": [p for n, p in param_optimizer if any(nd in n for nd in no_decay)],\"weight_decay\": 0.0}]\r\n",
        "\r\n",
        "  num_train_steps = int(len(train) / config.TRAIN_BATCH_SIZE * config.EPOCHS)\r\n",
        "\r\n",
        "  optimizer = AdamW(optimizer_parameters, lr=3e-5)\r\n",
        "  scheduler = get_linear_schedule_with_warmup(optimizer, num_warmup_steps=0, num_training_steps=num_train_steps)\r\n",
        "  train_loss = []\r\n",
        "  jaccards = []\r\n",
        "  best_jaccard = 0\r\n",
        "  for epoch in range(0, config.EPOCHS):\r\n",
        "    # ========================================\r\n",
        "    #               Training\r\n",
        "    # ========================================\r\n",
        "    \r\n",
        "    # Perform one full pass over the training set.\r\n",
        "    print(\"\")\r\n",
        "    print('======== Epoch {:} / {:} ========'.format(epoch+1, config.EPOCHS))\r\n",
        "    print('Training...')\r\n",
        "\r\n",
        "    # Measure how long the training epoch takes.\r\n",
        "    t0 = time.time()\r\n",
        "  \r\n",
        "    avg_train_loss = train_fn(train_dataloader,model,optimizer,device,scheduler)\r\n",
        "    train_loss.append(avg_train_loss)\r\n",
        "    # ========================================\r\n",
        "    #               Validation\r\n",
        "    # ========================================\r\n",
        "    print(\"\")\r\n",
        "    print(\"Running Validation...\")\r\n",
        "    t0 = time.time()\r\n",
        "    jacc,_ = evaluate_fn(valid_dataloader, model, device)\r\n",
        "    jaccards.append(jacc)\r\n",
        "\r\n",
        "    if jacc > best_jaccard:\r\n",
        "      best_jaccard = jacc\r\n",
        "      print('saving model')\r\n",
        "      torch.save(model.state_dict(), '/content/drive/MyDrive/BERT_files/bert_model7.pth')\r\n",
        "  torch.save(model.state_dict(), '/content/drive/MyDrive/BERT_files/bert_model7_epoch.pth')\r\n",
        "  return jaccards, train_loss"
      ],
      "execution_count": 62,
      "outputs": []
    },
    {
      "cell_type": "code",
      "metadata": {
        "id": "7zKQB10wl3Tp",
        "colab": {
          "base_uri": "https://localhost:8080/"
        },
        "outputId": "fc81dc19-9542-43d5-b0ba-0000a39493c9"
      },
      "source": [
        "print('running zero fold')\r\n",
        "jaccs_fold0, train_loss_fold0 = run(fold=0)"
      ],
      "execution_count": 40,
      "outputs": [
        {
          "output_type": "stream",
          "text": [
            "running zero fold\n",
            "\n",
            "======== Epoch 1 / 4 ========\n",
            "Training...\n",
            "\n",
            "  Average training loss: 3.18\n",
            "  Training epcoh took: 1:25:07\n",
            "\n",
            "Running Validation...\n",
            "  Average jaccard similarity on validation data: 0.39\n",
            "  validation took: 1:25:18\n",
            "saving model\n",
            "\n",
            "======== Epoch 2 / 4 ========\n",
            "Training...\n",
            "\n",
            "  Average training loss: 2.26\n",
            "  Training epcoh took: 1:28:45\n",
            "\n",
            "Running Validation...\n",
            "  Average jaccard similarity on validation data: 0.40\n",
            "  validation took: 1:28:56\n",
            "saving model\n",
            "\n",
            "======== Epoch 3 / 4 ========\n",
            "Training...\n",
            "\n",
            "  Average training loss: 1.96\n",
            "  Training epcoh took: 1:32:23\n",
            "\n",
            "Running Validation...\n",
            "  Average jaccard similarity on validation data: 0.41\n",
            "  validation took: 1:32:34\n",
            "saving model\n",
            "\n",
            "======== Epoch 4 / 4 ========\n",
            "Training...\n",
            "\n",
            "  Average training loss: 1.74\n",
            "  Training epcoh took: 1:36:01\n",
            "\n",
            "Running Validation...\n",
            "  Average jaccard similarity on validation data: 0.50\n",
            "  validation took: 1:36:12\n",
            "saving model\n"
          ],
          "name": "stdout"
        }
      ]
    },
    {
      "cell_type": "code",
      "metadata": {
        "colab": {
          "base_uri": "https://localhost:8080/",
          "height": 265
        },
        "id": "rVl2fSLpc3VJ",
        "outputId": "fbae0c5a-4369-4819-9a64-2e4b46e1c84e"
      },
      "source": [
        "plt.plot(jaccs_fold0)\r\n",
        "plt.ylabel('Jaccard similarity on fold 0')\r\n",
        "plt.show()"
      ],
      "execution_count": 32,
      "outputs": [
        {
          "output_type": "display_data",
          "data": {
            "image/png": "[encoded data removed]",
            "text/plain": [
              "<Figure size 432x288 with 1 Axes>"
            ]
          },
          "metadata": {
            "tags": [],
            "needs_background": "light"
          }
        }
      ]
    },
    {
      "cell_type": "code",
      "metadata": {
        "colab": {
          "base_uri": "https://localhost:8080/"
        },
        "id": "uTq3mOJeDI88",
        "outputId": "fc4bd407-e276-406e-b497-33b3a2e142ba"
      },
      "source": [
        "print('running first fold')\r\n",
        "jaccs_fold1, train_loss_fold1 = run(fold=1)"
      ],
      "execution_count": 35,
      "outputs": [
        {
          "output_type": "stream",
          "text": [
            "running first fold\n",
            "\n",
            "======== Epoch 1 / 4 ========\n",
            "Training...\n",
            "\n",
            "  Average training loss: 3.15\n",
            "  Training epcoh took: 1:00:31\n",
            "\n",
            "Running Validation...\n",
            "  Average jaccard similarity on validation data: 0.63\n",
            "  validation took: 1:00:42\n",
            "saving model\n",
            "\n",
            "======== Epoch 2 / 4 ========\n",
            "Training...\n",
            "\n",
            "  Average training loss: 2.26\n",
            "  Training epcoh took: 1:04:09\n",
            "\n",
            "Running Validation...\n",
            "  Average jaccard similarity on validation data: 0.66\n",
            "  validation took: 1:04:20\n",
            "saving model\n",
            "\n",
            "======== Epoch 3 / 4 ========\n",
            "Training...\n",
            "\n",
            "  Average training loss: 1.97\n",
            "  Training epcoh took: 1:07:47\n",
            "\n",
            "Running Validation...\n",
            "  Average jaccard similarity on validation data: 0.86\n",
            "  validation took: 1:07:58\n",
            "saving model\n",
            "\n",
            "======== Epoch 4 / 4 ========\n",
            "Training...\n",
            "\n",
            "  Average training loss: 1.75\n",
            "  Training epcoh took: 1:11:24\n",
            "\n",
            "Running Validation...\n",
            "  Average jaccard similarity on validation data: 0.86\n",
            "  validation took: 1:11:35\n"
          ],
          "name": "stdout"
        }
      ]
    },
    {
      "cell_type": "code",
      "metadata": {
        "colab": {
          "base_uri": "https://localhost:8080/",
          "height": 265
        },
        "id": "SCwufobmitIA",
        "outputId": "502fa6c7-6a2e-49f4-8c7d-9abd2137c614"
      },
      "source": [
        "plt.plot(jaccs_fold1)\r\n",
        "plt.ylabel('Average jaccard similarity ')\r\n",
        "plt.show()"
      ],
      "execution_count": 36,
      "outputs": [
        {
          "output_type": "display_data",
          "data": {
            "image/png": "[encoded data removed]",
            "text/plain": [
              "<Figure size 432x288 with 1 Axes>"
            ]
          },
          "metadata": {
            "tags": [],
            "needs_background": "light"
          }
        }
      ]
    },
    {
      "cell_type": "code",
      "metadata": {
        "id": "CoO7BIyUDiMl",
        "colab": {
          "base_uri": "https://localhost:8080/"
        },
        "outputId": "a8c5ec08-92a1-48ad-ee43-d63530275c7b"
      },
      "source": [
        "print('running second fold')\r\n",
        "jaccs_fold2, train_loss_fold2 = run(fold=2)"
      ],
      "execution_count": 42,
      "outputs": [
        {
          "output_type": "stream",
          "text": [
            "running second fold\n",
            "\n",
            "======== Epoch 1 / 4 ========\n",
            "Training...\n",
            "\n",
            "  Average training loss: 3.14\n",
            "  Training epcoh took: 1:43:55\n",
            "\n",
            "Running Validation...\n",
            "  Average jaccard similarity on validation data: 0.97\n",
            "  validation took: 1:44:06\n",
            "saving model\n",
            "\n",
            "======== Epoch 2 / 4 ========\n",
            "Training...\n",
            "\n",
            "  Average training loss: 2.25\n",
            "  Training epcoh took: 1:47:33\n",
            "\n",
            "Running Validation...\n",
            "  Average jaccard similarity on validation data: 0.97\n",
            "  validation took: 1:47:44\n",
            "\n",
            "======== Epoch 3 / 4 ========\n",
            "Training...\n",
            "\n",
            "  Average training loss: 1.95\n",
            "  Training epcoh took: 1:51:09\n",
            "\n",
            "Running Validation...\n",
            "  Average jaccard similarity on validation data: 0.97\n",
            "  validation took: 1:51:20\n",
            "\n",
            "======== Epoch 4 / 4 ========\n",
            "Training...\n",
            "\n",
            "  Average training loss: 1.74\n",
            "  Training epcoh took: 1:54:45\n",
            "\n",
            "Running Validation...\n",
            "  Average jaccard similarity on validation data: 0.97\n",
            "  validation took: 1:54:56\n"
          ],
          "name": "stdout"
        }
      ]
    },
    {
      "cell_type": "code",
      "metadata": {
        "colab": {
          "base_uri": "https://localhost:8080/"
        },
        "id": "hiZmFx5rRLbV",
        "outputId": "e8e7e451-81fa-4e30-8b59-a86cd45218df"
      },
      "source": [
        "print('running 3rd fold')\r\n",
        "jaccs_fold3, train_loss_fold3 = run(fold=3)"
      ],
      "execution_count": 57,
      "outputs": [
        {
          "output_type": "stream",
          "text": [
            "running 3rd fold\n",
            "\n",
            "======== Epoch 1 / 3 ========\n",
            "Training...\n",
            "\n",
            "  Average training loss: 3.22\n",
            "  Training epcoh took: 3:04:47\n",
            "\n",
            "Running Validation...\n",
            "  Average jaccard similarity on validation data: 0.94\n",
            "  validation took: 3:04:58\n",
            "saving model\n",
            "\n",
            "======== Epoch 2 / 3 ========\n",
            "Training...\n",
            "\n",
            "  Average training loss: 2.28\n",
            "  Training epcoh took: 3:08:26\n",
            "\n",
            "Running Validation...\n",
            "  Average jaccard similarity on validation data: 0.94\n",
            "  validation took: 3:08:37\n",
            "\n",
            "======== Epoch 3 / 3 ========\n",
            "Training...\n",
            "\n",
            "  Average training loss: 2.02\n",
            "  Training epcoh took: 3:12:02\n",
            "\n",
            "Running Validation...\n",
            "  Average jaccard similarity on validation data: 0.94\n",
            "  validation took: 3:12:13\n"
          ],
          "name": "stdout"
        }
      ]
    },
    {
      "cell_type": "code",
      "metadata": {
        "colab": {
          "base_uri": "https://localhost:8080/"
        },
        "id": "3RSnn1EQRWo9",
        "outputId": "d8c76343-463e-4ea4-f448-07188ff04189"
      },
      "source": [
        "print('running 4th fold')\r\n",
        "jaccs_fold4, train_loss_fold4 = run(fold=4)"
      ],
      "execution_count": 59,
      "outputs": [
        {
          "output_type": "stream",
          "text": [
            "running 4th fold\n",
            "\n",
            "======== Epoch 1 / 3 ========\n",
            "Training...\n",
            "\n",
            "  Average training loss: 3.34\n",
            "  Training epcoh took: 3:16:45\n",
            "\n",
            "Running Validation...\n",
            "  Average jaccard similarity on validation data: 0.92\n",
            "  validation took: 3:16:56\n",
            "saving model\n",
            "\n",
            "======== Epoch 2 / 3 ========\n",
            "Training...\n",
            "\n",
            "  Average training loss: 2.34\n",
            "  Training epcoh took: 3:20:24\n",
            "\n",
            "Running Validation...\n",
            "  Average jaccard similarity on validation data: 0.92\n",
            "  validation took: 3:20:36\n",
            "\n",
            "======== Epoch 3 / 3 ========\n",
            "Training...\n",
            "\n",
            "  Average training loss: 2.06\n",
            "  Training epcoh took: 3:24:01\n",
            "\n",
            "Running Validation...\n",
            "  Average jaccard similarity on validation data: 0.92\n",
            "  validation took: 3:24:13\n"
          ],
          "name": "stdout"
        }
      ]
    },
    {
      "cell_type": "code",
      "metadata": {
        "colab": {
          "base_uri": "https://localhost:8080/"
        },
        "id": "pdk5t9Keicjf",
        "outputId": "67e56ee1-6403-4109-9827-b7059b9ec356"
      },
      "source": [
        "print('running 5th fold')\r\n",
        "jaccs_fold5, train_loss_fold5 = run(fold=5)"
      ],
      "execution_count": 61,
      "outputs": [
        {
          "output_type": "stream",
          "text": [
            "running 5th fold\n",
            "\n",
            "======== Epoch 1 / 3 ========\n",
            "Training...\n",
            "\n",
            "  Average training loss: 3.18\n",
            "  Training epcoh took: 3:28:40\n",
            "\n",
            "Running Validation...\n",
            "  Average jaccard similarity on validation data: 1.00\n",
            "  validation took: 3:28:52\n",
            "saving model\n",
            "\n",
            "======== Epoch 2 / 3 ========\n",
            "Training...\n",
            "\n",
            "  Average training loss: 2.27\n",
            "  Training epcoh took: 3:32:20\n",
            "\n",
            "Running Validation...\n",
            "  Average jaccard similarity on validation data: 1.00\n",
            "  validation took: 3:32:31\n",
            "\n",
            "======== Epoch 3 / 3 ========\n",
            "Training...\n",
            "\n",
            "  Average training loss: 2.01\n",
            "  Training epcoh took: 3:35:56\n",
            "\n",
            "Running Validation...\n",
            "  Average jaccard similarity on validation data: 1.00\n",
            "  validation took: 3:36:07\n"
          ],
          "name": "stdout"
        }
      ]
    },
    {
      "cell_type": "code",
      "metadata": {
        "colab": {
          "base_uri": "https://localhost:8080/"
        },
        "id": "vV65C7Esh74_",
        "outputId": "60f19a2b-2942-4864-a8bc-837b07188795"
      },
      "source": [
        "print('running 6th fold')\r\n",
        "jaccs_fold6, train_loss_fold6 = run(fold=6)"
      ],
      "execution_count": 51,
      "outputs": [
        {
          "output_type": "stream",
          "text": [
            "running 6th fold\n",
            "\n",
            "======== Epoch 1 / 3 ========\n",
            "Training...\n",
            "\n",
            "  Average training loss: 3.23\n",
            "  Training epcoh took: 2:44:09\n",
            "\n",
            "Running Validation...\n",
            "  Average jaccard similarity on validation data: 0.94\n",
            "  validation took: 2:44:20\n",
            "saving model\n",
            "\n",
            "======== Epoch 2 / 3 ========\n",
            "Training...\n",
            "\n",
            "  Average training loss: 2.32\n",
            "  Training epcoh took: 2:47:47\n",
            "\n",
            "Running Validation...\n",
            "  Average jaccard similarity on validation data: 0.94\n",
            "  validation took: 2:47:58\n",
            "\n",
            "======== Epoch 3 / 3 ========\n",
            "Training...\n",
            "\n",
            "  Average training loss: 2.05\n",
            "  Training epcoh took: 2:51:22\n",
            "\n",
            "Running Validation...\n",
            "  Average jaccard similarity on validation data: 0.94\n",
            "  validation took: 2:51:33\n"
          ],
          "name": "stdout"
        }
      ]
    },
    {
      "cell_type": "code",
      "metadata": {
        "colab": {
          "base_uri": "https://localhost:8080/"
        },
        "id": "19wXix8IiEMx",
        "outputId": "15460cf8-7a86-4539-d73e-1ee6aa66ac47"
      },
      "source": [
        "print('running 7th fold')\r\n",
        "jaccs_fold7, train_loss_fold7 = run(fold=7)"
      ],
      "execution_count": 63,
      "outputs": [
        {
          "output_type": "stream",
          "text": [
            "running 7th fold\n",
            "\n",
            "======== Epoch 1 / 3 ========\n",
            "Training...\n",
            "\n",
            "  Average training loss: 3.23\n",
            "  Training epcoh took: 4:17:31\n",
            "\n",
            "Running Validation...\n",
            "  Average jaccard similarity on validation data: 0.66\n",
            "  validation took: 4:17:42\n",
            "saving model\n",
            "\n",
            "======== Epoch 2 / 3 ========\n",
            "Training...\n",
            "\n",
            "  Average training loss: 2.29\n",
            "  Training epcoh took: 4:21:07\n",
            "\n",
            "Running Validation...\n",
            "  Average jaccard similarity on validation data: 0.72\n",
            "  validation took: 4:21:18\n",
            "saving model\n",
            "\n",
            "======== Epoch 3 / 3 ========\n",
            "Training...\n",
            "\n",
            "  Average training loss: 2.03\n",
            "  Training epcoh took: 4:24:43\n",
            "\n",
            "Running Validation...\n",
            "  Average jaccard similarity on validation data: 0.72\n",
            "  validation took: 4:24:54\n"
          ],
          "name": "stdout"
        }
      ]
    },
    {
      "cell_type": "code",
      "metadata": {
        "id": "wQx_6UDWmuYw"
      },
      "source": [
        "jaccs = []\r\n",
        "losses = []\r\n",
        "jaccs.append(np.mean(np.mean(jaccs_fold0)))\r\n",
        "jaccs.append(np.mean(jaccs_fold1))\r\n",
        "jaccs.append(np.mean(jaccs_fold2))\r\n",
        "jaccs.append(np.mean(jaccs_fold3))\r\n",
        "jaccs.append(np.mean(jaccs_fold4))\r\n",
        "jaccs.append(np.mean(jaccs_fold5))\r\n",
        "jaccs.append(np.mean(jaccs_fold6))\r\n",
        "jaccs.append(np.mean(jaccs_fold7))\r\n",
        "\r\n",
        "losses.append(np.mean(np.mean(train_loss_fold0)))\r\n",
        "losses.append(np.mean(train_loss_fold1))\r\n",
        "losses.append(np.mean(train_loss_fold2))\r\n",
        "losses.append(np.mean(train_loss_fold3))\r\n",
        "losses.append(np.mean(train_loss_fold4))\r\n",
        "losses.append(np.mean(train_loss_fold5))\r\n",
        "losses.append(np.mean(train_loss_fold6))\r\n",
        "losses.append(np.mean(train_loss_fold7))"
      ],
      "execution_count": 64,
      "outputs": []
    },
    {
      "cell_type": "code",
      "metadata": {
        "colab": {
          "base_uri": "https://localhost:8080/",
          "height": 300
        },
        "id": "wfNegqlBnuAy",
        "outputId": "fe13be63-d866-4e4f-d4b5-500fda5b4d93"
      },
      "source": [
        "print('Jaccard similaritt and train loss average per fold')\r\n",
        "data = {'jaccard': jaccs, 'train_loss': losses}\r\n",
        "bert_metrics = pd.DataFrame(data)\r\n",
        "bert_metrics.to_csv('/content/drive/MyDrive/bert_metrics.csv')\r\n",
        "bert_metrics\r\n"
      ],
      "execution_count": 65,
      "outputs": [
        {
          "output_type": "stream",
          "text": [
            "Jaccard similaritt and train loss average per fold\n"
          ],
          "name": "stdout"
        },
        {
          "output_type": "execute_result",
          "data": {
            "text/html": [
              "<div>\n",
              "<style scoped>\n",
              "    .dataframe tbody tr th:only-of-type {\n",
              "        vertical-align: middle;\n",
              "    }\n",
              "\n",
              "    .dataframe tbody tr th {\n",
              "        vertical-align: top;\n",
              "    }\n",
              "\n",
              "    .dataframe thead th {\n",
              "        text-align: right;\n",
              "    }\n",
              "</style>\n",
              "<table border=\"1\" class=\"dataframe\">\n",
              "  <thead>\n",
              "    <tr style=\"text-align: right;\">\n",
              "      <th></th>\n",
              "      <th>jaccard</th>\n",
              "      <th>train_loss</th>\n",
              "    </tr>\n",
              "  </thead>\n",
              "  <tbody>\n",
              "    <tr>\n",
              "      <th>0</th>\n",
              "      <td>0.424733</td>\n",
              "      <td>2.287014</td>\n",
              "    </tr>\n",
              "    <tr>\n",
              "      <th>1</th>\n",
              "      <td>0.750644</td>\n",
              "      <td>2.283495</td>\n",
              "    </tr>\n",
              "    <tr>\n",
              "      <th>2</th>\n",
              "      <td>0.968182</td>\n",
              "      <td>2.270863</td>\n",
              "    </tr>\n",
              "    <tr>\n",
              "      <th>3</th>\n",
              "      <td>0.944664</td>\n",
              "      <td>2.505626</td>\n",
              "    </tr>\n",
              "    <tr>\n",
              "      <th>4</th>\n",
              "      <td>0.923554</td>\n",
              "      <td>2.579926</td>\n",
              "    </tr>\n",
              "    <tr>\n",
              "      <th>5</th>\n",
              "      <td>1.000000</td>\n",
              "      <td>2.489894</td>\n",
              "    </tr>\n",
              "    <tr>\n",
              "      <th>6</th>\n",
              "      <td>0.940559</td>\n",
              "      <td>2.534022</td>\n",
              "    </tr>\n",
              "    <tr>\n",
              "      <th>7</th>\n",
              "      <td>0.702253</td>\n",
              "      <td>2.515385</td>\n",
              "    </tr>\n",
              "  </tbody>\n",
              "</table>\n",
              "</div>"
            ],
            "text/plain": [
              "    jaccard  train_loss\n",
              "0  0.424733    2.287014\n",
              "1  0.750644    2.283495\n",
              "2  0.968182    2.270863\n",
              "3  0.944664    2.505626\n",
              "4  0.923554    2.579926\n",
              "5  1.000000    2.489894\n",
              "6  0.940559    2.534022\n",
              "7  0.702253    2.515385"
            ]
          },
          "metadata": {
            "tags": []
          },
          "execution_count": 65
        }
      ]
    },
    {
      "cell_type": "markdown",
      "metadata": {
        "id": "YCmd3jDdyvrf"
      },
      "source": [
        "##Testing of modea and Saving the outcomes\r\n",
        "\r\n",
        "we will use outcome of two different models and take their average to find to find the selected text for test data."
      ]
    },
    {
      "cell_type": "code",
      "metadata": {
        "id": "S94VGrq_Z85k",
        "colab": {
          "base_uri": "https://localhost:8080/"
        },
        "outputId": "47b5f54e-3b78-472f-b107-efe560d44169"
      },
      "source": [
        "conf = BertConfig.from_pretrained('bert-base-uncased')\r\n",
        "conf.output_hidden_states = True\r\n",
        "\r\n",
        "model0 = BERTBaseUncased(conf)\r\n",
        "model0.to(device)\r\n",
        "model0 = nn.DataParallel(model0)\r\n",
        "model0.load_state_dict(torch.load(\"/content/drive/MyDrive/BERT_files/bert_model0.pth\"))\r\n",
        "\r\n",
        "model1 = BERTBaseUncased(conf)\r\n",
        "model1.to(device)\r\n",
        "model1 = nn.DataParallel(model1)\r\n",
        "model1.load_state_dict(torch.load(\"/content/drive/MyDrive/BERT_files/bert_model1.pth\"))\r\n",
        "\r\n",
        "model2 = BERTBaseUncased(conf)\r\n",
        "model2.to(device)\r\n",
        "model2 = nn.DataParallel(model2)\r\n",
        "model2.load_state_dict(torch.load(\"/content/drive/MyDrive/BERT_files/bert_model2.pth\"))\r\n",
        "\r\n",
        "model3 = BERTBaseUncased(conf)\r\n",
        "model3.to(device)\r\n",
        "model3 = nn.DataParallel(model3)\r\n",
        "model3.load_state_dict(torch.load(\"/content/drive/MyDrive/BERT_files/bert_model3.pth\"))\r\n",
        "\r\n",
        "model4 = BERTBaseUncased(conf)\r\n",
        "model4.to(device)\r\n",
        "model4 = nn.DataParallel(model4)\r\n",
        "model4.load_state_dict(torch.load(\"/content/drive/MyDrive/BERT_files/bert_model4.pth\"))\r\n",
        "\r\n",
        "model5 = BERTBaseUncased(conf)\r\n",
        "model5.to(device)\r\n",
        "model5 = nn.DataParallel(model5)\r\n",
        "model5.load_state_dict(torch.load(\"/content/drive/MyDrive/BERT_files/bert_model5.pth\"))\r\n",
        "\r\n",
        "model6 = BERTBaseUncased(conf)\r\n",
        "model6.to(device)\r\n",
        "model6 = nn.DataParallel(model6)\r\n",
        "model6.load_state_dict(torch.load(\"/content/drive/MyDrive/BERT_files/bert_model6.pth\"))\r\n",
        "\r\n",
        "model7 = BERTBaseUncased(conf)\r\n",
        "model7.to(device)\r\n",
        "model7 = nn.DataParallel(model7)\r\n",
        "model7.load_state_dict(torch.load(\"/content/drive/MyDrive/BERT_files/bert_model7.pth\"))"
      ],
      "execution_count": 66,
      "outputs": [
        {
          "output_type": "execute_result",
          "data": {
            "text/plain": [
              "<All keys matched successfully>"
            ]
          },
          "metadata": {
            "tags": []
          },
          "execution_count": 66
        }
      ]
    },
    {
      "cell_type": "code",
      "metadata": {
        "id": "h1D5fSBHHzpC",
        "colab": {
          "base_uri": "https://localhost:8080/",
          "height": 194
        },
        "outputId": "65cc5205-c5b9-4bc7-df53-49044f93db1c"
      },
      "source": [
        "test = config.TEST_FILE.reset_index(drop=True)\r\n",
        "test.insert(3,'selected_text', test.text)\r\n",
        "test_dataset = TextDataset(text = test.text.values,\r\n",
        "                           selected_text = test.selected_text.values,\r\n",
        "                           sentiment = test.sentiment.values)\r\n",
        "\r\n",
        "test_dataloader = DataLoader(test_dataset,\r\n",
        "                             shuffle=False,\r\n",
        "                             batch_size = config.VALID_BATCH_SIZE)\r\n",
        "test.head()"
      ],
      "execution_count": 92,
      "outputs": [
        {
          "output_type": "execute_result",
          "data": {
            "text/html": [
              "<div>\n",
              "<style scoped>\n",
              "    .dataframe tbody tr th:only-of-type {\n",
              "        vertical-align: middle;\n",
              "    }\n",
              "\n",
              "    .dataframe tbody tr th {\n",
              "        vertical-align: top;\n",
              "    }\n",
              "\n",
              "    .dataframe thead th {\n",
              "        text-align: right;\n",
              "    }\n",
              "</style>\n",
              "<table border=\"1\" class=\"dataframe\">\n",
              "  <thead>\n",
              "    <tr style=\"text-align: right;\">\n",
              "      <th></th>\n",
              "      <th>textID</th>\n",
              "      <th>text</th>\n",
              "      <th>sentiment</th>\n",
              "      <th>selected_text</th>\n",
              "    </tr>\n",
              "  </thead>\n",
              "  <tbody>\n",
              "    <tr>\n",
              "      <th>0</th>\n",
              "      <td>f87dea47db</td>\n",
              "      <td>Last session of the day  http://twitpic.com/67ezh</td>\n",
              "      <td>neutral</td>\n",
              "      <td>Last session of the day  http://twitpic.com/67ezh</td>\n",
              "    </tr>\n",
              "    <tr>\n",
              "      <th>1</th>\n",
              "      <td>96d74cb729</td>\n",
              "      <td>Shanghai is also really exciting (precisely -...</td>\n",
              "      <td>positive</td>\n",
              "      <td>Shanghai is also really exciting (precisely -...</td>\n",
              "    </tr>\n",
              "    <tr>\n",
              "      <th>2</th>\n",
              "      <td>eee518ae67</td>\n",
              "      <td>Recession hit Veronique Branquinho, she has to...</td>\n",
              "      <td>negative</td>\n",
              "      <td>Recession hit Veronique Branquinho, she has to...</td>\n",
              "    </tr>\n",
              "    <tr>\n",
              "      <th>3</th>\n",
              "      <td>01082688c6</td>\n",
              "      <td>happy bday!</td>\n",
              "      <td>positive</td>\n",
              "      <td>happy bday!</td>\n",
              "    </tr>\n",
              "    <tr>\n",
              "      <th>4</th>\n",
              "      <td>33987a8ee5</td>\n",
              "      <td>http://twitpic.com/4w75p - I like it!!</td>\n",
              "      <td>positive</td>\n",
              "      <td>http://twitpic.com/4w75p - I like it!!</td>\n",
              "    </tr>\n",
              "  </tbody>\n",
              "</table>\n",
              "</div>"
            ],
            "text/plain": [
              "       textID  ...                                      selected_text\n",
              "0  f87dea47db  ...  Last session of the day  http://twitpic.com/67ezh\n",
              "1  96d74cb729  ...   Shanghai is also really exciting (precisely -...\n",
              "2  eee518ae67  ...  Recession hit Veronique Branquinho, she has to...\n",
              "3  01082688c6  ...                                        happy bday!\n",
              "4  33987a8ee5  ...             http://twitpic.com/4w75p - I like it!!\n",
              "\n",
              "[5 rows x 4 columns]"
            ]
          },
          "metadata": {
            "tags": []
          },
          "execution_count": 92
        }
      ]
    },
    {
      "cell_type": "markdown",
      "metadata": {
        "id": "wKv6YFrAOKem"
      },
      "source": [
        "Calculating final Validation similarity on training data using 3 folds of trained models."
      ]
    },
    {
      "cell_type": "code",
      "metadata": {
        "id": "jlRSS8AFys92"
      },
      "source": [
        "def final_eval(data_loader):\r\n",
        "  model0.eval()\r\n",
        "  model1.eval()\r\n",
        "  model2.eval()\r\n",
        "  model3.eval()\r\n",
        "  model4.eval()\r\n",
        "  model5.eval()\r\n",
        "  model6.eval()\r\n",
        "  model7.eval()\r\n",
        "\r\n",
        "  predicted_text = []\r\n",
        "\r\n",
        "  with torch.no_grad():\r\n",
        "    for bi, batch in enumerate(data_loader):\r\n",
        "      t0 = time.time()\r\n",
        "      ids = batch[\"ids\"].to(device, dtype=torch.long)\r\n",
        "      token_type_ids = batch['token_type_ids'].to(device, dtype=torch.long)\r\n",
        "      attention_mask = batch['attention_mask'].to(device, dtype=torch.long)\r\n",
        "      text = batch['text']\r\n",
        "      offsets = batch['offsets']\r\n",
        "      selected_text = batch['selected_text']\r\n",
        "      sentiment = batch['sentiment']\r\n",
        "    \r\n",
        "      output_start0,output_end0 = model0(ids = ids,\r\n",
        "                                         attention_mask = attention_mask,\r\n",
        "                                         token_type_ids=token_type_ids)\r\n",
        "        \r\n",
        "      output_start1,output_end1 = model1(ids = ids,\r\n",
        "                                         attention_mask = attention_mask,\r\n",
        "                                         token_type_ids=token_type_ids)\r\n",
        "      \r\n",
        "      output_start2,output_end2 = model2(ids,\r\n",
        "                           attention_mask = attention_mask,\r\n",
        "                           token_type_ids=token_type_ids)\r\n",
        "    \r\n",
        "    \r\n",
        "      output_start3,output_end3 = model3(ids,\r\n",
        "                                         attention_mask = attention_mask,\r\n",
        "                                         token_type_ids=token_type_ids)\r\n",
        "    \r\n",
        "      output_start4,output_end4 = model4(ids,\r\n",
        "                                         attention_mask = attention_mask,\r\n",
        "                                         token_type_ids=token_type_ids)\r\n",
        "    \r\n",
        "      output_start5,output_end5 = model5(ids,\r\n",
        "                                         attention_mask = attention_mask,\r\n",
        "                                         token_type_ids=token_type_ids)\r\n",
        "\r\n",
        "      output_start6,output_end6 = model6(ids,\r\n",
        "                                         attention_mask = attention_mask,\r\n",
        "                                         token_type_ids=token_type_ids)\r\n",
        "\r\n",
        "      output_start7,output_end7 = model7(ids,\r\n",
        "                                         attention_mask = attention_mask,\r\n",
        "                                         token_type_ids=token_type_ids)\r\n",
        "  \r\n",
        "      output_start0 = torch.softmax(output_start0, dim=1).cpu().detach().numpy()\r\n",
        "      output_end0 = torch.softmax(output_end0, dim=1).cpu().detach().numpy()\r\n",
        "\r\n",
        "      output_start1 = torch.softmax(output_start1, dim=1).cpu().detach().numpy()\r\n",
        "      output_end1 = torch.softmax(output_end1, dim=1).cpu().detach().numpy()\r\n",
        "\r\n",
        "      output_start2 = torch.softmax(output_start2, dim=1).cpu().detach().numpy()\r\n",
        "      output_end2 = torch.softmax(output_end2, dim=1).cpu().detach().numpy()\r\n",
        "\r\n",
        "      output_start3 = torch.softmax(output_start3, dim=1).cpu().detach().numpy()\r\n",
        "      output_end3 = torch.softmax(output_end3, dim=1).cpu().detach().numpy()\r\n",
        "\r\n",
        "      output_start4 = torch.softmax(output_start4, dim=1).cpu().detach().numpy()\r\n",
        "      output_end4 = torch.softmax(output_end4, dim=1).cpu().detach().numpy()\r\n",
        "\r\n",
        "      output_start5 = torch.softmax(output_start5, dim=1).cpu().detach().numpy()\r\n",
        "      output_end5 = torch.softmax(output_end5, dim=1).cpu().detach().numpy()\r\n",
        "\r\n",
        "      output_start6 = torch.softmax(output_start6, dim=1).cpu().detach().numpy()\r\n",
        "      output_end6 = torch.softmax(output_end6, dim=1).cpu().detach().numpy()\r\n",
        "\r\n",
        "      output_start7 = torch.softmax(output_start7, dim=1).cpu().detach().numpy()\r\n",
        "      output_end7 = torch.softmax(output_end7, dim=1).cpu().detach().numpy()\r\n",
        "\r\n",
        "      output_start = (output_start0 + output_start1 +  output_start2 + output_start3+ output_start4 + output_start5 + output_start6 + output_start7) / 8\r\n",
        "      output_end = (output_end0 + output_end1 + output_end2 + output_end3 + output_end4 + output_end5 + output_end6 + output_end7) / 8\r\n",
        "\r\n",
        "\r\n",
        "      for px, tweet in enumerate(text):\r\n",
        "\r\n",
        "        jacc, pred = jaccard_metric(tweet,\r\n",
        "                                    selected_text[px],\r\n",
        "                                    sentiment = sentiment[px],\r\n",
        "                                    offsets = offsets[px,:],\r\n",
        "                                    start_idx = np.argmax(output_start[px,]),\r\n",
        "                                    end_idx = np.argmax(output_end[px,]))\r\n",
        "\r\n",
        "        predicted_text.append(pred)  \r\n",
        "  \r\n",
        "  return predicted_text\r\n"
      ],
      "execution_count": 93,
      "outputs": []
    },
    {
      "cell_type": "code",
      "metadata": {
        "colab": {
          "base_uri": "https://localhost:8080/"
        },
        "id": "BRggJieB27_U",
        "outputId": "d51828cb-458c-4be8-945d-2905e40a4db1"
      },
      "source": [
        "print('Testing trained model on test data')\r\n",
        "preds = final_eval(test_dataloader)"
      ],
      "execution_count": 94,
      "outputs": [
        {
          "output_type": "stream",
          "text": [
            "Testing trained model on test data\n"
          ],
          "name": "stdout"
        }
      ]
    },
    {
      "cell_type": "code",
      "metadata": {
        "colab": {
          "base_uri": "https://localhost:8080/",
          "height": 546
        },
        "id": "BqZYed7Q43N-",
        "outputId": "bf19cb4a-630d-4de6-ed6e-53a3319846f9"
      },
      "source": [
        "test.selected_text = preds\r\n",
        "test.sample(17)"
      ],
      "execution_count": 97,
      "outputs": [
        {
          "output_type": "execute_result",
          "data": {
            "text/html": [
              "<div>\n",
              "<style scoped>\n",
              "    .dataframe tbody tr th:only-of-type {\n",
              "        vertical-align: middle;\n",
              "    }\n",
              "\n",
              "    .dataframe tbody tr th {\n",
              "        vertical-align: top;\n",
              "    }\n",
              "\n",
              "    .dataframe thead th {\n",
              "        text-align: right;\n",
              "    }\n",
              "</style>\n",
              "<table border=\"1\" class=\"dataframe\">\n",
              "  <thead>\n",
              "    <tr style=\"text-align: right;\">\n",
              "      <th></th>\n",
              "      <th>textID</th>\n",
              "      <th>text</th>\n",
              "      <th>sentiment</th>\n",
              "      <th>selected_text</th>\n",
              "    </tr>\n",
              "  </thead>\n",
              "  <tbody>\n",
              "    <tr>\n",
              "      <th>2970</th>\n",
              "      <td>c7e96d2411</td>\n",
              "      <td>Uh, happy mother`s day mum.</td>\n",
              "      <td>positive</td>\n",
              "      <td>happy</td>\n",
              "    </tr>\n",
              "    <tr>\n",
              "      <th>830</th>\n",
              "      <td>2942ed51f6</td>\n",
              "      <td>Not so much a substitute as a variation. Ate ...</td>\n",
              "      <td>neutral</td>\n",
              "      <td>not so much a substitute as a variation. ate t...</td>\n",
              "    </tr>\n",
              "    <tr>\n",
              "      <th>1003</th>\n",
              "      <td>bd499c0bf7</td>\n",
              "      <td>Succesfully following Tayla!!</td>\n",
              "      <td>positive</td>\n",
              "      <td>succesfully</td>\n",
              "    </tr>\n",
              "    <tr>\n",
              "      <th>3216</th>\n",
              "      <td>007eeb40ff</td>\n",
              "      <td>http://twitpic.com/4wgoq - The Beach was pheno...</td>\n",
              "      <td>positive</td>\n",
              "      <td>phenomenal 2day</td>\n",
              "    </tr>\n",
              "    <tr>\n",
              "      <th>778</th>\n",
              "      <td>50eb2a08c3</td>\n",
              "      <td>Going to Al Ain.  Need to check out one store....</td>\n",
              "      <td>positive</td>\n",
              "      <td>hope i find things that i`m looking for.</td>\n",
              "    </tr>\n",
              "    <tr>\n",
              "      <th>1282</th>\n",
              "      <td>b8293bb838</td>\n",
              "      <td>Is on her way to nottingham! ICOF tonight, the...</td>\n",
              "      <td>negative</td>\n",
              "      <td>fail</td>\n",
              "    </tr>\n",
              "    <tr>\n",
              "      <th>629</th>\n",
              "      <td>36bc98037c</td>\n",
              "      <td>yeah, so quick! And I`m using the 5mm addi`s ...</td>\n",
              "      <td>positive</td>\n",
              "      <td>yeah, so quick! and i`m using the 5mm addi`s i...</td>\n",
              "    </tr>\n",
              "    <tr>\n",
              "      <th>1508</th>\n",
              "      <td>de2a14a465</td>\n",
              "      <td>Last day of CGI 09</td>\n",
              "      <td>neutral</td>\n",
              "      <td>last day of cgi 09</td>\n",
              "    </tr>\n",
              "    <tr>\n",
              "      <th>2947</th>\n",
              "      <td>9a6c971e84</td>\n",
              "      <td>oh okay cool, i love the fast and the furious...</td>\n",
              "      <td>positive</td>\n",
              "      <td>oh okay cool, i love the fast and the furious ...</td>\n",
              "    </tr>\n",
              "    <tr>\n",
              "      <th>2788</th>\n",
              "      <td>09910a212e</td>\n",
              "      <td>I am so bored, i really don`t know what to do!</td>\n",
              "      <td>negative</td>\n",
              "      <td>i am so bored,</td>\n",
              "    </tr>\n",
              "    <tr>\n",
              "      <th>2126</th>\n",
              "      <td>7058fc87de</td>\n",
              "      <td>Fighter - Christina Aguilera. LOVE that song</td>\n",
              "      <td>positive</td>\n",
              "      <td>love that song</td>\n",
              "    </tr>\n",
              "    <tr>\n",
              "      <th>805</th>\n",
              "      <td>8def10379e</td>\n",
              "      <td>Omg really??  I sowwy! I`ll do it again! :-p ...</td>\n",
              "      <td>negative</td>\n",
              "      <td>omg really?? i sowwy! i`ll do it again! :-p i ...</td>\n",
              "    </tr>\n",
              "    <tr>\n",
              "      <th>395</th>\n",
              "      <td>bf4b4c0f0b</td>\n",
              "      <td>so I slept in a little...well a lot. whooops</td>\n",
              "      <td>neutral</td>\n",
              "      <td>so i slept in a little...well a lot. whooops</td>\n",
              "    </tr>\n",
              "    <tr>\n",
              "      <th>2770</th>\n",
              "      <td>a85e779682</td>\n",
              "      <td>omg that was my twin sister`s fav song</td>\n",
              "      <td>positive</td>\n",
              "      <td>fav song</td>\n",
              "    </tr>\n",
              "    <tr>\n",
              "      <th>2213</th>\n",
              "      <td>5f455a3147</td>\n",
              "      <td>Flat tire city</td>\n",
              "      <td>neutral</td>\n",
              "      <td>flat tire city</td>\n",
              "    </tr>\n",
              "    <tr>\n",
              "      <th>1323</th>\n",
              "      <td>f71ed6b273</td>\n",
              "      <td>yeahhh! u`ve got plenty of great fans!! And i...</td>\n",
              "      <td>positive</td>\n",
              "      <td>great</td>\n",
              "    </tr>\n",
              "    <tr>\n",
              "      <th>892</th>\n",
              "      <td>a7cf141043</td>\n",
              "      <td>I love waking up and thinking it`s a weekday, ...</td>\n",
              "      <td>positive</td>\n",
              "      <td>i love</td>\n",
              "    </tr>\n",
              "  </tbody>\n",
              "</table>\n",
              "</div>"
            ],
            "text/plain": [
              "          textID  ...                                      selected_text\n",
              "2970  c7e96d2411  ...                                             happy \n",
              "830   2942ed51f6  ...  not so much a substitute as a variation. ate t...\n",
              "1003  bd499c0bf7  ...                                       succesfully \n",
              "3216  007eeb40ff  ...                                    phenomenal 2day\n",
              "778   50eb2a08c3  ...           hope i find things that i`m looking for.\n",
              "1282  b8293bb838  ...                                               fail\n",
              "629   36bc98037c  ...  yeah, so quick! and i`m using the 5mm addi`s i...\n",
              "1508  de2a14a465  ...                                 last day of cgi 09\n",
              "2947  9a6c971e84  ...  oh okay cool, i love the fast and the furious ...\n",
              "2788  09910a212e  ...                                    i am so bored, \n",
              "2126  7058fc87de  ...                                     love that song\n",
              "805   8def10379e  ...  omg really?? i sowwy! i`ll do it again! :-p i ...\n",
              "395   bf4b4c0f0b  ...       so i slept in a little...well a lot. whooops\n",
              "2770  a85e779682  ...                                           fav song\n",
              "2213  5f455a3147  ...                                     flat tire city\n",
              "1323  f71ed6b273  ...                                             great \n",
              "892   a7cf141043  ...                                            i love \n",
              "\n",
              "[17 rows x 4 columns]"
            ]
          },
          "metadata": {
            "tags": []
          },
          "execution_count": 97
        }
      ]
    },
    {
      "cell_type": "markdown",
      "metadata": {
        "id": "XboIcXNIOs_m"
      },
      "source": [
        "## Saving the submission file"
      ]
    },
    {
      "cell_type": "code",
      "metadata": {
        "id": "xF2E7xky8Zx_"
      },
      "source": [
        "submission = pd.read_csv('submission.csv')\r\n",
        "submission.selected_text = preds\r\n",
        "submission = submission.to_csv('submission.csv')"
      ],
      "execution_count": 100,
      "outputs": []
    },
    {
      "cell_type": "code",
      "metadata": {
        "id": "V9XofgDh9Ez8",
        "colab": {
          "base_uri": "https://localhost:8080/",
          "height": 17
        },
        "outputId": "55ad44e2-1b36-4bbc-a6b6-a55691bf561f"
      },
      "source": [
        "from google.colab import files\r\n",
        "files.download(\"submission.csv\")"
      ],
      "execution_count": 102,
      "outputs": [
        {
          "output_type": "display_data",
          "data": {
            "application/javascript": [
              "\n",
              "    async function download(id, filename, size) {\n",
              "      if (!google.colab.kernel.accessAllowed) {\n",
              "        return;\n",
              "      }\n",
              "      const div = document.createElement('div');\n",
              "      const label = document.createElement('label');\n",
              "      label.textContent = `Downloading \"${filename}\": `;\n",
              "      div.appendChild(label);\n",
              "      const progress = document.createElement('progress');\n",
              "      progress.max = size;\n",
              "      div.appendChild(progress);\n",
              "      document.body.appendChild(div);\n",
              "\n",
              "      const buffers = [];\n",
              "      let downloaded = 0;\n",
              "\n",
              "      const channel = await google.colab.kernel.comms.open(id);\n",
              "      // Send a message to notify the kernel that we're ready.\n",
              "      channel.send({})\n",
              "\n",
              "      for await (const message of channel.messages) {\n",
              "        // Send a message to notify the kernel that we're ready.\n",
              "        channel.send({})\n",
              "        if (message.buffers) {\n",
              "          for (const buffer of message.buffers) {\n",
              "            buffers.push(buffer);\n",
              "            downloaded += buffer.byteLength;\n",
              "            progress.value = downloaded;\n",
              "          }\n",
              "        }\n",
              "      }\n",
              "      const blob = new Blob(buffers, {type: 'application/binary'});\n",
              "      const a = document.createElement('a');\n",
              "      a.href = window.URL.createObjectURL(blob);\n",
              "      a.download = filename;\n",
              "      div.appendChild(a);\n",
              "      a.click();\n",
              "      div.remove();\n",
              "    }\n",
              "  "
            ],
            "text/plain": [
              "<IPython.core.display.Javascript object>"
            ]
          },
          "metadata": {
            "tags": []
          }
        },
        {
          "output_type": "display_data",
          "data": {
            "application/javascript": [
              "download(\"download_fa507e1f-82e2-42f6-b7c2-75280466fa93\", \"submission.csv\", 246780)"
            ],
            "text/plain": [
              "<IPython.core.display.Javascript object>"
            ]
          },
          "metadata": {
            "tags": []
          }
        }
      ]
    },
    {
      "cell_type": "code",
      "metadata": {
        "id": "iZ_J6s-qQ0Jq"
      },
      "source": [
        ""
      ],
      "execution_count": null,
      "outputs": []
    }
  ]
}