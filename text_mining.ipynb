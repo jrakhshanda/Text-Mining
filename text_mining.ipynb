{
  "nbformat": 4,
  "nbformat_minor": 0,
  "metadata": {
    "colab": {
      "name": "text_mining.ipynb",
      "provenance": [],
      "collapsed_sections": [],
      "authorship_tag": "ABX9TyNpgbBDvKbDEvuhoCLpS+op",
      "include_colab_link": true
    },
    "kernelspec": {
      "name": "python3",
      "display_name": "Python 3"
    },
    "accelerator": "TPU"
  },
  "cells": [
    {
      "cell_type": "markdown",
      "metadata": {
        "id": "view-in-github",
        "colab_type": "text"
      },
      "source": [
        "<a href=\"https://colab.research.google.com/github/jrakhshanda/Text-Mining/blob/main/text_mining.ipynb\" target=\"_parent\"><img src=\"https://colab.research.google.com/assets/colab-badge.svg\" alt=\"Open In Colab\"/></a>"
      ]
    },
    {
      "cell_type": "markdown",
      "metadata": {
        "id": "8G8c0ZhxWijM"
      },
      "source": [
        "# Tweet Sentiment Extraction"
      ]
    },
    {
      "cell_type": "code",
      "metadata": {
        "id": "lNFpGG_zDWtn"
      },
      "source": [
        "!pip install tokenizers\r\n",
        "!pip install transformers"
      ],
      "execution_count": null,
      "outputs": []
    },
    {
      "cell_type": "code",
      "metadata": {
        "id": "bQOakbOlBpI4"
      },
      "source": [
        "import pandas as pd\r\n",
        "import numpy as np\r\n",
        "import string\r\n",
        "\r\n",
        "import matplotlib.pyplot as plt\r\n",
        "import matplotlib.cm as cm\r\n",
        "import seaborn as sns\r\n",
        "\r\n",
        "from sklearn.model_selection import train_test_split\r\n",
        "from sklearn.feature_extraction.text import TfidfVectorizer,CountVectorizer\r\n",
        "\r\n",
        "from sklearn.linear_model import LogisticRegression\r\n",
        "from sklearn.svm import LinearSVC\r\n",
        "from sklearn.naive_bayes import MultinomialNB\r\n",
        "\r\n",
        "from sklearn.metrics import accuracy_score, classification_report, confusion_matrix"
      ],
      "execution_count": 7,
      "outputs": []
    },
    {
      "cell_type": "code",
      "metadata": {
        "id": "s5KiLjP2zm8Q"
      },
      "source": [
        "df_train = pd.read_csv('train.csv')\r\n",
        "df_test = pd.read_csv('test.csv')"
      ],
      "execution_count": 10,
      "outputs": []
    },
    {
      "cell_type": "code",
      "metadata": {
        "colab": {
          "base_uri": "https://localhost:8080/",
          "height": 218
        },
        "id": "5HjTQ0uDCC8o",
        "outputId": "ed979cac-d8ed-4a09-9b87-ccb23bb4484c"
      },
      "source": [
        "print(df_train.shape)\r\n",
        "df_train.sample(5)"
      ],
      "execution_count": 11,
      "outputs": [
        {
          "output_type": "stream",
          "text": [
            "(8191, 4)\n"
          ],
          "name": "stdout"
        },
        {
          "output_type": "execute_result",
          "data": {
            "text/html": [
              "<div>\n",
              "<style scoped>\n",
              "    .dataframe tbody tr th:only-of-type {\n",
              "        vertical-align: middle;\n",
              "    }\n",
              "\n",
              "    .dataframe tbody tr th {\n",
              "        vertical-align: top;\n",
              "    }\n",
              "\n",
              "    .dataframe thead th {\n",
              "        text-align: right;\n",
              "    }\n",
              "</style>\n",
              "<table border=\"1\" class=\"dataframe\">\n",
              "  <thead>\n",
              "    <tr style=\"text-align: right;\">\n",
              "      <th></th>\n",
              "      <th>textID</th>\n",
              "      <th>text</th>\n",
              "      <th>selected_text</th>\n",
              "      <th>sentiment</th>\n",
              "    </tr>\n",
              "  </thead>\n",
              "  <tbody>\n",
              "    <tr>\n",
              "      <th>7617</th>\n",
              "      <td>d7b04db569</td>\n",
              "      <td>schoool time. not doing much this week.  about...</td>\n",
              "      <td>can`t wait for the last day of school.</td>\n",
              "      <td>positive</td>\n",
              "    </tr>\n",
              "    <tr>\n",
              "      <th>5573</th>\n",
              "      <td>bc209b3ad3</td>\n",
              "      <td>You know you`re up too late when the TCU night...</td>\n",
              "      <td>You know you`re up too late when the TCU night...</td>\n",
              "      <td>neutral</td>\n",
              "    </tr>\n",
              "    <tr>\n",
              "      <th>101</th>\n",
              "      <td>15e01e1749</td>\n",
              "      <td>Certainly not Cheers than, huh?</td>\n",
              "      <td>Certainly not Cheers than, huh?</td>\n",
              "      <td>neutral</td>\n",
              "    </tr>\n",
              "    <tr>\n",
              "      <th>242</th>\n",
              "      <td>06cad97de6</td>\n",
              "      <td>If only we could ever actually be allowed to ...</td>\n",
              "      <td>If only we could ever actually be allowed to s...</td>\n",
              "      <td>neutral</td>\n",
              "    </tr>\n",
              "    <tr>\n",
              "      <th>7789</th>\n",
              "      <td>07593d8cba</td>\n",
              "      <td>Yo! Its moms day today, so do it big for mom d...</td>\n",
              "      <td>so do it big for mom</td>\n",
              "      <td>positive</td>\n",
              "    </tr>\n",
              "  </tbody>\n",
              "</table>\n",
              "</div>"
            ],
            "text/plain": [
              "          textID  ... sentiment\n",
              "7617  d7b04db569  ...  positive\n",
              "5573  bc209b3ad3  ...   neutral\n",
              "101   15e01e1749  ...   neutral\n",
              "242   06cad97de6  ...   neutral\n",
              "7789  07593d8cba  ...  positive\n",
              "\n",
              "[5 rows x 4 columns]"
            ]
          },
          "metadata": {
            "tags": []
          },
          "execution_count": 11
        }
      ]
    },
    {
      "cell_type": "code",
      "metadata": {
        "id": "VUE7-MSZM3D3",
        "colab": {
          "base_uri": "https://localhost:8080/",
          "height": 469
        },
        "outputId": "7b919f9c-a015-490f-a816-88dc92a4380d"
      },
      "source": [
        "plt.rcParams.update({'font.size': 15})\r\n",
        "plt.figure(figsize=(16,6))\r\n",
        "plt.subplot(1, 2, 1)\r\n",
        "df_train[\"sentiment\"].value_counts().plot(kind='bar',color = ['#ff9999','#99ff99','#ffcc99'])\r\n",
        "plt.xlabel(\"Sentiment\")\r\n",
        "plt.ylabel(\"Count\")\r\n",
        "plt.title('Training Data')\r\n",
        "\r\n",
        "lst1 = [df_train.sentiment[df_train.sentiment == 'neutral'].count(),\r\n",
        "        df_train.sentiment[df_train.sentiment == 'positive'].count(),\r\n",
        "        df_train.sentiment[df_train.sentiment == 'negative'].count()]\r\n",
        "        \r\n",
        "plt.subplot(1, 2, 2)\r\n",
        "plt.pie(lst1, labels=[\"Neutral\", \"positive\", \"Negative\"], startangle=90, autopct='%.2f%%',colors=['#ff9999','#99ff99','#ffcc99'])\r\n",
        "plt.title('Sentiments Distribution on Train Data')\r\n",
        "plt.show()"
      ],
      "execution_count": 12,
      "outputs": [
        {
          "output_type": "display_data",
          "data": {
            "image/png": "[encoded data removed]",
            "text/plain": [
              "<Figure size 1152x432 with 2 Axes>"
            ]
          },
          "metadata": {
            "tags": [],
            "needs_background": "light"
          }
        }
      ]
    },
    {
      "cell_type": "code",
      "metadata": {
        "id": "rPSvB7FUxWk7",
        "colab": {
          "base_uri": "https://localhost:8080/",
          "height": 248
        },
        "outputId": "3d9ed7c3-6a52-4592-e5fa-927ad1d7cd33"
      },
      "source": [
        "print(df_test.shape)\r\n",
        "df_test.sample(6)"
      ],
      "execution_count": 13,
      "outputs": [
        {
          "output_type": "stream",
          "text": [
            "(3534, 3)\n"
          ],
          "name": "stdout"
        },
        {
          "output_type": "execute_result",
          "data": {
            "text/html": [
              "<div>\n",
              "<style scoped>\n",
              "    .dataframe tbody tr th:only-of-type {\n",
              "        vertical-align: middle;\n",
              "    }\n",
              "\n",
              "    .dataframe tbody tr th {\n",
              "        vertical-align: top;\n",
              "    }\n",
              "\n",
              "    .dataframe thead th {\n",
              "        text-align: right;\n",
              "    }\n",
              "</style>\n",
              "<table border=\"1\" class=\"dataframe\">\n",
              "  <thead>\n",
              "    <tr style=\"text-align: right;\">\n",
              "      <th></th>\n",
              "      <th>textID</th>\n",
              "      <th>text</th>\n",
              "      <th>sentiment</th>\n",
              "    </tr>\n",
              "  </thead>\n",
              "  <tbody>\n",
              "    <tr>\n",
              "      <th>1590</th>\n",
              "      <td>6e41749ac7</td>\n",
              "      <td>hey  i tried callin u but it wont let me</td>\n",
              "      <td>neutral</td>\n",
              "    </tr>\n",
              "    <tr>\n",
              "      <th>2306</th>\n",
              "      <td>e4fa21bd2f</td>\n",
              "      <td>Really bad ones are also classic.</td>\n",
              "      <td>neutral</td>\n",
              "    </tr>\n",
              "    <tr>\n",
              "      <th>3387</th>\n",
              "      <td>645e740cb0</td>\n",
              "      <td>lmao...thats sad, kinda discourages me 4rom g...</td>\n",
              "      <td>negative</td>\n",
              "    </tr>\n",
              "    <tr>\n",
              "      <th>3144</th>\n",
              "      <td>10c55c13b8</td>\n",
              "      <td>really annoyed that work appear to have blocke...</td>\n",
              "      <td>negative</td>\n",
              "    </tr>\n",
              "    <tr>\n",
              "      <th>790</th>\n",
              "      <td>993c6eadd2</td>\n",
              "      <td>_d you`re gonna take good care of that little ...</td>\n",
              "      <td>positive</td>\n",
              "    </tr>\n",
              "    <tr>\n",
              "      <th>3298</th>\n",
              "      <td>79f88c9c67</td>\n",
              "      <td>Oh no....Sorry to hear that ....</td>\n",
              "      <td>negative</td>\n",
              "    </tr>\n",
              "  </tbody>\n",
              "</table>\n",
              "</div>"
            ],
            "text/plain": [
              "          textID                                               text sentiment\n",
              "1590  6e41749ac7           hey  i tried callin u but it wont let me   neutral\n",
              "2306  e4fa21bd2f                  Really bad ones are also classic.   neutral\n",
              "3387  645e740cb0   lmao...thats sad, kinda discourages me 4rom g...  negative\n",
              "3144  10c55c13b8  really annoyed that work appear to have blocke...  negative\n",
              "790   993c6eadd2  _d you`re gonna take good care of that little ...  positive\n",
              "3298  79f88c9c67                   Oh no....Sorry to hear that ....  negative"
            ]
          },
          "metadata": {
            "tags": []
          },
          "execution_count": 13
        }
      ]
    },
    {
      "cell_type": "code",
      "metadata": {
        "colab": {
          "base_uri": "https://localhost:8080/",
          "height": 469
        },
        "id": "hGOrQnQrt9dL",
        "outputId": "0bcc01ab-9ae7-4ce1-af5f-56d89fc13b9a"
      },
      "source": [
        "plt.rcParams.update({'font.size': 15})\r\n",
        "plt.figure(figsize=(16,6))\r\n",
        "plt.subplot(1, 2, 1)\r\n",
        "df_test[\"sentiment\"].value_counts().plot(kind='bar',color = ['#ff9999','#99ff99','#ffcc99'])\r\n",
        "plt.xlabel(\"Sentiment\")\r\n",
        "plt.ylabel(\"Count\")\r\n",
        "plt.title('Test Data')\r\n",
        "\r\n",
        "lst1 = [df_test.sentiment[df_test.sentiment == 'neutral'].count(),\r\n",
        "        df_test.sentiment[df_test.sentiment == 'positive'].count(),\r\n",
        "        df_test.sentiment[df_test.sentiment == 'negative'].count()]\r\n",
        "plt.subplot(1, 2, 2)\r\n",
        "plt.pie(lst1, labels=[\"Neutral\", \"positive\", \"Negative\"], startangle=90, autopct='%.2f%%',colors=['#ff9999','#99ff99','#ffcc99'])\r\n",
        "plt.title('Sentiments Distribution on Test Data')\r\n",
        "plt.show()"
      ],
      "execution_count": 14,
      "outputs": [
        {
          "output_type": "display_data",
          "data": {
            "image/png": "[encoded data removed]",
            "text/plain": [
              "<Figure size 1152x432 with 2 Axes>"
            ]
          },
          "metadata": {
            "tags": [],
            "needs_background": "light"
          }
        }
      ]
    },
    {
      "cell_type": "markdown",
      "metadata": {
        "id": "dDMduQaAWauh"
      },
      "source": [
        "## Pre-processing of the Data"
      ]
    },
    {
      "cell_type": "code",
      "metadata": {
        "id": "kOKGWSm2IjX9"
      },
      "source": [
        "from bs4 import BeautifulSoup\r\n",
        "import re\r\n",
        "from emot.emo_unicode import UNICODE_EMO, EMOTICONS"
      ],
      "execution_count": 15,
      "outputs": []
    },
    {
      "cell_type": "code",
      "metadata": {
        "id": "SBw_f4ZZKZz_"
      },
      "source": [
        "def clean_data(text):\r\n",
        "\r\n",
        "  \"\"\"convert te text to lowercase, remove URL, remove HTML tags and convert emojis to actual expression on the form of text.\r\n",
        "\r\n",
        "    Args:\r\n",
        "        text: A string of text.\r\n",
        "  \r\n",
        "  \"\"\"\r\n",
        "  text = \" \".join(str(text).split()) # Split, Concatenate, and Join\r\n",
        "  text = str(text).lower()\r\n",
        "  text = re.sub('\\n', '', text)\r\n",
        "  text = BeautifulSoup(text,\"lxml\").get_text() # removing HTML tags\r\n",
        "  text = re.sub('https?://\\S+|www\\.\\S+', '', text) # removing URL\r\n",
        "\r\n",
        "  return text"
      ],
      "execution_count": 22,
      "outputs": []
    },
    {
      "cell_type": "code",
      "metadata": {
        "id": "7X53uEyvPNAU"
      },
      "source": [
        "df_train.dropna()\r\n",
        "df_test.dropna()\r\n",
        "\r\n",
        "df_train['text'] = [clean_data(i) for i in df_train['text']]\r\n",
        "df_train['selected_text'] = [clean_data(i) for i in df_train['selected_text']]\r\n",
        "\r\n",
        "df_test['text'] = [clean_data(i) for i in df_test['text']]"
      ],
      "execution_count": 23,
      "outputs": []
    },
    {
      "cell_type": "code",
      "metadata": {
        "id": "yXgXnqYNX6nN"
      },
      "source": [
        "df_test.insert(2,'selected_text',np.nan)"
      ],
      "execution_count": 18,
      "outputs": []
    },
    {
      "cell_type": "markdown",
      "metadata": {
        "id": "cwIjtMYw_ze2"
      },
      "source": [
        "## Configuration\r\n",
        "\r\n",
        "For configuration, we will use the transformer library that hosts relevant information concerning the model we will be using, such as the number of layers, batch size, number of epochs, and the number of attention heads."
      ]
    },
    {
      "cell_type": "code",
      "metadata": {
        "id": "VEGeP6HpBuS-"
      },
      "source": [
        "Train_batch_size = 32\r\n",
        "valid_batch_size = 8\r\n",
        "epochs = 5"
      ],
      "execution_count": null,
      "outputs": []
    },
    {
      "cell_type": "markdown",
      "metadata": {
        "id": "796zgg-0C_ZN"
      },
      "source": [
        "##Tokenization\r\n",
        "\r\n",
        "We are constructing a RoBERTa tokenizer, derived from the GPT-2 tokenizer, using byte-level Byte-Pair-Encoding.\r\n",
        "\r\n",
        "[refrence](https://huggingface.co/transformers/model_doc/roberta.html#)\r\n",
        "\r\n",
        "[source](https://huggingface.co/transformers/_modules/transformers/models/roberta/tokenization_roberta.html#RobertaTokenizer)"
      ]
    },
    {
      "cell_type": "code",
      "metadata": {
        "id": "j8CdaxItFcjP"
      },
      "source": [
        "import tensorflow.keras.backend as K\r\n",
        "from sklearn.model_selection import StratifiedKFold\r\n",
        "from transformers import *\r\n",
        "import tokenizers\r\n",
        "from transformers import RobertaTokenizer"
      ],
      "execution_count": 19,
      "outputs": []
    },
    {
      "cell_type": "code",
      "metadata": {
        "id": "3J_VAbG9PlLY"
      },
      "source": [
        "max_len = max([len(i) for i in df_train['text']])\r\n",
        "roberta_tokenizer = RobertaTokenizer.from_pretrained(\"roberta-base\")"
      ],
      "execution_count": null,
      "outputs": []
    },
    {
      "cell_type": "code",
      "metadata": {
        "colab": {
          "base_uri": "https://localhost:8080/",
          "height": 222
        },
        "id": "A_LHgMp9HSKu",
        "outputId": "d6419f8d-a490-439d-c561-2d4ab6dd0b59"
      },
      "source": [
        "#def tokenize_data(df, tokenizer, max_len):\r\n",
        "\r\n",
        "df = df_train\r\n",
        "n = df.shape[0]\r\n",
        "\r\n",
        "input_ids = np.ones((n,max_len),dtype='int32')\r\n",
        "attention_mask = np.zeros((n,max_len),dtype='int32')\r\n",
        "token_type_ids = np.zeros((n,max_len),dtype='int32')\r\n",
        "beg_tokens = np.zeros((n,max_len),dtype='int32')\r\n",
        "end_tokens = np.zeros((n,max_len),dtype='int32')\r\n",
        "\r\n",
        "for i in range(n):\r\n",
        "\r\n",
        "  # FIND OVERLAP OR INTERSECTIONOF BOTH THE TEXTS\r\n",
        "\r\n",
        "  text = \" \"+\" \".join(str(df.loc[i,'text']).split()) # yields a whitespace at beginning of text\r\n",
        "  selected_text = df.loc[i,'selected_text']\r\n",
        "\r\n",
        "  idx = text.find(selected_text) # gives the count of appearance\r\n",
        "  chars = np.zeros((len(text)))\r\n",
        "  chars[idx:idx+len(selected_text)] = 1 \r\n",
        "  \r\n",
        "  if text[idx-1] == ' ': chars[idx-1] = 1\r\n",
        "  enc = tokenizer.encode(text)"
      ],
      "execution_count": 21,
      "outputs": [
        {
          "output_type": "error",
          "ename": "IndexError",
          "evalue": "ignored",
          "traceback": [
            "\u001b[0;31m---------------------------------------------------------------------------\u001b[0m",
            "\u001b[0;31mIndexError\u001b[0m                                Traceback (most recent call last)",
            "\u001b[0;32m<ipython-input-21-84fc12e8d527>\u001b[0m in \u001b[0;36m<module>\u001b[0;34m()\u001b[0m\n\u001b[1;32m     21\u001b[0m   \u001b[0mchars\u001b[0m\u001b[0;34m[\u001b[0m\u001b[0midx\u001b[0m\u001b[0;34m:\u001b[0m\u001b[0midx\u001b[0m\u001b[0;34m+\u001b[0m\u001b[0mlen\u001b[0m\u001b[0;34m(\u001b[0m\u001b[0mselected_text\u001b[0m\u001b[0;34m)\u001b[0m\u001b[0;34m]\u001b[0m \u001b[0;34m=\u001b[0m \u001b[0;36m1\u001b[0m\u001b[0;34m\u001b[0m\u001b[0;34m\u001b[0m\u001b[0m\n\u001b[1;32m     22\u001b[0m \u001b[0;34m\u001b[0m\u001b[0m\n\u001b[0;32m---> 23\u001b[0;31m   \u001b[0;32mif\u001b[0m \u001b[0mtext\u001b[0m\u001b[0;34m[\u001b[0m\u001b[0midx\u001b[0m\u001b[0;34m-\u001b[0m\u001b[0;36m1\u001b[0m\u001b[0;34m]\u001b[0m \u001b[0;34m==\u001b[0m \u001b[0;34m' '\u001b[0m\u001b[0;34m:\u001b[0m \u001b[0mchars\u001b[0m\u001b[0;34m[\u001b[0m\u001b[0midx\u001b[0m\u001b[0;34m-\u001b[0m\u001b[0;36m1\u001b[0m\u001b[0;34m]\u001b[0m \u001b[0;34m=\u001b[0m \u001b[0;36m1\u001b[0m\u001b[0;34m\u001b[0m\u001b[0;34m\u001b[0m\u001b[0m\n\u001b[0m\u001b[1;32m     24\u001b[0m   \u001b[0menc\u001b[0m \u001b[0;34m=\u001b[0m \u001b[0mtokenizer\u001b[0m\u001b[0;34m.\u001b[0m\u001b[0mencode\u001b[0m\u001b[0;34m(\u001b[0m\u001b[0mtext\u001b[0m\u001b[0;34m)\u001b[0m\u001b[0;34m\u001b[0m\u001b[0;34m\u001b[0m\u001b[0m\n",
            "\u001b[0;31mIndexError\u001b[0m: string index out of range"
          ]
        }
      ]
    },
    {
      "cell_type": "code",
      "metadata": {
        "id": "LDTJB45Ras68"
      },
      "source": [
        "idx = text.find(selected_text)\r\n",
        "idx"
      ],
      "execution_count": null,
      "outputs": []
    },
    {
      "cell_type": "code",
      "metadata": {
        "colab": {
          "base_uri": "https://localhost:8080/"
        },
        "id": "_fNtVU3MbWpr",
        "outputId": "bde3e97b-c161-4189-e35b-c88e424e8057"
      },
      "source": [
        "len(selected_text)"
      ],
      "execution_count": 109,
      "outputs": [
        {
          "output_type": "execute_result",
          "data": {
            "text/plain": [
              "57"
            ]
          },
          "metadata": {
            "tags": []
          },
          "execution_count": 109
        }
      ]
    },
    {
      "cell_type": "code",
      "metadata": {
        "colab": {
          "base_uri": "https://localhost:8080/"
        },
        "id": "oAN5fUboa4sd",
        "outputId": "4137ea06-c8a9-4570-beb7-b982e9e768c1"
      },
      "source": [
        "len(text)"
      ],
      "execution_count": 110,
      "outputs": [
        {
          "output_type": "execute_result",
          "data": {
            "text/plain": [
              "59"
            ]
          },
          "metadata": {
            "tags": []
          },
          "execution_count": 110
        }
      ]
    },
    {
      "cell_type": "code",
      "metadata": {
        "id": "GRWTkwtV3fZG"
      },
      "source": [
        ""
      ],
      "execution_count": null,
      "outputs": []
    }
  ]
}