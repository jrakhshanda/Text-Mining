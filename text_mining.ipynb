{
  "nbformat": 4,
  "nbformat_minor": 0,
  "metadata": {
    "colab": {
      "name": "text_mining.ipynb",
      "provenance": [],
      "collapsed_sections": [],
      "authorship_tag": "ABX9TyO2rrfjqwMKC+hd6PaFZZu1",
      "include_colab_link": true
    },
    "kernelspec": {
      "name": "python3",
      "display_name": "Python 3"
    }
  },
  "cells": [
    {
      "cell_type": "markdown",
      "metadata": {
        "id": "view-in-github",
        "colab_type": "text"
      },
      "source": [
        "<a href=\"https://colab.research.google.com/github/jrakhshanda/Text-Mining/blob/main/text_mining.ipynb\" target=\"_parent\"><img src=\"https://colab.research.google.com/assets/colab-badge.svg\" alt=\"Open In Colab\"/></a>"
      ]
    },
    {
      "cell_type": "markdown",
      "metadata": {
        "id": "8G8c0ZhxWijM"
      },
      "source": [
        "# Tweet Sentiment Extraction"
      ]
    },
    {
      "cell_type": "code",
      "metadata": {
        "id": "lNFpGG_zDWtn"
      },
      "source": [
        "!pip install emot\r\n",
        "!pip install tokenizers\r\n",
        "!pip install transformers"
      ],
      "execution_count": null,
      "outputs": []
    },
    {
      "cell_type": "code",
      "metadata": {
        "id": "bQOakbOlBpI4"
      },
      "source": [
        "import pandas as pd\r\n",
        "import numpy as np\r\n",
        "import string\r\n",
        "\r\n",
        "import matplotlib.pyplot as plt\r\n",
        "import matplotlib.cm as cm\r\n",
        "import seaborn as sns\r\n",
        "\r\n",
        "from sklearn.model_selection import train_test_split\r\n",
        "from sklearn.feature_extraction.text import TfidfVectorizer,CountVectorizer\r\n",
        "\r\n",
        "from sklearn.linear_model import LogisticRegression\r\n",
        "from sklearn.svm import LinearSVC\r\n",
        "from sklearn.naive_bayes import MultinomialNB\r\n",
        "\r\n",
        "from sklearn.metrics import accuracy_score, classification_report, confusion_matrix"
      ],
      "execution_count": 22,
      "outputs": []
    },
    {
      "cell_type": "code",
      "metadata": {
        "id": "s5KiLjP2zm8Q"
      },
      "source": [
        "df_train = pd.read_csv('train.csv')\r\n",
        "df_test = pd.read_csv('test.csv')"
      ],
      "execution_count": 23,
      "outputs": []
    },
    {
      "cell_type": "code",
      "metadata": {
        "colab": {
          "base_uri": "https://localhost:8080/",
          "height": 215
        },
        "id": "5HjTQ0uDCC8o",
        "outputId": "912464af-db0d-4221-e1e9-443059f2041c"
      },
      "source": [
        "print(df_train.shape)\r\n",
        "df_train.sample(5)"
      ],
      "execution_count": 51,
      "outputs": [
        {
          "output_type": "stream",
          "text": [
            "(27481, 4)\n"
          ],
          "name": "stdout"
        },
        {
          "output_type": "execute_result",
          "data": {
            "text/html": [
              "<div>\n",
              "<style scoped>\n",
              "    .dataframe tbody tr th:only-of-type {\n",
              "        vertical-align: middle;\n",
              "    }\n",
              "\n",
              "    .dataframe tbody tr th {\n",
              "        vertical-align: top;\n",
              "    }\n",
              "\n",
              "    .dataframe thead th {\n",
              "        text-align: right;\n",
              "    }\n",
              "</style>\n",
              "<table border=\"1\" class=\"dataframe\">\n",
              "  <thead>\n",
              "    <tr style=\"text-align: right;\">\n",
              "      <th></th>\n",
              "      <th>textID</th>\n",
              "      <th>text</th>\n",
              "      <th>selected_text</th>\n",
              "      <th>sentiment</th>\n",
              "    </tr>\n",
              "  </thead>\n",
              "  <tbody>\n",
              "    <tr>\n",
              "      <th>19583</th>\n",
              "      <td>b6e139c70f</td>\n",
              "      <td>perfect</td>\n",
              "      <td>perfect</td>\n",
              "      <td>positive</td>\n",
              "    </tr>\n",
              "    <tr>\n",
              "      <th>21742</th>\n",
              "      <td>17de4b411b</td>\n",
              "      <td>great,</td>\n",
              "      <td>great,</td>\n",
              "      <td>positive</td>\n",
              "    </tr>\n",
              "    <tr>\n",
              "      <th>9938</th>\n",
              "      <td>5d6c718979</td>\n",
              "      <td>y must i hve graduation practice...all im gonn...</td>\n",
              "      <td>y must i hve graduation practice...all im gonn...</td>\n",
              "      <td>neutral</td>\n",
              "    </tr>\n",
              "    <tr>\n",
              "      <th>2818</th>\n",
              "      <td>569fceca58</td>\n",
              "      <td>My stomach effing hurts. Sadly there`ll be no ...</td>\n",
              "      <td>My stomach effing hurts. Sadly there`ll be no ...</td>\n",
              "      <td>negative</td>\n",
              "    </tr>\n",
              "    <tr>\n",
              "      <th>23709</th>\n",
              "      <td>9e7b2503b9</td>\n",
              "      <td>sad!</td>\n",
              "      <td>sad!</td>\n",
              "      <td>negative</td>\n",
              "    </tr>\n",
              "  </tbody>\n",
              "</table>\n",
              "</div>"
            ],
            "text/plain": [
              "           textID  ... sentiment\n",
              "19583  b6e139c70f  ...  positive\n",
              "21742  17de4b411b  ...  positive\n",
              "9938   5d6c718979  ...   neutral\n",
              "2818   569fceca58  ...  negative\n",
              "23709  9e7b2503b9  ...  negative\n",
              "\n",
              "[5 rows x 4 columns]"
            ]
          },
          "metadata": {
            "tags": []
          },
          "execution_count": 51
        }
      ]
    },
    {
      "cell_type": "code",
      "metadata": {
        "id": "VUE7-MSZM3D3",
        "colab": {
          "base_uri": "https://localhost:8080/",
          "height": 469
        },
        "outputId": "b050d1f3-15b4-4f40-c641-d2da3e9e4421"
      },
      "source": [
        "plt.rcParams.update({'font.size': 15})\r\n",
        "plt.figure(figsize=(16,6))\r\n",
        "plt.subplot(1, 2, 1)\r\n",
        "df_train[\"sentiment\"].value_counts().plot(kind='bar',color = ['#ff9999','#99ff99','#ffcc99'])\r\n",
        "plt.xlabel(\"Sentiment\")\r\n",
        "plt.ylabel(\"Count\")\r\n",
        "plt.title('Training Data')\r\n",
        "\r\n",
        "lst1 = [df_train.sentiment[df_train.sentiment == 'neutral'].count(),\r\n",
        "        df_train.sentiment[df_train.sentiment == 'positive'].count(),\r\n",
        "        df_train.sentiment[df_train.sentiment == 'negative'].count()]\r\n",
        "        \r\n",
        "plt.subplot(1, 2, 2)\r\n",
        "plt.pie(lst1, labels=[\"Neutral\", \"positive\", \"Negative\"], startangle=90, autopct='%.2f%%',colors=['#ff9999','#99ff99','#ffcc99'])\r\n",
        "plt.title('Sentiments Distribution on Train Data')\r\n",
        "plt.show()"
      ],
      "execution_count": 25,
      "outputs": [
        {
          "output_type": "display_data",
          "data": {
            "image/png": "[encoded data removed]",
            "text/plain": [
              "<Figure size 1152x432 with 2 Axes>"
            ]
          },
          "metadata": {
            "tags": [],
            "needs_background": "light"
          }
        }
      ]
    },
    {
      "cell_type": "code",
      "metadata": {
        "id": "rPSvB7FUxWk7",
        "colab": {
          "base_uri": "https://localhost:8080/",
          "height": 245
        },
        "outputId": "4a963156-403d-44fb-cb25-64f85f413360"
      },
      "source": [
        "print(df_test.shape)\r\n",
        "df_test.sample(6)"
      ],
      "execution_count": 50,
      "outputs": [
        {
          "output_type": "stream",
          "text": [
            "(3534, 3)\n"
          ],
          "name": "stdout"
        },
        {
          "output_type": "execute_result",
          "data": {
            "text/html": [
              "<div>\n",
              "<style scoped>\n",
              "    .dataframe tbody tr th:only-of-type {\n",
              "        vertical-align: middle;\n",
              "    }\n",
              "\n",
              "    .dataframe tbody tr th {\n",
              "        vertical-align: top;\n",
              "    }\n",
              "\n",
              "    .dataframe thead th {\n",
              "        text-align: right;\n",
              "    }\n",
              "</style>\n",
              "<table border=\"1\" class=\"dataframe\">\n",
              "  <thead>\n",
              "    <tr style=\"text-align: right;\">\n",
              "      <th></th>\n",
              "      <th>textID</th>\n",
              "      <th>text</th>\n",
              "      <th>sentiment</th>\n",
              "    </tr>\n",
              "  </thead>\n",
              "  <tbody>\n",
              "    <tr>\n",
              "      <th>1136</th>\n",
              "      <td>a1ac7a0543</td>\n",
              "      <td>don`t think i can take a needle. watched a hor...</td>\n",
              "      <td>negative</td>\n",
              "    </tr>\n",
              "    <tr>\n",
              "      <th>2505</th>\n",
              "      <td>2b2f63eb2c</td>\n",
              "      <td>Ok NOW I can hit the hay. Thank you</td>\n",
              "      <td>positive</td>\n",
              "    </tr>\n",
              "    <tr>\n",
              "      <th>1167</th>\n",
              "      <td>b2bada7873</td>\n",
              "      <td>And you as well bro</td>\n",
              "      <td>neutral</td>\n",
              "    </tr>\n",
              "    <tr>\n",
              "      <th>2132</th>\n",
              "      <td>a2c8b8dad7</td>\n",
              "      <td>won`t be going to the Oxford Internet Institut...</td>\n",
              "      <td>negative</td>\n",
              "    </tr>\n",
              "    <tr>\n",
              "      <th>1295</th>\n",
              "      <td>3e99f423ba</td>\n",
              "      <td>poor you lmao, just stick your head out the wi...</td>\n",
              "      <td>negative</td>\n",
              "    </tr>\n",
              "    <tr>\n",
              "      <th>674</th>\n",
              "      <td>4c086d6a58</td>\n",
              "      <td>will b having my last V tomorow will have2live...</td>\n",
              "      <td>neutral</td>\n",
              "    </tr>\n",
              "  </tbody>\n",
              "</table>\n",
              "</div>"
            ],
            "text/plain": [
              "          textID                                               text sentiment\n",
              "1136  a1ac7a0543  don`t think i can take a needle. watched a hor...  negative\n",
              "2505  2b2f63eb2c                Ok NOW I can hit the hay. Thank you  positive\n",
              "1167  b2bada7873                                And you as well bro   neutral\n",
              "2132  a2c8b8dad7  won`t be going to the Oxford Internet Institut...  negative\n",
              "1295  3e99f423ba  poor you lmao, just stick your head out the wi...  negative\n",
              "674   4c086d6a58  will b having my last V tomorow will have2live...   neutral"
            ]
          },
          "metadata": {
            "tags": []
          },
          "execution_count": 50
        }
      ]
    },
    {
      "cell_type": "code",
      "metadata": {
        "colab": {
          "base_uri": "https://localhost:8080/",
          "height": 469
        },
        "id": "hGOrQnQrt9dL",
        "outputId": "54347548-d821-4bff-b48e-9548b9a30213"
      },
      "source": [
        "plt.rcParams.update({'font.size': 15})\r\n",
        "plt.figure(figsize=(16,6))\r\n",
        "plt.subplot(1, 2, 1)\r\n",
        "df_test[\"sentiment\"].value_counts().plot(kind='bar',color = ['#ff9999','#99ff99','#ffcc99'])\r\n",
        "plt.xlabel(\"Sentiment\")\r\n",
        "plt.ylabel(\"Count\")\r\n",
        "plt.title('Test Data')\r\n",
        "\r\n",
        "lst1 = [df_test.sentiment[df_test.sentiment == 'neutral'].count(),\r\n",
        "        df_test.sentiment[df_test.sentiment == 'positive'].count(),\r\n",
        "        df_test.sentiment[df_test.sentiment == 'negative'].count()]\r\n",
        "plt.subplot(1, 2, 2)\r\n",
        "plt.pie(lst1, labels=[\"Neutral\", \"positive\", \"Negative\"], startangle=90, autopct='%.2f%%',colors=['#ff9999','#99ff99','#ffcc99'])\r\n",
        "plt.title('Sentiments Distribution on Test Data')\r\n",
        "plt.show()"
      ],
      "execution_count": 15,
      "outputs": [
        {
          "output_type": "display_data",
          "data": {
            "image/png": "[encoded data removed]",
            "text/plain": [
              "<Figure size 1152x432 with 2 Axes>"
            ]
          },
          "metadata": {
            "tags": [],
            "needs_background": "light"
          }
        }
      ]
    },
    {
      "cell_type": "markdown",
      "metadata": {
        "id": "dDMduQaAWauh"
      },
      "source": [
        "## Pre-processing of the Data"
      ]
    },
    {
      "cell_type": "code",
      "metadata": {
        "id": "kOKGWSm2IjX9"
      },
      "source": [
        "from bs4 import BeautifulSoup\r\n",
        "import re\r\n",
        "from emot.emo_unicode import UNICODE_EMO, EMOTICONS"
      ],
      "execution_count": 16,
      "outputs": []
    },
    {
      "cell_type": "code",
      "metadata": {
        "id": "SBw_f4ZZKZz_"
      },
      "source": [
        "def clean_data(text):\r\n",
        "\r\n",
        "  \"\"\"remove URL, remove HTML tags and convert emojis.\r\n",
        "\r\n",
        "    Args:\r\n",
        "        text: A string of text.\r\n",
        "  \r\n",
        "  \"\"\"\r\n",
        "  text = str(text).lower()\r\n",
        "  text = \" \" + \" \".join(str(text).split())\r\n",
        "  text = re.sub('\\n', '', text)\r\n",
        "  text = BeautifulSoup(text,\"lxml\").get_text() # removing HTML tags\r\n",
        "  text = re.sub('https?://\\S+|www\\.\\S+', '', text) # removing URL\r\n",
        "  for emot in UNICODE_EMO:  # replacing emoji with its actual expression of text\r\n",
        "    text = text.replace(emot, \" \".join(UNICODE_EMO[emot].replace(\",\",\"\").replace(\":\",\"\").split()))\r\n",
        "\r\n",
        "  return text"
      ],
      "execution_count": 31,
      "outputs": []
    },
    {
      "cell_type": "code",
      "metadata": {
        "id": "7X53uEyvPNAU"
      },
      "source": [
        "df_train.dropna()\r\n",
        "df_test.dropna()\r\n",
        "\r\n",
        "df_train['text'] = [clean_data(i) for i in df_train['text']]\r\n",
        "df_train['text'] = [clean_data(i) for i in df_train['selected_text']]\r\n",
        "\r\n",
        "df_test['text'] = [clean_data(i) for i in df_test['text']]\r\n",
        "df_test['text'] = [clean_data(i) for i in df_test['text']]"
      ],
      "execution_count": 57,
      "outputs": []
    },
    {
      "cell_type": "code",
      "metadata": {
        "colab": {
          "base_uri": "https://localhost:8080/",
          "height": 197
        },
        "id": "rIBB7Cd3Xlhg",
        "outputId": "369ff497-fc9e-4a8f-9488-47742fa2af90"
      },
      "source": [
        "df_train.sample(5)"
      ],
      "execution_count": 55,
      "outputs": [
        {
          "output_type": "execute_result",
          "data": {
            "text/html": [
              "<div>\n",
              "<style scoped>\n",
              "    .dataframe tbody tr th:only-of-type {\n",
              "        vertical-align: middle;\n",
              "    }\n",
              "\n",
              "    .dataframe tbody tr th {\n",
              "        vertical-align: top;\n",
              "    }\n",
              "\n",
              "    .dataframe thead th {\n",
              "        text-align: right;\n",
              "    }\n",
              "</style>\n",
              "<table border=\"1\" class=\"dataframe\">\n",
              "  <thead>\n",
              "    <tr style=\"text-align: right;\">\n",
              "      <th></th>\n",
              "      <th>textID</th>\n",
              "      <th>text</th>\n",
              "      <th>selected_text</th>\n",
              "      <th>sentiment</th>\n",
              "    </tr>\n",
              "  </thead>\n",
              "  <tbody>\n",
              "    <tr>\n",
              "      <th>6692</th>\n",
              "      <td>77e8ffdd9b</td>\n",
              "      <td>why did i agree to work a double shift</td>\n",
              "      <td>why did i agree to work a double shift</td>\n",
              "      <td>neutral</td>\n",
              "    </tr>\n",
              "    <tr>\n",
              "      <th>22119</th>\n",
              "      <td>1dd93ad2be</td>\n",
              "      <td>wishes she would call him ... *hc*</td>\n",
              "      <td>wishes she would call him ...   *hc*</td>\n",
              "      <td>neutral</td>\n",
              "    </tr>\n",
              "    <tr>\n",
              "      <th>25737</th>\n",
              "      <td>55e361033a</td>\n",
              "      <td>It should take you back to colorado where you ...</td>\n",
              "      <td>It should take you back to colorado where you ...</td>\n",
              "      <td>neutral</td>\n",
              "    </tr>\n",
              "    <tr>\n",
              "      <th>21021</th>\n",
              "      <td>35b3161006</td>\n",
              "      <td>loves</td>\n",
              "      <td>loves</td>\n",
              "      <td>positive</td>\n",
              "    </tr>\n",
              "    <tr>\n",
              "      <th>327</th>\n",
              "      <td>4c71b5fb91</td>\n",
              "      <td>now a migraine.</td>\n",
              "      <td>now a migraine.</td>\n",
              "      <td>negative</td>\n",
              "    </tr>\n",
              "  </tbody>\n",
              "</table>\n",
              "</div>"
            ],
            "text/plain": [
              "           textID  ... sentiment\n",
              "6692   77e8ffdd9b  ...   neutral\n",
              "22119  1dd93ad2be  ...   neutral\n",
              "25737  55e361033a  ...   neutral\n",
              "21021  35b3161006  ...  positive\n",
              "327    4c71b5fb91  ...  negative\n",
              "\n",
              "[5 rows x 4 columns]"
            ]
          },
          "metadata": {
            "tags": []
          },
          "execution_count": 55
        }
      ]
    },
    {
      "cell_type": "code",
      "metadata": {
        "id": "yXgXnqYNX6nN"
      },
      "source": [
        "df_test.insert(2,'selected_text',np.nan)"
      ],
      "execution_count": 56,
      "outputs": []
    },
    {
      "cell_type": "markdown",
      "metadata": {
        "id": "796zgg-0C_ZN"
      },
      "source": [
        "##Tokenization\r\n",
        "\r\n",
        "We are constructing a RoBERTa tokenizer, derived from the GPT-2 tokenizer, using byte-level Byte-Pair-Encoding.\r\n",
        "\r\n",
        "[refrence](https://huggingface.co/transformers/model_doc/roberta.html#)\r\n",
        "\r\n",
        "[source](https://huggingface.co/transformers/_modules/transformers/models/roberta/tokenization_roberta.html#RobertaTokenizer)"
      ]
    },
    {
      "cell_type": "code",
      "metadata": {
        "id": "j8CdaxItFcjP"
      },
      "source": [
        "import tensorflow.keras.backend as K\r\n",
        "from sklearn.model_selection import StratifiedKFold\r\n",
        "from transformers import *\r\n",
        "import tokenizers"
      ],
      "execution_count": null,
      "outputs": []
    },
    {
      "cell_type": "code",
      "metadata": {
        "id": "3J_VAbG9PlLY"
      },
      "source": [
        "from transformers import RobertaTokenizer\r\n",
        "max_len = max([len(i) for i in df_train['text']])\r\n",
        "TTrain_batch_size = 32\r\n",
        "valid_batch_size = 8\r\n",
        "epochs = 5\r\n",
        "tokenizer = RobertaTokenizer(vocab_file = 'roberta-base-vocab.json',\r\n",
        "                             merges_file = 'roberta-base-merges.txt',\r\n",
        "                             add_prefix_space=True, lowe_case = True)\r\n"
      ],
      "execution_count": 44,
      "outputs": []
    },
    {
      "cell_type": "code",
      "metadata": {
        "id": "A_LHgMp9HSKu"
      },
      "source": [
        "#def tokenize_data(df, tokenizer, max_len):\r\n",
        "\r\n",
        "df = df_train\r\n",
        "n = df.shape[0]\r\n",
        "\r\n",
        "input_ids = np.ones((n,max_len),dtype='int32')\r\n",
        "attention_mask = np.zeros((n,max_len),dtype='int32')\r\n",
        "token_type_ids = np.zeros((n,max_len),dtype='int32')\r\n",
        "beg_tokens = np.zeros((n,max_len),dtype='int32')\r\n",
        "end_tokens = np.zeros((n,max_len),dtype='int32')\r\n",
        "\r\n",
        "for i in range(n):\r\n",
        "\r\n",
        "  # FIND OVERLAP OR INTERSECTIONOF BOTH THE TEXTS\r\n",
        "  text = \" \"+\" \".join(df.loc[i,'text'].split()) # yields a whitespace at beginning of text\r\n",
        "  selected_text = \" \".join(df.loc[i,'selected_text'].split())\r\n",
        "\r\n",
        "  idx = text.find(selected_text)\r\n",
        "  chars = np.zeros((len(text)))\r\n",
        "  chars[idx:idx+len(selected_text)]=1\r\n",
        "  if text[idx-1]==' ': chars[idx-1] = 1 \r\n",
        "  enc = tokenizer.encode(text) "
      ],
      "execution_count": null,
      "outputs": []
    },
    {
      "cell_type": "code",
      "metadata": {
        "colab": {
          "base_uri": "https://localhost:8080/"
        },
        "id": "LDTJB45Ras68",
        "outputId": "47c858f0-a3c6-4e28-80a9-218ab5488a3b"
      },
      "source": [
        "len(s1)"
      ],
      "execution_count": 66,
      "outputs": [
        {
          "output_type": "execute_result",
          "data": {
            "text/plain": [
              "3"
            ]
          },
          "metadata": {
            "tags": []
          },
          "execution_count": 66
        }
      ]
    },
    {
      "cell_type": "code",
      "metadata": {
        "id": "_fNtVU3MbWpr"
      },
      "source": [
        ""
      ],
      "execution_count": null,
      "outputs": []
    },
    {
      "cell_type": "code",
      "metadata": {
        "id": "oAN5fUboa4sd"
      },
      "source": [
        ""
      ],
      "execution_count": null,
      "outputs": []
    }
  ]
}