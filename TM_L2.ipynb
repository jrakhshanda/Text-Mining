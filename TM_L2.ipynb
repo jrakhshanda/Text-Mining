{
  "nbformat": 4,
  "nbformat_minor": 0,
  "metadata": {
    "kernelspec": {
      "display_name": "Python 3",
      "language": "python",
      "name": "python3"
    },
    "language_info": {
      "codemirror_mode": {
        "name": "ipython",
        "version": 3
      },
      "file_extension": ".py",
      "mimetype": "text/x-python",
      "name": "python",
      "nbconvert_exporter": "python",
      "pygments_lexer": "ipython3",
      "version": "3.7.6"
    },
    "colab": {
      "name": "TM_L2.ipynb",
      "provenance": [],
      "collapsed_sections": [],
      "include_colab_link": true
    }
  },
  "cells": [
    {
      "cell_type": "markdown",
      "metadata": {
        "id": "view-in-github",
        "colab_type": "text"
      },
      "source": [
        "<a href=\"https://colab.research.google.com/github/jrakhshanda/Text-Mining/blob/main/TM_L2.ipynb\" target=\"_parent\"><img src=\"https://colab.research.google.com/assets/colab-badge.svg\" alt=\"Open In Colab\"/></a>"
      ]
    },
    {
      "cell_type": "markdown",
      "metadata": {
        "id": "3ogV246NL_qw"
      },
      "source": [
        "# L2: Text classification"
      ]
    },
    {
      "cell_type": "markdown",
      "metadata": {
        "id": "B2mRSQ1VL_qx"
      },
      "source": [
        "Text classification is the task of sorting text documents into predefined classes. The concrete problem you will be working on in this lab is the classification of texts with respect to their political affiliation. The specific texts you are going to classify are speeches held in the [Riksdag](https://www.riksdagen.se/en/), the Swedish national legislature."
      ]
    },
    {
      "cell_type": "markdown",
      "metadata": {
        "id": "jfWcots4L_qy"
      },
      "source": [
        "## Data set"
      ]
    },
    {
      "cell_type": "markdown",
      "metadata": {
        "id": "pRwh4qL9L_qz"
      },
      "source": [
        "The raw data for this lab comes from [The Riksdag’s Open Data](https://data.riksdagen.se/in-english/). We have tokenized the speeches and put them into two compressed [JSON](https://en.wikipedia.org/wiki/JSON) files:\n",
        "\n",
        "* `speeches-201718.json.bz2` (speeches from the 2017/2018 parliamentary session)\n",
        "* `speeches-201819.json.bz2` (ditto, from the 2018/2019 session)\n",
        "\n",
        "We start by loading these files into two separate data frames."
      ]
    },
    {
      "cell_type": "code",
      "metadata": {
        "id": "j54GQZOVL_qz"
      },
      "source": [
        "import pandas as pd\n",
        "import numpy as np\n",
        "import bz2\n",
        "import warnings\n",
        "warnings.filterwarnings(\"ignore\")\n",
        "\n",
        "with bz2.open('speeches-201718.json.bz2') as source:\n",
        "    speeches_201718 = pd.read_json(source)\n",
        "\n",
        "with bz2.open('speeches-201819.json.bz2') as source:\n",
        "    speeches_201819 = pd.read_json(source)"
      ],
      "execution_count": 2,
      "outputs": []
    },
    {
      "cell_type": "markdown",
      "metadata": {
        "id": "Q3esBktyL_q4"
      },
      "source": [
        "When you inspect the two data frames, you can see that there are three labelled columns: `id` (the official speech ID), `words` (the space-separated words of the speech), and `party` (the party of the speaker, represented by its customary abbreviation)."
      ]
    },
    {
      "cell_type": "code",
      "metadata": {
        "id": "ENyb5h_eL_q5",
        "colab": {
          "base_uri": "https://localhost:8080/",
          "height": 194
        },
        "outputId": "f5c0f148-695d-4ee8-bd58-b95e8395f398"
      },
      "source": [
        "speeches_201718.head()"
      ],
      "execution_count": 3,
      "outputs": [
        {
          "output_type": "execute_result",
          "data": {
            "text/html": [
              "<div>\n",
              "<style scoped>\n",
              "    .dataframe tbody tr th:only-of-type {\n",
              "        vertical-align: middle;\n",
              "    }\n",
              "\n",
              "    .dataframe tbody tr th {\n",
              "        vertical-align: top;\n",
              "    }\n",
              "\n",
              "    .dataframe thead th {\n",
              "        text-align: right;\n",
              "    }\n",
              "</style>\n",
              "<table border=\"1\" class=\"dataframe\">\n",
              "  <thead>\n",
              "    <tr style=\"text-align: right;\">\n",
              "      <th></th>\n",
              "      <th>id</th>\n",
              "      <th>words</th>\n",
              "      <th>party</th>\n",
              "    </tr>\n",
              "  </thead>\n",
              "  <tbody>\n",
              "    <tr>\n",
              "      <th>0</th>\n",
              "      <td>H5-002-004</td>\n",
              "      <td>eders majestäter eders kungliga högheter herr ...</td>\n",
              "      <td>S</td>\n",
              "    </tr>\n",
              "    <tr>\n",
              "      <th>1</th>\n",
              "      <td>H5-003-001</td>\n",
              "      <td>aktuell debatt om situationen för ensamkommand...</td>\n",
              "      <td>V</td>\n",
              "    </tr>\n",
              "    <tr>\n",
              "      <th>2</th>\n",
              "      <td>H5-003-002</td>\n",
              "      <td>herr talman och ledamöter jag vill börja med a...</td>\n",
              "      <td>S</td>\n",
              "    </tr>\n",
              "    <tr>\n",
              "      <th>3</th>\n",
              "      <td>H5-003-003</td>\n",
              "      <td>herr talman åhörare den här debatten handlar a...</td>\n",
              "      <td>M</td>\n",
              "    </tr>\n",
              "    <tr>\n",
              "      <th>4</th>\n",
              "      <td>H5-003-004</td>\n",
              "      <td>herr talman ansvar och rättssäkerhet är två or...</td>\n",
              "      <td>SD</td>\n",
              "    </tr>\n",
              "  </tbody>\n",
              "</table>\n",
              "</div>"
            ],
            "text/plain": [
              "           id                                              words party\n",
              "0  H5-002-004  eders majestäter eders kungliga högheter herr ...     S\n",
              "1  H5-003-001  aktuell debatt om situationen för ensamkommand...     V\n",
              "2  H5-003-002  herr talman och ledamöter jag vill börja med a...     S\n",
              "3  H5-003-003  herr talman åhörare den här debatten handlar a...     M\n",
              "4  H5-003-004  herr talman ansvar och rättssäkerhet är två or...    SD"
            ]
          },
          "metadata": {
            "tags": []
          },
          "execution_count": 3
        }
      ]
    },
    {
      "cell_type": "markdown",
      "metadata": {
        "id": "7bYTYZpML_q_"
      },
      "source": [
        "Throughout the lab, we will be using the speeches from 2017/2018 as our training data, and the speeches from 2018/2019 as our test data."
      ]
    },
    {
      "cell_type": "code",
      "metadata": {
        "id": "7p-jnQb1L_q_"
      },
      "source": [
        "training_data, test_data = speeches_201718, speeches_201819"
      ],
      "execution_count": 4,
      "outputs": []
    },
    {
      "cell_type": "code",
      "metadata": {
        "id": "qX6bD9BgMadf"
      },
      "source": [
        "X_train,y_train = training_data['words'], training_data['party']\n",
        "X_test,y_test = test_data['words'], test_data['party']"
      ],
      "execution_count": 5,
      "outputs": []
    },
    {
      "cell_type": "markdown",
      "metadata": {
        "id": "fc7EO4OPL_rC"
      },
      "source": [
        "For later reference, we store the sorted list of party abbreviations."
      ]
    },
    {
      "cell_type": "code",
      "metadata": {
        "id": "6BVZ8_A4L_rD",
        "colab": {
          "base_uri": "https://localhost:8080/"
        },
        "outputId": "339b0f91-6c6b-420b-9a87-850e508d8356"
      },
      "source": [
        "parties = sorted(training_data['party'].unique())\n",
        "print(parties)"
      ],
      "execution_count": 6,
      "outputs": [
        {
          "output_type": "stream",
          "text": [
            "['C', 'KD', 'L', 'M', 'MP', 'S', 'SD', 'V']\n"
          ],
          "name": "stdout"
        }
      ]
    },
    {
      "cell_type": "markdown",
      "metadata": {
        "id": "8n2zbwExL_rG"
      },
      "source": [
        "## Problem 1: Visualization"
      ]
    },
    {
      "cell_type": "markdown",
      "metadata": {
        "id": "JeqtYs_JL_rH"
      },
      "source": [
        "Your first task is to get to know the data better by producing a simple visualization.\n",
        "\n",
        "If you are not familiar with the Swedish political system and the parties represented in the Riksdag in particular, then we suggest that you have a look at the Wikipedia article about the [2018 Swedish general election](https://en.wikipedia.org/wiki/2018_Swedish_general_election).\n",
        "\n",
        "For the lab, we ask you to compare the two data frames with respect to the distribution of the speeches over the different parties. Write code to generate two bar plots that visualize this information, one for the 2017/2018 speeches and one for the 2018/2019 speeches. Inspect the two plots, and compare them\n",
        "\n",
        "* to each other\n",
        "* to the results of the 2014 and the 2018 general elections\n",
        "\n",
        "Summarize your observations in a short text in the cell below.\n",
        "\n",
        "**Tip:** If you need help with creating bar plots, [Bar Plot using Pandas](https://dfrieds.com/data-visualizations/bar-plot-python-pandas) provides a useful tutorial."
      ]
    },
    {
      "cell_type": "code",
      "metadata": {
        "id": "Sv8j9Ofjp4p2"
      },
      "source": [
        "import matplotlib.pyplot as plt\n",
        "import pandas as pd\n",
        "import seaborn as sns\n",
        "% matplotlib inline"
      ],
      "execution_count": 7,
      "outputs": []
    },
    {
      "cell_type": "code",
      "metadata": {
        "id": "NH-T6rXlp51m",
        "colab": {
          "base_uri": "https://localhost:8080/",
          "height": 368
        },
        "outputId": "211b219d-5e4a-48dc-e31b-ab765e94600a"
      },
      "source": [
        "plt.rcParams.update({'font.size': 14})\n",
        "plt.figure(figsize=(16,5))\n",
        "plt.subplot(1, 2, 1)\n",
        "training_data[\"party\"].value_counts().plot(kind='bar')\n",
        "plt.xlabel(\"Party\")\n",
        "plt.ylabel(\"Distribution of Speeches\")\n",
        "plt.title('speeches 2017-2018');\n",
        "\n",
        "plt.subplot(1, 2, 2)\n",
        "training_data[\"party\"].value_counts().plot(kind='bar')\n",
        "plt.xlabel(\"Party\")\n",
        "plt.ylabel(\"Distribution of Speeches\")\n",
        "plt.title('speeches 2018-2019');\n",
        "plt.show()"
      ],
      "execution_count": 12,
      "outputs": [
        {
          "output_type": "display_data",
          "data": {
            "image/png": "[encoded data removed]",
            "text/plain": [
              "<Figure size 1152x360 with 2 Axes>"
            ]
          },
          "metadata": {
            "tags": [],
            "needs_background": "light"
          }
        }
      ]
    },
    {
      "cell_type": "markdown",
      "metadata": {
        "id": "aAOrqaA6L_rH"
      },
      "source": [
        "**Summary:**\n",
        "\n",
        "It is clear from te bar plot that there are more number of speeches in 2017-2018 as compare to 2018-2019. Hence we are considering more text data to train our model."
      ]
    },
    {
      "cell_type": "markdown",
      "metadata": {
        "id": "WixZhZg0L_rI"
      },
      "source": [
        "## Problem 2: Naive Bayes classifier"
      ]
    },
    {
      "cell_type": "markdown",
      "metadata": {
        "id": "szEgIDdzL_rJ"
      },
      "source": [
        "You are now ready to train and evaluate a classifier. More specifically, we ask you to train a [Multinomial Naive Bayes](https://scikit-learn.org/stable/modules/naive_bayes.html#multinomial-naive-bayes) classifier. You will have to\n",
        "\n",
        "1. vectorize the speeches in the training data\n",
        "2. instantiate and fit the Naive Bayes model\n",
        "3. evaluate the model on the test data\n",
        "\n",
        "The scikit-learn library provides a convenience class [Pipeline](https://scikit-learn.org/stable/modules/generated/sklearn.pipeline.Pipeline.html) that allows you to solve the first two tasks with very compact code. For the evaluation you can use the function [`classification_report`](https://scikit-learn.org/stable/modules/generated/sklearn.metrics.classification_report.html), which will report per-class precision, recall and F1, as well as overall accuracy."
      ]
    },
    {
      "cell_type": "code",
      "metadata": {
        "id": "9AVnuNWJL_rK"
      },
      "source": [
        "# TODO: Write code here to train and evaluate a Multinomial Naive Bayes classifier\n",
        "from sklearn.metrics import confusion_matrix, classification_report,accuracy_score,plot_confusion_matrix\n",
        "from sklearn.naive_bayes import MultinomialNB\n",
        "from sklearn.feature_extraction.text import CountVectorizer, TfidfVectorizer\n",
        "from sklearn.pipeline import Pipeline"
      ],
      "execution_count": null,
      "outputs": []
    },
    {
      "cell_type": "code",
      "metadata": {
        "id": "asR3uhoXKmDy",
        "colab": {
          "base_uri": "https://localhost:8080/"
        },
        "outputId": "005e9704-0dff-4650-8e51-5fb307edc8bf"
      },
      "source": [
        "pipe1 = Pipeline(steps=[('vectorizer', TfidfVectorizer()), ('multinomialNB', MultinomialNB())])\n",
        "pipe1.fit(X_train, y_train)\n",
        "print('Accuracy of the model on training data using tf-idf Vectorizer:',pipe1.score(X_train,y_train))\n",
        "print('Accuracy of the model on test data using tf-idf Vectorizer:',pipe1.score(X_test,y_test))"
      ],
      "execution_count": null,
      "outputs": [
        {
          "output_type": "stream",
          "text": [
            "Accuracy of the model on training data using tf-idf Vectorizer: 0.3477274568581382\n",
            "Accuracy of the model on test data using tf-idf Vectorizer: 0.29866494401378124\n"
          ],
          "name": "stdout"
        }
      ]
    },
    {
      "cell_type": "markdown",
      "metadata": {
        "id": "U-lBF7D_Omd4"
      },
      "source": [
        "Classification report using tf-idf Vectorizer:"
      ]
    },
    {
      "cell_type": "code",
      "metadata": {
        "id": "wyyoo0bBOrfS",
        "colab": {
          "base_uri": "https://localhost:8080/"
        },
        "outputId": "328c3a6f-7c01-4ac1-fdd6-216179424829"
      },
      "source": [
        "nb_pred1 = pipe1.predict(X_test)\n",
        "print(classification_report(y_test,nb_pred1))"
      ],
      "execution_count": null,
      "outputs": [
        {
          "output_type": "stream",
          "text": [
            "              precision    recall  f1-score   support\n",
            "\n",
            "           C       0.00      0.00      0.00       671\n",
            "          KD       0.00      0.00      0.00       821\n",
            "           L       0.00      0.00      0.00       560\n",
            "           M       0.50      0.00      0.00      1644\n",
            "          MP       0.00      0.00      0.00       809\n",
            "           S       0.30      1.00      0.46      2773\n",
            "          SD       0.00      0.00      0.00      1060\n",
            "           V       0.00      0.00      0.00       950\n",
            "\n",
            "    accuracy                           0.30      9288\n",
            "   macro avg       0.10      0.13      0.06      9288\n",
            "weighted avg       0.18      0.30      0.14      9288\n",
            "\n"
          ],
          "name": "stdout"
        }
      ]
    },
    {
      "cell_type": "code",
      "metadata": {
        "id": "FYRQ7od3SbpN",
        "colab": {
          "base_uri": "https://localhost:8080/"
        },
        "outputId": "f47ba9c9-5123-4fbd-dc61-0bff295933d6"
      },
      "source": [
        "pipe2 = Pipeline(steps=[('vectorizer', CountVectorizer()), ('multinomialNB', MultinomialNB())])\n",
        "pipe2.fit(X_train, y_train)\n",
        "print('Accuracy of the model on training data using bag-of-words Vectorizer model:',pipe2.score(X_train,y_train))\n",
        "print('Accuracy of the model on test data using bag-of-words Vectorizer model:',pipe2.score(X_test,y_test))\n",
        "nb_pred1 = pipe1.predict(X_test)\n",
        "nb_pred2 = pipe2.predict(X_test)"
      ],
      "execution_count": null,
      "outputs": [
        {
          "output_type": "stream",
          "text": [
            "Accuracy of the model on training data using bag-of-words Vectorizer model: 0.7600259256258608\n",
            "Accuracy of the model on test data using bag-of-words Vectorizer model: 0.4280792420327304\n"
          ],
          "name": "stdout"
        }
      ]
    },
    {
      "cell_type": "markdown",
      "metadata": {
        "id": "y7oJTsAeXaf6"
      },
      "source": [
        "Classification report using tf-idf Vectorizer"
      ]
    },
    {
      "cell_type": "code",
      "metadata": {
        "id": "9OBRfqjAX1RM",
        "colab": {
          "base_uri": "https://localhost:8080/"
        },
        "outputId": "61646673-bbac-4ada-b4b3-686f0f60b426"
      },
      "source": [
        "nb_pred2 = pipe2.predict(X_test)\n",
        "print(classification_report(y_test,nb_pred2))"
      ],
      "execution_count": null,
      "outputs": [
        {
          "output_type": "stream",
          "text": [
            "              precision    recall  f1-score   support\n",
            "\n",
            "           C       0.63      0.04      0.07       671\n",
            "          KD       0.70      0.02      0.03       821\n",
            "           L       0.92      0.02      0.04       560\n",
            "           M       0.36      0.68      0.47      1644\n",
            "          MP       0.36      0.25      0.29       809\n",
            "           S       0.46      0.84      0.59      2773\n",
            "          SD       0.57      0.12      0.20      1060\n",
            "           V       0.59      0.15      0.24       950\n",
            "\n",
            "    accuracy                           0.43      9288\n",
            "   macro avg       0.57      0.26      0.24      9288\n",
            "weighted avg       0.52      0.43      0.34      9288\n",
            "\n"
          ],
          "name": "stdout"
        }
      ]
    },
    {
      "cell_type": "markdown",
      "metadata": {
        "id": "rzl1CsdNL_rR"
      },
      "source": [
        "Would you have expected the results that you got? \\newline\n",
        "\n",
        "We have applied two different kinds of vectorizers (tf-idf & bag-of-words model) to vectorize the speech data. In order to classify the distribution of speeches over different parties we are using multinomial Naive Bayes classifier. We have seen that accuracy of our model in the case of tf-idf vectorizer is very poor as compare to BoW model but this model is also not working good on test data. This is because our data is not balanced properly. we have more data for some parties and very few speeches for some parties. This problem can be handeled by creating a balanced datset or by asssigning weights to all classes while classifying. "
      ]
    },
    {
      "cell_type": "markdown",
      "metadata": {
        "id": "3Dj50QXTL_rS"
      },
      "source": [
        "## Problem 3: Baselines"
      ]
    },
    {
      "cell_type": "markdown",
      "metadata": {
        "id": "SuGMeKlnL_rT"
      },
      "source": [
        "Evaluation metrics such as accuracy should not be understood as absolute measures of performance, but should be used only to compare different classifiers. When other classifiers are not available, a simple baseline is a classifier that generates predictions by random sampling, respecting the training set&rsquo;s class distribution. This baseline is implemented by the class [DummyClassifier](https://scikit-learn.org/stable/modules/generated/sklearn.dummy.DummyClassifier.html). What is the performance of the random baseline on the test data?"
      ]
    },
    {
      "cell_type": "code",
      "metadata": {
        "id": "1EXgsiKbL_rT"
      },
      "source": [
        "# TODO: Write code here to evaluate the random baseline\n",
        "from sklearn.dummy import DummyClassifier\n",
        "pipe3 = Pipeline([('vectorizer', TfidfVectorizer()), ('dummy',DummyClassifier(strategy=\"most_frequent\"))])\n",
        "pipe3.fit(X_train, y_train)\n",
        "dummy_pred = pipe3.predict(X_test)"
      ],
      "execution_count": null,
      "outputs": []
    },
    {
      "cell_type": "code",
      "metadata": {
        "id": "JoIDNN_KSevZ",
        "colab": {
          "base_uri": "https://localhost:8080/"
        },
        "outputId": "5500f271-c8a8-45b0-897e-2b81199f78c2"
      },
      "source": [
        "print(classification_report(y_test,dummy_pred))"
      ],
      "execution_count": null,
      "outputs": [
        {
          "output_type": "stream",
          "text": [
            "              precision    recall  f1-score   support\n",
            "\n",
            "           C       0.00      0.00      0.00       671\n",
            "          KD       0.00      0.00      0.00       821\n",
            "           L       0.00      0.00      0.00       560\n",
            "           M       0.00      0.00      0.00      1644\n",
            "          MP       0.00      0.00      0.00       809\n",
            "           S       0.30      1.00      0.46      2773\n",
            "          SD       0.00      0.00      0.00      1060\n",
            "           V       0.00      0.00      0.00       950\n",
            "\n",
            "    accuracy                           0.30      9288\n",
            "   macro avg       0.04      0.12      0.06      9288\n",
            "weighted avg       0.09      0.30      0.14      9288\n",
            "\n"
          ],
          "name": "stdout"
        }
      ]
    },
    {
      "cell_type": "markdown",
      "metadata": {
        "id": "EIrXlA6mL_rX"
      },
      "source": [
        "An even dumber baseline is to predict, for every document, that class which appears most often in the training data. This baseline is also called the most frequent class baseline. What is the accuracy of that baseline on the test data?"
      ]
    },
    {
      "cell_type": "code",
      "metadata": {
        "id": "fsDrbfcTL_rY",
        "colab": {
          "base_uri": "https://localhost:8080/"
        },
        "outputId": "fcb0a0bd-0b32-4f1f-be14-6a75874b7315"
      },
      "source": [
        "# TODO: Write code here to print the accuracy of the most frequent class baseline\n",
        "print(\"Accuracy on training data:\",pipe3.score(X_train,y_train))\n",
        "print(\"Accuracy on test data:\",pipe3.score(X_test,y_test))"
      ],
      "execution_count": null,
      "outputs": [
        {
          "output_type": "stream",
          "text": [
            "Accuracy on training data: 0.3452159118528721\n",
            "Accuracy on test data: 0.298557278208441\n"
          ],
          "name": "stdout"
        }
      ]
    },
    {
      "cell_type": "markdown",
      "metadata": {
        "id": "Dg3H68bdL_rb"
      },
      "source": [
        "## Problem 4: Creating a balanced data set"
      ]
    },
    {
      "cell_type": "markdown",
      "metadata": {
        "id": "QCZFpPWHL_rb"
      },
      "source": [
        "As you saw in Problem&nbsp;1, the distribution of the speeches over the eight different parties (classes) is imbalanced. One technique used to alleviate this is **undersampling**, in which one randomly removes samples from over-represented classes until all classes are represented with the same number of samples.\n",
        "\n",
        "Implement undersampling to create a balanced subset of the training data. Rerun the evaluation from Problem&nbsp;2 on the balanced data and compare the results. Discuss your findings in a short text. Would you argue that undersampling make sense for the task of predicting the party of a speaker?\n",
        "\n",
        "**Hint:** Your balanced subset should consist of 5,752 speeches."
      ]
    },
    {
      "cell_type": "code",
      "metadata": {
        "id": "_dpxOzuNL_rc",
        "colab": {
          "base_uri": "https://localhost:8080/"
        },
        "outputId": "6d9f2f72-8e25-4982-e1bd-563a0bc54e64"
      },
      "source": [
        "# TODO: Write code here to implement undersampling\n",
        "from imblearn.under_sampling import RandomUnderSampler\n",
        "undersample = RandomUnderSampler(sampling_strategy='all', random_state=10)\n",
        "X,y = np.array(X_train).reshape(-1,1),np.array(y_train).reshape(-1,1)\n",
        "X_under, y_under = undersample.fit_resample(X,y)\n",
        "X_under,y_under = X_under.reshape(5752), y_under.reshape(5752)  \n",
        "\n",
        "pipe1 = Pipeline(steps=[('vectorizer', TfidfVectorizer()), ('multinomialNB', MultinomialNB())])\n",
        "pipe1.fit(X_under, y_under)\n",
        "y_pred1 = pipe1.predict(X_test)\n",
        "print(\"Accuracy Using tf-idf Vectorizer onn training data:\",pipe1.score(X_train,y_train))\n",
        "print(\"Accuracy Using tf-idf Vectorizer on test data:\",pipe1.score(X_test,y_test))"
      ],
      "execution_count": null,
      "outputs": [
        {
          "output_type": "stream",
          "text": [
            "Accuracy Using tf-idf Vectorizer onn training data: 0.6875151907964028\n",
            "Accuracy Using tf-idf Vectorizer on test data: 0.3849052540913006\n"
          ],
          "name": "stdout"
        }
      ]
    },
    {
      "cell_type": "code",
      "metadata": {
        "id": "WmgFgl1GvpgP",
        "colab": {
          "base_uri": "https://localhost:8080/"
        },
        "outputId": "ae760bb9-44fc-4954-d7f4-efc1cf5e15a0"
      },
      "source": [
        "print(classification_report(y_test,y_pred1))"
      ],
      "execution_count": null,
      "outputs": [
        {
          "output_type": "stream",
          "text": [
            "              precision    recall  f1-score   support\n",
            "\n",
            "           C       0.28      0.41      0.33       671\n",
            "          KD       0.22      0.46      0.30       821\n",
            "           L       0.30      0.40      0.34       560\n",
            "           M       0.38      0.49      0.43      1644\n",
            "          MP       0.38      0.32      0.35       809\n",
            "           S       0.82      0.29      0.43      2773\n",
            "          SD       0.45      0.30      0.36      1060\n",
            "           V       0.37      0.54      0.44       950\n",
            "\n",
            "    accuracy                           0.38      9288\n",
            "   macro avg       0.40      0.40      0.37      9288\n",
            "weighted avg       0.49      0.38      0.39      9288\n",
            "\n"
          ],
          "name": "stdout"
        }
      ]
    },
    {
      "cell_type": "code",
      "metadata": {
        "id": "vHFyqIU4bK68",
        "colab": {
          "base_uri": "https://localhost:8080/"
        },
        "outputId": "f624b958-c344-48b7-931f-f4a8e0900227"
      },
      "source": [
        "pipe2 = Pipeline(steps=[('vectorizer', CountVectorizer()), ('multinomialNB', MultinomialNB())])\n",
        "pipe2.fit(X_under, y_under)\n",
        "y_pred2 = pipe2.predict(X_test)\n",
        "print(\"Accuracy Using BoW model Vectorizer on training data:\",pipe2.score(X_train,y_train))\n",
        "print(\"Accuracy Using BoW model Vectorizer on test data:\",pipe2.score(X_test,y_test))"
      ],
      "execution_count": null,
      "outputs": [
        {
          "output_type": "stream",
          "text": [
            "Accuracy Using BoW model Vectorizer on training data: 0.7081746739042373\n",
            "Accuracy Using BoW model Vectorizer on test data: 0.40579242032730406\n"
          ],
          "name": "stdout"
        }
      ]
    },
    {
      "cell_type": "code",
      "metadata": {
        "id": "HuOhv1chbLIL",
        "colab": {
          "base_uri": "https://localhost:8080/"
        },
        "outputId": "f0b29875-c1bd-41b7-c82a-7109ac2a1756"
      },
      "source": [
        "print(classification_report(y_test,y_pred2))"
      ],
      "execution_count": null,
      "outputs": [
        {
          "output_type": "stream",
          "text": [
            "              precision    recall  f1-score   support\n",
            "\n",
            "           C       0.27      0.44      0.34       671\n",
            "          KD       0.30      0.42      0.35       821\n",
            "           L       0.27      0.44      0.33       560\n",
            "           M       0.40      0.49      0.44      1644\n",
            "          MP       0.34      0.33      0.33       809\n",
            "           S       0.79      0.31      0.45      2773\n",
            "          SD       0.46      0.40      0.43      1060\n",
            "           V       0.39      0.56      0.46       950\n",
            "\n",
            "    accuracy                           0.41      9288\n",
            "   macro avg       0.40      0.42      0.39      9288\n",
            "weighted avg       0.49      0.41      0.41      9288\n",
            "\n"
          ],
          "name": "stdout"
        }
      ]
    },
    {
      "cell_type": "markdown",
      "metadata": {
        "id": "9nf6F0X0L_rg"
      },
      "source": [
        "After under sampling we applied both vectorizer models and test it on our data and find out that now tf-idf vectorizer model is working better but we are unable to find a great impact while using BoW vectorizer model."
      ]
    },
    {
      "cell_type": "markdown",
      "metadata": {
        "id": "iXNHw_T6L_rg"
      },
      "source": [
        "## Problem 5: Confusion matrix"
      ]
    },
    {
      "cell_type": "markdown",
      "metadata": {
        "id": "9g9bTpjGL_rh"
      },
      "source": [
        "A **confusion matrix** is a specific table that is useful when analysing the performance of a classifier. In this table, both the rows and the columns correspond to classes, and each cell $(i, j)$ states how many times a sample with gold-standard class $i$ was predicted as belonging to class $j$.\n",
        "\n",
        "In scitkit-learn, the confusion matrix of a classifier is computed by the function [`confusion_matrix`](https://scikit-learn.org/stable/modules/generated/sklearn.metrics.confusion_matrix.html). If you would rather see a visual representation, you can also use [`plot_confusion_matrix`](https://scikit-learn.org/stable/modules/generated/sklearn.metrics.plot_confusion_matrix.html).\n",
        "\n",
        "Your task is to use the confusion matrix in order to find, for each given party $p$ in the Riksdag, that other party $p'$ which the classifier that you trained in Problem&nbsp;4 most often confuses with $p$ when it predicts the party of a speaker."
      ]
    },
    {
      "cell_type": "markdown",
      "metadata": {
        "id": "VrevXI9gidhD"
      },
      "source": [
        "**The confusion matrix for balanced dataset using tf-idf Vectorizer:**"
      ]
    },
    {
      "cell_type": "code",
      "metadata": {
        "id": "-l7HCUGzL_rh",
        "colab": {
          "base_uri": "https://localhost:8080/",
          "height": 447
        },
        "outputId": "df3920e9-0969-49f0-c285-50c36fbeed8b"
      },
      "source": [
        "print(pd.DataFrame(confusion_matrix(y_test,y_pred1), parties,parties))\n",
        "plot_confusion_matrix(estimator=pipe1, X=X_test,y_true=y_pred1)\n",
        "plt.show()"
      ],
      "execution_count": null,
      "outputs": [
        {
          "output_type": "stream",
          "text": [
            "      C   KD    L    M   MP    S   SD    V\n",
            "C   272  109   39  114   28   12   31   66\n",
            "KD   83  380   36  170   23   20   39   70\n",
            "L    51   76  222   87   17   12   27   68\n",
            "M   176  318   97  807   53   39   67   87\n",
            "MP   57  123   40  115  260   71   37  106\n",
            "S   184  415  148  473  250  803  149  351\n",
            "SD   92  178  105  207   29   15  321  113\n",
            "V    46  122   51  131   29   13   48  510\n"
          ],
          "name": "stdout"
        },
        {
          "output_type": "display_data",
          "data": {
            "image/png": "[encoded data removed]",
            "text/plain": [
              "<Figure size 432x288 with 2 Axes>"
            ]
          },
          "metadata": {
            "tags": [],
            "needs_background": "light"
          }
        }
      ]
    },
    {
      "cell_type": "markdown",
      "metadata": {
        "id": "V9jFzTbsim4M"
      },
      "source": [
        "**The confusion matrix for balanced dataset using tf-idf Vectorizer Model:**"
      ]
    },
    {
      "cell_type": "code",
      "metadata": {
        "id": "CNWdWw3lc9Bp",
        "colab": {
          "base_uri": "https://localhost:8080/",
          "height": 447
        },
        "outputId": "3b3d2117-0749-4ccb-ad11-217dfd5ac5c3"
      },
      "source": [
        "print(pd.DataFrame(confusion_matrix(y_test,y_pred2), parties,parties))\n",
        "plot_confusion_matrix(estimator=pipe1, X=X_test,y_true=y_pred2)\n",
        "plt.show()"
      ],
      "execution_count": null,
      "outputs": [
        {
          "output_type": "stream",
          "text": [
            "      C   KD    L    M   MP    S   SD    V\n",
            "C   294   68   48  113   31   15   42   60\n",
            "KD   85  343   57  160   29   29   50   68\n",
            "L    59   50  245   66   22   13   42   63\n",
            "M   209  186  136  798   72   62   93   88\n",
            "MP   71   78   71  104  263   79   41  102\n",
            "S   227  229  200  452  276  870  166  353\n",
            "SD   83  104  108  178   33   23  427  104\n",
            "V    48   81   56  125   37    8   66  529\n"
          ],
          "name": "stdout"
        },
        {
          "output_type": "display_data",
          "data": {
            "image/png": "[encoded data removed]",
            "text/plain": [
              "<Figure size 432x288 with 2 Axes>"
            ]
          },
          "metadata": {
            "tags": [],
            "needs_background": "light"
          }
        }
      ]
    },
    {
      "cell_type": "markdown",
      "metadata": {
        "id": "cuLqTOZvL_rk"
      },
      "source": [
        "Take a minute to reflect on the question whether your results make sense\\newline\n",
        " We can see that M, S, and SD parties are mostly correctly specified. This is may be because we have more speeches data of these parties.\n"
      ]
    },
    {
      "cell_type": "markdown",
      "metadata": {
        "id": "zknprpqGL_rk"
      },
      "source": [
        "## Problem 6: Grid search"
      ]
    },
    {
      "cell_type": "markdown",
      "metadata": {
        "id": "U_MQcMPgL_rl"
      },
      "source": [
        "Until now, you have been using the vectorizer and the Naive Bayes classifier with their default hyperparameters. When working with real-world applications, you would want to find settings for the hyperparameters that maximize the performance for the task at hand.\n",
        "\n",
        "Manually tweaking the hyperparameters of the various components of a vectorizer–classifier pipeline can be cumbersome. However, scikit-learn makes it possible to run an exhaustive search for the best hyperparameters over a grid of possible values. This method is known as **grid search**.\n",
        "\n",
        "The hyperparameters of a pipeline should never be tuned on the final test set. (Why would that be a bad idea?) Instead, one should either use a separate validation set, or run cross-validation over different folds. Here we will use cross-validation.\n",
        "\n",
        "Implement a grid search with 5-fold cross-validation to find the optimal parameters in a grid defined by the following choices for the hyperparameters:\n",
        "\n",
        "* In the vectorizer, try a set-of-words model in addition to the default bag-of-words model (two possible parameter values).\n",
        "* Also in the vectorizer, try extracting bigrams in addition to unigrams (two possible parameter values).\n",
        "* In the Naive Bayes classifier, try using additive smoothing with $\\alpha \\in \\{1, 0{.}1\\}$ (two possible parameter values).\n",
        "\n",
        "Use the class [GridSearchCV](https://scikit-learn.org/stable/modules/generated/sklearn.model_selection.GridSearchCV.html) from the scikit-learn library. Print the results of your best model, along with the parameter values that yielded these results."
      ]
    },
    {
      "cell_type": "code",
      "metadata": {
        "id": "RUxRofKqyjzR"
      },
      "source": [
        "from sklearn.model_selection import GridSearchCV"
      ],
      "execution_count": null,
      "outputs": []
    },
    {
      "cell_type": "code",
      "metadata": {
        "id": "-iOgnOYBL_rl"
      },
      "source": [
        "# TODO: Write code here to implement the grid search\n",
        "parameters = {'vectorizer__binary': [True, False],\n",
        "              'vectorizer__ngram_range': [(1, 1), (1, 2)], # unigram = (1, 1), bigram = (1, 2)\n",
        "              'multinomialNB__alpha': (0.1,1)}\n",
        "clf = GridSearchCV(pipe2,param_grid=parameters,cv=5)\n",
        "clf.fit(X_train, y_train)"
      ],
      "execution_count": null,
      "outputs": []
    },
    {
      "cell_type": "code",
      "metadata": {
        "id": "GB-VExCQfoI0",
        "colab": {
          "base_uri": "https://localhost:8080/"
        },
        "outputId": "af9d239e-7f16-4ca1-95d2-4cb08ab3f3ee"
      },
      "source": [
        "print(\"Accuracy on training data:\",clf.score(X_train,y_train))\n",
        "print(\"Accuracy on test data:\",clf.score(X_test,y_test))"
      ],
      "execution_count": null,
      "outputs": [
        {
          "output_type": "stream",
          "text": [
            "Accuracy on training data: 0.9487158713440816\n",
            "Accuracy on test data: 0.4837424633936262\n"
          ],
          "name": "stdout"
        }
      ]
    },
    {
      "cell_type": "code",
      "metadata": {
        "id": "G1jMlhGdhVhi",
        "colab": {
          "base_uri": "https://localhost:8080/"
        },
        "outputId": "45fe0ee9-485f-4ebe-85b8-d9203ddb0a51"
      },
      "source": [
        "#Hyperparameters after cross validation\n",
        "clf.best_params_"
      ],
      "execution_count": null,
      "outputs": [
        {
          "output_type": "execute_result",
          "data": {
            "text/plain": [
              "{'multinomialNB__alpha': 0.1,\n",
              " 'vectorizer__binary': False,\n",
              " 'vectorizer__ngram_range': (1, 1)}"
            ]
          },
          "metadata": {
            "tags": []
          },
          "execution_count": 82
        }
      ]
    },
    {
      "cell_type": "markdown",
      "metadata": {
        "id": "5CLgZlmGL_ro"
      },
      "source": [
        "## Problem 7: Try to improve your results"
      ]
    },
    {
      "cell_type": "markdown",
      "metadata": {
        "id": "N99ti-e5L_rp"
      },
      "source": [
        "Scikit-learn makes it easy to test different vectorizer–classifier pipelines – among other things, it includes different types of logistic regression classifiers, support vector machines, and decision trees. Browse the library to see which methods are supported.\n",
        "\n",
        "Build a pipeline that you find interesting, and use grid search to find optimal settings for the hyperparameters. Print the results of your best model. Did you manage to get better results than the ones that you obtained in Problem&nbsp;6? Answer with a short text."
      ]
    },
    {
      "cell_type": "code",
      "metadata": {
        "id": "SWXgN6q3iVue"
      },
      "source": [
        "from sklearn.svm import SVC\n",
        "from sklearn.linear_model import LogisticRegression\n",
        "from sklearn.tree import DecisionTreeClassifier\n",
        "from sklearn.feature_extraction.text import  CountVectorizer\n",
        "from sklearn.model_selection import GridSearchCV"
      ],
      "execution_count": null,
      "outputs": []
    },
    {
      "cell_type": "markdown",
      "metadata": {
        "id": "AKKBJgXb4mFc"
      },
      "source": [
        ""
      ]
    },
    {
      "cell_type": "code",
      "metadata": {
        "id": "dgn4086jo3SJ"
      },
      "source": [
        "svm_model = Pipeline(steps=[('vectorizer', CountVectorizer()), ('svm', SVC(random_state=10))])\n",
        "dt_model = Pipeline(steps=[('vectorizer', CountVectorizer()), ('dt', SVC())])\n",
        "lr_model = Pipeline(steps=[('vectorizer', CountVectorizer()), ('lr', SVC())])"
      ],
      "execution_count": null,
      "outputs": []
    },
    {
      "cell_type": "code",
      "metadata": {
        "id": "DI-_wQD73att"
      },
      "source": [
        "svm_pram =  {#'vectorizer__binary': [True, False],\n",
        "             #'vectorizer__ngram_range': [(1, 1), (1, 2)],\n",
        "             #'svm__gamma': ('scale', 'auto'),\n",
        "             #'svm__kernal': ('poly', 'rbf'),\n",
        "             'svm__C': (0.5, 1)\n",
        "            }\n",
        "svm_clf = GridSearchCV(svm_model, param_grid=svm_pram, cv=5)\n",
        "svm_clf.fit(X_train,y_train)"
      ],
      "execution_count": null,
      "outputs": []
    },
    {
      "cell_type": "code",
      "metadata": {
        "id": "Jjf8-NGGmFdN",
        "colab": {
          "base_uri": "https://localhost:8080/"
        },
        "outputId": "dd953b10-f726-469f-9099-7fa6a1fb0c76"
      },
      "source": [
        "print(\"Accuracy on training data:\",svm_clf.score(X_train,y_train))\n",
        "print(\"Accuracy on test data:\",svm_clf.score(X_test,y_test))"
      ],
      "execution_count": null,
      "outputs": [
        {
          "output_type": "stream",
          "text": [
            "Accuracy on training data: 0.5881876367171677\n",
            "Accuracy on test data: 0.3875968992248062\n"
          ],
          "name": "stdout"
        }
      ]
    },
    {
      "cell_type": "code",
      "metadata": {
        "id": "-nD4FvDUmSYW",
        "colab": {
          "base_uri": "https://localhost:8080/"
        },
        "outputId": "a0e32b7a-60ae-4217-ee5c-7cd11c1f6a4f"
      },
      "source": [
        "#Hyperparameters after cross validation\n",
        "svm_clf.best_params_"
      ],
      "execution_count": null,
      "outputs": [
        {
          "output_type": "execute_result",
          "data": {
            "text/plain": [
              "{'svm__C': 1}"
            ]
          },
          "metadata": {
            "tags": []
          },
          "execution_count": 35
        }
      ]
    },
    {
      "cell_type": "markdown",
      "metadata": {
        "id": "A_-A5A9dL_rs"
      },
      "source": [
        "As we can see that Naive bayes classifier is performing better than the SVM classifier performance on this particular datset. Moreover wee need a lot of computation power to cross validate many hyperparameters. Thus we will stick to the Naive bayes Classifier."
      ]
    },
    {
      "cell_type": "markdown",
      "metadata": {
        "id": "NYiguyCGL_rt"
      },
      "source": [
        "<div class=\"alert alert-info\">\n",
        "    Please read the section ‘General information’ on the ‘Labs’ page of the course website before submitting this notebook!\n",
        "</div>"
      ]
    }
  ]
}