{
  "nbformat": 4,
  "nbformat_minor": 0,
  "metadata": {
    "kernelspec": {
      "display_name": "Python 3",
      "language": "python",
      "name": "python3"
    },
    "language_info": {
      "codemirror_mode": {
        "name": "ipython",
        "version": 3
      },
      "file_extension": ".py",
      "mimetype": "text/x-python",
      "name": "python",
      "nbconvert_exporter": "python",
      "pygments_lexer": "ipython3",
      "version": "3.7.6"
    },
    "colab": {
      "name": "TM_L2.ipynb",
      "provenance": [],
      "collapsed_sections": [],
      "include_colab_link": true
    }
  },
  "cells": [
    {
      "cell_type": "markdown",
      "metadata": {
        "id": "view-in-github",
        "colab_type": "text"
      },
      "source": [
        "<a href=\"https://colab.research.google.com/github/jrakhshanda/Text-Mining/blob/main/TM_L2.ipynb\" target=\"_parent\"><img src=\"https://colab.research.google.com/assets/colab-badge.svg\" alt=\"Open In Colab\"/></a>"
      ]
    },
    {
      "cell_type": "markdown",
      "metadata": {
        "id": "3ogV246NL_qw"
      },
      "source": [
        "# L2: Text classification"
      ]
    },
    {
      "cell_type": "markdown",
      "metadata": {
        "id": "B2mRSQ1VL_qx"
      },
      "source": [
        "Text classification is the task of sorting text documents into predefined classes. The concrete problem you will be working on in this lab is the classification of texts with respect to their political affiliation. The specific texts you are going to classify are speeches held in the [Riksdag](https://www.riksdagen.se/en/), the Swedish national legislature."
      ]
    },
    {
      "cell_type": "markdown",
      "metadata": {
        "id": "jfWcots4L_qy"
      },
      "source": [
        "## Data set"
      ]
    },
    {
      "cell_type": "markdown",
      "metadata": {
        "id": "pRwh4qL9L_qz"
      },
      "source": [
        "The raw data for this lab comes from [The Riksdag’s Open Data](https://data.riksdagen.se/in-english/). We have tokenized the speeches and put them into two compressed [JSON](https://en.wikipedia.org/wiki/JSON) files:\n",
        "\n",
        "* `speeches-201718.json.bz2` (speeches from the 2017/2018 parliamentary session)\n",
        "* `speeches-201819.json.bz2` (ditto, from the 2018/2019 session)\n",
        "\n",
        "We start by loading these files into two separate data frames."
      ]
    },
    {
      "cell_type": "code",
      "metadata": {
        "id": "j54GQZOVL_qz"
      },
      "source": [
        "import pandas as pd\n",
        "import numpy as np\n",
        "import bz2\n",
        "import warnings\n",
        "warnings.filterwarnings(\"ignore\")\n",
        "\n",
        "with bz2.open('speeches-201718.json.bz2') as source:\n",
        "    speeches_201718 = pd.read_json(source)\n",
        "\n",
        "with bz2.open('speeches-201819.json.bz2') as source:\n",
        "    speeches_201819 = pd.read_json(source)"
      ],
      "execution_count": 6,
      "outputs": []
    },
    {
      "cell_type": "markdown",
      "metadata": {
        "id": "Q3esBktyL_q4"
      },
      "source": [
        "When you inspect the two data frames, you can see that there are three labelled columns: `id` (the official speech ID), `words` (the space-separated words of the speech), and `party` (the party of the speaker, represented by its customary abbreviation)."
      ]
    },
    {
      "cell_type": "code",
      "metadata": {
        "id": "ENyb5h_eL_q5",
        "outputId": "78c5176b-e508-4105-eb16-bc321c8b334a",
        "colab": {
          "base_uri": "https://localhost:8080/",
          "height": 200
        }
      },
      "source": [
        "speeches_201718.head()"
      ],
      "execution_count": 7,
      "outputs": [
        {
          "output_type": "execute_result",
          "data": {
            "text/html": [
              "<div>\n",
              "<style scoped>\n",
              "    .dataframe tbody tr th:only-of-type {\n",
              "        vertical-align: middle;\n",
              "    }\n",
              "\n",
              "    .dataframe tbody tr th {\n",
              "        vertical-align: top;\n",
              "    }\n",
              "\n",
              "    .dataframe thead th {\n",
              "        text-align: right;\n",
              "    }\n",
              "</style>\n",
              "<table border=\"1\" class=\"dataframe\">\n",
              "  <thead>\n",
              "    <tr style=\"text-align: right;\">\n",
              "      <th></th>\n",
              "      <th>id</th>\n",
              "      <th>words</th>\n",
              "      <th>party</th>\n",
              "    </tr>\n",
              "  </thead>\n",
              "  <tbody>\n",
              "    <tr>\n",
              "      <th>0</th>\n",
              "      <td>H5-002-004</td>\n",
              "      <td>eders majestäter eders kungliga högheter herr ...</td>\n",
              "      <td>S</td>\n",
              "    </tr>\n",
              "    <tr>\n",
              "      <th>1</th>\n",
              "      <td>H5-003-001</td>\n",
              "      <td>aktuell debatt om situationen för ensamkommand...</td>\n",
              "      <td>V</td>\n",
              "    </tr>\n",
              "    <tr>\n",
              "      <th>2</th>\n",
              "      <td>H5-003-002</td>\n",
              "      <td>herr talman och ledamöter jag vill börja med a...</td>\n",
              "      <td>S</td>\n",
              "    </tr>\n",
              "    <tr>\n",
              "      <th>3</th>\n",
              "      <td>H5-003-003</td>\n",
              "      <td>herr talman åhörare den här debatten handlar a...</td>\n",
              "      <td>M</td>\n",
              "    </tr>\n",
              "    <tr>\n",
              "      <th>4</th>\n",
              "      <td>H5-003-004</td>\n",
              "      <td>herr talman ansvar och rättssäkerhet är två or...</td>\n",
              "      <td>SD</td>\n",
              "    </tr>\n",
              "  </tbody>\n",
              "</table>\n",
              "</div>"
            ],
            "text/plain": [
              "           id                                              words party\n",
              "0  H5-002-004  eders majestäter eders kungliga högheter herr ...     S\n",
              "1  H5-003-001  aktuell debatt om situationen för ensamkommand...     V\n",
              "2  H5-003-002  herr talman och ledamöter jag vill börja med a...     S\n",
              "3  H5-003-003  herr talman åhörare den här debatten handlar a...     M\n",
              "4  H5-003-004  herr talman ansvar och rättssäkerhet är två or...    SD"
            ]
          },
          "metadata": {
            "tags": []
          },
          "execution_count": 7
        }
      ]
    },
    {
      "cell_type": "markdown",
      "metadata": {
        "id": "7bYTYZpML_q_"
      },
      "source": [
        "Throughout the lab, we will be using the speeches from 2017/2018 as our training data, and the speeches from 2018/2019 as our test data."
      ]
    },
    {
      "cell_type": "code",
      "metadata": {
        "id": "7p-jnQb1L_q_"
      },
      "source": [
        "training_data, test_data = speeches_201718, speeches_201819"
      ],
      "execution_count": 8,
      "outputs": []
    },
    {
      "cell_type": "code",
      "metadata": {
        "id": "qX6bD9BgMadf"
      },
      "source": [
        "X_train,y_train = training_data['words'], training_data['party']\n",
        "X_test,y_test = test_data['words'], test_data['party']"
      ],
      "execution_count": 110,
      "outputs": []
    },
    {
      "cell_type": "markdown",
      "metadata": {
        "id": "fc7EO4OPL_rC"
      },
      "source": [
        "For later reference, we store the sorted list of party abbreviations."
      ]
    },
    {
      "cell_type": "code",
      "metadata": {
        "id": "6BVZ8_A4L_rD",
        "outputId": "943b5785-e922-4ae3-891f-a319aaa654b8",
        "colab": {
          "base_uri": "https://localhost:8080/"
        }
      },
      "source": [
        "parties = sorted(training_data['party'].unique())\n",
        "print(parties)"
      ],
      "execution_count": 10,
      "outputs": [
        {
          "output_type": "stream",
          "text": [
            "['C', 'KD', 'L', 'M', 'MP', 'S', 'SD', 'V']\n"
          ],
          "name": "stdout"
        }
      ]
    },
    {
      "cell_type": "markdown",
      "metadata": {
        "id": "8n2zbwExL_rG"
      },
      "source": [
        "## Problem 1: Visualization"
      ]
    },
    {
      "cell_type": "markdown",
      "metadata": {
        "id": "JeqtYs_JL_rH"
      },
      "source": [
        "Your first task is to get to know the data better by producing a simple visualization.\n",
        "\n",
        "If you are not familiar with the Swedish political system and the parties represented in the Riksdag in particular, then we suggest that you have a look at the Wikipedia article about the [2018 Swedish general election](https://en.wikipedia.org/wiki/2018_Swedish_general_election).\n",
        "\n",
        "For the lab, we ask you to compare the two data frames with respect to the distribution of the speeches over the different parties. Write code to generate two bar plots that visualize this information, one for the 2017/2018 speeches and one for the 2018/2019 speeches. Inspect the two plots, and compare them\n",
        "\n",
        "* to each other\n",
        "* to the results of the 2014 and the 2018 general elections\n",
        "\n",
        "Summarize your observations in a short text in the cell below.\n",
        "\n",
        "**Tip:** If you need help with creating bar plots, [Bar Plot using Pandas](https://dfrieds.com/data-visualizations/bar-plot-python-pandas) provides a useful tutorial."
      ]
    },
    {
      "cell_type": "code",
      "metadata": {
        "id": "Sv8j9Ofjp4p2"
      },
      "source": [
        "import matplotlib.pyplot as plt\n",
        "import pandas as pd\n",
        "import seaborn as sns\n",
        "% matplotlib inline"
      ],
      "execution_count": 11,
      "outputs": []
    },
    {
      "cell_type": "code",
      "metadata": {
        "id": "NH-T6rXlp51m",
        "outputId": "951b4010-549b-4e0b-d0e6-109002eca9a9",
        "colab": {
          "base_uri": "https://localhost:8080/",
          "height": 378
        }
      },
      "source": [
        "plt.figure(figsize=(15,5))\n",
        "plt.rcParams.update({'font.size': 14})\n",
        "plt.subplot(1, 2, 1)\n",
        "speeches_201718['party'].value_counts().plot(kind='bar')\n",
        "plt.xlabel(\"Party\", labelpad=14)\n",
        "plt.ylabel(\"Distribution of Speeches\")\n",
        "plt.title(\"2017-2018\");\n",
        "plt.subplot(1, 2, 2)\n",
        "speeches_201819['party'].value_counts().plot(kind='bar')\n",
        "plt.xlabel(\"Party\")\n",
        "plt.ylabel(\"Distribution of Speeches\")\n",
        "plt.title(\"2018-2019\");"
      ],
      "execution_count": 12,
      "outputs": [
        {
          "output_type": "display_data",
          "data": {
            "image/png": "[encoded data removed]",
            "text/plain": [
              "<Figure size 1080x360 with 2 Axes>"
            ]
          },
          "metadata": {
            "tags": [],
            "needs_background": "light"
          }
        }
      ]
    },
    {
      "cell_type": "markdown",
      "metadata": {
        "id": "aAOrqaA6L_rH"
      },
      "source": [
        "*TODO: Enter your summary here*"
      ]
    },
    {
      "cell_type": "markdown",
      "metadata": {
        "id": "WixZhZg0L_rI"
      },
      "source": [
        "## Problem 2: Naive Bayes classifier"
      ]
    },
    {
      "cell_type": "markdown",
      "metadata": {
        "id": "szEgIDdzL_rJ"
      },
      "source": [
        "You are now ready to train and evaluate a classifier. More specifically, we ask you to train a [Multinomial Naive Bayes](https://scikit-learn.org/stable/modules/naive_bayes.html#multinomial-naive-bayes) classifier. You will have to\n",
        "\n",
        "1. vectorize the speeches in the training data\n",
        "2. instantiate and fit the Naive Bayes model\n",
        "3. evaluate the model on the test data\n",
        "\n",
        "The scikit-learn library provides a convenience class [Pipeline](https://scikit-learn.org/stable/modules/generated/sklearn.pipeline.Pipeline.html) that allows you to solve the first two tasks with very compact code. For the evaluation you can use the function [`classification_report`](https://scikit-learn.org/stable/modules/generated/sklearn.metrics.classification_report.html), which will report per-class precision, recall and F1, as well as overall accuracy."
      ]
    },
    {
      "cell_type": "code",
      "metadata": {
        "id": "9AVnuNWJL_rK"
      },
      "source": [
        "# TODO: Write code here to train and evaluate a Multinomial Naive Bayes classifier\n",
        "from sklearn.metrics import confusion_matrix, classification_report,accuracy_score,plot_confusion_matrix\n",
        "from sklearn.naive_bayes import MultinomialNB\n",
        "from sklearn.feature_extraction.text import CountVectorizer\n",
        "from sklearn.feature_extraction.text import TfidfVectorizer\n",
        "from sklearn.pipeline import Pipeline"
      ],
      "execution_count": 96,
      "outputs": []
    },
    {
      "cell_type": "code",
      "metadata": {
        "id": "asR3uhoXKmDy",
        "outputId": "dc87f80f-f26e-4ce1-f202-7159d96241ed",
        "colab": {
          "base_uri": "https://localhost:8080/"
        }
      },
      "source": [
        "pipe = Pipeline(steps=[('vectorizer', TfidfVectorizer()), ('multinomialNB', MultinomialNB())])\n",
        "pipe.fit(X_train, y_train)\n",
        "print(pipe.score(X_test,y_test))\n",
        "nb_pred = pipe.predict(X_test)"
      ],
      "execution_count": 111,
      "outputs": [
        {
          "output_type": "stream",
          "text": [
            "0.298557278208441\n"
          ],
          "name": "stdout"
        }
      ]
    },
    {
      "cell_type": "markdown",
      "metadata": {
        "id": "U-lBF7D_Omd4"
      },
      "source": [
        "**Classification Report**"
      ]
    },
    {
      "cell_type": "code",
      "metadata": {
        "id": "wyyoo0bBOrfS",
        "outputId": "c576e4ff-2e9e-411f-c856-d385fa505b88",
        "colab": {
          "base_uri": "https://localhost:8080/"
        }
      },
      "source": [
        "print(classification_report(y_test,nb_pred))"
      ],
      "execution_count": 112,
      "outputs": [
        {
          "output_type": "stream",
          "text": [
            "              precision    recall  f1-score   support\n",
            "\n",
            "           C       0.00      0.00      0.00       671\n",
            "          KD       0.00      0.00      0.00       821\n",
            "           L       0.00      0.00      0.00       560\n",
            "           M       0.00      0.00      0.00      1644\n",
            "          MP       0.00      0.00      0.00       809\n",
            "           S       0.30      1.00      0.46      2773\n",
            "          SD       0.00      0.00      0.00      1060\n",
            "           V       0.00      0.00      0.00       950\n",
            "\n",
            "    accuracy                           0.30      9288\n",
            "   macro avg       0.04      0.12      0.06      9288\n",
            "weighted avg       0.09      0.30      0.14      9288\n",
            "\n"
          ],
          "name": "stdout"
        }
      ]
    },
    {
      "cell_type": "markdown",
      "metadata": {
        "id": "rzl1CsdNL_rR"
      },
      "source": [
        "Would you have expected the results that you got?"
      ]
    },
    {
      "cell_type": "markdown",
      "metadata": {
        "id": "3Dj50QXTL_rS"
      },
      "source": [
        "## Problem 3: Baselines"
      ]
    },
    {
      "cell_type": "markdown",
      "metadata": {
        "id": "SuGMeKlnL_rT"
      },
      "source": [
        "Evaluation metrics such as accuracy should not be understood as absolute measures of performance, but should be used only to compare different classifiers. When other classifiers are not available, a simple baseline is a classifier that generates predictions by random sampling, respecting the training set&rsquo;s class distribution. This baseline is implemented by the class [DummyClassifier](https://scikit-learn.org/stable/modules/generated/sklearn.dummy.DummyClassifier.html). What is the performance of the random baseline on the test data?"
      ]
    },
    {
      "cell_type": "code",
      "metadata": {
        "id": "1EXgsiKbL_rT"
      },
      "source": [
        "# TODO: Write code here to evaluate the random baseline\n",
        "from sklearn.dummy import DummyClassifier\n",
        "pipe = Pipeline([('vectorizer', TfidfVectorizer()), ('dummy',DummyClassifier(strategy=\"most_frequent\"))])\n",
        "pipe.fit(X_train, y_train)\n",
        "dummy_pred = pipe.predict(X_test)"
      ],
      "execution_count": 113,
      "outputs": []
    },
    {
      "cell_type": "code",
      "metadata": {
        "id": "JoIDNN_KSevZ",
        "outputId": "8a68e71c-773b-47e4-b714-25969b7be7f0",
        "colab": {
          "base_uri": "https://localhost:8080/"
        }
      },
      "source": [
        "print(classification_report(y_test,dummy_pred))"
      ],
      "execution_count": 114,
      "outputs": [
        {
          "output_type": "stream",
          "text": [
            "              precision    recall  f1-score   support\n",
            "\n",
            "           C       0.00      0.00      0.00       671\n",
            "          KD       0.00      0.00      0.00       821\n",
            "           L       0.00      0.00      0.00       560\n",
            "           M       0.00      0.00      0.00      1644\n",
            "          MP       0.00      0.00      0.00       809\n",
            "           S       0.30      1.00      0.46      2773\n",
            "          SD       0.00      0.00      0.00      1060\n",
            "           V       0.00      0.00      0.00       950\n",
            "\n",
            "    accuracy                           0.30      9288\n",
            "   macro avg       0.04      0.12      0.06      9288\n",
            "weighted avg       0.09      0.30      0.14      9288\n",
            "\n"
          ],
          "name": "stdout"
        }
      ]
    },
    {
      "cell_type": "markdown",
      "metadata": {
        "id": "EIrXlA6mL_rX"
      },
      "source": [
        "An even dumber baseline is to predict, for every document, that class which appears most often in the training data. This baseline is also called the most frequent class baseline. What is the accuracy of that baseline on the test data?"
      ]
    },
    {
      "cell_type": "code",
      "metadata": {
        "id": "fsDrbfcTL_rY",
        "outputId": "d2aa9234-ab91-4b53-b868-596b5fad2154",
        "colab": {
          "base_uri": "https://localhost:8080/"
        }
      },
      "source": [
        "# TODO: Write code here to print the accuracy of the most frequent class baseline\n",
        "print(\"Accuracy:\",pipe.score(X_test,y_test))"
      ],
      "execution_count": 115,
      "outputs": [
        {
          "output_type": "stream",
          "text": [
            "Accuracy: 0.298557278208441\n"
          ],
          "name": "stdout"
        }
      ]
    },
    {
      "cell_type": "markdown",
      "metadata": {
        "id": "Dg3H68bdL_rb"
      },
      "source": [
        "## Problem 4: Creating a balanced data set"
      ]
    },
    {
      "cell_type": "markdown",
      "metadata": {
        "id": "QCZFpPWHL_rb"
      },
      "source": [
        "As you saw in Problem&nbsp;1, the distribution of the speeches over the eight different parties (classes) is imbalanced. One technique used to alleviate this is **undersampling**, in which one randomly removes samples from over-represented classes until all classes are represented with the same number of samples.\n",
        "\n",
        "Implement undersampling to create a balanced subset of the training data. Rerun the evaluation from Problem&nbsp;2 on the balanced data and compare the results. Discuss your findings in a short text. Would you argue that undersampling make sense for the task of predicting the party of a speaker?\n",
        "\n",
        "**Hint:** Your balanced subset should consist of 5,752 speeches."
      ]
    },
    {
      "cell_type": "code",
      "metadata": {
        "id": "_dpxOzuNL_rc"
      },
      "source": [
        "# TODO: Write code here to implement undersampling\n",
        "from imblearn.under_sampling import RandomUnderSampler\n",
        "undersample = RandomUnderSampler(sampling_strategy='auto', random_state=10)\n",
        "X,y = np.array(X_train).reshape(-1,1),np.array(y_train).reshape(-1,1)\n",
        "X_under, y_under = undersample.fit_resample(X,y)\n",
        "X_under,y_under = X_under.reshape(5752), y_under.reshape(5752)  "
      ],
      "execution_count": 116,
      "outputs": []
    },
    {
      "cell_type": "code",
      "metadata": {
        "id": "46WmhfV3ubJy",
        "outputId": "26d17cc8-5e4f-49ba-dc08-536adfeef788",
        "colab": {
          "base_uri": "https://localhost:8080/"
        }
      },
      "source": [
        "pipe = Pipeline(steps=[('vectorizer', TfidfVectorizer()), ('multinomialNB', MultinomialNB())])\n",
        "pipe.fit(X_under, y_under)\n",
        "y_pred = pipe.predict(X_test)\n",
        "print(\"Accuracy\",pipe.score(X_test,y_test))"
      ],
      "execution_count": 118,
      "outputs": [
        {
          "output_type": "stream",
          "text": [
            "Accuracy 0.1308139534883721\n"
          ],
          "name": "stdout"
        }
      ]
    },
    {
      "cell_type": "code",
      "metadata": {
        "id": "WmgFgl1GvpgP",
        "outputId": "de0073c3-d447-4afd-c9d0-e2d7b6fcad00",
        "colab": {
          "base_uri": "https://localhost:8080/"
        }
      },
      "source": [
        "print(classification_report(y_test,y_pred))"
      ],
      "execution_count": 119,
      "outputs": [
        {
          "output_type": "stream",
          "text": [
            "              precision    recall  f1-score   support\n",
            "\n",
            "           C       0.10      0.02      0.03       671\n",
            "          KD       0.08      0.06      0.06       821\n",
            "           L       0.07      0.20      0.10       560\n",
            "           M       0.18      0.26      0.21      1644\n",
            "          MP       0.09      0.08      0.08       809\n",
            "           S       0.24      0.05      0.09      2773\n",
            "          SD       0.15      0.10      0.12      1060\n",
            "           V       0.12      0.31      0.17       950\n",
            "\n",
            "    accuracy                           0.13      9288\n",
            "   macro avg       0.13      0.14      0.11      9288\n",
            "weighted avg       0.16      0.13      0.12      9288\n",
            "\n"
          ],
          "name": "stdout"
        }
      ]
    },
    {
      "cell_type": "markdown",
      "metadata": {
        "id": "9nf6F0X0L_rg"
      },
      "source": [
        "*TODO: Enter your answer here*"
      ]
    },
    {
      "cell_type": "markdown",
      "metadata": {
        "id": "iXNHw_T6L_rg"
      },
      "source": [
        "## Problem 5: Confusion matrix"
      ]
    },
    {
      "cell_type": "markdown",
      "metadata": {
        "id": "9g9bTpjGL_rh"
      },
      "source": [
        "A **confusion matrix** is a specific table that is useful when analysing the performance of a classifier. In this table, both the rows and the columns correspond to classes, and each cell $(i, j)$ states how many times a sample with gold-standard class $i$ was predicted as belonging to class $j$.\n",
        "\n",
        "In scitkit-learn, the confusion matrix of a classifier is computed by the function [`confusion_matrix`](https://scikit-learn.org/stable/modules/generated/sklearn.metrics.confusion_matrix.html). If you would rather see a visual representation, you can also use [`plot_confusion_matrix`](https://scikit-learn.org/stable/modules/generated/sklearn.metrics.plot_confusion_matrix.html).\n",
        "\n",
        "Your task is to use the confusion matrix in order to find, for each given party $p$ in the Riksdag, that other party $p'$ which the classifier that you trained in Problem&nbsp;4 most often confuses with $p$ when it predicts the party of a speaker."
      ]
    },
    {
      "cell_type": "code",
      "metadata": {
        "id": "-l7HCUGzL_rh",
        "outputId": "d6cc0e1e-f8b0-47b1-f9b5-1eea4b5c9ecc",
        "colab": {
          "base_uri": "https://localhost:8080/",
          "height": 310
        }
      },
      "source": [
        "# TODO: Write code here to solve Problem 5\n",
        "plot_confusion_matrix(estimator=pipe, X=X_test,y_true=y_pred)"
      ],
      "execution_count": 120,
      "outputs": [
        {
          "output_type": "execute_result",
          "data": {
            "text/plain": [
              "<sklearn.metrics._plot.confusion_matrix.ConfusionMatrixDisplay at 0x7f58bf5edbe0>"
            ]
          },
          "metadata": {
            "tags": []
          },
          "execution_count": 120
        },
        {
          "output_type": "display_data",
          "data": {
            "image/png": "[encoded data removed]",
            "text/plain": [
              "<Figure size 432x288 with 2 Axes>"
            ]
          },
          "metadata": {
            "tags": [],
            "needs_background": "light"
          }
        }
      ]
    },
    {
      "cell_type": "code",
      "metadata": {
        "id": "Y8unA0v02mxu",
        "outputId": "251f767a-4d07-428e-a5a2-fd9f4a337c40",
        "colab": {
          "base_uri": "https://localhost:8080/"
        }
      },
      "source": [
        "ind = training_data['party'].unique()\n",
        "print(confusion_matrix(y_test,y_pred,labels=ind.sort()))"
      ],
      "execution_count": 121,
      "outputs": [
        {
          "output_type": "stream",
          "text": [
            "[[ 14  38  99 164  41  49  74 192]\n",
            " [ 11  46 144 210  61  79  57 213]\n",
            " [  8  28 111 105  31  28  50 199]\n",
            " [ 29  87 303 427 157  85 124 432]\n",
            " [  9  61 133 181  66  63  47 249]\n",
            " [ 42 251 563 730 265 152 173 597]\n",
            " [ 12  48 179 239  66  83 102 331]\n",
            " [ 21  43  90 278  59  89  73 297]]\n"
          ],
          "name": "stdout"
        }
      ]
    },
    {
      "cell_type": "markdown",
      "metadata": {
        "id": "cuLqTOZvL_rk"
      },
      "source": [
        "Take a minute to reflect on the question whether your results make sense."
      ]
    },
    {
      "cell_type": "markdown",
      "metadata": {
        "id": "zknprpqGL_rk"
      },
      "source": [
        "## Problem 6: Grid search"
      ]
    },
    {
      "cell_type": "markdown",
      "metadata": {
        "id": "U_MQcMPgL_rl"
      },
      "source": [
        "Until now, you have been using the vectorizer and the Naive Bayes classifier with their default hyperparameters. When working with real-world applications, you would want to find settings for the hyperparameters that maximize the performance for the task at hand.\n",
        "\n",
        "Manually tweaking the hyperparameters of the various components of a vectorizer–classifier pipeline can be cumbersome. However, scikit-learn makes it possible to run an exhaustive search for the best hyperparameters over a grid of possible values. This method is known as **grid search**.\n",
        "\n",
        "The hyperparameters of a pipeline should never be tuned on the final test set. (Why would that be a bad idea?) Instead, one should either use a separate validation set, or run cross-validation over different folds. Here we will use cross-validation.\n",
        "\n",
        "Implement a grid search with 5-fold cross-validation to find the optimal parameters in a grid defined by the following choices for the hyperparameters:\n",
        "\n",
        "* In the vectorizer, try a set-of-words model in addition to the default bag-of-words model (two possible parameter values).\n",
        "* Also in the vectorizer, try extracting bigrams in addition to unigrams (two possible parameter values).\n",
        "* In the Naive Bayes classifier, try using additive smoothing with $\\alpha \\in \\{1, 0{.}1\\}$ (two possible parameter values).\n",
        "\n",
        "Use the class [GridSearchCV](https://scikit-learn.org/stable/modules/generated/sklearn.model_selection.GridSearchCV.html) from the scikit-learn library. Print the results of your best model, along with the parameter values that yielded these results."
      ]
    },
    {
      "cell_type": "code",
      "metadata": {
        "id": "-iOgnOYBL_rl"
      },
      "source": [
        "# TODO: Write code here to implement the grid search\n",
        "from sklearn.model_selection import GridSearchCV\n",
        "parameters = {'alpha':(0.1,1)}\n",
        "clf = GridSearchCV(pipe,param_grid=parameters)"
      ],
      "execution_count": 123,
      "outputs": []
    },
    {
      "cell_type": "markdown",
      "metadata": {
        "id": "5CLgZlmGL_ro"
      },
      "source": [
        "## Problem 7: Try to improve your results"
      ]
    },
    {
      "cell_type": "markdown",
      "metadata": {
        "id": "N99ti-e5L_rp"
      },
      "source": [
        "Scikit-learn makes it easy to test different vectorizer–classifier pipelines – among other things, it includes different types of logistic regression classifiers, support vector machines, and decision trees. Browse the library to see which methods are supported.\n",
        "\n",
        "Build a pipeline that you find interesting, and use grid search to find optimal settings for the hyperparameters. Print the results of your best model. Did you manage to get better results than the ones that you obtained in Problem&nbsp;6? Answer with a short text."
      ]
    },
    {
      "cell_type": "code",
      "metadata": {
        "id": "EigeDnOvL_rq"
      },
      "source": [
        "# TODO: Write code here to search for a better model"
      ],
      "execution_count": null,
      "outputs": []
    },
    {
      "cell_type": "markdown",
      "metadata": {
        "id": "A_-A5A9dL_rs"
      },
      "source": [
        "*TODO: Enter your answer here*"
      ]
    },
    {
      "cell_type": "markdown",
      "metadata": {
        "id": "NYiguyCGL_rt"
      },
      "source": [
        "<div class=\"alert alert-info\">\n",
        "    Please read the section ‘General information’ on the ‘Labs’ page of the course website before submitting this notebook!\n",
        "</div>"
      ]
    }
  ]
}