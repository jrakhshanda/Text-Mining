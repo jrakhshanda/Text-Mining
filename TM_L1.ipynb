{
  "nbformat": 4,
  "nbformat_minor": 0,
  "metadata": {
    "kernelspec": {
      "display_name": "Python 3",
      "language": "python",
      "name": "python3"
    },
    "language_info": {
      "codemirror_mode": {
        "name": "ipython",
        "version": 3
      },
      "file_extension": ".py",
      "mimetype": "text/x-python",
      "name": "python",
      "nbconvert_exporter": "python",
      "pygments_lexer": "ipython3",
      "version": "3.7.6"
    },
    "colab": {
      "name": "TM_L1.ipynb",
      "provenance": [],
      "collapsed_sections": [],
      "include_colab_link": true
    }
  },
  "cells": [
    {
      "cell_type": "markdown",
      "metadata": {
        "id": "view-in-github",
        "colab_type": "text"
      },
      "source": [
        "<a href=\"https://colab.research.google.com/github/jrakhshanda/Text-Mining/blob/main/TM_L1.ipynb\" target=\"_parent\"><img src=\"https://colab.research.google.com/assets/colab-badge.svg\" alt=\"Open In Colab\"/></a>"
      ]
    },
    {
      "cell_type": "markdown",
      "metadata": {
        "id": "WyClHxwm0WYE"
      },
      "source": [
        "# L1: Information retrieval"
      ]
    },
    {
      "cell_type": "markdown",
      "metadata": {
        "id": "6QEUdO7K0WYF"
      },
      "source": [
        "In this lab you will apply basic techniques from information retrieval to implement the core of a minimalistic search engine. The data for this lab consists of a collection of app descriptions scraped from the [Google Play Store](https://play.google.com/store/apps?hl=en). From this collection, your search engine should retrieve those apps whose descriptions best match a given query under the vector space model."
      ]
    },
    {
      "cell_type": "markdown",
      "metadata": {
        "id": "oyQFwWof0WYG"
      },
      "source": [
        "## Data set"
      ]
    },
    {
      "cell_type": "markdown",
      "metadata": {
        "id": "LJAgio500WYG"
      },
      "source": [
        "The app descriptions come in the form of a compressed [JSON](https://en.wikipedia.org/wiki/JSON) file. Start by loading this file into a [Pandas](https://pandas.pydata.org) [DataFrame](https://pandas.pydata.org/pandas-docs/stable/getting_started/dsintro.html#dataframe)."
      ]
    },
    {
      "cell_type": "code",
      "metadata": {
        "id": "IjhKviht0WYH"
      },
      "source": [
        "import bz2\n",
        "import pandas as pd\n",
        "import warnings\n",
        "warnings.filterwarnings('ignore', category=DeprecationWarning)\n",
        "warnings.filterwarnings('ignore', category=FutureWarning)\n",
        "\n",
        "with bz2.open('app-descriptions.json.bz2') as source:\n",
        "    df = pd.read_json(source)"
      ],
      "execution_count": 1,
      "outputs": []
    },
    {
      "cell_type": "markdown",
      "metadata": {
        "id": "QW2sC6Ak0WYN"
      },
      "source": [
        "In Pandas, a DataFrame is a table with indexed rows and labelled columns of potentially different types. Data in a DataFrame can be accessed in various ways, including by row and by column. To give an example, the code in the next cell shows rows 200–204:"
      ]
    },
    {
      "cell_type": "code",
      "metadata": {
        "id": "ZdID8d2J0WYO",
        "outputId": "10f8b923-30fa-4831-ac1a-c94c01b08320",
        "colab": {
          "base_uri": "https://localhost:8080/",
          "height": 200
        }
      },
      "source": [
        "df[200:205]"
      ],
      "execution_count": 2,
      "outputs": [
        {
          "output_type": "execute_result",
          "data": {
            "text/html": [
              "<div>\n",
              "<style scoped>\n",
              "    .dataframe tbody tr th:only-of-type {\n",
              "        vertical-align: middle;\n",
              "    }\n",
              "\n",
              "    .dataframe tbody tr th {\n",
              "        vertical-align: top;\n",
              "    }\n",
              "\n",
              "    .dataframe thead th {\n",
              "        text-align: right;\n",
              "    }\n",
              "</style>\n",
              "<table border=\"1\" class=\"dataframe\">\n",
              "  <thead>\n",
              "    <tr style=\"text-align: right;\">\n",
              "      <th></th>\n",
              "      <th>name</th>\n",
              "      <th>description</th>\n",
              "    </tr>\n",
              "  </thead>\n",
              "  <tbody>\n",
              "    <tr>\n",
              "      <th>200</th>\n",
              "      <td>Brick Breaker Star: Space King</td>\n",
              "      <td>Introducing the best Brick Breaker game that e...</td>\n",
              "    </tr>\n",
              "    <tr>\n",
              "      <th>201</th>\n",
              "      <td>Brick Classic - Brick Game</td>\n",
              "      <td>Classic Brick Game!\\n\\nBrick Classic is a popu...</td>\n",
              "    </tr>\n",
              "    <tr>\n",
              "      <th>202</th>\n",
              "      <td>Bricks Breaker - Glow Balls</td>\n",
              "      <td>Bricks Breaker - Glow Balls is a addictive and...</td>\n",
              "    </tr>\n",
              "    <tr>\n",
              "      <th>203</th>\n",
              "      <td>Bricks Breaker Quest</td>\n",
              "      <td>How to play\\n- The ball flies to wherever you ...</td>\n",
              "    </tr>\n",
              "    <tr>\n",
              "      <th>204</th>\n",
              "      <td>Brothers in Arms® 3</td>\n",
              "      <td>Fight brave soldiers from around the globe on ...</td>\n",
              "    </tr>\n",
              "  </tbody>\n",
              "</table>\n",
              "</div>"
            ],
            "text/plain": [
              "                               name                                        description\n",
              "200  Brick Breaker Star: Space King  Introducing the best Brick Breaker game that e...\n",
              "201      Brick Classic - Brick Game  Classic Brick Game!\\n\\nBrick Classic is a popu...\n",
              "202     Bricks Breaker - Glow Balls  Bricks Breaker - Glow Balls is a addictive and...\n",
              "203            Bricks Breaker Quest  How to play\\n- The ball flies to wherever you ...\n",
              "204             Brothers in Arms® 3  Fight brave soldiers from around the globe on ..."
            ]
          },
          "metadata": {
            "tags": []
          },
          "execution_count": 2
        }
      ]
    },
    {
      "cell_type": "markdown",
      "metadata": {
        "id": "71oQIsqX0WYT"
      },
      "source": [
        "As you can see, there are two labelled columns: `name` (the name of the app) and `description` (a textual description). The code in the next cell shows how to acess fields from the description column."
      ]
    },
    {
      "cell_type": "code",
      "metadata": {
        "id": "DdR2hLWZ0WYU",
        "outputId": "2e39c25f-349f-477b-d981-dec7987c5f70",
        "colab": {
          "base_uri": "https://localhost:8080/"
        }
      },
      "source": [
        "df['description'][200:205]"
      ],
      "execution_count": 3,
      "outputs": [
        {
          "output_type": "execute_result",
          "data": {
            "text/plain": [
              "200    Introducing the best Brick Breaker game that e...\n",
              "201    Classic Brick Game!\\n\\nBrick Classic is a popu...\n",
              "202    Bricks Breaker - Glow Balls is a addictive and...\n",
              "203    How to play\\n- The ball flies to wherever you ...\n",
              "204    Fight brave soldiers from around the globe on ...\n",
              "Name: description, dtype: object"
            ]
          },
          "metadata": {
            "tags": []
          },
          "execution_count": 3
        }
      ]
    },
    {
      "cell_type": "markdown",
      "metadata": {
        "id": "OJq-KjKV0WYW"
      },
      "source": [
        "## Problem 1: Preprocessing"
      ]
    },
    {
      "cell_type": "markdown",
      "metadata": {
        "id": "wuuSHOe00WYX"
      },
      "source": [
        "Your first task is to implement a preprocessor for your search engine. In the vector space model, *preprocessing* refers to any kind of transformation that is applied before a text is vectorized. Here you can restrict yourself to a very simple preprocessing: tokenization, stop word removal, and lemmatization.\n",
        "\n",
        "To implement your preprocessor, you can use [spaCy](https://spacy.io). Make sure that you read the [Linguistic annotations](https://spacy.io/usage/spacy-101#annotations) section of the spaCy&nbsp;101; that section contains all the information that you need for this problem (and more).\n",
        "\n",
        "Implement your preprocessor by completing the skeleton code in the next cell, adding additional code as you feel necessary."
      ]
    },
    {
      "cell_type": "code",
      "metadata": {
        "id": "9in8JaAQ0WYY"
      },
      "source": [
        "import spacy\n",
        "nlp = spacy.load(\"en_core_web_sm\", disable=[\"tagger\", \"parser\",\"entityrecognizer\"])"
      ],
      "execution_count": 4,
      "outputs": []
    },
    {
      "cell_type": "code",
      "metadata": {
        "id": "8Sbr38_G1f1T"
      },
      "source": [
        "def preprocess(text):\n",
        "  doc = nlp(text)\n",
        "  res = []\n",
        "  for token in doc:\n",
        "    if not token.is_stop:\n",
        "      if token.is_alpha:\n",
        "        res.append(token.lemma_)\n",
        "  return (res)"
      ],
      "execution_count": 5,
      "outputs": []
    },
    {
      "cell_type": "markdown",
      "metadata": {
        "id": "mHSn8nhn0WYa"
      },
      "source": [
        "Your implementation should conform to the following specification:\n",
        "\n",
        "<strong>preprocess</strong> (<em>text</em>)\n",
        "\n",
        "> Preprocesses given text by tokenizing it, removing any stop words, replacing each remaining token with its lemma (base form), and discarding all lemmas that contain non-alphabetical characters. Returns the list of remaining lemmas (represented as strings).\n",
        "\n",
        "**Tip:** To speed up the preprocessing, you can disable loading those spaCy components that you do not need, such as the part-of-speech tagger, parser, and named entity recognizer. See [here](https://spacy.io/usage/processing-pipelines#disabling) for more information about this."
      ]
    },
    {
      "cell_type": "markdown",
      "metadata": {
        "id": "YpL4C0aC0WYb"
      },
      "source": [
        "Test your implementation by running the following cell:"
      ]
    },
    {
      "cell_type": "code",
      "metadata": {
        "id": "d7oDuela0WYb",
        "outputId": "c197a10c-c7dd-483c-e517-3e3a35fb0ffd",
        "colab": {
          "base_uri": "https://localhost:8080/"
        }
      },
      "source": [
        "preprocess('Apple is looking at buying U.K. startup for $1 billion')"
      ],
      "execution_count": 6,
      "outputs": [
        {
          "output_type": "execute_result",
          "data": {
            "text/plain": [
              "['Apple', 'look', 'buy', 'startup', 'billion']"
            ]
          },
          "metadata": {
            "tags": []
          },
          "execution_count": 6
        }
      ]
    },
    {
      "cell_type": "markdown",
      "metadata": {
        "id": "6iLVoOzI0WYf"
      },
      "source": [
        "This should give the following output:\n"
      ]
    },
    {
      "cell_type": "markdown",
      "metadata": {
        "id": "XSlvTey-0WYf"
      },
      "source": [
        "['Apple', 'look', 'buy', 'startup', 'billion']"
      ]
    },
    {
      "cell_type": "markdown",
      "metadata": {
        "id": "xnyCsqxY0WYg"
      },
      "source": [
        "## Problem 2: Vectorizing"
      ]
    },
    {
      "cell_type": "markdown",
      "metadata": {
        "id": "4yumkyNR0WYg"
      },
      "source": [
        "Your next task is to vectorize the data – and more specifically, to map each app description to a tf–idf vector. For this you can use the [TfidfVectorizer](https://scikit-learn.org/stable/modules/generated/sklearn.feature_extraction.text.TfidfVectorizer.html) class from [scikit-learn](https://scikit-learn.org/stable/). Make sure to specify your preprocessor from the previous problem as the `tokenizer` &ndash; not the `preprocessor`! &ndash; for the vectorizer. (In scikit-learn parlance, the `preprocessor` handles string-level preprocessing.)"
      ]
    },
    {
      "cell_type": "code",
      "metadata": {
        "id": "_g0b10zv0WYi"
      },
      "source": [
        "import numpy as np\n",
        "from sklearn.feature_extraction.text import TfidfVectorizer\n",
        "vectorizer = TfidfVectorizer(tokenizer = preprocess, use_idf=True)\n",
        "X = vectorizer.fit_transform( df['description'])"
      ],
      "execution_count": 15,
      "outputs": []
    },
    {
      "cell_type": "markdown",
      "metadata": {
        "id": "709Rdo0t0WYl"
      },
      "source": [
        "Test your implementation by running the following cell:"
      ]
    },
    {
      "cell_type": "code",
      "metadata": {
        "id": "b16bwUeX0WYm",
        "outputId": "fd0992bc-7802-4afb-b01d-7be52054f873",
        "colab": {
          "base_uri": "https://localhost:8080/"
        }
      },
      "source": [
        "X.shape"
      ],
      "execution_count": 16,
      "outputs": [
        {
          "output_type": "execute_result",
          "data": {
            "text/plain": [
              "(1614, 20663)"
            ]
          },
          "metadata": {
            "tags": []
          },
          "execution_count": 16
        }
      ]
    },
    {
      "cell_type": "markdown",
      "metadata": {
        "id": "z4-abLQ-0WYp"
      },
      "source": [
        "This should show the dimensions of the matrix `X` to be 1614 × 20669."
      ]
    },
    {
      "cell_type": "markdown",
      "metadata": {
        "id": "nkgnWO0v0WYp"
      },
      "source": [
        "## Problem 3: Retrieving"
      ]
    },
    {
      "cell_type": "markdown",
      "metadata": {
        "id": "PRUmB3Qk0WYq"
      },
      "source": [
        "To complete the search engine, your last task is to write a function that returns the most relevant app descriptions for a given query. An easy way to do solve this task is to use scikit-learn&rsquo;s [NearestNeighbors](https://scikit-learn.org/stable/modules/generated/sklearn.neighbors.NearestNeighbors.html) class. That class implements unsupervised nearest neighbours learning, and allows you to easily find a predefined number of app descriptions whose vector representations are closest to the query vector."
      ]
    },
    {
      "cell_type": "code",
      "metadata": {
        "id": "n6RtxR9opiRC"
      },
      "source": [
        "from sklearn.neighbors import NearestNeighbors\n",
        "from sklearn.metrics.pairwise import cosine_distances,cosine_similarity"
      ],
      "execution_count": 17,
      "outputs": []
    },
    {
      "cell_type": "code",
      "metadata": {
        "id": "CrFuD1ui0WYr"
      },
      "source": [
        "model = NearestNeighbors(n_neighbors = 10, n_jobs=-1) \n",
        "model.fit(X)\n",
        "def search(query):\n",
        "  # TODO: Replace the next line with your own code.\n",
        "  x = vectorizer.transform([query])\n",
        "  result = model.kneighbors(x, return_distance=False)\n",
        "  return df['name'][result[0]]"
      ],
      "execution_count": 18,
      "outputs": []
    },
    {
      "cell_type": "markdown",
      "metadata": {
        "id": "trlo1dg80WYt"
      },
      "source": [
        "Your implementation should conform to the following specification:\n",
        "\n",
        "<strong>search</strong> (<em>query</em>)\n",
        "\n",
        "> Returns the 10 app descriptions most similar (in terms of cosine similarity) to the given query as a Pandas DataFrame."
      ]
    },
    {
      "cell_type": "markdown",
      "metadata": {
        "id": "lrrw4YLT0WYu"
      },
      "source": [
        "Test your implementation by running the following cell:"
      ]
    },
    {
      "cell_type": "code",
      "metadata": {
        "id": "bswUccXJ0WYu",
        "outputId": "64b4c001-63f8-4b1e-9714-61bcef429f52",
        "colab": {
          "base_uri": "https://localhost:8080/"
        }
      },
      "source": [
        "search(query='dodge trains')"
      ],
      "execution_count": 19,
      "outputs": [
        {
          "output_type": "execute_result",
          "data": {
            "text/plain": [
              "1301                               Subway Surfers\n",
              "1300                       Subway Princess Runner\n",
              "1428                        Train Conductor World\n",
              "998                No Humanity - The Hardest Game\n",
              "1394                                   Tiny Rails\n",
              "1429          Train for Animals - BabyMagica free\n",
              "1168                                         Rush\n",
              "1077                  Polar Flow – Sync & Analyze\n",
              "1286    Strava: Track Running, Cycling & Swimming\n",
              "1465              Virus War - Space Shooting Game\n",
              "Name: name, dtype: object"
            ]
          },
          "metadata": {
            "tags": []
          },
          "execution_count": 19
        }
      ]
    },
    {
      "cell_type": "markdown",
      "metadata": {
        "id": "VNS7WLK-0WYx"
      },
      "source": [
        "The top hit in the list should be *Subway Surfers*."
      ]
    },
    {
      "cell_type": "markdown",
      "metadata": {
        "id": "jGH9udaP0WYy"
      },
      "source": [
        "## Problem 4: Finding terms with low/high idf"
      ]
    },
    {
      "cell_type": "markdown",
      "metadata": {
        "id": "jLmeVRdQ0WYz"
      },
      "source": [
        "Recall that the inverse document frequency (idf) of a term is the lower the more documents from a given collection the term appears in. To get a better understanding for this concept, your next task is to write code to find out which terms have the lowest/highest idf with respect to the app descriptions.\n",
        "\n",
        "Start by sorting the terms in increasing order of idf, breaking ties by falling back on alphabetic order."
      ]
    },
    {
      "cell_type": "code",
      "metadata": {
        "id": "SfE18u27kfgP"
      },
      "source": [
        "# TODO: Replace the next line with your own code.\n",
        "#N = X.shape[0] #total number of documents\n",
        "#from collections import OrderedDict\n",
        "#dd = OrderedDict(vectorizer.vocabulary_)\n",
        "data = {'Term':vectorizer.vocabulary_.keys(), 'idf':vectorizer.idf_} \n",
        "terms = pd.DataFrame(data)\n",
        "terms = d.sort_values(by=['idf'])"
      ],
      "execution_count": 39,
      "outputs": []
    },
    {
      "cell_type": "markdown",
      "metadata": {
        "id": "Okp5mo_j0WY2"
      },
      "source": [
        "Now, print the 10 terms with the lowest/highest idf. How do you explain the results?"
      ]
    },
    {
      "cell_type": "code",
      "metadata": {
        "scrolled": true,
        "id": "lZIDZuGP0WY2",
        "outputId": "47faca27-2795-4ef7-e84b-4d048b5a599e",
        "colab": {
          "base_uri": "https://localhost:8080/"
        }
      },
      "source": [
        "print(terms.head(10))"
      ],
      "execution_count": 43,
      "outputs": [
        {
          "output_type": "stream",
          "text": [
            "               Term       idf\n",
            "5833   intermediate  1.296180\n",
            "11487     conductor  1.412611\n",
            "5195        spatial  1.472359\n",
            "5584          bulby  1.584695\n",
            "10203       valeler  1.665665\n",
            "17114     tillotson  1.781792\n",
            "15431       tableau  1.788581\n",
            "678          appear  1.838871\n",
            "5683         analog  1.859132\n",
            "16265           tới  1.872378\n"
          ],
          "name": "stdout"
        }
      ]
    },
    {
      "cell_type": "code",
      "metadata": {
        "id": "mEBwVrvbTONa",
        "outputId": "677c993c-97a0-4c3c-ab64-d25057253e56",
        "colab": {
          "base_uri": "https://localhost:8080/"
        }
      },
      "source": [
        "print(terms['Term'].tail(10))"
      ],
      "execution_count": 53,
      "outputs": [
        {
          "output_type": "stream",
          "text": [
            "19301           يشمل\n",
            "19299         العربي\n",
            "16335           lãnh\n",
            "19287            پاک\n",
            "16336            địa\n",
            "16337          quyền\n",
            "19286          دلیلی\n",
            "16339           kịch\n",
            "16283           cảnh\n",
            "20662    reformation\n",
            "Name: Term, dtype: object\n"
          ],
          "name": "stdout"
        }
      ]
    },
    {
      "cell_type": "markdown",
      "metadata": {
        "id": "UJSc8NF-0WY5"
      },
      "source": [
        "*TODO: Enter your explanation here*"
      ]
    },
    {
      "cell_type": "markdown",
      "metadata": {
        "id": "nR7Tgt6R0WY6"
      },
      "source": [
        "## Problem 5: Keyword extraction"
      ]
    },
    {
      "cell_type": "markdown",
      "metadata": {
        "id": "MzLBgugr0WY6"
      },
      "source": [
        "A simple method for extracting salient keywords from a document is to pick the $k$ terms with the highest tf–idf value. Your last task in this lab is to implement this method. More specifically, we ask you to implement a function `keywords` that extracts keywords from a given text."
      ]
    },
    {
      "cell_type": "code",
      "metadata": {
        "id": "y4oX9XMK0WY7"
      },
      "source": [
        "def keywords(text, n=10):\n",
        "    # TODO: Replace the next line with your own code.\n",
        "    return []"
      ],
      "execution_count": null,
      "outputs": []
    },
    {
      "cell_type": "markdown",
      "metadata": {
        "id": "bw4lGY9N0WY9"
      },
      "source": [
        "Your implementation should conform to the following specification:\n",
        "\n",
        "<strong>keywords</strong> (<em>text</em>, <em>n</em> = 10)\n",
        "\n",
        "> Returns a list with the $n$ (default value: 10) most salient keywords from the specified text, as measured by their tf–idf value relative to the collection of app descriptions."
      ]
    },
    {
      "cell_type": "markdown",
      "metadata": {
        "id": "dgLVHMSJ0WY-"
      },
      "source": [
        "Test your implementation by running the following cell:"
      ]
    },
    {
      "cell_type": "code",
      "metadata": {
        "id": "asDtbobw0WY_"
      },
      "source": [
        "print(keywords(df['description'][1428]))"
      ],
      "execution_count": null,
      "outputs": []
    },
    {
      "cell_type": "markdown",
      "metadata": {
        "id": "g7kDsOQu0WZD"
      },
      "source": [
        "This should give the following output:"
      ]
    },
    {
      "cell_type": "markdown",
      "metadata": {
        "id": "RwE3bJku0WZE"
      },
      "source": [
        "['train', 'railway', 'railroad', 'rail', 'chaos', 'crash', 'overcast', 'locomotive', 'timetable', 'railyard']"
      ]
    },
    {
      "cell_type": "markdown",
      "metadata": {
        "id": "wg-XOtlG0WZF"
      },
      "source": [
        "<div class=\"alert alert-info\">\n",
        "    Please read the General information section on the lab web page before submitting this notebook!\n",
        "</div>"
      ]
    }
  ]
}