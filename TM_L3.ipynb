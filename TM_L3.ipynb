{
  "nbformat": 4,
  "nbformat_minor": 0,
  "metadata": {
    "kernelspec": {
      "display_name": "Python 3",
      "language": "python",
      "name": "python3"
    },
    "language_info": {
      "codemirror_mode": {
        "name": "ipython",
        "version": 3
      },
      "file_extension": ".py",
      "mimetype": "text/x-python",
      "name": "python",
      "nbconvert_exporter": "python",
      "pygments_lexer": "ipython3",
      "version": "3.7.6"
    },
    "colab": {
      "name": "TM-L3.ipynb",
      "provenance": [],
      "toc_visible": true
    }
  },
  "cells": [
    {
      "cell_type": "markdown",
      "metadata": {
        "id": "blFDGuwG5iVQ"
      },
      "source": [
        "# L3: Text clustering and topic modelling"
      ]
    },
    {
      "cell_type": "markdown",
      "metadata": {
        "id": "hkINkE8u5iVQ"
      },
      "source": [
        "Text clustering groups documents in such a way that documents within a group are more &lsquo;similar&rsquo; to other documents in the cluster than to documents not in the cluster. The exact definition of what &lsquo;similar&rsquo; means in this context varies across applications and clustering algorithms.\n",
        "\n",
        "In this lab you will experiment with both hard and soft clustering techniques. More specifically, in the first part you will be using the $k$-means algorithm, and in the second part you will be using a topic model based on the Latent Dirichlet Allocation (LDA)."
      ]
    },
    {
      "cell_type": "code",
      "metadata": {
        "colab": {
          "base_uri": "https://localhost:8080/"
        },
        "id": "8EXUqDZ15w4q",
        "outputId": "c45929bf-7762-4842-8470-7a1dca7b198d"
      },
      "source": [
        "!npx degit https://github.com/Noufal21/text-mining -f"
      ],
      "execution_count": 3,
      "outputs": [
        {
          "output_type": "stream",
          "text": [
            "\u001b[K\u001b[?25hnpx: installed 1 in 2.181s\n",
            "\u001b[36m> destination directory is not empty. Using --force, continuing\u001b[39m\n",
            "\u001b[36m> cloned \u001b[1mNoufal21/text-mining\u001b[22m#\u001b[1mmaster\u001b[22m\u001b[39m\n"
          ],
          "name": "stdout"
        }
      ]
    },
    {
      "cell_type": "markdown",
      "metadata": {
        "id": "yhqJWFZA5iVQ"
      },
      "source": [
        "## Hard clustering data set"
      ]
    },
    {
      "cell_type": "markdown",
      "metadata": {
        "id": "EifwPk_55iVQ"
      },
      "source": [
        "The raw data for the hard clustering part of this lab is a collection of product reviews. We have preprocessed the data by tokenization and lowercasing."
      ]
    },
    {
      "cell_type": "code",
      "metadata": {
        "id": "Up6Lk7_x5iVQ"
      },
      "source": [
        "import pandas as pd\n",
        "import numpy as np\n",
        "\n",
        "import bz2\n",
        "\n",
        "with bz2.open('/content/l3/reviews.json.bz2') as source:\n",
        "    df = pd.read_json(source)"
      ],
      "execution_count": 28,
      "outputs": []
    },
    {
      "cell_type": "markdown",
      "metadata": {
        "id": "kDuqrOCb5iVQ"
      },
      "source": [
        "When you inspect the data frame, you can see that there are three labelled columns: `category` (the product category), `sentiment` (whether the product review was classified as &lsquo;positive&rsquo; or &lsquo;negative&rsquo; towards the product), and `text` (the space-separated text of the review)."
      ]
    },
    {
      "cell_type": "code",
      "metadata": {
        "colab": {
          "base_uri": "https://localhost:8080/",
          "height": 204
        },
        "id": "-dvieCFF5iVQ",
        "outputId": "58567161-c635-4e68-c1f2-a06bc7f9f6cd"
      },
      "source": [
        "df.head()"
      ],
      "execution_count": 5,
      "outputs": [
        {
          "output_type": "execute_result",
          "data": {
            "text/html": [
              "<div>\n",
              "<style scoped>\n",
              "    .dataframe tbody tr th:only-of-type {\n",
              "        vertical-align: middle;\n",
              "    }\n",
              "\n",
              "    .dataframe tbody tr th {\n",
              "        vertical-align: top;\n",
              "    }\n",
              "\n",
              "    .dataframe thead th {\n",
              "        text-align: right;\n",
              "    }\n",
              "</style>\n",
              "<table border=\"1\" class=\"dataframe\">\n",
              "  <thead>\n",
              "    <tr style=\"text-align: right;\">\n",
              "      <th></th>\n",
              "      <th>category</th>\n",
              "      <th>sentiment</th>\n",
              "      <th>text</th>\n",
              "    </tr>\n",
              "  </thead>\n",
              "  <tbody>\n",
              "    <tr>\n",
              "      <th>0</th>\n",
              "      <td>music</td>\n",
              "      <td>neg</td>\n",
              "      <td>i bought this album because i loved the title ...</td>\n",
              "    </tr>\n",
              "    <tr>\n",
              "      <th>1</th>\n",
              "      <td>music</td>\n",
              "      <td>neg</td>\n",
              "      <td>i was misled and thought i was buying the enti...</td>\n",
              "    </tr>\n",
              "    <tr>\n",
              "      <th>2</th>\n",
              "      <td>books</td>\n",
              "      <td>neg</td>\n",
              "      <td>i have introduced many of my ell , high school...</td>\n",
              "    </tr>\n",
              "    <tr>\n",
              "      <th>3</th>\n",
              "      <td>books</td>\n",
              "      <td>pos</td>\n",
              "      <td>anything you purchase in the left behind serie...</td>\n",
              "    </tr>\n",
              "    <tr>\n",
              "      <th>4</th>\n",
              "      <td>dvd</td>\n",
              "      <td>pos</td>\n",
              "      <td>i loved these movies , and i cant wiat for the...</td>\n",
              "    </tr>\n",
              "  </tbody>\n",
              "</table>\n",
              "</div>"
            ],
            "text/plain": [
              "  category sentiment                                               text\n",
              "0    music       neg  i bought this album because i loved the title ...\n",
              "1    music       neg  i was misled and thought i was buying the enti...\n",
              "2    books       neg  i have introduced many of my ell , high school...\n",
              "3    books       pos  anything you purchase in the left behind serie...\n",
              "4      dvd       pos  i loved these movies , and i cant wiat for the..."
            ]
          },
          "metadata": {
            "tags": []
          },
          "execution_count": 5
        }
      ]
    },
    {
      "cell_type": "markdown",
      "metadata": {
        "id": "ukj4TD8P5iVR"
      },
      "source": [
        "## Problem 1: K-means clustering"
      ]
    },
    {
      "cell_type": "markdown",
      "metadata": {
        "id": "ke_webx15iVR"
      },
      "source": [
        "Your first task is to cluster the product review data using a tf–idf vectorizer and a $k$-means clusterer."
      ]
    },
    {
      "cell_type": "markdown",
      "metadata": {
        "id": "iuGvB82v5iVR"
      },
      "source": [
        "Start by doing the vectorization. In connection with vectorization, you should also filter out standard English stop words. While you could use [spaCy](https://spacy.io/) for this task, here it suffices to use the word list implemented in [TfidfVectorizer](https://scikit-learn.org/stable/modules/generated/sklearn.feature_extraction.text.TfidfVectorizer.html)."
      ]
    },
    {
      "cell_type": "code",
      "metadata": {
        "id": "Q0K455Ol5iVR"
      },
      "source": [
        "# TODO: Enter code here to vectorize the data and store it in a variable `reviews`\n",
        "from sklearn.feature_extraction.text import TfidfVectorizer\n",
        "vectorizer = TfidfVectorizer(stop_words=\"english\")\n",
        "reviews = vectorizer.fit_transform(df[\"text\"])"
      ],
      "execution_count": 6,
      "outputs": []
    },
    {
      "cell_type": "markdown",
      "metadata": {
        "id": "Gsw4Kv5B5iVR"
      },
      "source": [
        "Test your vectorization by running the following code cell:"
      ]
    },
    {
      "cell_type": "code",
      "metadata": {
        "colab": {
          "base_uri": "https://localhost:8080/"
        },
        "id": "XxBJmuwa5iVR",
        "outputId": "2db85e14-00f7-447b-cf5a-1ccc6c5151d4"
      },
      "source": [
        "reviews.shape"
      ],
      "execution_count": 7,
      "outputs": [
        {
          "output_type": "execute_result",
          "data": {
            "text/plain": [
              "(11914, 46619)"
            ]
          },
          "metadata": {
            "tags": []
          },
          "execution_count": 7
        }
      ]
    },
    {
      "cell_type": "markdown",
      "metadata": {
        "id": "iX5vCGRF5iVR"
      },
      "source": [
        "If you used the English stop word list from scikit-learn, then the resulting vocabulary should have 46,619 entries."
      ]
    },
    {
      "cell_type": "markdown",
      "metadata": {
        "id": "oBCAYY5v5iVR"
      },
      "source": [
        "Next, cluster the vectorized data. Before doing so, you should read the documentation of the [KMeans](https://scikit-learn.org/stable/modules/generated/sklearn.cluster.KMeans.html) class, which is scikit-learn&rsquo;s implementation of the $k$-means algorithm. As you can see, this class has several parameters that you can tweak. For now, the only parameter that you will have to set is the number of clusters. We recommend that you choose $k=3$.\n",
        "\n",
        "**Tip:** Training $k$-means models will take some time. To speed things up, you can use the `n_init` parameter to control the number of times that the clustering is re-computed with different initial values. The default value for this parameter is 10; here and in the rest of this lab, you may want to set this to a lower value."
      ]
    },
    {
      "cell_type": "code",
      "metadata": {
        "colab": {
          "base_uri": "https://localhost:8080/"
        },
        "id": "cLoDq07I5iVR",
        "outputId": "b148373f-610e-48d1-829e-8c6ec3c26338"
      },
      "source": [
        "# TODO: Enter code here to cluster the vectorized data\n",
        "k = 3\n",
        "from sklearn.cluster import KMeans\n",
        "\n",
        "kmeans = KMeans(n_clusters=k, n_init=3,random_state=13,n_jobs = -1)\n",
        "\n",
        "kmeans.fit(reviews)"
      ],
      "execution_count": 13,
      "outputs": [
        {
          "output_type": "execute_result",
          "data": {
            "text/plain": [
              "KMeans(algorithm='auto', copy_x=True, init='k-means++', max_iter=300,\n",
              "       n_clusters=3, n_init=3, n_jobs=-1, precompute_distances='auto',\n",
              "       random_state=13, tol=0.0001, verbose=0)"
            ]
          },
          "metadata": {
            "tags": []
          },
          "execution_count": 13
        }
      ]
    },
    {
      "cell_type": "markdown",
      "metadata": {
        "id": "qyZOZPpV5iVR"
      },
      "source": [
        "To sanity-check your clustering, create a bar plot with the number of documents per cluster."
      ]
    },
    {
      "cell_type": "code",
      "metadata": {
        "colab": {
          "base_uri": "https://localhost:8080/",
          "height": 279
        },
        "id": "LlcdSfLb5iVR",
        "outputId": "673db323-5a35-4fd2-b26c-d8260fc842a4"
      },
      "source": [
        "# TODO: Enter code here to produce a bar plot of the cluster size\n",
        "pd.Series(kmeans.labels_).value_counts().plot(kind= 'bar')"
      ],
      "execution_count": 14,
      "outputs": [
        {
          "output_type": "execute_result",
          "data": {
            "text/plain": [
              "<matplotlib.axes._subplots.AxesSubplot at 0x7ff4c5080ef0>"
            ]
          },
          "metadata": {
            "tags": []
          },
          "execution_count": 14
        },
        {
          "output_type": "display_data",
          "data": {
            "image/png": "[encoded data removed]",
            "text/plain": [
              "<Figure size 432x288 with 1 Axes>"
            ]
          },
          "metadata": {
            "tags": [],
            "needs_background": "light"
          }
        }
      ]
    },
    {
      "cell_type": "code",
      "metadata": {
        "colab": {
          "base_uri": "https://localhost:8080/"
        },
        "id": "PpFKlJ5EDOPC",
        "outputId": "5f7ae6b2-41e3-4483-ef81-aedce6e62975"
      },
      "source": [
        ""
      ],
      "execution_count": 17,
      "outputs": [
        {
          "output_type": "execute_result",
          "data": {
            "text/plain": [
              "11914"
            ]
          },
          "metadata": {
            "tags": []
          },
          "execution_count": 17
        }
      ]
    },
    {
      "cell_type": "markdown",
      "metadata": {
        "id": "Wn4s10zc5iVR"
      },
      "source": [
        "Note that sizes may vary considerable between clusters and among different random seeds."
      ]
    },
    {
      "cell_type": "markdown",
      "metadata": {
        "id": "JU1mxOvr5iVR"
      },
      "source": [
        "## Problem 2: Summarize clusters"
      ]
    },
    {
      "cell_type": "markdown",
      "metadata": {
        "id": "yA24ohIF5iVR"
      },
      "source": [
        "Once you have a clustering, you can try to see whether it is meaningful. One useful technique in that context is to generate a **summary** for each cluster by extracting the $n$ highest-weighted terms from the centroid of each cluster. Your next task is to implement this approach.\n",
        "\n",
        "**Hint:** You will need to construct an &lsquo;inverted vocabulary&rsquo; that allows you to map from the index of a term back to the original term."
      ]
    },
    {
      "cell_type": "code",
      "metadata": {
        "id": "aYwF4U1P5iVR"
      },
      "source": [
        "# TODO: Enter code here to compute the cluster summaries and print them\n",
        "class summary_cluster:\n",
        "  def __init__(self,k,n_init, n_wterms,df,random_state):\n",
        "    self.k = k\n",
        "    self.n_init = n_init\n",
        "    self.n_wterms = n_wterms\n",
        "    self.random_state = random_state\n",
        "    self.vectorizer = TfidfVectorizer(stop_words=\"english\")\n",
        "    self.reviews = self.vectorizer.fit_transform(df)\n",
        "\n",
        "  \n",
        "  def train_KNN(self):\n",
        "    kmeans = KMeans(n_clusters=self.k, n_init=2,random_state=self.random_state)\n",
        "    kmeans.fit(self.reviews)\n",
        "    self.labels = kmeans.labels_\n",
        "    self.centroids = kmeans.cluster_centers_\n",
        "    self.kmeans = kmeans\n",
        "\n",
        "  def get_wterms(self,n_wterms = 0 ):\n",
        "    if n_wterms != 0:\n",
        "      self.n_wterms = n_wterms\n",
        "    w_terms_list = []\n",
        "    for cluster in self.centroids:\n",
        "      w_terms_list.append(np.argpartition(cluster, -self.n_wterms)[-self.n_wterms:])\n",
        "    self.w_terms_list = w_terms_list\n",
        "    return w_terms_list\n",
        "\n",
        "  def plot(self):\n",
        "    return pd.Series(self.labels).value_counts().plot(kind= 'bar')\n",
        "  \n",
        "  def highest_terms(self):\n",
        "    \n",
        "    dictionary = {}\n",
        "    for cluster,terms in enumerate(self.w_terms_list):\n",
        "      feature_names=[]\n",
        "      for index in terms :\n",
        "        feature_names.append(self.vectorizer.get_feature_names()[index])\n",
        "        dictionary[\"Cluster - {} : \".format(cluster)] = feature_names\n",
        "        \n",
        "    return dictionary"
      ],
      "execution_count": 65,
      "outputs": []
    },
    {
      "cell_type": "code",
      "metadata": {
        "id": "AeEH6s1gE_kU"
      },
      "source": [
        "k3 = summary_cluster(k=3,n_init= 3, n_wterms= 10, df = df[\"text\"],random_state= 10)\n",
        "k3.train_KNN()"
      ],
      "execution_count": 53,
      "outputs": []
    },
    {
      "cell_type": "code",
      "metadata": {
        "colab": {
          "base_uri": "https://localhost:8080/"
        },
        "id": "F675LFiyGj5V",
        "outputId": "cf9e6170-edc5-4ccb-f6ba-0d738e3a996e"
      },
      "source": [
        "k3.get_wterms(5)"
      ],
      "execution_count": 54,
      "outputs": [
        {
          "output_type": "execute_result",
          "data": {
            "text/plain": [
              "[array([33676,  3809,  5716, 33667,  5695]),\n",
              " array([22961, 32505, 27522, 24390, 18604]),\n",
              " array([12123,  6980, 31125, 24143,  6890])]"
            ]
          },
          "metadata": {
            "tags": []
          },
          "execution_count": 54
        }
      ]
    },
    {
      "cell_type": "code",
      "metadata": {
        "colab": {
          "base_uri": "https://localhost:8080/",
          "height": 279
        },
        "id": "jywgMDN3Fva-",
        "outputId": "185e22cd-e0f9-4183-bbfa-c93273417c5d"
      },
      "source": [
        "k3.plot()"
      ],
      "execution_count": 55,
      "outputs": [
        {
          "output_type": "execute_result",
          "data": {
            "text/plain": [
              "<matplotlib.axes._subplots.AxesSubplot at 0x7ff4b6296828>"
            ]
          },
          "metadata": {
            "tags": []
          },
          "execution_count": 55
        },
        {
          "output_type": "display_data",
          "data": {
            "image/png": "[encoded data removed]",
            "text/plain": [
              "<Figure size 432x288 with 1 Axes>"
            ]
          },
          "metadata": {
            "tags": [],
            "needs_background": "light"
          }
        }
      ]
    },
    {
      "cell_type": "code",
      "metadata": {
        "colab": {
          "base_uri": "https://localhost:8080/"
        },
        "id": "agHhWsGmFxv2",
        "outputId": "30d2ef5b-01a6-40e3-d601-07ea211a40dc"
      },
      "source": [
        "k3.highest_terms()"
      ],
      "execution_count": 56,
      "outputs": [
        {
          "output_type": "execute_result",
          "data": {
            "text/plain": [
              "{'Cluster - 0 : ': ['reading', 'author', 'books', 'read', 'book'],\n",
              " 'Cluster - 1 : ': ['just', 'product', 'movie', 'like', 'great'],\n",
              " 'Cluster - 2 : ': ['digital', 'canon', 'pictures', 'lens', 'camera']}"
            ]
          },
          "metadata": {
            "tags": []
          },
          "execution_count": 56
        }
      ]
    },
    {
      "cell_type": "code",
      "metadata": {
        "id": "JupvtoHbH_gB"
      },
      "source": [
        "k6 = summary_cluster(k=6,n_init= 3, n_wterms= 10, df = df[\"text\"],random_state= 10)\n",
        "k6.train_KNN()"
      ],
      "execution_count": 57,
      "outputs": []
    },
    {
      "cell_type": "code",
      "metadata": {
        "colab": {
          "base_uri": "https://localhost:8080/"
        },
        "id": "dO5cqfulICMP",
        "outputId": "4aaff7a0-16a9-4d83-f95a-22cc281fb488"
      },
      "source": [
        "k6.get_wterms(5)"
      ],
      "execution_count": 58,
      "outputs": [
        {
          "output_type": "execute_result",
          "data": {
            "text/plain": [
              "[array([22961, 32505, 18604, 24390, 18315]),\n",
              " array([33309, 38651,  2193, 27714,  7423]),\n",
              " array([33676,  5716,  3809, 33667,  5695]),\n",
              " array([39765, 24390, 16220, 27530, 27522]),\n",
              " array([44007, 44420, 38539, 32568, 32505]),\n",
              " array([12123, 24143,  6980,  6890, 31125])]"
            ]
          },
          "metadata": {
            "tags": []
          },
          "execution_count": 58
        }
      ]
    },
    {
      "cell_type": "code",
      "metadata": {
        "colab": {
          "base_uri": "https://localhost:8080/",
          "height": 279
        },
        "id": "4ZwyQ6bfIEcH",
        "outputId": "6680fdc3-0e7e-4fd4-d061-82bdfb2e6641"
      },
      "source": [
        "k6.plot()"
      ],
      "execution_count": 59,
      "outputs": [
        {
          "output_type": "execute_result",
          "data": {
            "text/plain": [
              "<matplotlib.axes._subplots.AxesSubplot at 0x7ff4b3ebba90>"
            ]
          },
          "metadata": {
            "tags": []
          },
          "execution_count": 59
        },
        {
          "output_type": "display_data",
          "data": {
            "image/png": "[encoded data removed]",
            "text/plain": [
              "<Figure size 432x288 with 1 Axes>"
            ]
          },
          "metadata": {
            "tags": [],
            "needs_background": "light"
          }
        }
      ]
    },
    {
      "cell_type": "code",
      "metadata": {
        "colab": {
          "base_uri": "https://localhost:8080/"
        },
        "id": "JOPcoAuiIE4b",
        "outputId": "7e07c17e-125e-423a-dd26-039be91fd65d"
      },
      "source": [
        "k6.highest_terms()"
      ],
      "execution_count": 60,
      "outputs": [
        {
          "output_type": "execute_result",
          "data": {
            "text/plain": [
              "{'Cluster - 0 : ': ['just', 'product', 'great', 'like', 'good'],\n",
              " 'Cluster - 1 : ': ['quot', 'songs', 'album', 'music', 'cd'],\n",
              " 'Cluster - 2 : ': ['reading', 'books', 'author', 'read', 'book'],\n",
              " 'Cluster - 3 : ': ['story', 'like', 'film', 'movies', 'movie'],\n",
              " 'Cluster - 4 : ': ['use', 'version', 'software', 'program', 'product'],\n",
              " 'Cluster - 5 : ': ['digital', 'lens', 'canon', 'camera', 'pictures']}"
            ]
          },
          "metadata": {
            "tags": []
          },
          "execution_count": 60
        }
      ]
    },
    {
      "cell_type": "markdown",
      "metadata": {
        "id": "OjyvkUlh5iVR"
      },
      "source": [
        "Once you have computed the cluster summaries, discuss their quality. Is it clear what the reviews in a given cluster are about? Which clusters are clearest? Which are less clear? Do the cluster summaries contain any unexpected terms? What happens if you re-cluster with, say, $k=6$?"
      ]
    },
    {
      "cell_type": "markdown",
      "metadata": {
        "id": "6X7t33qf5iVR"
      },
      "source": [
        "\n",
        "\n",
        "*   For **K = 3**\n",
        "    Like in cluster 1 \"just\", \"like\", \"great\" make sense to be in one cluster  but product and  movie doese not make any sense\n",
        "\n",
        "\n",
        "*   For **K = 6**\n",
        "In this case every cluster make sense have its own type of thing in it, therefore K=6 give better representation the K = 3\n",
        "\n"
      ]
    },
    {
      "cell_type": "markdown",
      "metadata": {
        "id": "dti9WMyF5iVR"
      },
      "source": [
        "## Problem 3: Compare clusterings using the Rand index"
      ]
    },
    {
      "cell_type": "markdown",
      "metadata": {
        "id": "PPrv4HAd5iVR"
      },
      "source": [
        "In some scenarios, you may have gold-standard class labels available for at least a subset of your documents. In these cases you can compute the **Rand index** of a clustering, and use this measure to compare the quality of different clusterings.\n",
        "\n",
        "To compute the Rand index, we view a clustering as a binary classifier on (unordered) pairs of documents. The classifier predicts &lsquo;positive&rsquo; if and only if the two documents belong to the same cluster. The (non-normalized) Rand index of the clustering is the accuracy of this classifier relative to a reference in which a document pair belongs to the &lsquo;positive&rsquo; class if and only if the two documents in the pair have the same gold-standard class label.\n",
        "\n",
        "Compare clusterings with $k \\in \\{1,3,5,7\\}$ clusters. As your evaluation data, use the first 500 documents from the original data set along with their gold-standard categories (from the `category` column). What do you observe? How do you interpret your observations?"
      ]
    },
    {
      "cell_type": "code",
      "metadata": {
        "colab": {
          "base_uri": "https://localhost:8080/"
        },
        "id": "4ZXxZRvh5iVR",
        "outputId": "4b799d18-f04a-493f-fb60-68ee0349943a"
      },
      "source": [
        "# TODO: Enter code here to compute the Rand indices for the two clusterings\n",
        "from sklearn.metrics import adjusted_rand_score\n",
        "from sklearn import preprocessing\n",
        "\n",
        "encoder = preprocessing.LabelEncoder()\n",
        "labels = encoder.fit_transform(df['category'])\n",
        "slicedf = df[0:300]\n",
        "for k in [1,3,5,6]:\n",
        "  knn = summary_cluster(k=k,n_init= 3, n_wterms= 10, df = slicedf[\"text\"],random_state= 10)\n",
        "  knn.train_KNN()\n",
        "  knn.train_KNN()\n",
        "  labels_pred = le.inverse_transform(knn.kmeans.predict(knn.reviews))\n",
        "  rnd_index = adjusted_rand_score(slicedf['category'], labels_pred)\n",
        "  print(\"Rand_index score for Clusrter. {} is. {}.\".format(k,rnd_index))\n",
        "  knn.get_wterms(5)\n",
        "  print(knn.highest_terms())"
      ],
      "execution_count": 77,
      "outputs": [
        {
          "output_type": "stream",
          "text": [
            "Rand_index score for Clusrter. 1 is. 0.0.\n",
            "{'Cluster - 0 : ': ['just', 'great', 'book', 'camera', 'good']}\n",
            "Rand_index score for Clusrter. 3 is. 0.11028399879405483.\n",
            "{'Cluster - 0 : ': ['digital', 'use', 'pictures', 'lens', 'camera'], 'Cluster - 1 : ': ['just', 'better', 'did', 'use', 'work'], 'Cluster - 2 : ': ['like', 'cd', 'great', 'movie', 'book']}\n",
            "Rand_index score for Clusrter. 5 is. 0.11811952267061408.\n",
            "{'Cluster - 0 : ': ['case', 'use', 'camera', 'lens', 'pictures'], 'Cluster - 1 : ': ['just', 'better', 'use', 'work', 'did'], 'Cluster - 2 : ': ['book', 'real', 'movies', 'like', 'people'], 'Cluster - 3 : ': ['book', 'does', 'good', 'using', 'movie'], 'Cluster - 4 : ': ['best', 'story', 'cd', 'great', 'book']}\n",
            "Rand_index score for Clusrter. 6 is. 0.13408908532565472.\n",
            "{'Cluster - 0 : ': ['camera', 'light', 'lens', 'using', 've'], 'Cluster - 1 : ': ['time', 'product', 'camera', 'good', 'great'], 'Cluster - 2 : ': ['story', 'great', 'dvd', 'enjoyed', 'movie'], 'Cluster - 3 : ': ['quot', 'cd', 'book', 'read', 'camera'], 'Cluster - 4 : ': ['book', 'just', 'album', 'like', 'people'], 'Cluster - 5 : ': ['word', 'just', 'microsoft', 'use', 'work']}\n"
          ],
          "name": "stdout"
        }
      ]
    },
    {
      "cell_type": "markdown",
      "metadata": {
        "id": "Ak3HLW6N5iVR"
      },
      "source": [
        "The randindex with K = 6 give better result as compare to other one. For K = 7 gives error, from my uderstading there are only 6 categories thats why I get error. and this result is expected as we get the same intuition in previous question. "
      ]
    },
    {
      "cell_type": "markdown",
      "metadata": {
        "id": "0ZuPgrrG5iVR"
      },
      "source": [
        "## Topic modelling data set"
      ]
    },
    {
      "cell_type": "markdown",
      "metadata": {
        "id": "HYnc92D65iVR"
      },
      "source": [
        "The data set for the topic modelling part of this lab is the collection of all [State of the Union](https://en.wikipedia.org/wiki/State_of_the_Union) addresses from the years 1975–2000. These speeches come as a single text file with one sentence per line. The following code cell prints the first 5 lines from the data file:"
      ]
    },
    {
      "cell_type": "code",
      "metadata": {
        "colab": {
          "base_uri": "https://localhost:8080/"
        },
        "id": "Dg_lpb__5iVR",
        "outputId": "0a00bf29-831b-4d60-c0c1-3dc94c91aac7"
      },
      "source": [
        "with open('/content/l3/sotu_1975_2000.txt') as source:\n",
        "    for i, line in enumerate(source):\n",
        "        print(line.rstrip())\n",
        "        if i >= 5:\n",
        "            break"
      ],
      "execution_count": 78,
      "outputs": [
        {
          "output_type": "stream",
          "text": [
            "mr speaker mr vice president members of the 94th congress and distinguished guests\n",
            "twenty six years ago a freshman congressman a young fellow with lots of idealism who was out to change the world stood before sam rayburn in the well of the house and solemnly swore to the same oath that all of you took yesterday an unforgettable experience and i congratulate you all\n",
            "two days later that same freshman stood at the back of this great chamber over there someplace as president truman all charged up by his single handed election victory reported as the constitution requires on the state of the union\n",
            "when the bipartisan applause stopped president truman said i am happy to report to this 81st congress that the state of the union is good our nation is better able than ever before to meet the needs of the american people and to give them their fair chance in the pursuit of happiness it is foremost among the nations of the world in the search for peace\n",
            "today that freshman member from michigan stands where mr truman stood and i must say to you that the state of the union is not good\n",
            "millions of americans are out of work\n"
          ],
          "name": "stdout"
        }
      ]
    },
    {
      "cell_type": "markdown",
      "metadata": {
        "id": "DsxrleVa5iVR"
      },
      "source": [
        "Take a few minutes to think about what topics you would expect in this data set."
      ]
    },
    {
      "cell_type": "markdown",
      "metadata": {
        "id": "cfnWY9g25iVR"
      },
      "source": [
        "## Problem 4: Train a topic model"
      ]
    },
    {
      "cell_type": "markdown",
      "metadata": {
        "id": "SmDNXS-x5iVR"
      },
      "source": [
        "Your first task on the topic modelling data is to train an LDA model. For this task you will be using [spaCy](https://spacy.io/) and the [gensim](https://radimrehurek.com/gensim/) topic modelling library.\n",
        "\n",
        "Start by preprocessing the data using spaCy. Given that the data set for this problem is rather small, you do not have to exclude any components from the standard pipeline. Filter out stop words, non-alphabetic tokens, and tokens less than 3 characters in length. Store the documents as a nested list where the first level of nesting corresponds to the sentences and the second level corresponds to the tokens in each sentence."
      ]
    },
    {
      "cell_type": "code",
      "metadata": {
        "id": "VDM_pg-a5iVR"
      },
      "source": [
        "# TODO: Replace the following lines with your own code for preprocessing the documents\n",
        "\n",
        "import spacy #load spacy\n",
        "from spacy.lang.en.stop_words import STOP_WORDS\n",
        "\n",
        "\n",
        "nlp = spacy.load(\"en\", disable=['parser', 'tagger', 'ner'])\n",
        "\n",
        "\n",
        "def preprocessing(line):\n",
        "  doc = nlp(line)\n",
        "  return [token.text for token in doc if not token.is_stop and token.is_alpha and len(token) >= 3] \n",
        "with open('/content/l3/sotu_1975_2000.txt') as source:\n",
        "    documents = [preprocessing(line) for line in source]"
      ],
      "execution_count": 83,
      "outputs": []
    },
    {
      "cell_type": "markdown",
      "metadata": {
        "id": "Ipvm6JCo5iVR"
      },
      "source": [
        "Test your preprocessing by running the following cell:"
      ]
    },
    {
      "cell_type": "code",
      "metadata": {
        "colab": {
          "base_uri": "https://localhost:8080/",
          "height": 35
        },
        "id": "5g_vPpK15iVR",
        "outputId": "8693df97-1028-4f58-84b0-58910131534e"
      },
      "source": [
        "' '.join(documents[42])"
      ],
      "execution_count": 85,
      "outputs": [
        {
          "output_type": "execute_result",
          "data": {
            "application/vnd.google.colaboratory.intrinsic+json": {
              "type": "string"
            },
            "text/plain": [
              "'reduce oil imports million barrels day end year million barrels day end'"
            ]
          },
          "metadata": {
            "tags": []
          },
          "execution_count": 85
        }
      ]
    },
    {
      "cell_type": "markdown",
      "metadata": {
        "id": "AeNYSM6R5iVR"
      },
      "source": [
        "You should get the following output:"
      ]
    },
    {
      "cell_type": "markdown",
      "metadata": {
        "id": "4Zlo6a5O5iVR"
      },
      "source": [
        "'reduce oil imports million barrels day end year million barrels day end'"
      ]
    },
    {
      "cell_type": "markdown",
      "metadata": {
        "id": "AGsIdWhd5iVR"
      },
      "source": [
        "Once you have the list of documents, skim the section [Pre-process and vectorize the documents](https://radimrehurek.com/gensim/auto_examples/tutorials/run_lda.html#pre-process-and-vectorize-the-documents) of the gensim documentation to learn how to create the dictionary and the vectorized corpus representation required by gensim. (Note that you cannot use the standard scikit-learn pipeline in this case.) Then, write code to train an [LdaModel](https://radimrehurek.com/gensim/models/ldamodel.html) for $k=10$ topics, and using default values for all other parameters."
      ]
    },
    {
      "cell_type": "code",
      "metadata": {
        "id": "bPhuNp0I5iVR"
      },
      "source": [
        "# TODO: Enter code here to train an LDA model and store it in a variable `model`\n",
        "from gensim.corpora import Dictionary\n",
        "\n",
        "dictionary = Dictionary(documents)\n",
        "\n",
        "corpus = [dictionary.doc2bow(doc) for doc in documents]"
      ],
      "execution_count": 86,
      "outputs": []
    },
    {
      "cell_type": "code",
      "metadata": {
        "id": "1ifylZAKPO0I"
      },
      "source": [
        "from gensim.models import LdaModel\n",
        "k = 10\n",
        "model = LdaModel(\n",
        "    corpus=corpus,\n",
        "    id2word=dictionary,\n",
        "    num_topics=k,\n",
        "    random_state=13\n",
        ")"
      ],
      "execution_count": 88,
      "outputs": []
    },
    {
      "cell_type": "markdown",
      "metadata": {
        "id": "XSN4TfTS5iVR"
      },
      "source": [
        "Once you have a trained model, run the following cell to print the topics:"
      ]
    },
    {
      "cell_type": "code",
      "metadata": {
        "colab": {
          "base_uri": "https://localhost:8080/"
        },
        "id": "CgyTSgaP5iVR",
        "outputId": "c8c33521-966f-4f74-9dee-e1ead3e650c9"
      },
      "source": [
        "model.print_topics()"
      ],
      "execution_count": 89,
      "outputs": [
        {
          "output_type": "execute_result",
          "data": {
            "text/plain": [
              "[(0,\n",
              "  '0.009*\"let\" + 0.008*\"new\" + 0.008*\"way\" + 0.007*\"americans\" + 0.007*\"thank\" + 0.007*\"work\" + 0.006*\"people\" + 0.006*\"congress\" + 0.006*\"president\" + 0.006*\"america\"'),\n",
              " (1,\n",
              "  '0.011*\"children\" + 0.011*\"new\" + 0.011*\"congress\" + 0.011*\"people\" + 0.009*\"year\" + 0.008*\"tax\" + 0.008*\"government\" + 0.008*\"work\" + 0.007*\"budget\" + 0.007*\"years\"'),\n",
              " (2,\n",
              "  '0.011*\"americans\" + 0.010*\"america\" + 0.009*\"new\" + 0.008*\"government\" + 0.007*\"people\" + 0.006*\"american\" + 0.005*\"year\" + 0.005*\"economy\" + 0.005*\"know\" + 0.005*\"work\"'),\n",
              " (3,\n",
              "  '0.013*\"people\" + 0.009*\"care\" + 0.009*\"american\" + 0.007*\"government\" + 0.006*\"support\" + 0.006*\"health\" + 0.006*\"america\" + 0.006*\"generation\" + 0.006*\"work\" + 0.005*\"challenge\"'),\n",
              " (4,\n",
              "  '0.011*\"new\" + 0.009*\"american\" + 0.008*\"let\" + 0.007*\"immigrants\" + 0.007*\"americans\" + 0.007*\"year\" + 0.007*\"security\" + 0.006*\"people\" + 0.006*\"work\" + 0.006*\"years\"'),\n",
              " (5,\n",
              "  '0.013*\"america\" + 0.010*\"new\" + 0.009*\"children\" + 0.009*\"people\" + 0.009*\"work\" + 0.007*\"year\" + 0.007*\"crime\" + 0.007*\"world\" + 0.006*\"health\" + 0.006*\"challenge\"'),\n",
              " (6,\n",
              "  '0.010*\"people\" + 0.009*\"world\" + 0.008*\"america\" + 0.008*\"tonight\" + 0.007*\"year\" + 0.006*\"war\" + 0.006*\"know\" + 0.006*\"peace\" + 0.005*\"nation\" + 0.005*\"china\"'),\n",
              " (7,\n",
              "  '0.010*\"people\" + 0.009*\"school\" + 0.009*\"year\" + 0.009*\"new\" + 0.007*\"years\" + 0.007*\"work\" + 0.006*\"government\" + 0.006*\"ask\" + 0.005*\"education\" + 0.005*\"help\"'),\n",
              " (8,\n",
              "  '0.011*\"new\" + 0.008*\"community\" + 0.007*\"gun\" + 0.007*\"world\" + 0.005*\"congress\" + 0.005*\"know\" + 0.005*\"police\" + 0.005*\"american\" + 0.004*\"god\" + 0.004*\"year\"'),\n",
              " (9,\n",
              "  '0.016*\"years\" + 0.015*\"america\" + 0.010*\"world\" + 0.008*\"security\" + 0.006*\"congress\" + 0.006*\"peace\" + 0.006*\"americans\" + 0.006*\"year\" + 0.005*\"people\" + 0.005*\"nation\"')]"
            ]
          },
          "metadata": {
            "tags": []
          },
          "execution_count": 89
        }
      ]
    },
    {
      "cell_type": "markdown",
      "metadata": {
        "id": "1P1LLSDe5iVR"
      },
      "source": [
        "Inspect the topics. Can you &lsquo;label&rsquo; each topic with a short description of what it is about? Do the topics match your expectations? Summarize your discussion in a short text."
      ]
    },
    {
      "cell_type": "markdown",
      "metadata": {
        "id": "z5538nKZ5iVR"
      },
      "source": [
        "*TODO: Insert your discussion of the topics here*\n",
        "\n",
        "1.   Social, people\n",
        "2.   Tax, budget\n",
        "3.   health, care\n",
        "4.   security\n",
        "5.   (unclear)\n",
        "6.   war\n",
        "7.   Education\n",
        "8.   (unclear)\n",
        "9.   security and peace\n",
        "\n",
        "Some topics are easy to recognize and some are difficult to due to words are not easy to clasify.\n",
        "\n"
      ]
    },
    {
      "cell_type": "markdown",
      "metadata": {
        "id": "OUB2buyq5iVR"
      },
      "source": [
        "## Problem 5: Monitor a topic model for convergence"
      ]
    },
    {
      "cell_type": "markdown",
      "metadata": {
        "id": "LGsz0V1S5iVR"
      },
      "source": [
        "When learning an LDA model, it is important to make sure that the training algorithm has converged to a stable posterior distribution. One way to do so is to plot, after each training epochs (or &lsquo;pass&rsquo;, in gensim parlance) the log likelihood of the training data under the posterior. Your last task in this lab is to create such a plot and, based on this, to suggest an appropriate number of epochs.\n",
        "\n",
        "To collect information about the posterior likelihood after each pass, we need to enable the logging facilities of gensim. Once this is done, gensim will add various diagnostics to a log file `gensim.log`."
      ]
    },
    {
      "cell_type": "code",
      "metadata": {
        "id": "Hvbv5ora5iVR"
      },
      "source": [
        "import logging\n",
        "for handler in logging.root.handlers[:]:\n",
        "    logging.root.removeHandler(handler)\n",
        "logging.basicConfig(filename='gensim.log', format='%(asctime)s:%(levelname)s:%(message)s', level=logging.INFO)"
      ],
      "execution_count": 105,
      "outputs": []
    },
    {
      "cell_type": "markdown",
      "metadata": {
        "id": "REZW-WBk5iVR"
      },
      "source": [
        "The following function will parse the generated logfile and return the list of log likelihoods."
      ]
    },
    {
      "cell_type": "code",
      "metadata": {
        "id": "ParP7tM55iVR"
      },
      "source": [
        "import re\n",
        "\n",
        "def parse_logfile():\n",
        "    matcher = re.compile('(-*\\d+\\.\\d+) per-word .* (\\d+\\.\\d+) perplexity')\n",
        "    likelihoods = []\n",
        "    with open('gensim.log') as source:\n",
        "        for line in source:\n",
        "            match = matcher.search(line)\n",
        "            if match:\n",
        "                likelihoods.append(float(match.group(1)))\n",
        "    return likelihoods"
      ],
      "execution_count": 106,
      "outputs": []
    },
    {
      "cell_type": "markdown",
      "metadata": {
        "id": "Lr02IfCb5iVR"
      },
      "source": [
        "Your task now is to re-train your LDA model for 50&nbsp;passes, retrieve the list of log likelihoods, and create a plot from this data."
      ]
    },
    {
      "cell_type": "code",
      "metadata": {
        "colab": {
          "base_uri": "https://localhost:8080/",
          "height": 298
        },
        "id": "4ewNWM7w5iVR",
        "outputId": "13fb44d2-ea03-4fe5-8582-1494bcd137f7"
      },
      "source": [
        "# TODO: Enter code here to generate the convergence plot\n",
        "passes = 50\n",
        "model = LdaModel(\n",
        "    corpus=corpus,\n",
        "    id2word=dictionary,\n",
        "    num_topics=k,\n",
        "    random_state=13,\n",
        "    passes = passes\n",
        ")\n",
        "ll = parse_logfile()\n",
        "pd.Series(ll).plot(title='log likelihoods')"
      ],
      "execution_count": 107,
      "outputs": [
        {
          "output_type": "execute_result",
          "data": {
            "text/plain": [
              "<matplotlib.axes._subplots.AxesSubplot at 0x7ff4a9514358>"
            ]
          },
          "metadata": {
            "tags": []
          },
          "execution_count": 107
        },
        {
          "output_type": "display_data",
          "data": {
            "image/png": "[encoded data removed]",
            "text/plain": [
              "<Figure size 432x288 with 1 Axes>"
            ]
          },
          "metadata": {
            "tags": [],
            "needs_background": "light"
          }
        }
      ]
    },
    {
      "cell_type": "code",
      "metadata": {
        "id": "znQ-3Q5tUEjE",
        "outputId": "970e82d5-8120-4279-86fe-14b3e774ac08",
        "colab": {
          "base_uri": "https://localhost:8080/"
        }
      },
      "source": [
        "model.print_topics()"
      ],
      "execution_count": 109,
      "outputs": [
        {
          "output_type": "execute_result",
          "data": {
            "text/plain": [
              "[(0,\n",
              "  '0.013*\"president\" + 0.012*\"thank\" + 0.010*\"speaker\" + 0.010*\"let\" + 0.010*\"americans\" + 0.009*\"time\" + 0.009*\"fellow\" + 0.008*\"congress\" + 0.008*\"members\" + 0.007*\"house\"'),\n",
              " (1,\n",
              "  '0.013*\"federal\" + 0.012*\"budget\" + 0.012*\"year\" + 0.012*\"tax\" + 0.012*\"years\" + 0.012*\"congress\" + 0.011*\"government\" + 0.008*\"energy\" + 0.008*\"new\" + 0.007*\"billion\"'),\n",
              " (2,\n",
              "  '0.018*\"america\" + 0.015*\"new\" + 0.014*\"government\" + 0.014*\"economy\" + 0.013*\"world\" + 0.009*\"american\" + 0.009*\"future\" + 0.009*\"nation\" + 0.009*\"people\" + 0.008*\"americans\"'),\n",
              " (3,\n",
              "  '0.019*\"people\" + 0.013*\"american\" + 0.010*\"government\" + 0.009*\"generation\" + 0.008*\"america\" + 0.007*\"tonight\" + 0.007*\"come\" + 0.007*\"children\" + 0.007*\"americans\" + 0.007*\"country\"'),\n",
              " (4,\n",
              "  '0.014*\"rights\" + 0.009*\"laws\" + 0.008*\"equal\" + 0.008*\"act\" + 0.007*\"american\" + 0.007*\"social\" + 0.007*\"immigrants\" + 0.007*\"illegal\" + 0.007*\"let\" + 0.007*\"fund\"'),\n",
              " (5,\n",
              "  '0.017*\"children\" + 0.017*\"people\" + 0.016*\"work\" + 0.012*\"america\" + 0.012*\"care\" + 0.011*\"health\" + 0.010*\"know\" + 0.010*\"child\" + 0.009*\"new\" + 0.008*\"year\"'),\n",
              " (6,\n",
              "  '0.019*\"world\" + 0.013*\"nations\" + 0.011*\"peace\" + 0.011*\"international\" + 0.010*\"war\" + 0.008*\"east\" + 0.008*\"countries\" + 0.008*\"economic\" + 0.008*\"soviet\" + 0.007*\"middle\"'),\n",
              " (7,\n",
              "  '0.012*\"education\" + 0.012*\"new\" + 0.012*\"schools\" + 0.009*\"national\" + 0.009*\"help\" + 0.009*\"states\" + 0.009*\"year\" + 0.009*\"school\" + 0.008*\"government\" + 0.008*\"program\"'),\n",
              " (8,\n",
              "  '0.010*\"protect\" + 0.009*\"clean\" + 0.009*\"water\" + 0.008*\"new\" + 0.008*\"god\" + 0.008*\"national\" + 0.008*\"gun\" + 0.007*\"bless\" + 0.007*\"coal\" + 0.007*\"environment\"'),\n",
              " (9,\n",
              "  '0.020*\"world\" + 0.018*\"america\" + 0.013*\"years\" + 0.012*\"security\" + 0.011*\"peace\" + 0.011*\"union\" + 0.009*\"nation\" + 0.008*\"defense\" + 0.008*\"nuclear\" + 0.008*\"military\"')]"
            ]
          },
          "metadata": {
            "tags": []
          },
          "execution_count": 109
        }
      ]
    },
    {
      "cell_type": "markdown",
      "metadata": {
        "id": "rTB1UM1d5iVR"
      },
      "source": [
        "How do you interpret your plot? Based on the plot, what would be a reasonable choice for the number of passes? Retrain your LDA model with that number and re-inspect the topics it finds. Do you consider the new topics to be &lsquo;better&rsquo; than the ones that you got from the 1-pass model in Problem&nbsp;5?"
      ]
    },
    {
      "cell_type": "markdown",
      "metadata": {
        "id": "xQdDMtlE5iVR"
      },
      "source": [
        "Here it is bit easy to identify the topic as compare to previous results but like topic 8 is bit difficult to identify."
      ]
    },
    {
      "cell_type": "markdown",
      "metadata": {
        "id": "NrrJCW2H5iVR"
      },
      "source": [
        "<div class=\"alert alert-info\">\n",
        "    Please read the section ‘General information’ on the ‘Labs’ page of the course website before submitting this notebook!\n",
        "</div>"
      ]
    }
  ]
}