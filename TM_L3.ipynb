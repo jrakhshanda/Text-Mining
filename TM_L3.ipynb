{
  "nbformat": 4,
  "nbformat_minor": 0,
  "metadata": {
    "kernelspec": {
      "display_name": "Python 3",
      "language": "python",
      "name": "python3"
    },
    "language_info": {
      "codemirror_mode": {
        "name": "ipython",
        "version": 3
      },
      "file_extension": ".py",
      "mimetype": "text/x-python",
      "name": "python",
      "nbconvert_exporter": "python",
      "pygments_lexer": "ipython3",
      "version": "3.7.6"
    },
    "colab": {
      "name": "TM_L3.ipynb",
      "provenance": [],
      "collapsed_sections": [],
      "include_colab_link": true
    }
  },
  "cells": [
    {
      "cell_type": "markdown",
      "metadata": {
        "id": "view-in-github",
        "colab_type": "text"
      },
      "source": [
        "<a href=\"https://colab.research.google.com/github/jrakhshanda/Text-Mining/blob/main/TM_L3.ipynb\" target=\"_parent\"><img src=\"https://colab.research.google.com/assets/colab-badge.svg\" alt=\"Open In Colab\"/></a>"
      ]
    },
    {
      "cell_type": "markdown",
      "metadata": {
        "id": "il1F46InOg0G"
      },
      "source": [
        "# L3: Text clustering and topic modelling"
      ]
    },
    {
      "cell_type": "markdown",
      "metadata": {
        "id": "akItlZt2Og0G"
      },
      "source": [
        "Text clustering groups documents in such a way that documents within a group are more &lsquo;similar&rsquo; to other documents in the cluster than to documents not in the cluster. The exact definition of what &lsquo;similar&rsquo; means in this context varies across applications and clustering algorithms.\n",
        "\n",
        "In this lab you will experiment with both hard and soft clustering techniques. More specifically, in the first part you will be using the $k$-means algorithm, and in the second part you will be using a topic model based on the Latent Dirichlet Allocation (LDA)."
      ]
    },
    {
      "cell_type": "markdown",
      "metadata": {
        "id": "hBJlZhb2Og0G"
      },
      "source": [
        "## Hard clustering data set"
      ]
    },
    {
      "cell_type": "markdown",
      "metadata": {
        "id": "1808hdjUOg0G"
      },
      "source": [
        "The raw data for the hard clustering part of this lab is a collection of product reviews. We have preprocessed the data by tokenization and lowercasing."
      ]
    },
    {
      "cell_type": "code",
      "metadata": {
        "id": "Cpa9Onb4Og0G"
      },
      "source": [
        "import pandas as pd\n",
        "import bz2\n",
        "\n",
        "with bz2.open('reviews.json.bz2') as source:\n",
        "    df = pd.read_json(source)"
      ],
      "execution_count": 1,
      "outputs": []
    },
    {
      "cell_type": "markdown",
      "metadata": {
        "id": "qQmeuNcOOg0G"
      },
      "source": [
        "When you inspect the data frame, you can see that there are three labelled columns: `category` (the product category), `sentiment` (whether the product review was classified as &lsquo;positive&rsquo; or &lsquo;negative&rsquo; towards the product), and `text` (the space-separated text of the review)."
      ]
    },
    {
      "cell_type": "code",
      "metadata": {
        "id": "ZIAyxzwbOg0G",
        "colab": {
          "base_uri": "https://localhost:8080/",
          "height": 200
        },
        "outputId": "0e03c3a4-08f1-4efe-fa1e-6797f6a4381d"
      },
      "source": [
        "df.head()"
      ],
      "execution_count": 2,
      "outputs": [
        {
          "output_type": "execute_result",
          "data": {
            "text/html": [
              "<div>\n",
              "<style scoped>\n",
              "    .dataframe tbody tr th:only-of-type {\n",
              "        vertical-align: middle;\n",
              "    }\n",
              "\n",
              "    .dataframe tbody tr th {\n",
              "        vertical-align: top;\n",
              "    }\n",
              "\n",
              "    .dataframe thead th {\n",
              "        text-align: right;\n",
              "    }\n",
              "</style>\n",
              "<table border=\"1\" class=\"dataframe\">\n",
              "  <thead>\n",
              "    <tr style=\"text-align: right;\">\n",
              "      <th></th>\n",
              "      <th>category</th>\n",
              "      <th>sentiment</th>\n",
              "      <th>text</th>\n",
              "    </tr>\n",
              "  </thead>\n",
              "  <tbody>\n",
              "    <tr>\n",
              "      <th>0</th>\n",
              "      <td>music</td>\n",
              "      <td>neg</td>\n",
              "      <td>i bought this album because i loved the title ...</td>\n",
              "    </tr>\n",
              "    <tr>\n",
              "      <th>1</th>\n",
              "      <td>music</td>\n",
              "      <td>neg</td>\n",
              "      <td>i was misled and thought i was buying the enti...</td>\n",
              "    </tr>\n",
              "    <tr>\n",
              "      <th>2</th>\n",
              "      <td>books</td>\n",
              "      <td>neg</td>\n",
              "      <td>i have introduced many of my ell , high school...</td>\n",
              "    </tr>\n",
              "    <tr>\n",
              "      <th>3</th>\n",
              "      <td>books</td>\n",
              "      <td>pos</td>\n",
              "      <td>anything you purchase in the left behind serie...</td>\n",
              "    </tr>\n",
              "    <tr>\n",
              "      <th>4</th>\n",
              "      <td>dvd</td>\n",
              "      <td>pos</td>\n",
              "      <td>i loved these movies , and i cant wiat for the...</td>\n",
              "    </tr>\n",
              "  </tbody>\n",
              "</table>\n",
              "</div>"
            ],
            "text/plain": [
              "  category sentiment                                               text\n",
              "0    music       neg  i bought this album because i loved the title ...\n",
              "1    music       neg  i was misled and thought i was buying the enti...\n",
              "2    books       neg  i have introduced many of my ell , high school...\n",
              "3    books       pos  anything you purchase in the left behind serie...\n",
              "4      dvd       pos  i loved these movies , and i cant wiat for the..."
            ]
          },
          "metadata": {
            "tags": []
          },
          "execution_count": 2
        }
      ]
    },
    {
      "cell_type": "code",
      "metadata": {
        "colab": {
          "base_uri": "https://localhost:8080/"
        },
        "id": "ULCYNUDdJngx",
        "outputId": "5c9449cd-1cdf-4418-ccc9-86af292a56ef"
      },
      "source": [
        "print(df['category'].unique())\n",
        "print(df['sentiment'].unique())"
      ],
      "execution_count": 24,
      "outputs": [
        {
          "output_type": "stream",
          "text": [
            "['music' 'books' 'dvd' 'camera' 'health' 'software']\n",
            "['neg' 'pos']\n"
          ],
          "name": "stdout"
        }
      ]
    },
    {
      "cell_type": "markdown",
      "metadata": {
        "id": "hh6M-zlAOg0H"
      },
      "source": [
        "## Problem 1: K-means clustering"
      ]
    },
    {
      "cell_type": "markdown",
      "metadata": {
        "id": "0wTGENtKOg0H"
      },
      "source": [
        "Your first task is to cluster the product review data using a tf–idf vectorizer and a $k$-means clusterer."
      ]
    },
    {
      "cell_type": "markdown",
      "metadata": {
        "id": "DIvKce1rOg0H"
      },
      "source": [
        "Start by doing the vectorization. In connection with vectorization, you should also filter out standard English stop words. While you could use [spaCy](https://spacy.io/) for this task, here it suffices to use the word list implemented in [TfidfVectorizer](https://scikit-learn.org/stable/modules/generated/sklearn.feature_extraction.text.TfidfVectorizer.html)."
      ]
    },
    {
      "cell_type": "code",
      "metadata": {
        "id": "JIFT2CzQOg0H"
      },
      "source": [
        "# TODO: Enter code here to vectorize the data and store it in a variable `reviews`\n",
        "import spacy\n",
        "import numpy as np\n",
        "from sklearn.feature_extraction.text import TfidfVectorizer\n",
        "nlp = spacy.load(\"en_core_web_sm\", disable=[\"tagger\", \"parser\",\"entityrecognizer\"])\n",
        "\n",
        "def preprocess(text):\n",
        "  doc = nlp(text)\n",
        "  res = []\n",
        "  for token in doc:\n",
        "    if not token.is_stop:\n",
        "      #if token.is_alpha:\n",
        "      res.append(token.lemma_)\n",
        "  return (res)\n",
        "\n",
        "vectorizer = TfidfVectorizer(tokenizer = preprocess, use_idf=True)\n",
        "reviews = vectorizer.fit_transform(df['text'])"
      ],
      "execution_count": 4,
      "outputs": []
    },
    {
      "cell_type": "markdown",
      "metadata": {
        "id": "4QQTnJ8jOg0H"
      },
      "source": [
        "Test your vectorization by running the following code cell:"
      ]
    },
    {
      "cell_type": "code",
      "metadata": {
        "id": "VmSYuikOOg0H",
        "colab": {
          "base_uri": "https://localhost:8080/"
        },
        "outputId": "fc5c6cc1-fe5e-47d7-e275-c61782258deb"
      },
      "source": [
        "reviews.shape"
      ],
      "execution_count": 5,
      "outputs": [
        {
          "output_type": "execute_result",
          "data": {
            "text/plain": [
              "(11914, 40646)"
            ]
          },
          "metadata": {
            "tags": []
          },
          "execution_count": 5
        }
      ]
    },
    {
      "cell_type": "markdown",
      "metadata": {
        "id": "F-nJgoVDOg0H"
      },
      "source": [
        "If you used the English stop word list from scikit-learn, then the resulting vocabulary should have 46,619 entries."
      ]
    },
    {
      "cell_type": "markdown",
      "metadata": {
        "id": "VhzhKmy2Og0H"
      },
      "source": [
        "Next, cluster the vectorized data. Before doing so, you should read the documentation of the [KMeans](https://scikit-learn.org/stable/modules/generated/sklearn.cluster.KMeans.html) class, which is scikit-learn&rsquo;s implementation of the $k$-means algorithm. As you can see, this class has several parameters that you can tweak. For now, the only parameter that you will have to set is the number of clusters. We recommend that you choose $k=3$.\n",
        "\n",
        "**Tip:** Training $k$-means models will take some time. To speed things up, you can use the `n_init` parameter to control the number of times that the clustering is re-computed with different initial values. The default value for this parameter is 10; here and in the rest of this lab, you may want to set this to a lower value."
      ]
    },
    {
      "cell_type": "code",
      "metadata": {
        "id": "YnvDiYR6Og0H"
      },
      "source": [
        "# TODO: Enter code here to cluster the vectorized data\n",
        "from sklearn.cluster import KMeans\n",
        "np.random.seed(10)\n",
        "model = KMeans(n_init=5,n_clusters=3).fit(reviews)"
      ],
      "execution_count": null,
      "outputs": []
    },
    {
      "cell_type": "markdown",
      "metadata": {
        "id": "vY5fux8SOg0H"
      },
      "source": [
        "To sanity-check your clustering, create a bar plot with the number of documents per cluster."
      ]
    },
    {
      "cell_type": "code",
      "metadata": {
        "id": "kE4EqmYXOg0H",
        "colab": {
          "base_uri": "https://localhost:8080/"
        },
        "outputId": "d662467e-5acb-40e0-d1bb-9f14b1fbd2a1"
      },
      "source": [
        "# TODO: Enter code here to produce a bar plot of the cluster size\n",
        "import matplotlib.pyplot as plt\n",
        "import pandas as pd\n",
        "import seaborn as sns\n",
        "% matplotlib inline\n",
        "model."
      ],
      "execution_count": 41,
      "outputs": [
        {
          "output_type": "execute_result",
          "data": {
            "text/plain": [
              "array([2, 2, 2, ..., 2, 2, 0], dtype=int32)"
            ]
          },
          "metadata": {
            "tags": []
          },
          "execution_count": 41
        }
      ]
    },
    {
      "cell_type": "markdown",
      "metadata": {
        "id": "OvWGJqGuOg0H"
      },
      "source": [
        "Note that sizes may vary considerable between clusters and among different random seeds."
      ]
    },
    {
      "cell_type": "markdown",
      "metadata": {
        "id": "Tar-W6q3Og0H"
      },
      "source": [
        "## Problem 2: Summarize clusters"
      ]
    },
    {
      "cell_type": "markdown",
      "metadata": {
        "id": "GVysFtj_Og0H"
      },
      "source": [
        "Once you have a clustering, you can try to see whether it is meaningful. One useful technique in that context is to generate a **summary** for each cluster by extracting the $n$ highest-weighted terms from the centroid of each cluster. Your next task is to implement this approach.\n",
        "\n",
        "**Hint:** You will need to construct an &lsquo;inverted vocabulary&rsquo; that allows you to map from the index of a term back to the original term."
      ]
    },
    {
      "cell_type": "code",
      "metadata": {
        "id": "KsKxboceOg0H"
      },
      "source": [
        "# TODO: Enter code here to compute the cluster summaries and print them"
      ],
      "execution_count": null,
      "outputs": []
    },
    {
      "cell_type": "markdown",
      "metadata": {
        "id": "5Y5rDoCROg0H"
      },
      "source": [
        "Once you have computed the cluster summaries, discuss their quality. Is it clear what the reviews in a given cluster are about? Which clusters are clearest? Which are less clear? Do the cluster summaries contain any unexpected terms? What happens if you re-cluster with, say, $k=6$?"
      ]
    },
    {
      "cell_type": "markdown",
      "metadata": {
        "id": "VnrErNHGOg0H"
      },
      "source": [
        "*TODO: Insert your analysis of the clusters here*"
      ]
    },
    {
      "cell_type": "markdown",
      "metadata": {
        "id": "S07N-ASCOg0I"
      },
      "source": [
        "## Problem 3: Compare clusterings using the Rand index"
      ]
    },
    {
      "cell_type": "markdown",
      "metadata": {
        "id": "aa_Di5ckOg0I"
      },
      "source": [
        "In some scenarios, you may have gold-standard class labels available for at least a subset of your documents. In these cases you can compute the **Rand index** of a clustering, and use this measure to compare the quality of different clusterings.\n",
        "\n",
        "To compute the Rand index, we view a clustering as a binary classifier on (unordered) pairs of documents. The classifier predicts &lsquo;positive&rsquo; if and only if the two documents belong to the same cluster. The (non-normalized) Rand index of the clustering is the accuracy of this classifier relative to a reference in which a document pair belongs to the &lsquo;positive&rsquo; class if and only if the two documents in the pair have the same gold-standard class label.\n",
        "\n",
        "Compare clusterings with $k \\in \\{1,3,5,7\\}$ clusters. As your evaluation data, use the first 500 documents from the original data set along with their gold-standard categories (from the `category` column). What do you observe? How do you interpret your observations?"
      ]
    },
    {
      "cell_type": "code",
      "metadata": {
        "id": "XsfF6lKbOg0I"
      },
      "source": [
        "# TODO: Enter code here to compute the Rand indices for the two clusterings"
      ],
      "execution_count": null,
      "outputs": []
    },
    {
      "cell_type": "markdown",
      "metadata": {
        "id": "WmQ1sn6NOg0I"
      },
      "source": [
        "*TODO: Insert your discussion of your results here*"
      ]
    },
    {
      "cell_type": "markdown",
      "metadata": {
        "id": "DCb3EpgnOg0I"
      },
      "source": [
        "## Topic modelling data set"
      ]
    },
    {
      "cell_type": "markdown",
      "metadata": {
        "id": "Z9raDPb-Og0I"
      },
      "source": [
        "The data set for the topic modelling part of this lab is the collection of all [State of the Union](https://en.wikipedia.org/wiki/State_of_the_Union) addresses from the years 1975–2000. These speeches come as a single text file with one sentence per line. The following code cell prints the first 5 lines from the data file:"
      ]
    },
    {
      "cell_type": "code",
      "metadata": {
        "id": "RB64ltsiOg0I"
      },
      "source": [
        "with open('sotu_1975_2000.txt') as source:\n",
        "    for i, line in enumerate(source):\n",
        "        print(line.rstrip())\n",
        "        if i >= 5:\n",
        "            break"
      ],
      "execution_count": null,
      "outputs": []
    },
    {
      "cell_type": "markdown",
      "metadata": {
        "id": "aR9zEcC7Og0I"
      },
      "source": [
        "Take a few minutes to think about what topics you would expect in this data set."
      ]
    },
    {
      "cell_type": "markdown",
      "metadata": {
        "id": "oiTDL5IeOg0I"
      },
      "source": [
        "## Problem 4: Train a topic model"
      ]
    },
    {
      "cell_type": "markdown",
      "metadata": {
        "id": "cyi5iYj2Og0I"
      },
      "source": [
        "Your first task on the topic modelling data is to train an LDA model. For this task you will be using [spaCy](https://spacy.io/) and the [gensim](https://radimrehurek.com/gensim/) topic modelling library.\n",
        "\n",
        "Start by preprocessing the data using spaCy. Given that the data set for this problem is rather small, you do not have to exclude any components from the standard pipeline. Filter out stop words, non-alphabetic tokens, and tokens less than 3 characters in length. Store the documents as a nested list where the first level of nesting corresponds to the sentences and the second level corresponds to the tokens in each sentence."
      ]
    },
    {
      "cell_type": "code",
      "metadata": {
        "id": "C7v7doTLOg0I"
      },
      "source": [
        "# TODO: Replace the following lines with your own code for preprocessing the documents\n",
        "with open('sotu_1975_2000.txt') as source:\n",
        "    documents = [line.split() for line in source]"
      ],
      "execution_count": null,
      "outputs": []
    },
    {
      "cell_type": "markdown",
      "metadata": {
        "id": "ovUdHoHSOg0I"
      },
      "source": [
        "Test your preprocessing by running the following cell:"
      ]
    },
    {
      "cell_type": "code",
      "metadata": {
        "id": "FbSkp_ftOg0I"
      },
      "source": [
        "' '.join(documents[42])"
      ],
      "execution_count": null,
      "outputs": []
    },
    {
      "cell_type": "markdown",
      "metadata": {
        "id": "W9iO6_zTOg0I"
      },
      "source": [
        "You should get the following output:"
      ]
    },
    {
      "cell_type": "markdown",
      "metadata": {
        "id": "mLD9_VOuOg0I"
      },
      "source": [
        "'reduce oil imports million barrels day end year million barrels day end'"
      ]
    },
    {
      "cell_type": "markdown",
      "metadata": {
        "id": "3lcMqMyROg0I"
      },
      "source": [
        "Once you have the list of documents, skim the section [Pre-process and vectorize the documents](https://radimrehurek.com/gensim/auto_examples/tutorials/run_lda.html#pre-process-and-vectorize-the-documents) of the gensim documentation to learn how to create the dictionary and the vectorized corpus representation required by gensim. (Note that you cannot use the standard scikit-learn pipeline in this case.) Then, write code to train an [LdaModel](https://radimrehurek.com/gensim/models/ldamodel.html) for $k=10$ topics, and using default values for all other parameters."
      ]
    },
    {
      "cell_type": "code",
      "metadata": {
        "id": "FiWA3x3FOg0I"
      },
      "source": [
        "# TODO: Enter code here to train an LDA model and store it in a variable `model`"
      ],
      "execution_count": null,
      "outputs": []
    },
    {
      "cell_type": "markdown",
      "metadata": {
        "id": "9855wBJ7Og0I"
      },
      "source": [
        "Once you have a trained model, run the following cell to print the topics:"
      ]
    },
    {
      "cell_type": "code",
      "metadata": {
        "id": "ZkAz7gM9Og0I"
      },
      "source": [
        "model.print_topics()"
      ],
      "execution_count": null,
      "outputs": []
    },
    {
      "cell_type": "markdown",
      "metadata": {
        "id": "-fpGjMFTOg0I"
      },
      "source": [
        "Inspect the topics. Can you &lsquo;label&rsquo; each topic with a short description of what it is about? Do the topics match your expectations? Summarize your discussion in a short text."
      ]
    },
    {
      "cell_type": "markdown",
      "metadata": {
        "id": "dXE6uTEgOg0I"
      },
      "source": [
        "*TODO: Insert your discussion of the topics here*"
      ]
    },
    {
      "cell_type": "markdown",
      "metadata": {
        "id": "ZSqa64OaOg0I"
      },
      "source": [
        "## Problem 5: Monitor a topic model for convergence"
      ]
    },
    {
      "cell_type": "markdown",
      "metadata": {
        "id": "haPlPboCOg0I"
      },
      "source": [
        "When learning an LDA model, it is important to make sure that the training algorithm has converged to a stable posterior distribution. One way to do so is to plot, after each training epochs (or &lsquo;pass&rsquo;, in gensim parlance) the log likelihood of the training data under the posterior. Your last task in this lab is to create such a plot and, based on this, to suggest an appropriate number of epochs.\n",
        "\n",
        "To collect information about the posterior likelihood after each pass, we need to enable the logging facilities of gensim. Once this is done, gensim will add various diagnostics to a log file `gensim.log`."
      ]
    },
    {
      "cell_type": "code",
      "metadata": {
        "id": "-_d1rc1LOg0I"
      },
      "source": [
        "import logging\n",
        "\n",
        "logging.basicConfig(filename='gensim.log', format='%(asctime)s:%(levelname)s:%(message)s', level=logging.INFO)"
      ],
      "execution_count": null,
      "outputs": []
    },
    {
      "cell_type": "markdown",
      "metadata": {
        "id": "f57dUN5HOg0J"
      },
      "source": [
        "The following function will parse the generated logfile and return the list of log likelihoods."
      ]
    },
    {
      "cell_type": "code",
      "metadata": {
        "id": "AcNutLZrOg0J"
      },
      "source": [
        "import re\n",
        "\n",
        "def parse_logfile():\n",
        "    matcher = re.compile('(-*\\d+\\.\\d+) per-word .* (\\d+\\.\\d+) perplexity')\n",
        "    likelihoods = []\n",
        "    with open('gensim.log') as source:\n",
        "        for line in source:\n",
        "            match = matcher.search(line)\n",
        "            if match:\n",
        "                likelihoods.append(float(match.group(1)))\n",
        "    return likelihoods"
      ],
      "execution_count": null,
      "outputs": []
    },
    {
      "cell_type": "markdown",
      "metadata": {
        "id": "F6giSr0UOg0J"
      },
      "source": [
        "Your task now is to re-train your LDA model for 50&nbsp;passes, retrieve the list of log likelihoods, and create a plot from this data."
      ]
    },
    {
      "cell_type": "code",
      "metadata": {
        "id": "eVfzXYudOg0J"
      },
      "source": [
        "# TODO: Enter code here to generate the convergence plot"
      ],
      "execution_count": null,
      "outputs": []
    },
    {
      "cell_type": "markdown",
      "metadata": {
        "id": "n9Al2Rw3Og0J"
      },
      "source": [
        "How do you interpret your plot? Based on the plot, what would be a reasonable choice for the number of passes? Retrain your LDA model with that number and re-inspect the topics it finds. Do you consider the new topics to be &lsquo;better&rsquo; than the ones that you got from the 1-pass model in Problem&nbsp;5?"
      ]
    },
    {
      "cell_type": "markdown",
      "metadata": {
        "id": "Za4_DWtxOg0J"
      },
      "source": [
        "*TODO: Insert your discussion of these questions here*"
      ]
    },
    {
      "cell_type": "markdown",
      "metadata": {
        "id": "IX8h6VNkOg0J"
      },
      "source": [
        "<div class=\"alert alert-info\">\n",
        "    Please read the section ‘General information’ on the ‘Labs’ page of the course website before submitting this notebook!\n",
        "</div>"
      ]
    }
  ]
}